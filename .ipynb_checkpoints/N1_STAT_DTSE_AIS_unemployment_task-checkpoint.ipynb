{
 "cells": [
  {
   "cell_type": "markdown",
   "id": "3aaf2b1c",
   "metadata": {},
   "source": [
    "#### Time series task for prospective DTSE AIS data scientists\n",
    "\n",
    "You have the following data available: \n",
    "\n",
    "- Macroeconomic Data for 1959Q1 - 2009Q3\n",
    "- realgdp: Real gross domestic product (Bil. of chained 2005 US dollars, seasonally adjusted annual rate)\n",
    "- pop: End of the quarter total population, all ages (in millions)\n",
    "- unemp: Seasonally adjusted unemployment rate (in %)\n",
    "- infl: Inflation rate (in %)"
   ]
  },
  {
   "cell_type": "code",
   "execution_count": 1,
   "id": "7ba72485",
   "metadata": {},
   "outputs": [
    {
     "data": {
      "text/html": [
       "<div>\n",
       "<style scoped>\n",
       "    .dataframe tbody tr th:only-of-type {\n",
       "        vertical-align: middle;\n",
       "    }\n",
       "\n",
       "    .dataframe tbody tr th {\n",
       "        vertical-align: top;\n",
       "    }\n",
       "\n",
       "    .dataframe thead th {\n",
       "        text-align: right;\n",
       "    }\n",
       "</style>\n",
       "<table border=\"1\" class=\"dataframe\">\n",
       "  <thead>\n",
       "    <tr style=\"text-align: right;\">\n",
       "      <th></th>\n",
       "      <th>Period</th>\n",
       "      <th>realgdp</th>\n",
       "      <th>pop</th>\n",
       "      <th>unemp</th>\n",
       "      <th>infl</th>\n",
       "    </tr>\n",
       "  </thead>\n",
       "  <tbody>\n",
       "    <tr>\n",
       "      <th>0</th>\n",
       "      <td>1959-01-01</td>\n",
       "      <td>2710.349</td>\n",
       "      <td>177.146</td>\n",
       "      <td>5.8</td>\n",
       "      <td>0.00</td>\n",
       "    </tr>\n",
       "    <tr>\n",
       "      <th>1</th>\n",
       "      <td>1959-04-01</td>\n",
       "      <td>2778.801</td>\n",
       "      <td>177.830</td>\n",
       "      <td>5.1</td>\n",
       "      <td>2.34</td>\n",
       "    </tr>\n",
       "    <tr>\n",
       "      <th>2</th>\n",
       "      <td>1959-07-01</td>\n",
       "      <td>2775.488</td>\n",
       "      <td>178.657</td>\n",
       "      <td>5.3</td>\n",
       "      <td>2.74</td>\n",
       "    </tr>\n",
       "    <tr>\n",
       "      <th>3</th>\n",
       "      <td>1959-10-01</td>\n",
       "      <td>2785.204</td>\n",
       "      <td>179.386</td>\n",
       "      <td>5.6</td>\n",
       "      <td>0.27</td>\n",
       "    </tr>\n",
       "    <tr>\n",
       "      <th>4</th>\n",
       "      <td>1960-01-01</td>\n",
       "      <td>2847.699</td>\n",
       "      <td>180.007</td>\n",
       "      <td>5.2</td>\n",
       "      <td>2.31</td>\n",
       "    </tr>\n",
       "  </tbody>\n",
       "</table>\n",
       "</div>"
      ],
      "text/plain": [
       "       Period   realgdp      pop  unemp  infl\n",
       "0  1959-01-01  2710.349  177.146    5.8  0.00\n",
       "1  1959-04-01  2778.801  177.830    5.1  2.34\n",
       "2  1959-07-01  2775.488  178.657    5.3  2.74\n",
       "3  1959-10-01  2785.204  179.386    5.6  0.27\n",
       "4  1960-01-01  2847.699  180.007    5.2  2.31"
      ]
     },
     "execution_count": 1,
     "metadata": {},
     "output_type": "execute_result"
    }
   ],
   "source": [
    "import pandas as pd\n",
    "\n",
    "data = pd.read_csv('DTSE_AIS_unemployment_task_data.csv')\n",
    "data.head()"
   ]
  },
  {
   "attachments": {},
   "cell_type": "markdown",
   "id": "e16c1e26",
   "metadata": {},
   "source": [
    "##### Objectives\n",
    "\n",
    "Using  only the data provided:\n",
    "\n",
    "1) Forecast the quarterly unemployment rate until and including Q4 2013. The other available variables may or may not be used for the purposes of the forecast - that's up to you\n",
    "\n",
    "2) Predict how many people will be unemployed in 2013. For the purposes of this subtask, 65% of the population is considered to be in the labor force at all times\n",
    "\n",
    "- Describe and explain any exploratory steps you are taking\n",
    "- Put the biggest emphasis on the modeling part and explain your thought process and decisions taken\n",
    "- During modeling, you should try and compare at least two different models and try different parameters for the models of your choice, if applicable \n",
    "- Explain your model selection process and how you arrived at your final model choice\n",
    "- Summarize your final forecasts verbally, as if you would explain your results to a non-technical colleague\n",
    "\n",
    "Use this Jupyter notebook to show your work. After you're done, send either the .ipynb file *and* the HTML export, or alternatively a link to your personal repository. "
   ]
  },
  {
   "cell_type": "markdown",
   "id": "42464fa6",
   "metadata": {},
   "source": [
    "### Libraries import section"
   ]
  },
  {
   "cell_type": "code",
   "execution_count": 2,
   "id": "646880ca",
   "metadata": {},
   "outputs": [],
   "source": [
    "import plotly.graph_objects as go\n",
    "import plotly.subplots as sp\n",
    "import statsmodels.api as sm\n",
    "import plotly.express as px\n",
    "import numpy as np\n",
    "import warnings\n",
    "\n",
    "\n",
    "from sklearn.linear_model import LinearRegression\n",
    "from scipy.stats.mstats import winsorize\n",
    "from sklearn.metrics import mean_absolute_error, mean_squared_error\n",
    "from statsmodels.tsa.seasonal import seasonal_decompose\n",
    "from utils import adf_test, make_stationary, calculate_dof, granger_causality_matrix\n",
    "from statsmodels.tsa.stattools import acf, pacf\n",
    "from statsmodels.tsa.vector_ar.vecm import coint_johansen, VECM\n",
    "from statsmodels.tsa.arima.model import ARIMA\n",
    "\n",
    "warnings.filterwarnings(\"ignore\")"
   ]
  },
  {
   "cell_type": "markdown",
   "id": "f11183ad",
   "metadata": {},
   "source": [
    "### I. Exploratory Data Analysis"
   ]
  },
  {
   "cell_type": "markdown",
   "id": "b1803838",
   "metadata": {},
   "source": [
    "Firstly, we will begin with exploring our dataset, the variables inside, the missing values, and the corresponding plots for each variable in order to gain more insights about how the data looks."
   ]
  },
  {
   "cell_type": "code",
   "execution_count": 3,
   "id": "36cf4c37",
   "metadata": {},
   "outputs": [
    {
     "name": "stdout",
     "output_type": "stream",
     "text": [
      "<class 'pandas.core.frame.DataFrame'>\n",
      "RangeIndex: 203 entries, 0 to 202\n",
      "Data columns (total 5 columns):\n",
      " #   Column   Non-Null Count  Dtype  \n",
      "---  ------   --------------  -----  \n",
      " 0   Period   203 non-null    object \n",
      " 1   realgdp  203 non-null    float64\n",
      " 2   pop      203 non-null    float64\n",
      " 3   unemp    202 non-null    float64\n",
      " 4   infl     203 non-null    float64\n",
      "dtypes: float64(4), object(1)\n",
      "memory usage: 8.1+ KB\n"
     ]
    }
   ],
   "source": [
    "data.info()"
   ]
  },
  {
   "cell_type": "markdown",
   "id": "30cc2ff0",
   "metadata": {},
   "source": [
    "We will convert the Period variable to a datetime object and set it as the index of the dataframe"
   ]
  },
  {
   "cell_type": "code",
   "execution_count": 4,
   "id": "5cd4c772",
   "metadata": {},
   "outputs": [
    {
     "data": {
      "text/html": [
       "<div>\n",
       "<style scoped>\n",
       "    .dataframe tbody tr th:only-of-type {\n",
       "        vertical-align: middle;\n",
       "    }\n",
       "\n",
       "    .dataframe tbody tr th {\n",
       "        vertical-align: top;\n",
       "    }\n",
       "\n",
       "    .dataframe thead th {\n",
       "        text-align: right;\n",
       "    }\n",
       "</style>\n",
       "<table border=\"1\" class=\"dataframe\">\n",
       "  <thead>\n",
       "    <tr style=\"text-align: right;\">\n",
       "      <th></th>\n",
       "      <th>realgdp</th>\n",
       "      <th>pop</th>\n",
       "      <th>unemp</th>\n",
       "      <th>infl</th>\n",
       "    </tr>\n",
       "    <tr>\n",
       "      <th>Period</th>\n",
       "      <th></th>\n",
       "      <th></th>\n",
       "      <th></th>\n",
       "      <th></th>\n",
       "    </tr>\n",
       "  </thead>\n",
       "  <tbody>\n",
       "    <tr>\n",
       "      <th>1959-01-01</th>\n",
       "      <td>2710.349</td>\n",
       "      <td>177.146</td>\n",
       "      <td>5.8</td>\n",
       "      <td>0.00</td>\n",
       "    </tr>\n",
       "    <tr>\n",
       "      <th>1959-04-01</th>\n",
       "      <td>2778.801</td>\n",
       "      <td>177.830</td>\n",
       "      <td>5.1</td>\n",
       "      <td>2.34</td>\n",
       "    </tr>\n",
       "    <tr>\n",
       "      <th>1959-07-01</th>\n",
       "      <td>2775.488</td>\n",
       "      <td>178.657</td>\n",
       "      <td>5.3</td>\n",
       "      <td>2.74</td>\n",
       "    </tr>\n",
       "    <tr>\n",
       "      <th>1959-10-01</th>\n",
       "      <td>2785.204</td>\n",
       "      <td>179.386</td>\n",
       "      <td>5.6</td>\n",
       "      <td>0.27</td>\n",
       "    </tr>\n",
       "    <tr>\n",
       "      <th>1960-01-01</th>\n",
       "      <td>2847.699</td>\n",
       "      <td>180.007</td>\n",
       "      <td>5.2</td>\n",
       "      <td>2.31</td>\n",
       "    </tr>\n",
       "  </tbody>\n",
       "</table>\n",
       "</div>"
      ],
      "text/plain": [
       "             realgdp      pop  unemp  infl\n",
       "Period                                    \n",
       "1959-01-01  2710.349  177.146    5.8  0.00\n",
       "1959-04-01  2778.801  177.830    5.1  2.34\n",
       "1959-07-01  2775.488  178.657    5.3  2.74\n",
       "1959-10-01  2785.204  179.386    5.6  0.27\n",
       "1960-01-01  2847.699  180.007    5.2  2.31"
      ]
     },
     "execution_count": 4,
     "metadata": {},
     "output_type": "execute_result"
    }
   ],
   "source": [
    "data['Period'] = pd.to_datetime(data['Period'])\n",
    "data.set_index('Period', inplace=True)\n",
    "data.head()"
   ]
  },
  {
   "cell_type": "markdown",
   "id": "e748c041",
   "metadata": {},
   "source": [
    "a) The missingness in the data"
   ]
  },
  {
   "cell_type": "code",
   "execution_count": 5,
   "id": "a488fb8a",
   "metadata": {},
   "outputs": [
    {
     "data": {
      "text/plain": [
       "realgdp    0.000000\n",
       "pop        0.000000\n",
       "unemp      0.492611\n",
       "infl       0.000000\n",
       "dtype: float64"
      ]
     },
     "execution_count": 5,
     "metadata": {},
     "output_type": "execute_result"
    }
   ],
   "source": [
    "missing_df = data.isna().sum()/len(data)*100\n",
    "missing_df"
   ]
  },
  {
   "cell_type": "markdown",
   "id": "66cbcbb4",
   "metadata": {},
   "source": [
    "There is just a small portion of missing data in the dataset, more precisely for the unemp variable (roughly 0.49%). So, in order to fill this one gap, I can use a simple interpolation method to fill the missing data. Given the fact that the dataset is perfectly time-indexed, based on the appearance of the quarterly intervals, a linear interpolation will be suitable rather than using the time interpolation method in this case "
   ]
  },
  {
   "cell_type": "code",
   "execution_count": 6,
   "id": "a7cef7e9",
   "metadata": {},
   "outputs": [],
   "source": [
    "data['unemp'] = data['unemp'].interpolate(method='linear')"
   ]
  },
  {
   "cell_type": "markdown",
   "id": "54540775",
   "metadata": {},
   "source": [
    "b) VISualize our variables inside the dataset to gain more insights"
   ]
  },
  {
   "cell_type": "code",
   "execution_count": 7,
   "id": "be685a9e",
   "metadata": {},
   "outputs": [
    {
     "data": {
      "application/vnd.plotly.v1+json": {
       "config": {
        "plotlyServerURL": "https://plot.ly"
       },
       "data": [
        {
         "hovertemplate": "Period=%{x}<br>realgdp=%{y}<extra></extra>",
         "legendgroup": "",
         "line": {
          "color": "#636efa",
          "dash": "solid"
         },
         "marker": {
          "symbol": "circle"
         },
         "mode": "lines",
         "name": "",
         "orientation": "v",
         "showlegend": false,
         "type": "scatter",
         "x": [
          "1959-01-01T00:00:00",
          "1959-04-01T00:00:00",
          "1959-07-01T00:00:00",
          "1959-10-01T00:00:00",
          "1960-01-01T00:00:00",
          "1960-04-01T00:00:00",
          "1960-07-01T00:00:00",
          "1960-10-01T00:00:00",
          "1961-01-01T00:00:00",
          "1961-04-01T00:00:00",
          "1961-07-01T00:00:00",
          "1961-10-01T00:00:00",
          "1962-01-01T00:00:00",
          "1962-04-01T00:00:00",
          "1962-07-01T00:00:00",
          "1962-10-01T00:00:00",
          "1963-01-01T00:00:00",
          "1963-04-01T00:00:00",
          "1963-07-01T00:00:00",
          "1963-10-01T00:00:00",
          "1964-01-01T00:00:00",
          "1964-04-01T00:00:00",
          "1964-07-01T00:00:00",
          "1964-10-01T00:00:00",
          "1965-01-01T00:00:00",
          "1965-04-01T00:00:00",
          "1965-07-01T00:00:00",
          "1965-10-01T00:00:00",
          "1966-01-01T00:00:00",
          "1966-04-01T00:00:00",
          "1966-07-01T00:00:00",
          "1966-10-01T00:00:00",
          "1967-01-01T00:00:00",
          "1967-04-01T00:00:00",
          "1967-07-01T00:00:00",
          "1967-10-01T00:00:00",
          "1968-01-01T00:00:00",
          "1968-04-01T00:00:00",
          "1968-07-01T00:00:00",
          "1968-10-01T00:00:00",
          "1969-01-01T00:00:00",
          "1969-04-01T00:00:00",
          "1969-07-01T00:00:00",
          "1969-10-01T00:00:00",
          "1970-01-01T00:00:00",
          "1970-04-01T00:00:00",
          "1970-07-01T00:00:00",
          "1970-10-01T00:00:00",
          "1971-01-01T00:00:00",
          "1971-04-01T00:00:00",
          "1971-07-01T00:00:00",
          "1971-10-01T00:00:00",
          "1972-01-01T00:00:00",
          "1972-04-01T00:00:00",
          "1972-07-01T00:00:00",
          "1972-10-01T00:00:00",
          "1973-01-01T00:00:00",
          "1973-04-01T00:00:00",
          "1973-07-01T00:00:00",
          "1973-10-01T00:00:00",
          "1974-01-01T00:00:00",
          "1974-04-01T00:00:00",
          "1974-07-01T00:00:00",
          "1974-10-01T00:00:00",
          "1975-01-01T00:00:00",
          "1975-04-01T00:00:00",
          "1975-07-01T00:00:00",
          "1975-10-01T00:00:00",
          "1976-01-01T00:00:00",
          "1976-04-01T00:00:00",
          "1976-07-01T00:00:00",
          "1976-10-01T00:00:00",
          "1977-01-01T00:00:00",
          "1977-04-01T00:00:00",
          "1977-07-01T00:00:00",
          "1977-10-01T00:00:00",
          "1978-01-01T00:00:00",
          "1978-04-01T00:00:00",
          "1978-07-01T00:00:00",
          "1978-10-01T00:00:00",
          "1979-01-01T00:00:00",
          "1979-04-01T00:00:00",
          "1979-07-01T00:00:00",
          "1979-10-01T00:00:00",
          "1980-01-01T00:00:00",
          "1980-04-01T00:00:00",
          "1980-07-01T00:00:00",
          "1980-10-01T00:00:00",
          "1981-01-01T00:00:00",
          "1981-04-01T00:00:00",
          "1981-07-01T00:00:00",
          "1981-10-01T00:00:00",
          "1982-01-01T00:00:00",
          "1982-04-01T00:00:00",
          "1982-07-01T00:00:00",
          "1982-10-01T00:00:00",
          "1983-01-01T00:00:00",
          "1983-04-01T00:00:00",
          "1983-07-01T00:00:00",
          "1983-10-01T00:00:00",
          "1984-01-01T00:00:00",
          "1984-04-01T00:00:00",
          "1984-07-01T00:00:00",
          "1984-10-01T00:00:00",
          "1985-01-01T00:00:00",
          "1985-04-01T00:00:00",
          "1985-07-01T00:00:00",
          "1985-10-01T00:00:00",
          "1986-01-01T00:00:00",
          "1986-04-01T00:00:00",
          "1986-07-01T00:00:00",
          "1986-10-01T00:00:00",
          "1987-01-01T00:00:00",
          "1987-04-01T00:00:00",
          "1987-07-01T00:00:00",
          "1987-10-01T00:00:00",
          "1988-01-01T00:00:00",
          "1988-04-01T00:00:00",
          "1988-07-01T00:00:00",
          "1988-10-01T00:00:00",
          "1989-01-01T00:00:00",
          "1989-04-01T00:00:00",
          "1989-07-01T00:00:00",
          "1989-10-01T00:00:00",
          "1990-01-01T00:00:00",
          "1990-04-01T00:00:00",
          "1990-07-01T00:00:00",
          "1990-10-01T00:00:00",
          "1991-01-01T00:00:00",
          "1991-04-01T00:00:00",
          "1991-07-01T00:00:00",
          "1991-10-01T00:00:00",
          "1992-01-01T00:00:00",
          "1992-04-01T00:00:00",
          "1992-07-01T00:00:00",
          "1992-10-01T00:00:00",
          "1993-01-01T00:00:00",
          "1993-04-01T00:00:00",
          "1993-07-01T00:00:00",
          "1993-10-01T00:00:00",
          "1994-01-01T00:00:00",
          "1994-04-01T00:00:00",
          "1994-07-01T00:00:00",
          "1994-10-01T00:00:00",
          "1995-01-01T00:00:00",
          "1995-04-01T00:00:00",
          "1995-07-01T00:00:00",
          "1995-10-01T00:00:00",
          "1996-01-01T00:00:00",
          "1996-04-01T00:00:00",
          "1996-07-01T00:00:00",
          "1996-10-01T00:00:00",
          "1997-01-01T00:00:00",
          "1997-04-01T00:00:00",
          "1997-07-01T00:00:00",
          "1997-10-01T00:00:00",
          "1998-01-01T00:00:00",
          "1998-04-01T00:00:00",
          "1998-07-01T00:00:00",
          "1998-10-01T00:00:00",
          "1999-01-01T00:00:00",
          "1999-04-01T00:00:00",
          "1999-07-01T00:00:00",
          "1999-10-01T00:00:00",
          "2000-01-01T00:00:00",
          "2000-04-01T00:00:00",
          "2000-07-01T00:00:00",
          "2000-10-01T00:00:00",
          "2001-01-01T00:00:00",
          "2001-04-01T00:00:00",
          "2001-07-01T00:00:00",
          "2001-10-01T00:00:00",
          "2002-01-01T00:00:00",
          "2002-04-01T00:00:00",
          "2002-07-01T00:00:00",
          "2002-10-01T00:00:00",
          "2003-01-01T00:00:00",
          "2003-04-01T00:00:00",
          "2003-07-01T00:00:00",
          "2003-10-01T00:00:00",
          "2004-01-01T00:00:00",
          "2004-04-01T00:00:00",
          "2004-07-01T00:00:00",
          "2004-10-01T00:00:00",
          "2005-01-01T00:00:00",
          "2005-04-01T00:00:00",
          "2005-07-01T00:00:00",
          "2005-10-01T00:00:00",
          "2006-01-01T00:00:00",
          "2006-04-01T00:00:00",
          "2006-07-01T00:00:00",
          "2006-10-01T00:00:00",
          "2007-01-01T00:00:00",
          "2007-04-01T00:00:00",
          "2007-07-01T00:00:00",
          "2007-10-01T00:00:00",
          "2008-01-01T00:00:00",
          "2008-04-01T00:00:00",
          "2008-07-01T00:00:00",
          "2008-10-01T00:00:00",
          "2009-01-01T00:00:00",
          "2009-04-01T00:00:00",
          "2009-07-01T00:00:00"
         ],
         "xaxis": "x",
         "y": [
          2710.349,
          2778.801,
          2775.488,
          2785.204,
          2847.699,
          2834.39,
          2839.022,
          2802.616,
          2819.264,
          2872.005,
          2918.419,
          2977.83,
          3031.241,
          3064.709,
          3093.047,
          3100.563,
          3141.087,
          3180.447,
          3240.332,
          3264.967,
          3338.246,
          3376.587,
          3422.469,
          3431.957,
          3516.251,
          3563.96,
          3636.285,
          3724.014,
          3815.423,
          3828.124,
          3853.301,
          3884.52,
          3918.74,
          3919.556,
          3950.826,
          3980.97,
          4063.013,
          4131.998,
          4160.267,
          4178.293,
          4244.1,
          4256.46,
          4283.378,
          4263.261,
          4256.573,
          4264.289,
          4302.259,
          4256.637,
          4374.016,
          4398.829,
          4433.943,
          4446.264,
          4525.769,
          4633.101,
          4677.503,
          4754.546,
          4876.166,
          4932.571,
          4906.252,
          4953.05,
          4909.617,
          4922.188,
          4873.52,
          4854.34,
          4795.295,
          4831.942,
          4913.328,
          4977.511,
          5090.663,
          5128.947,
          5154.072,
          5191.499,
          5251.762,
          5356.131,
          5451.921,
          5450.793,
          5469.405,
          5684.569,
          5740.3,
          5816.222,
          5825.949,
          5831.418,
          5873.335,
          5889.495,
          5908.467,
          5787.373,
          5776.617,
          5883.46,
          6005.717,
          5957.795,
          6030.184,
          5955.062,
          5857.333,
          5889.074,
          5866.37,
          5871.001,
          5944.02,
          6077.619,
          6197.468,
          6325.574,
          6448.264,
          6559.594,
          6623.343,
          6677.264,
          6740.275,
          6797.344,
          6903.523,
          6955.918,
          7022.757,
          7050.969,
          7118.95,
          7153.359,
          7193.019,
          7269.51,
          7332.558,
          7458.022,
          7496.6,
          7592.881,
          7632.082,
          7733.991,
          7806.603,
          7865.016,
          7927.393,
          7944.697,
          8027.693,
          8059.598,
          8059.476,
          7988.864,
          7950.164,
          8003.822,
          8037.538,
          8069.046,
          8157.616,
          8244.294,
          8329.361,
          8417.016,
          8432.485,
          8486.435,
          8531.108,
          8643.769,
          8727.919,
          8847.303,
          8904.289,
          9003.18,
          9025.267,
          9044.668,
          9120.684,
          9184.275,
          9247.188,
          9407.052,
          9488.879,
          9592.458,
          9666.235,
          9809.551,
          9932.672,
          10008.874,
          10103.425,
          10194.277,
          10328.787,
          10507.575,
          10601.179,
          10684.049,
          10819.914,
          11014.254,
          11043.044,
          11258.454,
          11267.867,
          11334.544,
          11297.171,
          11371.251,
          11340.075,
          11380.128,
          11477.868,
          11538.77,
          11596.43,
          11598.824,
          11645.819,
          11738.706,
          11935.461,
          12042.817,
          12127.623,
          12213.818,
          12303.533,
          12410.282,
          12534.113,
          12587.535,
          12683.153,
          12748.699,
          12915.938,
          12962.462,
          12965.916,
          13060.679,
          13099.901,
          13203.977,
          13321.109,
          13391.249,
          13366.865,
          13415.266,
          13324.6,
          13141.92,
          12925.41,
          12901.504,
          12990.341
         ],
         "yaxis": "y"
        }
       ],
       "layout": {
        "height": 400,
        "legend": {
         "tracegroupgap": 0
        },
        "template": {
         "data": {
          "bar": [
           {
            "error_x": {
             "color": "#2a3f5f"
            },
            "error_y": {
             "color": "#2a3f5f"
            },
            "marker": {
             "line": {
              "color": "white",
              "width": 0.5
             },
             "pattern": {
              "fillmode": "overlay",
              "size": 10,
              "solidity": 0.2
             }
            },
            "type": "bar"
           }
          ],
          "barpolar": [
           {
            "marker": {
             "line": {
              "color": "white",
              "width": 0.5
             },
             "pattern": {
              "fillmode": "overlay",
              "size": 10,
              "solidity": 0.2
             }
            },
            "type": "barpolar"
           }
          ],
          "carpet": [
           {
            "aaxis": {
             "endlinecolor": "#2a3f5f",
             "gridcolor": "#C8D4E3",
             "linecolor": "#C8D4E3",
             "minorgridcolor": "#C8D4E3",
             "startlinecolor": "#2a3f5f"
            },
            "baxis": {
             "endlinecolor": "#2a3f5f",
             "gridcolor": "#C8D4E3",
             "linecolor": "#C8D4E3",
             "minorgridcolor": "#C8D4E3",
             "startlinecolor": "#2a3f5f"
            },
            "type": "carpet"
           }
          ],
          "choropleth": [
           {
            "colorbar": {
             "outlinewidth": 0,
             "ticks": ""
            },
            "type": "choropleth"
           }
          ],
          "contour": [
           {
            "colorbar": {
             "outlinewidth": 0,
             "ticks": ""
            },
            "colorscale": [
             [
              0,
              "#0d0887"
             ],
             [
              0.1111111111111111,
              "#46039f"
             ],
             [
              0.2222222222222222,
              "#7201a8"
             ],
             [
              0.3333333333333333,
              "#9c179e"
             ],
             [
              0.4444444444444444,
              "#bd3786"
             ],
             [
              0.5555555555555556,
              "#d8576b"
             ],
             [
              0.6666666666666666,
              "#ed7953"
             ],
             [
              0.7777777777777778,
              "#fb9f3a"
             ],
             [
              0.8888888888888888,
              "#fdca26"
             ],
             [
              1,
              "#f0f921"
             ]
            ],
            "type": "contour"
           }
          ],
          "contourcarpet": [
           {
            "colorbar": {
             "outlinewidth": 0,
             "ticks": ""
            },
            "type": "contourcarpet"
           }
          ],
          "heatmap": [
           {
            "colorbar": {
             "outlinewidth": 0,
             "ticks": ""
            },
            "colorscale": [
             [
              0,
              "#0d0887"
             ],
             [
              0.1111111111111111,
              "#46039f"
             ],
             [
              0.2222222222222222,
              "#7201a8"
             ],
             [
              0.3333333333333333,
              "#9c179e"
             ],
             [
              0.4444444444444444,
              "#bd3786"
             ],
             [
              0.5555555555555556,
              "#d8576b"
             ],
             [
              0.6666666666666666,
              "#ed7953"
             ],
             [
              0.7777777777777778,
              "#fb9f3a"
             ],
             [
              0.8888888888888888,
              "#fdca26"
             ],
             [
              1,
              "#f0f921"
             ]
            ],
            "type": "heatmap"
           }
          ],
          "heatmapgl": [
           {
            "colorbar": {
             "outlinewidth": 0,
             "ticks": ""
            },
            "colorscale": [
             [
              0,
              "#0d0887"
             ],
             [
              0.1111111111111111,
              "#46039f"
             ],
             [
              0.2222222222222222,
              "#7201a8"
             ],
             [
              0.3333333333333333,
              "#9c179e"
             ],
             [
              0.4444444444444444,
              "#bd3786"
             ],
             [
              0.5555555555555556,
              "#d8576b"
             ],
             [
              0.6666666666666666,
              "#ed7953"
             ],
             [
              0.7777777777777778,
              "#fb9f3a"
             ],
             [
              0.8888888888888888,
              "#fdca26"
             ],
             [
              1,
              "#f0f921"
             ]
            ],
            "type": "heatmapgl"
           }
          ],
          "histogram": [
           {
            "marker": {
             "pattern": {
              "fillmode": "overlay",
              "size": 10,
              "solidity": 0.2
             }
            },
            "type": "histogram"
           }
          ],
          "histogram2d": [
           {
            "colorbar": {
             "outlinewidth": 0,
             "ticks": ""
            },
            "colorscale": [
             [
              0,
              "#0d0887"
             ],
             [
              0.1111111111111111,
              "#46039f"
             ],
             [
              0.2222222222222222,
              "#7201a8"
             ],
             [
              0.3333333333333333,
              "#9c179e"
             ],
             [
              0.4444444444444444,
              "#bd3786"
             ],
             [
              0.5555555555555556,
              "#d8576b"
             ],
             [
              0.6666666666666666,
              "#ed7953"
             ],
             [
              0.7777777777777778,
              "#fb9f3a"
             ],
             [
              0.8888888888888888,
              "#fdca26"
             ],
             [
              1,
              "#f0f921"
             ]
            ],
            "type": "histogram2d"
           }
          ],
          "histogram2dcontour": [
           {
            "colorbar": {
             "outlinewidth": 0,
             "ticks": ""
            },
            "colorscale": [
             [
              0,
              "#0d0887"
             ],
             [
              0.1111111111111111,
              "#46039f"
             ],
             [
              0.2222222222222222,
              "#7201a8"
             ],
             [
              0.3333333333333333,
              "#9c179e"
             ],
             [
              0.4444444444444444,
              "#bd3786"
             ],
             [
              0.5555555555555556,
              "#d8576b"
             ],
             [
              0.6666666666666666,
              "#ed7953"
             ],
             [
              0.7777777777777778,
              "#fb9f3a"
             ],
             [
              0.8888888888888888,
              "#fdca26"
             ],
             [
              1,
              "#f0f921"
             ]
            ],
            "type": "histogram2dcontour"
           }
          ],
          "mesh3d": [
           {
            "colorbar": {
             "outlinewidth": 0,
             "ticks": ""
            },
            "type": "mesh3d"
           }
          ],
          "parcoords": [
           {
            "line": {
             "colorbar": {
              "outlinewidth": 0,
              "ticks": ""
             }
            },
            "type": "parcoords"
           }
          ],
          "pie": [
           {
            "automargin": true,
            "type": "pie"
           }
          ],
          "scatter": [
           {
            "fillpattern": {
             "fillmode": "overlay",
             "size": 10,
             "solidity": 0.2
            },
            "type": "scatter"
           }
          ],
          "scatter3d": [
           {
            "line": {
             "colorbar": {
              "outlinewidth": 0,
              "ticks": ""
             }
            },
            "marker": {
             "colorbar": {
              "outlinewidth": 0,
              "ticks": ""
             }
            },
            "type": "scatter3d"
           }
          ],
          "scattercarpet": [
           {
            "marker": {
             "colorbar": {
              "outlinewidth": 0,
              "ticks": ""
             }
            },
            "type": "scattercarpet"
           }
          ],
          "scattergeo": [
           {
            "marker": {
             "colorbar": {
              "outlinewidth": 0,
              "ticks": ""
             }
            },
            "type": "scattergeo"
           }
          ],
          "scattergl": [
           {
            "marker": {
             "colorbar": {
              "outlinewidth": 0,
              "ticks": ""
             }
            },
            "type": "scattergl"
           }
          ],
          "scattermapbox": [
           {
            "marker": {
             "colorbar": {
              "outlinewidth": 0,
              "ticks": ""
             }
            },
            "type": "scattermapbox"
           }
          ],
          "scatterpolar": [
           {
            "marker": {
             "colorbar": {
              "outlinewidth": 0,
              "ticks": ""
             }
            },
            "type": "scatterpolar"
           }
          ],
          "scatterpolargl": [
           {
            "marker": {
             "colorbar": {
              "outlinewidth": 0,
              "ticks": ""
             }
            },
            "type": "scatterpolargl"
           }
          ],
          "scatterternary": [
           {
            "marker": {
             "colorbar": {
              "outlinewidth": 0,
              "ticks": ""
             }
            },
            "type": "scatterternary"
           }
          ],
          "surface": [
           {
            "colorbar": {
             "outlinewidth": 0,
             "ticks": ""
            },
            "colorscale": [
             [
              0,
              "#0d0887"
             ],
             [
              0.1111111111111111,
              "#46039f"
             ],
             [
              0.2222222222222222,
              "#7201a8"
             ],
             [
              0.3333333333333333,
              "#9c179e"
             ],
             [
              0.4444444444444444,
              "#bd3786"
             ],
             [
              0.5555555555555556,
              "#d8576b"
             ],
             [
              0.6666666666666666,
              "#ed7953"
             ],
             [
              0.7777777777777778,
              "#fb9f3a"
             ],
             [
              0.8888888888888888,
              "#fdca26"
             ],
             [
              1,
              "#f0f921"
             ]
            ],
            "type": "surface"
           }
          ],
          "table": [
           {
            "cells": {
             "fill": {
              "color": "#EBF0F8"
             },
             "line": {
              "color": "white"
             }
            },
            "header": {
             "fill": {
              "color": "#C8D4E3"
             },
             "line": {
              "color": "white"
             }
            },
            "type": "table"
           }
          ]
         },
         "layout": {
          "annotationdefaults": {
           "arrowcolor": "#2a3f5f",
           "arrowhead": 0,
           "arrowwidth": 1
          },
          "autotypenumbers": "strict",
          "coloraxis": {
           "colorbar": {
            "outlinewidth": 0,
            "ticks": ""
           }
          },
          "colorscale": {
           "diverging": [
            [
             0,
             "#8e0152"
            ],
            [
             0.1,
             "#c51b7d"
            ],
            [
             0.2,
             "#de77ae"
            ],
            [
             0.3,
             "#f1b6da"
            ],
            [
             0.4,
             "#fde0ef"
            ],
            [
             0.5,
             "#f7f7f7"
            ],
            [
             0.6,
             "#e6f5d0"
            ],
            [
             0.7,
             "#b8e186"
            ],
            [
             0.8,
             "#7fbc41"
            ],
            [
             0.9,
             "#4d9221"
            ],
            [
             1,
             "#276419"
            ]
           ],
           "sequential": [
            [
             0,
             "#0d0887"
            ],
            [
             0.1111111111111111,
             "#46039f"
            ],
            [
             0.2222222222222222,
             "#7201a8"
            ],
            [
             0.3333333333333333,
             "#9c179e"
            ],
            [
             0.4444444444444444,
             "#bd3786"
            ],
            [
             0.5555555555555556,
             "#d8576b"
            ],
            [
             0.6666666666666666,
             "#ed7953"
            ],
            [
             0.7777777777777778,
             "#fb9f3a"
            ],
            [
             0.8888888888888888,
             "#fdca26"
            ],
            [
             1,
             "#f0f921"
            ]
           ],
           "sequentialminus": [
            [
             0,
             "#0d0887"
            ],
            [
             0.1111111111111111,
             "#46039f"
            ],
            [
             0.2222222222222222,
             "#7201a8"
            ],
            [
             0.3333333333333333,
             "#9c179e"
            ],
            [
             0.4444444444444444,
             "#bd3786"
            ],
            [
             0.5555555555555556,
             "#d8576b"
            ],
            [
             0.6666666666666666,
             "#ed7953"
            ],
            [
             0.7777777777777778,
             "#fb9f3a"
            ],
            [
             0.8888888888888888,
             "#fdca26"
            ],
            [
             1,
             "#f0f921"
            ]
           ]
          },
          "colorway": [
           "#636efa",
           "#EF553B",
           "#00cc96",
           "#ab63fa",
           "#FFA15A",
           "#19d3f3",
           "#FF6692",
           "#B6E880",
           "#FF97FF",
           "#FECB52"
          ],
          "font": {
           "color": "#2a3f5f"
          },
          "geo": {
           "bgcolor": "white",
           "lakecolor": "white",
           "landcolor": "white",
           "showlakes": true,
           "showland": true,
           "subunitcolor": "#C8D4E3"
          },
          "hoverlabel": {
           "align": "left"
          },
          "hovermode": "closest",
          "mapbox": {
           "style": "light"
          },
          "paper_bgcolor": "white",
          "plot_bgcolor": "white",
          "polar": {
           "angularaxis": {
            "gridcolor": "#EBF0F8",
            "linecolor": "#EBF0F8",
            "ticks": ""
           },
           "bgcolor": "white",
           "radialaxis": {
            "gridcolor": "#EBF0F8",
            "linecolor": "#EBF0F8",
            "ticks": ""
           }
          },
          "scene": {
           "xaxis": {
            "backgroundcolor": "white",
            "gridcolor": "#DFE8F3",
            "gridwidth": 2,
            "linecolor": "#EBF0F8",
            "showbackground": true,
            "ticks": "",
            "zerolinecolor": "#EBF0F8"
           },
           "yaxis": {
            "backgroundcolor": "white",
            "gridcolor": "#DFE8F3",
            "gridwidth": 2,
            "linecolor": "#EBF0F8",
            "showbackground": true,
            "ticks": "",
            "zerolinecolor": "#EBF0F8"
           },
           "zaxis": {
            "backgroundcolor": "white",
            "gridcolor": "#DFE8F3",
            "gridwidth": 2,
            "linecolor": "#EBF0F8",
            "showbackground": true,
            "ticks": "",
            "zerolinecolor": "#EBF0F8"
           }
          },
          "shapedefaults": {
           "line": {
            "color": "#2a3f5f"
           }
          },
          "ternary": {
           "aaxis": {
            "gridcolor": "#DFE8F3",
            "linecolor": "#A2B1C6",
            "ticks": ""
           },
           "baxis": {
            "gridcolor": "#DFE8F3",
            "linecolor": "#A2B1C6",
            "ticks": ""
           },
           "bgcolor": "white",
           "caxis": {
            "gridcolor": "#DFE8F3",
            "linecolor": "#A2B1C6",
            "ticks": ""
           }
          },
          "title": {
           "x": 0.05
          },
          "xaxis": {
           "automargin": true,
           "gridcolor": "#EBF0F8",
           "linecolor": "#EBF0F8",
           "ticks": "",
           "title": {
            "standoff": 15
           },
           "zerolinecolor": "#EBF0F8",
           "zerolinewidth": 2
          },
          "yaxis": {
           "automargin": true,
           "gridcolor": "#EBF0F8",
           "linecolor": "#EBF0F8",
           "ticks": "",
           "title": {
            "standoff": 15
           },
           "zerolinecolor": "#EBF0F8",
           "zerolinewidth": 2
          }
         }
        },
        "title": {
         "text": "realgdp (1959Q1-2009Q3)"
        },
        "width": 1200,
        "xaxis": {
         "anchor": "y",
         "domain": [
          0,
          1
         ],
         "title": {
          "text": "Time"
         }
        },
        "yaxis": {
         "anchor": "x",
         "domain": [
          0,
          1
         ],
         "title": {
          "text": "realgdp"
         }
        }
       }
      }
     },
     "metadata": {},
     "output_type": "display_data"
    },
    {
     "data": {
      "application/vnd.plotly.v1+json": {
       "config": {
        "plotlyServerURL": "https://plot.ly"
       },
       "data": [
        {
         "hovertemplate": "Period=%{x}<br>pop=%{y}<extra></extra>",
         "legendgroup": "",
         "line": {
          "color": "#636efa",
          "dash": "solid"
         },
         "marker": {
          "symbol": "circle"
         },
         "mode": "lines",
         "name": "",
         "orientation": "v",
         "showlegend": false,
         "type": "scatter",
         "x": [
          "1959-01-01T00:00:00",
          "1959-04-01T00:00:00",
          "1959-07-01T00:00:00",
          "1959-10-01T00:00:00",
          "1960-01-01T00:00:00",
          "1960-04-01T00:00:00",
          "1960-07-01T00:00:00",
          "1960-10-01T00:00:00",
          "1961-01-01T00:00:00",
          "1961-04-01T00:00:00",
          "1961-07-01T00:00:00",
          "1961-10-01T00:00:00",
          "1962-01-01T00:00:00",
          "1962-04-01T00:00:00",
          "1962-07-01T00:00:00",
          "1962-10-01T00:00:00",
          "1963-01-01T00:00:00",
          "1963-04-01T00:00:00",
          "1963-07-01T00:00:00",
          "1963-10-01T00:00:00",
          "1964-01-01T00:00:00",
          "1964-04-01T00:00:00",
          "1964-07-01T00:00:00",
          "1964-10-01T00:00:00",
          "1965-01-01T00:00:00",
          "1965-04-01T00:00:00",
          "1965-07-01T00:00:00",
          "1965-10-01T00:00:00",
          "1966-01-01T00:00:00",
          "1966-04-01T00:00:00",
          "1966-07-01T00:00:00",
          "1966-10-01T00:00:00",
          "1967-01-01T00:00:00",
          "1967-04-01T00:00:00",
          "1967-07-01T00:00:00",
          "1967-10-01T00:00:00",
          "1968-01-01T00:00:00",
          "1968-04-01T00:00:00",
          "1968-07-01T00:00:00",
          "1968-10-01T00:00:00",
          "1969-01-01T00:00:00",
          "1969-04-01T00:00:00",
          "1969-07-01T00:00:00",
          "1969-10-01T00:00:00",
          "1970-01-01T00:00:00",
          "1970-04-01T00:00:00",
          "1970-07-01T00:00:00",
          "1970-10-01T00:00:00",
          "1971-01-01T00:00:00",
          "1971-04-01T00:00:00",
          "1971-07-01T00:00:00",
          "1971-10-01T00:00:00",
          "1972-01-01T00:00:00",
          "1972-04-01T00:00:00",
          "1972-07-01T00:00:00",
          "1972-10-01T00:00:00",
          "1973-01-01T00:00:00",
          "1973-04-01T00:00:00",
          "1973-07-01T00:00:00",
          "1973-10-01T00:00:00",
          "1974-01-01T00:00:00",
          "1974-04-01T00:00:00",
          "1974-07-01T00:00:00",
          "1974-10-01T00:00:00",
          "1975-01-01T00:00:00",
          "1975-04-01T00:00:00",
          "1975-07-01T00:00:00",
          "1975-10-01T00:00:00",
          "1976-01-01T00:00:00",
          "1976-04-01T00:00:00",
          "1976-07-01T00:00:00",
          "1976-10-01T00:00:00",
          "1977-01-01T00:00:00",
          "1977-04-01T00:00:00",
          "1977-07-01T00:00:00",
          "1977-10-01T00:00:00",
          "1978-01-01T00:00:00",
          "1978-04-01T00:00:00",
          "1978-07-01T00:00:00",
          "1978-10-01T00:00:00",
          "1979-01-01T00:00:00",
          "1979-04-01T00:00:00",
          "1979-07-01T00:00:00",
          "1979-10-01T00:00:00",
          "1980-01-01T00:00:00",
          "1980-04-01T00:00:00",
          "1980-07-01T00:00:00",
          "1980-10-01T00:00:00",
          "1981-01-01T00:00:00",
          "1981-04-01T00:00:00",
          "1981-07-01T00:00:00",
          "1981-10-01T00:00:00",
          "1982-01-01T00:00:00",
          "1982-04-01T00:00:00",
          "1982-07-01T00:00:00",
          "1982-10-01T00:00:00",
          "1983-01-01T00:00:00",
          "1983-04-01T00:00:00",
          "1983-07-01T00:00:00",
          "1983-10-01T00:00:00",
          "1984-01-01T00:00:00",
          "1984-04-01T00:00:00",
          "1984-07-01T00:00:00",
          "1984-10-01T00:00:00",
          "1985-01-01T00:00:00",
          "1985-04-01T00:00:00",
          "1985-07-01T00:00:00",
          "1985-10-01T00:00:00",
          "1986-01-01T00:00:00",
          "1986-04-01T00:00:00",
          "1986-07-01T00:00:00",
          "1986-10-01T00:00:00",
          "1987-01-01T00:00:00",
          "1987-04-01T00:00:00",
          "1987-07-01T00:00:00",
          "1987-10-01T00:00:00",
          "1988-01-01T00:00:00",
          "1988-04-01T00:00:00",
          "1988-07-01T00:00:00",
          "1988-10-01T00:00:00",
          "1989-01-01T00:00:00",
          "1989-04-01T00:00:00",
          "1989-07-01T00:00:00",
          "1989-10-01T00:00:00",
          "1990-01-01T00:00:00",
          "1990-04-01T00:00:00",
          "1990-07-01T00:00:00",
          "1990-10-01T00:00:00",
          "1991-01-01T00:00:00",
          "1991-04-01T00:00:00",
          "1991-07-01T00:00:00",
          "1991-10-01T00:00:00",
          "1992-01-01T00:00:00",
          "1992-04-01T00:00:00",
          "1992-07-01T00:00:00",
          "1992-10-01T00:00:00",
          "1993-01-01T00:00:00",
          "1993-04-01T00:00:00",
          "1993-07-01T00:00:00",
          "1993-10-01T00:00:00",
          "1994-01-01T00:00:00",
          "1994-04-01T00:00:00",
          "1994-07-01T00:00:00",
          "1994-10-01T00:00:00",
          "1995-01-01T00:00:00",
          "1995-04-01T00:00:00",
          "1995-07-01T00:00:00",
          "1995-10-01T00:00:00",
          "1996-01-01T00:00:00",
          "1996-04-01T00:00:00",
          "1996-07-01T00:00:00",
          "1996-10-01T00:00:00",
          "1997-01-01T00:00:00",
          "1997-04-01T00:00:00",
          "1997-07-01T00:00:00",
          "1997-10-01T00:00:00",
          "1998-01-01T00:00:00",
          "1998-04-01T00:00:00",
          "1998-07-01T00:00:00",
          "1998-10-01T00:00:00",
          "1999-01-01T00:00:00",
          "1999-04-01T00:00:00",
          "1999-07-01T00:00:00",
          "1999-10-01T00:00:00",
          "2000-01-01T00:00:00",
          "2000-04-01T00:00:00",
          "2000-07-01T00:00:00",
          "2000-10-01T00:00:00",
          "2001-01-01T00:00:00",
          "2001-04-01T00:00:00",
          "2001-07-01T00:00:00",
          "2001-10-01T00:00:00",
          "2002-01-01T00:00:00",
          "2002-04-01T00:00:00",
          "2002-07-01T00:00:00",
          "2002-10-01T00:00:00",
          "2003-01-01T00:00:00",
          "2003-04-01T00:00:00",
          "2003-07-01T00:00:00",
          "2003-10-01T00:00:00",
          "2004-01-01T00:00:00",
          "2004-04-01T00:00:00",
          "2004-07-01T00:00:00",
          "2004-10-01T00:00:00",
          "2005-01-01T00:00:00",
          "2005-04-01T00:00:00",
          "2005-07-01T00:00:00",
          "2005-10-01T00:00:00",
          "2006-01-01T00:00:00",
          "2006-04-01T00:00:00",
          "2006-07-01T00:00:00",
          "2006-10-01T00:00:00",
          "2007-01-01T00:00:00",
          "2007-04-01T00:00:00",
          "2007-07-01T00:00:00",
          "2007-10-01T00:00:00",
          "2008-01-01T00:00:00",
          "2008-04-01T00:00:00",
          "2008-07-01T00:00:00",
          "2008-10-01T00:00:00",
          "2009-01-01T00:00:00",
          "2009-04-01T00:00:00",
          "2009-07-01T00:00:00"
         ],
         "xaxis": "x",
         "y": [
          177.146,
          177.83,
          178.657,
          179.386,
          180.007,
          180.671,
          181.528,
          182.287,
          182.992,
          183.691,
          184.524,
          185.242,
          185.874,
          186.538,
          187.323,
          188.013,
          188.58,
          189.242,
          190.028,
          190.668,
          191.245,
          191.889,
          192.631,
          193.223,
          193.709,
          194.303,
          194.997,
          195.539,
          195.999,
          196.56,
          197.207,
          197.736,
          198.206,
          198.712,
          199.311,
          199.808,
          200.208,
          200.706,
          201.29,
          201.76,
          202.161,
          202.677,
          203.302,
          203.849,
          204.401,
          205.052,
          205.788,
          206.466,
          207.065,
          207.661,
          208.345,
          208.917,
          209.386,
          209.896,
          210.479,
          210.985,
          211.42,
          211.909,
          212.475,
          212.932,
          213.361,
          213.854,
          214.451,
          214.931,
          215.353,
          215.973,
          216.587,
          217.095,
          217.528,
          218.035,
          218.644,
          219.179,
          219.684,
          220.239,
          220.904,
          221.477,
          221.991,
          222.585,
          223.271,
          223.865,
          224.438,
          225.055,
          225.801,
          226.451,
          227.061,
          227.726,
          228.417,
          228.937,
          229.403,
          229.966,
          230.641,
          231.157,
          231.645,
          232.188,
          232.816,
          233.322,
          233.781,
          234.307,
          234.907,
          235.385,
          235.839,
          236.348,
          236.976,
          237.468,
          237.9,
          238.466,
          239.113,
          239.638,
          240.094,
          240.651,
          241.274,
          241.784,
          242.252,
          242.804,
          243.446,
          243.981,
          244.445,
          245.021,
          245.693,
          246.224,
          246.721,
          247.342,
          248.067,
          248.659,
          249.306,
          250.132,
          251.057,
          251.889,
          252.643,
          253.493,
          254.435,
          255.214,
          255.992,
          256.894,
          257.861,
          258.679,
          259.414,
          260.255,
          261.163,
          261.919,
          262.631,
          263.436,
          264.301,
          265.044,
          265.755,
          266.557,
          267.456,
          268.151,
          268.853,
          269.667,
          270.581,
          271.36,
          272.083,
          272.912,
          273.852,
          274.626,
          275.304,
          276.115,
          277.003,
          277.79,
          278.451,
          279.295,
          280.203,
          280.976,
          281.653,
          282.385,
          283.19,
          283.9,
          284.55,
          285.267,
          286.047,
          286.728,
          287.328,
          288.028,
          288.783,
          289.421,
          290.019,
          290.704,
          291.449,
          292.057,
          292.635,
          293.31,
          294.066,
          294.741,
          295.308,
          295.994,
          296.77,
          297.435,
          298.061,
          298.766,
          299.593,
          300.32,
          300.977,
          301.714,
          302.509,
          303.204,
          303.803,
          304.483,
          305.27,
          305.952,
          306.547,
          307.226,
          308.013
         ],
         "yaxis": "y"
        }
       ],
       "layout": {
        "height": 400,
        "legend": {
         "tracegroupgap": 0
        },
        "template": {
         "data": {
          "bar": [
           {
            "error_x": {
             "color": "#2a3f5f"
            },
            "error_y": {
             "color": "#2a3f5f"
            },
            "marker": {
             "line": {
              "color": "white",
              "width": 0.5
             },
             "pattern": {
              "fillmode": "overlay",
              "size": 10,
              "solidity": 0.2
             }
            },
            "type": "bar"
           }
          ],
          "barpolar": [
           {
            "marker": {
             "line": {
              "color": "white",
              "width": 0.5
             },
             "pattern": {
              "fillmode": "overlay",
              "size": 10,
              "solidity": 0.2
             }
            },
            "type": "barpolar"
           }
          ],
          "carpet": [
           {
            "aaxis": {
             "endlinecolor": "#2a3f5f",
             "gridcolor": "#C8D4E3",
             "linecolor": "#C8D4E3",
             "minorgridcolor": "#C8D4E3",
             "startlinecolor": "#2a3f5f"
            },
            "baxis": {
             "endlinecolor": "#2a3f5f",
             "gridcolor": "#C8D4E3",
             "linecolor": "#C8D4E3",
             "minorgridcolor": "#C8D4E3",
             "startlinecolor": "#2a3f5f"
            },
            "type": "carpet"
           }
          ],
          "choropleth": [
           {
            "colorbar": {
             "outlinewidth": 0,
             "ticks": ""
            },
            "type": "choropleth"
           }
          ],
          "contour": [
           {
            "colorbar": {
             "outlinewidth": 0,
             "ticks": ""
            },
            "colorscale": [
             [
              0,
              "#0d0887"
             ],
             [
              0.1111111111111111,
              "#46039f"
             ],
             [
              0.2222222222222222,
              "#7201a8"
             ],
             [
              0.3333333333333333,
              "#9c179e"
             ],
             [
              0.4444444444444444,
              "#bd3786"
             ],
             [
              0.5555555555555556,
              "#d8576b"
             ],
             [
              0.6666666666666666,
              "#ed7953"
             ],
             [
              0.7777777777777778,
              "#fb9f3a"
             ],
             [
              0.8888888888888888,
              "#fdca26"
             ],
             [
              1,
              "#f0f921"
             ]
            ],
            "type": "contour"
           }
          ],
          "contourcarpet": [
           {
            "colorbar": {
             "outlinewidth": 0,
             "ticks": ""
            },
            "type": "contourcarpet"
           }
          ],
          "heatmap": [
           {
            "colorbar": {
             "outlinewidth": 0,
             "ticks": ""
            },
            "colorscale": [
             [
              0,
              "#0d0887"
             ],
             [
              0.1111111111111111,
              "#46039f"
             ],
             [
              0.2222222222222222,
              "#7201a8"
             ],
             [
              0.3333333333333333,
              "#9c179e"
             ],
             [
              0.4444444444444444,
              "#bd3786"
             ],
             [
              0.5555555555555556,
              "#d8576b"
             ],
             [
              0.6666666666666666,
              "#ed7953"
             ],
             [
              0.7777777777777778,
              "#fb9f3a"
             ],
             [
              0.8888888888888888,
              "#fdca26"
             ],
             [
              1,
              "#f0f921"
             ]
            ],
            "type": "heatmap"
           }
          ],
          "heatmapgl": [
           {
            "colorbar": {
             "outlinewidth": 0,
             "ticks": ""
            },
            "colorscale": [
             [
              0,
              "#0d0887"
             ],
             [
              0.1111111111111111,
              "#46039f"
             ],
             [
              0.2222222222222222,
              "#7201a8"
             ],
             [
              0.3333333333333333,
              "#9c179e"
             ],
             [
              0.4444444444444444,
              "#bd3786"
             ],
             [
              0.5555555555555556,
              "#d8576b"
             ],
             [
              0.6666666666666666,
              "#ed7953"
             ],
             [
              0.7777777777777778,
              "#fb9f3a"
             ],
             [
              0.8888888888888888,
              "#fdca26"
             ],
             [
              1,
              "#f0f921"
             ]
            ],
            "type": "heatmapgl"
           }
          ],
          "histogram": [
           {
            "marker": {
             "pattern": {
              "fillmode": "overlay",
              "size": 10,
              "solidity": 0.2
             }
            },
            "type": "histogram"
           }
          ],
          "histogram2d": [
           {
            "colorbar": {
             "outlinewidth": 0,
             "ticks": ""
            },
            "colorscale": [
             [
              0,
              "#0d0887"
             ],
             [
              0.1111111111111111,
              "#46039f"
             ],
             [
              0.2222222222222222,
              "#7201a8"
             ],
             [
              0.3333333333333333,
              "#9c179e"
             ],
             [
              0.4444444444444444,
              "#bd3786"
             ],
             [
              0.5555555555555556,
              "#d8576b"
             ],
             [
              0.6666666666666666,
              "#ed7953"
             ],
             [
              0.7777777777777778,
              "#fb9f3a"
             ],
             [
              0.8888888888888888,
              "#fdca26"
             ],
             [
              1,
              "#f0f921"
             ]
            ],
            "type": "histogram2d"
           }
          ],
          "histogram2dcontour": [
           {
            "colorbar": {
             "outlinewidth": 0,
             "ticks": ""
            },
            "colorscale": [
             [
              0,
              "#0d0887"
             ],
             [
              0.1111111111111111,
              "#46039f"
             ],
             [
              0.2222222222222222,
              "#7201a8"
             ],
             [
              0.3333333333333333,
              "#9c179e"
             ],
             [
              0.4444444444444444,
              "#bd3786"
             ],
             [
              0.5555555555555556,
              "#d8576b"
             ],
             [
              0.6666666666666666,
              "#ed7953"
             ],
             [
              0.7777777777777778,
              "#fb9f3a"
             ],
             [
              0.8888888888888888,
              "#fdca26"
             ],
             [
              1,
              "#f0f921"
             ]
            ],
            "type": "histogram2dcontour"
           }
          ],
          "mesh3d": [
           {
            "colorbar": {
             "outlinewidth": 0,
             "ticks": ""
            },
            "type": "mesh3d"
           }
          ],
          "parcoords": [
           {
            "line": {
             "colorbar": {
              "outlinewidth": 0,
              "ticks": ""
             }
            },
            "type": "parcoords"
           }
          ],
          "pie": [
           {
            "automargin": true,
            "type": "pie"
           }
          ],
          "scatter": [
           {
            "fillpattern": {
             "fillmode": "overlay",
             "size": 10,
             "solidity": 0.2
            },
            "type": "scatter"
           }
          ],
          "scatter3d": [
           {
            "line": {
             "colorbar": {
              "outlinewidth": 0,
              "ticks": ""
             }
            },
            "marker": {
             "colorbar": {
              "outlinewidth": 0,
              "ticks": ""
             }
            },
            "type": "scatter3d"
           }
          ],
          "scattercarpet": [
           {
            "marker": {
             "colorbar": {
              "outlinewidth": 0,
              "ticks": ""
             }
            },
            "type": "scattercarpet"
           }
          ],
          "scattergeo": [
           {
            "marker": {
             "colorbar": {
              "outlinewidth": 0,
              "ticks": ""
             }
            },
            "type": "scattergeo"
           }
          ],
          "scattergl": [
           {
            "marker": {
             "colorbar": {
              "outlinewidth": 0,
              "ticks": ""
             }
            },
            "type": "scattergl"
           }
          ],
          "scattermapbox": [
           {
            "marker": {
             "colorbar": {
              "outlinewidth": 0,
              "ticks": ""
             }
            },
            "type": "scattermapbox"
           }
          ],
          "scatterpolar": [
           {
            "marker": {
             "colorbar": {
              "outlinewidth": 0,
              "ticks": ""
             }
            },
            "type": "scatterpolar"
           }
          ],
          "scatterpolargl": [
           {
            "marker": {
             "colorbar": {
              "outlinewidth": 0,
              "ticks": ""
             }
            },
            "type": "scatterpolargl"
           }
          ],
          "scatterternary": [
           {
            "marker": {
             "colorbar": {
              "outlinewidth": 0,
              "ticks": ""
             }
            },
            "type": "scatterternary"
           }
          ],
          "surface": [
           {
            "colorbar": {
             "outlinewidth": 0,
             "ticks": ""
            },
            "colorscale": [
             [
              0,
              "#0d0887"
             ],
             [
              0.1111111111111111,
              "#46039f"
             ],
             [
              0.2222222222222222,
              "#7201a8"
             ],
             [
              0.3333333333333333,
              "#9c179e"
             ],
             [
              0.4444444444444444,
              "#bd3786"
             ],
             [
              0.5555555555555556,
              "#d8576b"
             ],
             [
              0.6666666666666666,
              "#ed7953"
             ],
             [
              0.7777777777777778,
              "#fb9f3a"
             ],
             [
              0.8888888888888888,
              "#fdca26"
             ],
             [
              1,
              "#f0f921"
             ]
            ],
            "type": "surface"
           }
          ],
          "table": [
           {
            "cells": {
             "fill": {
              "color": "#EBF0F8"
             },
             "line": {
              "color": "white"
             }
            },
            "header": {
             "fill": {
              "color": "#C8D4E3"
             },
             "line": {
              "color": "white"
             }
            },
            "type": "table"
           }
          ]
         },
         "layout": {
          "annotationdefaults": {
           "arrowcolor": "#2a3f5f",
           "arrowhead": 0,
           "arrowwidth": 1
          },
          "autotypenumbers": "strict",
          "coloraxis": {
           "colorbar": {
            "outlinewidth": 0,
            "ticks": ""
           }
          },
          "colorscale": {
           "diverging": [
            [
             0,
             "#8e0152"
            ],
            [
             0.1,
             "#c51b7d"
            ],
            [
             0.2,
             "#de77ae"
            ],
            [
             0.3,
             "#f1b6da"
            ],
            [
             0.4,
             "#fde0ef"
            ],
            [
             0.5,
             "#f7f7f7"
            ],
            [
             0.6,
             "#e6f5d0"
            ],
            [
             0.7,
             "#b8e186"
            ],
            [
             0.8,
             "#7fbc41"
            ],
            [
             0.9,
             "#4d9221"
            ],
            [
             1,
             "#276419"
            ]
           ],
           "sequential": [
            [
             0,
             "#0d0887"
            ],
            [
             0.1111111111111111,
             "#46039f"
            ],
            [
             0.2222222222222222,
             "#7201a8"
            ],
            [
             0.3333333333333333,
             "#9c179e"
            ],
            [
             0.4444444444444444,
             "#bd3786"
            ],
            [
             0.5555555555555556,
             "#d8576b"
            ],
            [
             0.6666666666666666,
             "#ed7953"
            ],
            [
             0.7777777777777778,
             "#fb9f3a"
            ],
            [
             0.8888888888888888,
             "#fdca26"
            ],
            [
             1,
             "#f0f921"
            ]
           ],
           "sequentialminus": [
            [
             0,
             "#0d0887"
            ],
            [
             0.1111111111111111,
             "#46039f"
            ],
            [
             0.2222222222222222,
             "#7201a8"
            ],
            [
             0.3333333333333333,
             "#9c179e"
            ],
            [
             0.4444444444444444,
             "#bd3786"
            ],
            [
             0.5555555555555556,
             "#d8576b"
            ],
            [
             0.6666666666666666,
             "#ed7953"
            ],
            [
             0.7777777777777778,
             "#fb9f3a"
            ],
            [
             0.8888888888888888,
             "#fdca26"
            ],
            [
             1,
             "#f0f921"
            ]
           ]
          },
          "colorway": [
           "#636efa",
           "#EF553B",
           "#00cc96",
           "#ab63fa",
           "#FFA15A",
           "#19d3f3",
           "#FF6692",
           "#B6E880",
           "#FF97FF",
           "#FECB52"
          ],
          "font": {
           "color": "#2a3f5f"
          },
          "geo": {
           "bgcolor": "white",
           "lakecolor": "white",
           "landcolor": "white",
           "showlakes": true,
           "showland": true,
           "subunitcolor": "#C8D4E3"
          },
          "hoverlabel": {
           "align": "left"
          },
          "hovermode": "closest",
          "mapbox": {
           "style": "light"
          },
          "paper_bgcolor": "white",
          "plot_bgcolor": "white",
          "polar": {
           "angularaxis": {
            "gridcolor": "#EBF0F8",
            "linecolor": "#EBF0F8",
            "ticks": ""
           },
           "bgcolor": "white",
           "radialaxis": {
            "gridcolor": "#EBF0F8",
            "linecolor": "#EBF0F8",
            "ticks": ""
           }
          },
          "scene": {
           "xaxis": {
            "backgroundcolor": "white",
            "gridcolor": "#DFE8F3",
            "gridwidth": 2,
            "linecolor": "#EBF0F8",
            "showbackground": true,
            "ticks": "",
            "zerolinecolor": "#EBF0F8"
           },
           "yaxis": {
            "backgroundcolor": "white",
            "gridcolor": "#DFE8F3",
            "gridwidth": 2,
            "linecolor": "#EBF0F8",
            "showbackground": true,
            "ticks": "",
            "zerolinecolor": "#EBF0F8"
           },
           "zaxis": {
            "backgroundcolor": "white",
            "gridcolor": "#DFE8F3",
            "gridwidth": 2,
            "linecolor": "#EBF0F8",
            "showbackground": true,
            "ticks": "",
            "zerolinecolor": "#EBF0F8"
           }
          },
          "shapedefaults": {
           "line": {
            "color": "#2a3f5f"
           }
          },
          "ternary": {
           "aaxis": {
            "gridcolor": "#DFE8F3",
            "linecolor": "#A2B1C6",
            "ticks": ""
           },
           "baxis": {
            "gridcolor": "#DFE8F3",
            "linecolor": "#A2B1C6",
            "ticks": ""
           },
           "bgcolor": "white",
           "caxis": {
            "gridcolor": "#DFE8F3",
            "linecolor": "#A2B1C6",
            "ticks": ""
           }
          },
          "title": {
           "x": 0.05
          },
          "xaxis": {
           "automargin": true,
           "gridcolor": "#EBF0F8",
           "linecolor": "#EBF0F8",
           "ticks": "",
           "title": {
            "standoff": 15
           },
           "zerolinecolor": "#EBF0F8",
           "zerolinewidth": 2
          },
          "yaxis": {
           "automargin": true,
           "gridcolor": "#EBF0F8",
           "linecolor": "#EBF0F8",
           "ticks": "",
           "title": {
            "standoff": 15
           },
           "zerolinecolor": "#EBF0F8",
           "zerolinewidth": 2
          }
         }
        },
        "title": {
         "text": "pop (1959Q1-2009Q3)"
        },
        "width": 1200,
        "xaxis": {
         "anchor": "y",
         "domain": [
          0,
          1
         ],
         "title": {
          "text": "Time"
         }
        },
        "yaxis": {
         "anchor": "x",
         "domain": [
          0,
          1
         ],
         "title": {
          "text": "pop"
         }
        }
       }
      }
     },
     "metadata": {},
     "output_type": "display_data"
    },
    {
     "data": {
      "application/vnd.plotly.v1+json": {
       "config": {
        "plotlyServerURL": "https://plot.ly"
       },
       "data": [
        {
         "hovertemplate": "Period=%{x}<br>unemp=%{y}<extra></extra>",
         "legendgroup": "",
         "line": {
          "color": "#636efa",
          "dash": "solid"
         },
         "marker": {
          "symbol": "circle"
         },
         "mode": "lines",
         "name": "",
         "orientation": "v",
         "showlegend": false,
         "type": "scatter",
         "x": [
          "1959-01-01T00:00:00",
          "1959-04-01T00:00:00",
          "1959-07-01T00:00:00",
          "1959-10-01T00:00:00",
          "1960-01-01T00:00:00",
          "1960-04-01T00:00:00",
          "1960-07-01T00:00:00",
          "1960-10-01T00:00:00",
          "1961-01-01T00:00:00",
          "1961-04-01T00:00:00",
          "1961-07-01T00:00:00",
          "1961-10-01T00:00:00",
          "1962-01-01T00:00:00",
          "1962-04-01T00:00:00",
          "1962-07-01T00:00:00",
          "1962-10-01T00:00:00",
          "1963-01-01T00:00:00",
          "1963-04-01T00:00:00",
          "1963-07-01T00:00:00",
          "1963-10-01T00:00:00",
          "1964-01-01T00:00:00",
          "1964-04-01T00:00:00",
          "1964-07-01T00:00:00",
          "1964-10-01T00:00:00",
          "1965-01-01T00:00:00",
          "1965-04-01T00:00:00",
          "1965-07-01T00:00:00",
          "1965-10-01T00:00:00",
          "1966-01-01T00:00:00",
          "1966-04-01T00:00:00",
          "1966-07-01T00:00:00",
          "1966-10-01T00:00:00",
          "1967-01-01T00:00:00",
          "1967-04-01T00:00:00",
          "1967-07-01T00:00:00",
          "1967-10-01T00:00:00",
          "1968-01-01T00:00:00",
          "1968-04-01T00:00:00",
          "1968-07-01T00:00:00",
          "1968-10-01T00:00:00",
          "1969-01-01T00:00:00",
          "1969-04-01T00:00:00",
          "1969-07-01T00:00:00",
          "1969-10-01T00:00:00",
          "1970-01-01T00:00:00",
          "1970-04-01T00:00:00",
          "1970-07-01T00:00:00",
          "1970-10-01T00:00:00",
          "1971-01-01T00:00:00",
          "1971-04-01T00:00:00",
          "1971-07-01T00:00:00",
          "1971-10-01T00:00:00",
          "1972-01-01T00:00:00",
          "1972-04-01T00:00:00",
          "1972-07-01T00:00:00",
          "1972-10-01T00:00:00",
          "1973-01-01T00:00:00",
          "1973-04-01T00:00:00",
          "1973-07-01T00:00:00",
          "1973-10-01T00:00:00",
          "1974-01-01T00:00:00",
          "1974-04-01T00:00:00",
          "1974-07-01T00:00:00",
          "1974-10-01T00:00:00",
          "1975-01-01T00:00:00",
          "1975-04-01T00:00:00",
          "1975-07-01T00:00:00",
          "1975-10-01T00:00:00",
          "1976-01-01T00:00:00",
          "1976-04-01T00:00:00",
          "1976-07-01T00:00:00",
          "1976-10-01T00:00:00",
          "1977-01-01T00:00:00",
          "1977-04-01T00:00:00",
          "1977-07-01T00:00:00",
          "1977-10-01T00:00:00",
          "1978-01-01T00:00:00",
          "1978-04-01T00:00:00",
          "1978-07-01T00:00:00",
          "1978-10-01T00:00:00",
          "1979-01-01T00:00:00",
          "1979-04-01T00:00:00",
          "1979-07-01T00:00:00",
          "1979-10-01T00:00:00",
          "1980-01-01T00:00:00",
          "1980-04-01T00:00:00",
          "1980-07-01T00:00:00",
          "1980-10-01T00:00:00",
          "1981-01-01T00:00:00",
          "1981-04-01T00:00:00",
          "1981-07-01T00:00:00",
          "1981-10-01T00:00:00",
          "1982-01-01T00:00:00",
          "1982-04-01T00:00:00",
          "1982-07-01T00:00:00",
          "1982-10-01T00:00:00",
          "1983-01-01T00:00:00",
          "1983-04-01T00:00:00",
          "1983-07-01T00:00:00",
          "1983-10-01T00:00:00",
          "1984-01-01T00:00:00",
          "1984-04-01T00:00:00",
          "1984-07-01T00:00:00",
          "1984-10-01T00:00:00",
          "1985-01-01T00:00:00",
          "1985-04-01T00:00:00",
          "1985-07-01T00:00:00",
          "1985-10-01T00:00:00",
          "1986-01-01T00:00:00",
          "1986-04-01T00:00:00",
          "1986-07-01T00:00:00",
          "1986-10-01T00:00:00",
          "1987-01-01T00:00:00",
          "1987-04-01T00:00:00",
          "1987-07-01T00:00:00",
          "1987-10-01T00:00:00",
          "1988-01-01T00:00:00",
          "1988-04-01T00:00:00",
          "1988-07-01T00:00:00",
          "1988-10-01T00:00:00",
          "1989-01-01T00:00:00",
          "1989-04-01T00:00:00",
          "1989-07-01T00:00:00",
          "1989-10-01T00:00:00",
          "1990-01-01T00:00:00",
          "1990-04-01T00:00:00",
          "1990-07-01T00:00:00",
          "1990-10-01T00:00:00",
          "1991-01-01T00:00:00",
          "1991-04-01T00:00:00",
          "1991-07-01T00:00:00",
          "1991-10-01T00:00:00",
          "1992-01-01T00:00:00",
          "1992-04-01T00:00:00",
          "1992-07-01T00:00:00",
          "1992-10-01T00:00:00",
          "1993-01-01T00:00:00",
          "1993-04-01T00:00:00",
          "1993-07-01T00:00:00",
          "1993-10-01T00:00:00",
          "1994-01-01T00:00:00",
          "1994-04-01T00:00:00",
          "1994-07-01T00:00:00",
          "1994-10-01T00:00:00",
          "1995-01-01T00:00:00",
          "1995-04-01T00:00:00",
          "1995-07-01T00:00:00",
          "1995-10-01T00:00:00",
          "1996-01-01T00:00:00",
          "1996-04-01T00:00:00",
          "1996-07-01T00:00:00",
          "1996-10-01T00:00:00",
          "1997-01-01T00:00:00",
          "1997-04-01T00:00:00",
          "1997-07-01T00:00:00",
          "1997-10-01T00:00:00",
          "1998-01-01T00:00:00",
          "1998-04-01T00:00:00",
          "1998-07-01T00:00:00",
          "1998-10-01T00:00:00",
          "1999-01-01T00:00:00",
          "1999-04-01T00:00:00",
          "1999-07-01T00:00:00",
          "1999-10-01T00:00:00",
          "2000-01-01T00:00:00",
          "2000-04-01T00:00:00",
          "2000-07-01T00:00:00",
          "2000-10-01T00:00:00",
          "2001-01-01T00:00:00",
          "2001-04-01T00:00:00",
          "2001-07-01T00:00:00",
          "2001-10-01T00:00:00",
          "2002-01-01T00:00:00",
          "2002-04-01T00:00:00",
          "2002-07-01T00:00:00",
          "2002-10-01T00:00:00",
          "2003-01-01T00:00:00",
          "2003-04-01T00:00:00",
          "2003-07-01T00:00:00",
          "2003-10-01T00:00:00",
          "2004-01-01T00:00:00",
          "2004-04-01T00:00:00",
          "2004-07-01T00:00:00",
          "2004-10-01T00:00:00",
          "2005-01-01T00:00:00",
          "2005-04-01T00:00:00",
          "2005-07-01T00:00:00",
          "2005-10-01T00:00:00",
          "2006-01-01T00:00:00",
          "2006-04-01T00:00:00",
          "2006-07-01T00:00:00",
          "2006-10-01T00:00:00",
          "2007-01-01T00:00:00",
          "2007-04-01T00:00:00",
          "2007-07-01T00:00:00",
          "2007-10-01T00:00:00",
          "2008-01-01T00:00:00",
          "2008-04-01T00:00:00",
          "2008-07-01T00:00:00",
          "2008-10-01T00:00:00",
          "2009-01-01T00:00:00",
          "2009-04-01T00:00:00",
          "2009-07-01T00:00:00"
         ],
         "xaxis": "x",
         "y": [
          5.8,
          5.1,
          5.3,
          5.6,
          5.2,
          5.2,
          5.6,
          6.3,
          6.8,
          7,
          6.8,
          6.2,
          5.6,
          5.5,
          5.6,
          5.5,
          5.8,
          5.7,
          5.5,
          5.6,
          5.5,
          5.2,
          5,
          5,
          4.9,
          4.7,
          4.4,
          4.1,
          3.9,
          3.8,
          3.8,
          3.7,
          3.8,
          3.8,
          3.8,
          3.9,
          3.7,
          3.5,
          3.5,
          10.2,
          3.4,
          3.4,
          3.6,
          3.6,
          4.2,
          4.8,
          5.2,
          5.8,
          5.9,
          5.9,
          6,
          6,
          5.8,
          5.7,
          5.6,
          5.3,
          5,
          4.9,
          4.8,
          4.8,
          5.1,
          5.2,
          5.6,
          6.6,
          8.2,
          8.9,
          8.5,
          8.3,
          7.7,
          7.6,
          7.7,
          7.8,
          7.5,
          7.1,
          6.9,
          6.6,
          6.3,
          6,
          6,
          5.9,
          5.9,
          5.7,
          5.9,
          5.9,
          6.3,
          7.3,
          7.7,
          7.4,
          7.4,
          7.4,
          7.4,
          8.2,
          8.8,
          9.4,
          9.9,
          10.7,
          10.4,
          10.1,
          9.4,
          8.5,
          7.9,
          7.5,
          7.4,
          7.3,
          7.3,
          7.3,
          7.2,
          7,
          7,
          7.2,
          7,
          6.8,
          6.6,
          6.3,
          6,
          5.9,
          5.7,
          5.5,
          5.5,
          5.3,
          5.2,
          5.2,
          5.3,
          5.4,
          5.3,
          5.3,
          5.7,
          6.1,
          6.6,
          6.8,
          6.9,
          7.1,
          7.4,
          7.6,
          7.6,
          7.4,
          7.2,
          7.1,
          6.8,
          6.6,
          6.6,
          6.2,
          6,
          5.6,
          5.5,
          5.7,
          5.7,
          5.6,
          5.5,
          5.5,
          5.3,
          15.9,
          5.2,
          5,
          4.9,
          4.7,
          4.6,
          4.4,
          4.5,
          4.4,
          4.3,
          4.3,
          4.2,
          4.1,
          4,
          3.9,
          4,
          3.9,
          4.2,
          4.4,
          4.8,
          5.5,
          5.7,
          5.8,
          5.7,
          5.8,
          5.9,
          6.2,
          6.1,
          5.8,
          5.7,
          5.6,
          5.4,
          5.4,
          5.3,
          5.1,
          5,
          4.9,
          4.7,
          4.7,
          4.7,
          4.4,
          4.5,
          4.5,
          4.7,
          4.8,
          4.9,
          5.4,
          6,
          6.9,
          8.1,
          9.2,
          9.6
         ],
         "yaxis": "y"
        }
       ],
       "layout": {
        "height": 400,
        "legend": {
         "tracegroupgap": 0
        },
        "template": {
         "data": {
          "bar": [
           {
            "error_x": {
             "color": "#2a3f5f"
            },
            "error_y": {
             "color": "#2a3f5f"
            },
            "marker": {
             "line": {
              "color": "white",
              "width": 0.5
             },
             "pattern": {
              "fillmode": "overlay",
              "size": 10,
              "solidity": 0.2
             }
            },
            "type": "bar"
           }
          ],
          "barpolar": [
           {
            "marker": {
             "line": {
              "color": "white",
              "width": 0.5
             },
             "pattern": {
              "fillmode": "overlay",
              "size": 10,
              "solidity": 0.2
             }
            },
            "type": "barpolar"
           }
          ],
          "carpet": [
           {
            "aaxis": {
             "endlinecolor": "#2a3f5f",
             "gridcolor": "#C8D4E3",
             "linecolor": "#C8D4E3",
             "minorgridcolor": "#C8D4E3",
             "startlinecolor": "#2a3f5f"
            },
            "baxis": {
             "endlinecolor": "#2a3f5f",
             "gridcolor": "#C8D4E3",
             "linecolor": "#C8D4E3",
             "minorgridcolor": "#C8D4E3",
             "startlinecolor": "#2a3f5f"
            },
            "type": "carpet"
           }
          ],
          "choropleth": [
           {
            "colorbar": {
             "outlinewidth": 0,
             "ticks": ""
            },
            "type": "choropleth"
           }
          ],
          "contour": [
           {
            "colorbar": {
             "outlinewidth": 0,
             "ticks": ""
            },
            "colorscale": [
             [
              0,
              "#0d0887"
             ],
             [
              0.1111111111111111,
              "#46039f"
             ],
             [
              0.2222222222222222,
              "#7201a8"
             ],
             [
              0.3333333333333333,
              "#9c179e"
             ],
             [
              0.4444444444444444,
              "#bd3786"
             ],
             [
              0.5555555555555556,
              "#d8576b"
             ],
             [
              0.6666666666666666,
              "#ed7953"
             ],
             [
              0.7777777777777778,
              "#fb9f3a"
             ],
             [
              0.8888888888888888,
              "#fdca26"
             ],
             [
              1,
              "#f0f921"
             ]
            ],
            "type": "contour"
           }
          ],
          "contourcarpet": [
           {
            "colorbar": {
             "outlinewidth": 0,
             "ticks": ""
            },
            "type": "contourcarpet"
           }
          ],
          "heatmap": [
           {
            "colorbar": {
             "outlinewidth": 0,
             "ticks": ""
            },
            "colorscale": [
             [
              0,
              "#0d0887"
             ],
             [
              0.1111111111111111,
              "#46039f"
             ],
             [
              0.2222222222222222,
              "#7201a8"
             ],
             [
              0.3333333333333333,
              "#9c179e"
             ],
             [
              0.4444444444444444,
              "#bd3786"
             ],
             [
              0.5555555555555556,
              "#d8576b"
             ],
             [
              0.6666666666666666,
              "#ed7953"
             ],
             [
              0.7777777777777778,
              "#fb9f3a"
             ],
             [
              0.8888888888888888,
              "#fdca26"
             ],
             [
              1,
              "#f0f921"
             ]
            ],
            "type": "heatmap"
           }
          ],
          "heatmapgl": [
           {
            "colorbar": {
             "outlinewidth": 0,
             "ticks": ""
            },
            "colorscale": [
             [
              0,
              "#0d0887"
             ],
             [
              0.1111111111111111,
              "#46039f"
             ],
             [
              0.2222222222222222,
              "#7201a8"
             ],
             [
              0.3333333333333333,
              "#9c179e"
             ],
             [
              0.4444444444444444,
              "#bd3786"
             ],
             [
              0.5555555555555556,
              "#d8576b"
             ],
             [
              0.6666666666666666,
              "#ed7953"
             ],
             [
              0.7777777777777778,
              "#fb9f3a"
             ],
             [
              0.8888888888888888,
              "#fdca26"
             ],
             [
              1,
              "#f0f921"
             ]
            ],
            "type": "heatmapgl"
           }
          ],
          "histogram": [
           {
            "marker": {
             "pattern": {
              "fillmode": "overlay",
              "size": 10,
              "solidity": 0.2
             }
            },
            "type": "histogram"
           }
          ],
          "histogram2d": [
           {
            "colorbar": {
             "outlinewidth": 0,
             "ticks": ""
            },
            "colorscale": [
             [
              0,
              "#0d0887"
             ],
             [
              0.1111111111111111,
              "#46039f"
             ],
             [
              0.2222222222222222,
              "#7201a8"
             ],
             [
              0.3333333333333333,
              "#9c179e"
             ],
             [
              0.4444444444444444,
              "#bd3786"
             ],
             [
              0.5555555555555556,
              "#d8576b"
             ],
             [
              0.6666666666666666,
              "#ed7953"
             ],
             [
              0.7777777777777778,
              "#fb9f3a"
             ],
             [
              0.8888888888888888,
              "#fdca26"
             ],
             [
              1,
              "#f0f921"
             ]
            ],
            "type": "histogram2d"
           }
          ],
          "histogram2dcontour": [
           {
            "colorbar": {
             "outlinewidth": 0,
             "ticks": ""
            },
            "colorscale": [
             [
              0,
              "#0d0887"
             ],
             [
              0.1111111111111111,
              "#46039f"
             ],
             [
              0.2222222222222222,
              "#7201a8"
             ],
             [
              0.3333333333333333,
              "#9c179e"
             ],
             [
              0.4444444444444444,
              "#bd3786"
             ],
             [
              0.5555555555555556,
              "#d8576b"
             ],
             [
              0.6666666666666666,
              "#ed7953"
             ],
             [
              0.7777777777777778,
              "#fb9f3a"
             ],
             [
              0.8888888888888888,
              "#fdca26"
             ],
             [
              1,
              "#f0f921"
             ]
            ],
            "type": "histogram2dcontour"
           }
          ],
          "mesh3d": [
           {
            "colorbar": {
             "outlinewidth": 0,
             "ticks": ""
            },
            "type": "mesh3d"
           }
          ],
          "parcoords": [
           {
            "line": {
             "colorbar": {
              "outlinewidth": 0,
              "ticks": ""
             }
            },
            "type": "parcoords"
           }
          ],
          "pie": [
           {
            "automargin": true,
            "type": "pie"
           }
          ],
          "scatter": [
           {
            "fillpattern": {
             "fillmode": "overlay",
             "size": 10,
             "solidity": 0.2
            },
            "type": "scatter"
           }
          ],
          "scatter3d": [
           {
            "line": {
             "colorbar": {
              "outlinewidth": 0,
              "ticks": ""
             }
            },
            "marker": {
             "colorbar": {
              "outlinewidth": 0,
              "ticks": ""
             }
            },
            "type": "scatter3d"
           }
          ],
          "scattercarpet": [
           {
            "marker": {
             "colorbar": {
              "outlinewidth": 0,
              "ticks": ""
             }
            },
            "type": "scattercarpet"
           }
          ],
          "scattergeo": [
           {
            "marker": {
             "colorbar": {
              "outlinewidth": 0,
              "ticks": ""
             }
            },
            "type": "scattergeo"
           }
          ],
          "scattergl": [
           {
            "marker": {
             "colorbar": {
              "outlinewidth": 0,
              "ticks": ""
             }
            },
            "type": "scattergl"
           }
          ],
          "scattermapbox": [
           {
            "marker": {
             "colorbar": {
              "outlinewidth": 0,
              "ticks": ""
             }
            },
            "type": "scattermapbox"
           }
          ],
          "scatterpolar": [
           {
            "marker": {
             "colorbar": {
              "outlinewidth": 0,
              "ticks": ""
             }
            },
            "type": "scatterpolar"
           }
          ],
          "scatterpolargl": [
           {
            "marker": {
             "colorbar": {
              "outlinewidth": 0,
              "ticks": ""
             }
            },
            "type": "scatterpolargl"
           }
          ],
          "scatterternary": [
           {
            "marker": {
             "colorbar": {
              "outlinewidth": 0,
              "ticks": ""
             }
            },
            "type": "scatterternary"
           }
          ],
          "surface": [
           {
            "colorbar": {
             "outlinewidth": 0,
             "ticks": ""
            },
            "colorscale": [
             [
              0,
              "#0d0887"
             ],
             [
              0.1111111111111111,
              "#46039f"
             ],
             [
              0.2222222222222222,
              "#7201a8"
             ],
             [
              0.3333333333333333,
              "#9c179e"
             ],
             [
              0.4444444444444444,
              "#bd3786"
             ],
             [
              0.5555555555555556,
              "#d8576b"
             ],
             [
              0.6666666666666666,
              "#ed7953"
             ],
             [
              0.7777777777777778,
              "#fb9f3a"
             ],
             [
              0.8888888888888888,
              "#fdca26"
             ],
             [
              1,
              "#f0f921"
             ]
            ],
            "type": "surface"
           }
          ],
          "table": [
           {
            "cells": {
             "fill": {
              "color": "#EBF0F8"
             },
             "line": {
              "color": "white"
             }
            },
            "header": {
             "fill": {
              "color": "#C8D4E3"
             },
             "line": {
              "color": "white"
             }
            },
            "type": "table"
           }
          ]
         },
         "layout": {
          "annotationdefaults": {
           "arrowcolor": "#2a3f5f",
           "arrowhead": 0,
           "arrowwidth": 1
          },
          "autotypenumbers": "strict",
          "coloraxis": {
           "colorbar": {
            "outlinewidth": 0,
            "ticks": ""
           }
          },
          "colorscale": {
           "diverging": [
            [
             0,
             "#8e0152"
            ],
            [
             0.1,
             "#c51b7d"
            ],
            [
             0.2,
             "#de77ae"
            ],
            [
             0.3,
             "#f1b6da"
            ],
            [
             0.4,
             "#fde0ef"
            ],
            [
             0.5,
             "#f7f7f7"
            ],
            [
             0.6,
             "#e6f5d0"
            ],
            [
             0.7,
             "#b8e186"
            ],
            [
             0.8,
             "#7fbc41"
            ],
            [
             0.9,
             "#4d9221"
            ],
            [
             1,
             "#276419"
            ]
           ],
           "sequential": [
            [
             0,
             "#0d0887"
            ],
            [
             0.1111111111111111,
             "#46039f"
            ],
            [
             0.2222222222222222,
             "#7201a8"
            ],
            [
             0.3333333333333333,
             "#9c179e"
            ],
            [
             0.4444444444444444,
             "#bd3786"
            ],
            [
             0.5555555555555556,
             "#d8576b"
            ],
            [
             0.6666666666666666,
             "#ed7953"
            ],
            [
             0.7777777777777778,
             "#fb9f3a"
            ],
            [
             0.8888888888888888,
             "#fdca26"
            ],
            [
             1,
             "#f0f921"
            ]
           ],
           "sequentialminus": [
            [
             0,
             "#0d0887"
            ],
            [
             0.1111111111111111,
             "#46039f"
            ],
            [
             0.2222222222222222,
             "#7201a8"
            ],
            [
             0.3333333333333333,
             "#9c179e"
            ],
            [
             0.4444444444444444,
             "#bd3786"
            ],
            [
             0.5555555555555556,
             "#d8576b"
            ],
            [
             0.6666666666666666,
             "#ed7953"
            ],
            [
             0.7777777777777778,
             "#fb9f3a"
            ],
            [
             0.8888888888888888,
             "#fdca26"
            ],
            [
             1,
             "#f0f921"
            ]
           ]
          },
          "colorway": [
           "#636efa",
           "#EF553B",
           "#00cc96",
           "#ab63fa",
           "#FFA15A",
           "#19d3f3",
           "#FF6692",
           "#B6E880",
           "#FF97FF",
           "#FECB52"
          ],
          "font": {
           "color": "#2a3f5f"
          },
          "geo": {
           "bgcolor": "white",
           "lakecolor": "white",
           "landcolor": "white",
           "showlakes": true,
           "showland": true,
           "subunitcolor": "#C8D4E3"
          },
          "hoverlabel": {
           "align": "left"
          },
          "hovermode": "closest",
          "mapbox": {
           "style": "light"
          },
          "paper_bgcolor": "white",
          "plot_bgcolor": "white",
          "polar": {
           "angularaxis": {
            "gridcolor": "#EBF0F8",
            "linecolor": "#EBF0F8",
            "ticks": ""
           },
           "bgcolor": "white",
           "radialaxis": {
            "gridcolor": "#EBF0F8",
            "linecolor": "#EBF0F8",
            "ticks": ""
           }
          },
          "scene": {
           "xaxis": {
            "backgroundcolor": "white",
            "gridcolor": "#DFE8F3",
            "gridwidth": 2,
            "linecolor": "#EBF0F8",
            "showbackground": true,
            "ticks": "",
            "zerolinecolor": "#EBF0F8"
           },
           "yaxis": {
            "backgroundcolor": "white",
            "gridcolor": "#DFE8F3",
            "gridwidth": 2,
            "linecolor": "#EBF0F8",
            "showbackground": true,
            "ticks": "",
            "zerolinecolor": "#EBF0F8"
           },
           "zaxis": {
            "backgroundcolor": "white",
            "gridcolor": "#DFE8F3",
            "gridwidth": 2,
            "linecolor": "#EBF0F8",
            "showbackground": true,
            "ticks": "",
            "zerolinecolor": "#EBF0F8"
           }
          },
          "shapedefaults": {
           "line": {
            "color": "#2a3f5f"
           }
          },
          "ternary": {
           "aaxis": {
            "gridcolor": "#DFE8F3",
            "linecolor": "#A2B1C6",
            "ticks": ""
           },
           "baxis": {
            "gridcolor": "#DFE8F3",
            "linecolor": "#A2B1C6",
            "ticks": ""
           },
           "bgcolor": "white",
           "caxis": {
            "gridcolor": "#DFE8F3",
            "linecolor": "#A2B1C6",
            "ticks": ""
           }
          },
          "title": {
           "x": 0.05
          },
          "xaxis": {
           "automargin": true,
           "gridcolor": "#EBF0F8",
           "linecolor": "#EBF0F8",
           "ticks": "",
           "title": {
            "standoff": 15
           },
           "zerolinecolor": "#EBF0F8",
           "zerolinewidth": 2
          },
          "yaxis": {
           "automargin": true,
           "gridcolor": "#EBF0F8",
           "linecolor": "#EBF0F8",
           "ticks": "",
           "title": {
            "standoff": 15
           },
           "zerolinecolor": "#EBF0F8",
           "zerolinewidth": 2
          }
         }
        },
        "title": {
         "text": "unemp (1959Q1-2009Q3)"
        },
        "width": 1200,
        "xaxis": {
         "anchor": "y",
         "domain": [
          0,
          1
         ],
         "title": {
          "text": "Time"
         }
        },
        "yaxis": {
         "anchor": "x",
         "domain": [
          0,
          1
         ],
         "title": {
          "text": "unemp"
         }
        }
       }
      }
     },
     "metadata": {},
     "output_type": "display_data"
    },
    {
     "data": {
      "application/vnd.plotly.v1+json": {
       "config": {
        "plotlyServerURL": "https://plot.ly"
       },
       "data": [
        {
         "hovertemplate": "Period=%{x}<br>infl=%{y}<extra></extra>",
         "legendgroup": "",
         "line": {
          "color": "#636efa",
          "dash": "solid"
         },
         "marker": {
          "symbol": "circle"
         },
         "mode": "lines",
         "name": "",
         "orientation": "v",
         "showlegend": false,
         "type": "scatter",
         "x": [
          "1959-01-01T00:00:00",
          "1959-04-01T00:00:00",
          "1959-07-01T00:00:00",
          "1959-10-01T00:00:00",
          "1960-01-01T00:00:00",
          "1960-04-01T00:00:00",
          "1960-07-01T00:00:00",
          "1960-10-01T00:00:00",
          "1961-01-01T00:00:00",
          "1961-04-01T00:00:00",
          "1961-07-01T00:00:00",
          "1961-10-01T00:00:00",
          "1962-01-01T00:00:00",
          "1962-04-01T00:00:00",
          "1962-07-01T00:00:00",
          "1962-10-01T00:00:00",
          "1963-01-01T00:00:00",
          "1963-04-01T00:00:00",
          "1963-07-01T00:00:00",
          "1963-10-01T00:00:00",
          "1964-01-01T00:00:00",
          "1964-04-01T00:00:00",
          "1964-07-01T00:00:00",
          "1964-10-01T00:00:00",
          "1965-01-01T00:00:00",
          "1965-04-01T00:00:00",
          "1965-07-01T00:00:00",
          "1965-10-01T00:00:00",
          "1966-01-01T00:00:00",
          "1966-04-01T00:00:00",
          "1966-07-01T00:00:00",
          "1966-10-01T00:00:00",
          "1967-01-01T00:00:00",
          "1967-04-01T00:00:00",
          "1967-07-01T00:00:00",
          "1967-10-01T00:00:00",
          "1968-01-01T00:00:00",
          "1968-04-01T00:00:00",
          "1968-07-01T00:00:00",
          "1968-10-01T00:00:00",
          "1969-01-01T00:00:00",
          "1969-04-01T00:00:00",
          "1969-07-01T00:00:00",
          "1969-10-01T00:00:00",
          "1970-01-01T00:00:00",
          "1970-04-01T00:00:00",
          "1970-07-01T00:00:00",
          "1970-10-01T00:00:00",
          "1971-01-01T00:00:00",
          "1971-04-01T00:00:00",
          "1971-07-01T00:00:00",
          "1971-10-01T00:00:00",
          "1972-01-01T00:00:00",
          "1972-04-01T00:00:00",
          "1972-07-01T00:00:00",
          "1972-10-01T00:00:00",
          "1973-01-01T00:00:00",
          "1973-04-01T00:00:00",
          "1973-07-01T00:00:00",
          "1973-10-01T00:00:00",
          "1974-01-01T00:00:00",
          "1974-04-01T00:00:00",
          "1974-07-01T00:00:00",
          "1974-10-01T00:00:00",
          "1975-01-01T00:00:00",
          "1975-04-01T00:00:00",
          "1975-07-01T00:00:00",
          "1975-10-01T00:00:00",
          "1976-01-01T00:00:00",
          "1976-04-01T00:00:00",
          "1976-07-01T00:00:00",
          "1976-10-01T00:00:00",
          "1977-01-01T00:00:00",
          "1977-04-01T00:00:00",
          "1977-07-01T00:00:00",
          "1977-10-01T00:00:00",
          "1978-01-01T00:00:00",
          "1978-04-01T00:00:00",
          "1978-07-01T00:00:00",
          "1978-10-01T00:00:00",
          "1979-01-01T00:00:00",
          "1979-04-01T00:00:00",
          "1979-07-01T00:00:00",
          "1979-10-01T00:00:00",
          "1980-01-01T00:00:00",
          "1980-04-01T00:00:00",
          "1980-07-01T00:00:00",
          "1980-10-01T00:00:00",
          "1981-01-01T00:00:00",
          "1981-04-01T00:00:00",
          "1981-07-01T00:00:00",
          "1981-10-01T00:00:00",
          "1982-01-01T00:00:00",
          "1982-04-01T00:00:00",
          "1982-07-01T00:00:00",
          "1982-10-01T00:00:00",
          "1983-01-01T00:00:00",
          "1983-04-01T00:00:00",
          "1983-07-01T00:00:00",
          "1983-10-01T00:00:00",
          "1984-01-01T00:00:00",
          "1984-04-01T00:00:00",
          "1984-07-01T00:00:00",
          "1984-10-01T00:00:00",
          "1985-01-01T00:00:00",
          "1985-04-01T00:00:00",
          "1985-07-01T00:00:00",
          "1985-10-01T00:00:00",
          "1986-01-01T00:00:00",
          "1986-04-01T00:00:00",
          "1986-07-01T00:00:00",
          "1986-10-01T00:00:00",
          "1987-01-01T00:00:00",
          "1987-04-01T00:00:00",
          "1987-07-01T00:00:00",
          "1987-10-01T00:00:00",
          "1988-01-01T00:00:00",
          "1988-04-01T00:00:00",
          "1988-07-01T00:00:00",
          "1988-10-01T00:00:00",
          "1989-01-01T00:00:00",
          "1989-04-01T00:00:00",
          "1989-07-01T00:00:00",
          "1989-10-01T00:00:00",
          "1990-01-01T00:00:00",
          "1990-04-01T00:00:00",
          "1990-07-01T00:00:00",
          "1990-10-01T00:00:00",
          "1991-01-01T00:00:00",
          "1991-04-01T00:00:00",
          "1991-07-01T00:00:00",
          "1991-10-01T00:00:00",
          "1992-01-01T00:00:00",
          "1992-04-01T00:00:00",
          "1992-07-01T00:00:00",
          "1992-10-01T00:00:00",
          "1993-01-01T00:00:00",
          "1993-04-01T00:00:00",
          "1993-07-01T00:00:00",
          "1993-10-01T00:00:00",
          "1994-01-01T00:00:00",
          "1994-04-01T00:00:00",
          "1994-07-01T00:00:00",
          "1994-10-01T00:00:00",
          "1995-01-01T00:00:00",
          "1995-04-01T00:00:00",
          "1995-07-01T00:00:00",
          "1995-10-01T00:00:00",
          "1996-01-01T00:00:00",
          "1996-04-01T00:00:00",
          "1996-07-01T00:00:00",
          "1996-10-01T00:00:00",
          "1997-01-01T00:00:00",
          "1997-04-01T00:00:00",
          "1997-07-01T00:00:00",
          "1997-10-01T00:00:00",
          "1998-01-01T00:00:00",
          "1998-04-01T00:00:00",
          "1998-07-01T00:00:00",
          "1998-10-01T00:00:00",
          "1999-01-01T00:00:00",
          "1999-04-01T00:00:00",
          "1999-07-01T00:00:00",
          "1999-10-01T00:00:00",
          "2000-01-01T00:00:00",
          "2000-04-01T00:00:00",
          "2000-07-01T00:00:00",
          "2000-10-01T00:00:00",
          "2001-01-01T00:00:00",
          "2001-04-01T00:00:00",
          "2001-07-01T00:00:00",
          "2001-10-01T00:00:00",
          "2002-01-01T00:00:00",
          "2002-04-01T00:00:00",
          "2002-07-01T00:00:00",
          "2002-10-01T00:00:00",
          "2003-01-01T00:00:00",
          "2003-04-01T00:00:00",
          "2003-07-01T00:00:00",
          "2003-10-01T00:00:00",
          "2004-01-01T00:00:00",
          "2004-04-01T00:00:00",
          "2004-07-01T00:00:00",
          "2004-10-01T00:00:00",
          "2005-01-01T00:00:00",
          "2005-04-01T00:00:00",
          "2005-07-01T00:00:00",
          "2005-10-01T00:00:00",
          "2006-01-01T00:00:00",
          "2006-04-01T00:00:00",
          "2006-07-01T00:00:00",
          "2006-10-01T00:00:00",
          "2007-01-01T00:00:00",
          "2007-04-01T00:00:00",
          "2007-07-01T00:00:00",
          "2007-10-01T00:00:00",
          "2008-01-01T00:00:00",
          "2008-04-01T00:00:00",
          "2008-07-01T00:00:00",
          "2008-10-01T00:00:00",
          "2009-01-01T00:00:00",
          "2009-04-01T00:00:00",
          "2009-07-01T00:00:00"
         ],
         "xaxis": "x",
         "y": [
          0,
          2.34,
          2.74,
          0.27,
          2.31,
          0.14,
          2.7,
          1.21,
          -0.4,
          1.47,
          0.8,
          0.8,
          2.26,
          0.13,
          2.11,
          0.79,
          0.53,
          2.75,
          0.78,
          2.46,
          0.13,
          0.9,
          1.29,
          2.05,
          1.28,
          2.54,
          0.89,
          2.9,
          4.99,
          2.1,
          4.9,
          0.61,
          2.42,
          3.61,
          3.58,
          4.72,
          3.5,
          5.77,
          4.56,
          4.51,
          6.67,
          5.47,
          5.4,
          6.38,
          6.28,
          4.13,
          5.11,
          5.04,
          2,
          4.96,
          2.94,
          2.92,
          2.9,
          2.88,
          3.81,
          4.71,
          9.26,
          4.55,
          12.47,
          10.39,
          10.96,
          9.86,
          13.56,
          10.07,
          5.32,
          7.48,
          6.61,
          6.5,
          2.14,
          6.37,
          6.27,
          5.49,
          8.76,
          5.3,
          5.23,
          7.08,
          7.58,
          9.89,
          9.65,
          8.26,
          12.08,
          13.37,
          11.88,
          14.62,
          14.6,
          8.32,
          10.04,
          11.64,
          8.62,
          10.63,
          8.22,
          4.26,
          2.53,
          10.39,
          2.45,
          -0.82,
          3.66,
          4.03,
          3.99,
          5.13,
          4.67,
          3.09,
          3.82,
          2.28,
          4.89,
          2.61,
          2.96,
          5.13,
          -4.39,
          2.93,
          2.55,
          4.33,
          4.64,
          3.89,
          4.2,
          3.46,
          4.12,
          4.41,
          4.7,
          4.31,
          6.22,
          4.52,
          2.88,
          6.64,
          4.37,
          4.93,
          8.79,
          3.88,
          1.19,
          3.24,
          2.93,
          3.19,
          3.17,
          3.14,
          3.4,
          3.09,
          2.79,
          1.94,
          3.03,
          1.92,
          2.45,
          3.25,
          2.69,
          2.93,
          3.44,
          2.1,
          2.35,
          3.11,
          3.6,
          2.3,
          3.05,
          3.02,
          1.25,
          1.25,
          2.73,
          1.24,
          0.49,
          2.46,
          1.71,
          1.95,
          2.9,
          1.92,
          3.35,
          2.85,
          3.76,
          4.19,
          2.77,
          3.89,
          1.82,
          2.26,
          0.45,
          0.23,
          3.59,
          1.56,
          2.66,
          3.08,
          1.31,
          1.09,
          2.6,
          3.02,
          2.35,
          3.61,
          3.58,
          2.09,
          4.15,
          1.85,
          9.14,
          0.4,
          2.6,
          3.97,
          -1.58,
          3.3,
          4.58,
          2.75,
          3.45,
          6.38,
          2.82,
          8.53,
          -3.16,
          -8.79,
          0.94,
          3.37,
          3.56
         ],
         "yaxis": "y"
        }
       ],
       "layout": {
        "height": 400,
        "legend": {
         "tracegroupgap": 0
        },
        "template": {
         "data": {
          "bar": [
           {
            "error_x": {
             "color": "#2a3f5f"
            },
            "error_y": {
             "color": "#2a3f5f"
            },
            "marker": {
             "line": {
              "color": "white",
              "width": 0.5
             },
             "pattern": {
              "fillmode": "overlay",
              "size": 10,
              "solidity": 0.2
             }
            },
            "type": "bar"
           }
          ],
          "barpolar": [
           {
            "marker": {
             "line": {
              "color": "white",
              "width": 0.5
             },
             "pattern": {
              "fillmode": "overlay",
              "size": 10,
              "solidity": 0.2
             }
            },
            "type": "barpolar"
           }
          ],
          "carpet": [
           {
            "aaxis": {
             "endlinecolor": "#2a3f5f",
             "gridcolor": "#C8D4E3",
             "linecolor": "#C8D4E3",
             "minorgridcolor": "#C8D4E3",
             "startlinecolor": "#2a3f5f"
            },
            "baxis": {
             "endlinecolor": "#2a3f5f",
             "gridcolor": "#C8D4E3",
             "linecolor": "#C8D4E3",
             "minorgridcolor": "#C8D4E3",
             "startlinecolor": "#2a3f5f"
            },
            "type": "carpet"
           }
          ],
          "choropleth": [
           {
            "colorbar": {
             "outlinewidth": 0,
             "ticks": ""
            },
            "type": "choropleth"
           }
          ],
          "contour": [
           {
            "colorbar": {
             "outlinewidth": 0,
             "ticks": ""
            },
            "colorscale": [
             [
              0,
              "#0d0887"
             ],
             [
              0.1111111111111111,
              "#46039f"
             ],
             [
              0.2222222222222222,
              "#7201a8"
             ],
             [
              0.3333333333333333,
              "#9c179e"
             ],
             [
              0.4444444444444444,
              "#bd3786"
             ],
             [
              0.5555555555555556,
              "#d8576b"
             ],
             [
              0.6666666666666666,
              "#ed7953"
             ],
             [
              0.7777777777777778,
              "#fb9f3a"
             ],
             [
              0.8888888888888888,
              "#fdca26"
             ],
             [
              1,
              "#f0f921"
             ]
            ],
            "type": "contour"
           }
          ],
          "contourcarpet": [
           {
            "colorbar": {
             "outlinewidth": 0,
             "ticks": ""
            },
            "type": "contourcarpet"
           }
          ],
          "heatmap": [
           {
            "colorbar": {
             "outlinewidth": 0,
             "ticks": ""
            },
            "colorscale": [
             [
              0,
              "#0d0887"
             ],
             [
              0.1111111111111111,
              "#46039f"
             ],
             [
              0.2222222222222222,
              "#7201a8"
             ],
             [
              0.3333333333333333,
              "#9c179e"
             ],
             [
              0.4444444444444444,
              "#bd3786"
             ],
             [
              0.5555555555555556,
              "#d8576b"
             ],
             [
              0.6666666666666666,
              "#ed7953"
             ],
             [
              0.7777777777777778,
              "#fb9f3a"
             ],
             [
              0.8888888888888888,
              "#fdca26"
             ],
             [
              1,
              "#f0f921"
             ]
            ],
            "type": "heatmap"
           }
          ],
          "heatmapgl": [
           {
            "colorbar": {
             "outlinewidth": 0,
             "ticks": ""
            },
            "colorscale": [
             [
              0,
              "#0d0887"
             ],
             [
              0.1111111111111111,
              "#46039f"
             ],
             [
              0.2222222222222222,
              "#7201a8"
             ],
             [
              0.3333333333333333,
              "#9c179e"
             ],
             [
              0.4444444444444444,
              "#bd3786"
             ],
             [
              0.5555555555555556,
              "#d8576b"
             ],
             [
              0.6666666666666666,
              "#ed7953"
             ],
             [
              0.7777777777777778,
              "#fb9f3a"
             ],
             [
              0.8888888888888888,
              "#fdca26"
             ],
             [
              1,
              "#f0f921"
             ]
            ],
            "type": "heatmapgl"
           }
          ],
          "histogram": [
           {
            "marker": {
             "pattern": {
              "fillmode": "overlay",
              "size": 10,
              "solidity": 0.2
             }
            },
            "type": "histogram"
           }
          ],
          "histogram2d": [
           {
            "colorbar": {
             "outlinewidth": 0,
             "ticks": ""
            },
            "colorscale": [
             [
              0,
              "#0d0887"
             ],
             [
              0.1111111111111111,
              "#46039f"
             ],
             [
              0.2222222222222222,
              "#7201a8"
             ],
             [
              0.3333333333333333,
              "#9c179e"
             ],
             [
              0.4444444444444444,
              "#bd3786"
             ],
             [
              0.5555555555555556,
              "#d8576b"
             ],
             [
              0.6666666666666666,
              "#ed7953"
             ],
             [
              0.7777777777777778,
              "#fb9f3a"
             ],
             [
              0.8888888888888888,
              "#fdca26"
             ],
             [
              1,
              "#f0f921"
             ]
            ],
            "type": "histogram2d"
           }
          ],
          "histogram2dcontour": [
           {
            "colorbar": {
             "outlinewidth": 0,
             "ticks": ""
            },
            "colorscale": [
             [
              0,
              "#0d0887"
             ],
             [
              0.1111111111111111,
              "#46039f"
             ],
             [
              0.2222222222222222,
              "#7201a8"
             ],
             [
              0.3333333333333333,
              "#9c179e"
             ],
             [
              0.4444444444444444,
              "#bd3786"
             ],
             [
              0.5555555555555556,
              "#d8576b"
             ],
             [
              0.6666666666666666,
              "#ed7953"
             ],
             [
              0.7777777777777778,
              "#fb9f3a"
             ],
             [
              0.8888888888888888,
              "#fdca26"
             ],
             [
              1,
              "#f0f921"
             ]
            ],
            "type": "histogram2dcontour"
           }
          ],
          "mesh3d": [
           {
            "colorbar": {
             "outlinewidth": 0,
             "ticks": ""
            },
            "type": "mesh3d"
           }
          ],
          "parcoords": [
           {
            "line": {
             "colorbar": {
              "outlinewidth": 0,
              "ticks": ""
             }
            },
            "type": "parcoords"
           }
          ],
          "pie": [
           {
            "automargin": true,
            "type": "pie"
           }
          ],
          "scatter": [
           {
            "fillpattern": {
             "fillmode": "overlay",
             "size": 10,
             "solidity": 0.2
            },
            "type": "scatter"
           }
          ],
          "scatter3d": [
           {
            "line": {
             "colorbar": {
              "outlinewidth": 0,
              "ticks": ""
             }
            },
            "marker": {
             "colorbar": {
              "outlinewidth": 0,
              "ticks": ""
             }
            },
            "type": "scatter3d"
           }
          ],
          "scattercarpet": [
           {
            "marker": {
             "colorbar": {
              "outlinewidth": 0,
              "ticks": ""
             }
            },
            "type": "scattercarpet"
           }
          ],
          "scattergeo": [
           {
            "marker": {
             "colorbar": {
              "outlinewidth": 0,
              "ticks": ""
             }
            },
            "type": "scattergeo"
           }
          ],
          "scattergl": [
           {
            "marker": {
             "colorbar": {
              "outlinewidth": 0,
              "ticks": ""
             }
            },
            "type": "scattergl"
           }
          ],
          "scattermapbox": [
           {
            "marker": {
             "colorbar": {
              "outlinewidth": 0,
              "ticks": ""
             }
            },
            "type": "scattermapbox"
           }
          ],
          "scatterpolar": [
           {
            "marker": {
             "colorbar": {
              "outlinewidth": 0,
              "ticks": ""
             }
            },
            "type": "scatterpolar"
           }
          ],
          "scatterpolargl": [
           {
            "marker": {
             "colorbar": {
              "outlinewidth": 0,
              "ticks": ""
             }
            },
            "type": "scatterpolargl"
           }
          ],
          "scatterternary": [
           {
            "marker": {
             "colorbar": {
              "outlinewidth": 0,
              "ticks": ""
             }
            },
            "type": "scatterternary"
           }
          ],
          "surface": [
           {
            "colorbar": {
             "outlinewidth": 0,
             "ticks": ""
            },
            "colorscale": [
             [
              0,
              "#0d0887"
             ],
             [
              0.1111111111111111,
              "#46039f"
             ],
             [
              0.2222222222222222,
              "#7201a8"
             ],
             [
              0.3333333333333333,
              "#9c179e"
             ],
             [
              0.4444444444444444,
              "#bd3786"
             ],
             [
              0.5555555555555556,
              "#d8576b"
             ],
             [
              0.6666666666666666,
              "#ed7953"
             ],
             [
              0.7777777777777778,
              "#fb9f3a"
             ],
             [
              0.8888888888888888,
              "#fdca26"
             ],
             [
              1,
              "#f0f921"
             ]
            ],
            "type": "surface"
           }
          ],
          "table": [
           {
            "cells": {
             "fill": {
              "color": "#EBF0F8"
             },
             "line": {
              "color": "white"
             }
            },
            "header": {
             "fill": {
              "color": "#C8D4E3"
             },
             "line": {
              "color": "white"
             }
            },
            "type": "table"
           }
          ]
         },
         "layout": {
          "annotationdefaults": {
           "arrowcolor": "#2a3f5f",
           "arrowhead": 0,
           "arrowwidth": 1
          },
          "autotypenumbers": "strict",
          "coloraxis": {
           "colorbar": {
            "outlinewidth": 0,
            "ticks": ""
           }
          },
          "colorscale": {
           "diverging": [
            [
             0,
             "#8e0152"
            ],
            [
             0.1,
             "#c51b7d"
            ],
            [
             0.2,
             "#de77ae"
            ],
            [
             0.3,
             "#f1b6da"
            ],
            [
             0.4,
             "#fde0ef"
            ],
            [
             0.5,
             "#f7f7f7"
            ],
            [
             0.6,
             "#e6f5d0"
            ],
            [
             0.7,
             "#b8e186"
            ],
            [
             0.8,
             "#7fbc41"
            ],
            [
             0.9,
             "#4d9221"
            ],
            [
             1,
             "#276419"
            ]
           ],
           "sequential": [
            [
             0,
             "#0d0887"
            ],
            [
             0.1111111111111111,
             "#46039f"
            ],
            [
             0.2222222222222222,
             "#7201a8"
            ],
            [
             0.3333333333333333,
             "#9c179e"
            ],
            [
             0.4444444444444444,
             "#bd3786"
            ],
            [
             0.5555555555555556,
             "#d8576b"
            ],
            [
             0.6666666666666666,
             "#ed7953"
            ],
            [
             0.7777777777777778,
             "#fb9f3a"
            ],
            [
             0.8888888888888888,
             "#fdca26"
            ],
            [
             1,
             "#f0f921"
            ]
           ],
           "sequentialminus": [
            [
             0,
             "#0d0887"
            ],
            [
             0.1111111111111111,
             "#46039f"
            ],
            [
             0.2222222222222222,
             "#7201a8"
            ],
            [
             0.3333333333333333,
             "#9c179e"
            ],
            [
             0.4444444444444444,
             "#bd3786"
            ],
            [
             0.5555555555555556,
             "#d8576b"
            ],
            [
             0.6666666666666666,
             "#ed7953"
            ],
            [
             0.7777777777777778,
             "#fb9f3a"
            ],
            [
             0.8888888888888888,
             "#fdca26"
            ],
            [
             1,
             "#f0f921"
            ]
           ]
          },
          "colorway": [
           "#636efa",
           "#EF553B",
           "#00cc96",
           "#ab63fa",
           "#FFA15A",
           "#19d3f3",
           "#FF6692",
           "#B6E880",
           "#FF97FF",
           "#FECB52"
          ],
          "font": {
           "color": "#2a3f5f"
          },
          "geo": {
           "bgcolor": "white",
           "lakecolor": "white",
           "landcolor": "white",
           "showlakes": true,
           "showland": true,
           "subunitcolor": "#C8D4E3"
          },
          "hoverlabel": {
           "align": "left"
          },
          "hovermode": "closest",
          "mapbox": {
           "style": "light"
          },
          "paper_bgcolor": "white",
          "plot_bgcolor": "white",
          "polar": {
           "angularaxis": {
            "gridcolor": "#EBF0F8",
            "linecolor": "#EBF0F8",
            "ticks": ""
           },
           "bgcolor": "white",
           "radialaxis": {
            "gridcolor": "#EBF0F8",
            "linecolor": "#EBF0F8",
            "ticks": ""
           }
          },
          "scene": {
           "xaxis": {
            "backgroundcolor": "white",
            "gridcolor": "#DFE8F3",
            "gridwidth": 2,
            "linecolor": "#EBF0F8",
            "showbackground": true,
            "ticks": "",
            "zerolinecolor": "#EBF0F8"
           },
           "yaxis": {
            "backgroundcolor": "white",
            "gridcolor": "#DFE8F3",
            "gridwidth": 2,
            "linecolor": "#EBF0F8",
            "showbackground": true,
            "ticks": "",
            "zerolinecolor": "#EBF0F8"
           },
           "zaxis": {
            "backgroundcolor": "white",
            "gridcolor": "#DFE8F3",
            "gridwidth": 2,
            "linecolor": "#EBF0F8",
            "showbackground": true,
            "ticks": "",
            "zerolinecolor": "#EBF0F8"
           }
          },
          "shapedefaults": {
           "line": {
            "color": "#2a3f5f"
           }
          },
          "ternary": {
           "aaxis": {
            "gridcolor": "#DFE8F3",
            "linecolor": "#A2B1C6",
            "ticks": ""
           },
           "baxis": {
            "gridcolor": "#DFE8F3",
            "linecolor": "#A2B1C6",
            "ticks": ""
           },
           "bgcolor": "white",
           "caxis": {
            "gridcolor": "#DFE8F3",
            "linecolor": "#A2B1C6",
            "ticks": ""
           }
          },
          "title": {
           "x": 0.05
          },
          "xaxis": {
           "automargin": true,
           "gridcolor": "#EBF0F8",
           "linecolor": "#EBF0F8",
           "ticks": "",
           "title": {
            "standoff": 15
           },
           "zerolinecolor": "#EBF0F8",
           "zerolinewidth": 2
          },
          "yaxis": {
           "automargin": true,
           "gridcolor": "#EBF0F8",
           "linecolor": "#EBF0F8",
           "ticks": "",
           "title": {
            "standoff": 15
           },
           "zerolinecolor": "#EBF0F8",
           "zerolinewidth": 2
          }
         }
        },
        "title": {
         "text": "infl (1959Q1-2009Q3)"
        },
        "width": 1200,
        "xaxis": {
         "anchor": "y",
         "domain": [
          0,
          1
         ],
         "title": {
          "text": "Time"
         }
        },
        "yaxis": {
         "anchor": "x",
         "domain": [
          0,
          1
         ],
         "title": {
          "text": "infl"
         }
        }
       }
      }
     },
     "metadata": {},
     "output_type": "display_data"
    }
   ],
   "source": [
    "for col in data.columns:\n",
    "    fig = px.line(data, x=data.index, y=col, \n",
    "                  title=f'{col} (1959Q1-2009Q3)')\n",
    "    fig.update_layout(\n",
    "        xaxis_title='Time', \n",
    "        yaxis_title=col, \n",
    "        template='plotly_white',\n",
    "        width=1200,\n",
    "        height=400\n",
    "    )\n",
    "    fig.show()"
   ]
  },
  {
   "cell_type": "markdown",
   "id": "1e8819a8",
   "metadata": {},
   "source": [
    "Based on the plots above, we can say that:\n",
    "- realgdp is obviously displaying an upward trend, reflecting economic growth over time with noticeable dips during some important time events (recessions);\n",
    "- the population growth seems to be linear and steady over time, so it's easy to conclude its ongoing trend;\n",
    "- unemployment rate is one of the most fluctuating series and is sensible to economic fluctuations (may be linked to 1981-1982 recession) and the 2009 global financial crisis which led to mass layoffs;\n",
    "- inflation rate, also highly volatile, sensible to economic events (1973 oil crisis, global instability)"
   ]
  },
  {
   "cell_type": "markdown",
   "id": "ad576db2",
   "metadata": {},
   "source": [
    "c) Decomposing the series"
   ]
  },
  {
   "cell_type": "markdown",
   "id": "d6f02b11",
   "metadata": {},
   "source": [
    "I have chosen to go further with the additive decomposition based on the fact that in our dataset there are also negative values present (e.g. for inflation) and a multiplicative approach requires that all values should be positive"
   ]
  },
  {
   "cell_type": "code",
   "execution_count": 8,
   "id": "b9a01bf1",
   "metadata": {},
   "outputs": [
    {
     "data": {
      "application/vnd.plotly.v1+json": {
       "config": {
        "plotlyServerURL": "https://plot.ly"
       },
       "data": [
        {
         "mode": "lines",
         "name": "Trend",
         "type": "scatter",
         "x": [
          "1959-01-01T00:00:00",
          "1959-04-01T00:00:00",
          "1959-07-01T00:00:00",
          "1959-10-01T00:00:00",
          "1960-01-01T00:00:00",
          "1960-04-01T00:00:00",
          "1960-07-01T00:00:00",
          "1960-10-01T00:00:00",
          "1961-01-01T00:00:00",
          "1961-04-01T00:00:00",
          "1961-07-01T00:00:00",
          "1961-10-01T00:00:00",
          "1962-01-01T00:00:00",
          "1962-04-01T00:00:00",
          "1962-07-01T00:00:00",
          "1962-10-01T00:00:00",
          "1963-01-01T00:00:00",
          "1963-04-01T00:00:00",
          "1963-07-01T00:00:00",
          "1963-10-01T00:00:00",
          "1964-01-01T00:00:00",
          "1964-04-01T00:00:00",
          "1964-07-01T00:00:00",
          "1964-10-01T00:00:00",
          "1965-01-01T00:00:00",
          "1965-04-01T00:00:00",
          "1965-07-01T00:00:00",
          "1965-10-01T00:00:00",
          "1966-01-01T00:00:00",
          "1966-04-01T00:00:00",
          "1966-07-01T00:00:00",
          "1966-10-01T00:00:00",
          "1967-01-01T00:00:00",
          "1967-04-01T00:00:00",
          "1967-07-01T00:00:00",
          "1967-10-01T00:00:00",
          "1968-01-01T00:00:00",
          "1968-04-01T00:00:00",
          "1968-07-01T00:00:00",
          "1968-10-01T00:00:00",
          "1969-01-01T00:00:00",
          "1969-04-01T00:00:00",
          "1969-07-01T00:00:00",
          "1969-10-01T00:00:00",
          "1970-01-01T00:00:00",
          "1970-04-01T00:00:00",
          "1970-07-01T00:00:00",
          "1970-10-01T00:00:00",
          "1971-01-01T00:00:00",
          "1971-04-01T00:00:00",
          "1971-07-01T00:00:00",
          "1971-10-01T00:00:00",
          "1972-01-01T00:00:00",
          "1972-04-01T00:00:00",
          "1972-07-01T00:00:00",
          "1972-10-01T00:00:00",
          "1973-01-01T00:00:00",
          "1973-04-01T00:00:00",
          "1973-07-01T00:00:00",
          "1973-10-01T00:00:00",
          "1974-01-01T00:00:00",
          "1974-04-01T00:00:00",
          "1974-07-01T00:00:00",
          "1974-10-01T00:00:00",
          "1975-01-01T00:00:00",
          "1975-04-01T00:00:00",
          "1975-07-01T00:00:00",
          "1975-10-01T00:00:00",
          "1976-01-01T00:00:00",
          "1976-04-01T00:00:00",
          "1976-07-01T00:00:00",
          "1976-10-01T00:00:00",
          "1977-01-01T00:00:00",
          "1977-04-01T00:00:00",
          "1977-07-01T00:00:00",
          "1977-10-01T00:00:00",
          "1978-01-01T00:00:00",
          "1978-04-01T00:00:00",
          "1978-07-01T00:00:00",
          "1978-10-01T00:00:00",
          "1979-01-01T00:00:00",
          "1979-04-01T00:00:00",
          "1979-07-01T00:00:00",
          "1979-10-01T00:00:00",
          "1980-01-01T00:00:00",
          "1980-04-01T00:00:00",
          "1980-07-01T00:00:00",
          "1980-10-01T00:00:00",
          "1981-01-01T00:00:00",
          "1981-04-01T00:00:00",
          "1981-07-01T00:00:00",
          "1981-10-01T00:00:00",
          "1982-01-01T00:00:00",
          "1982-04-01T00:00:00",
          "1982-07-01T00:00:00",
          "1982-10-01T00:00:00",
          "1983-01-01T00:00:00",
          "1983-04-01T00:00:00",
          "1983-07-01T00:00:00",
          "1983-10-01T00:00:00",
          "1984-01-01T00:00:00",
          "1984-04-01T00:00:00",
          "1984-07-01T00:00:00",
          "1984-10-01T00:00:00",
          "1985-01-01T00:00:00",
          "1985-04-01T00:00:00",
          "1985-07-01T00:00:00",
          "1985-10-01T00:00:00",
          "1986-01-01T00:00:00",
          "1986-04-01T00:00:00",
          "1986-07-01T00:00:00",
          "1986-10-01T00:00:00",
          "1987-01-01T00:00:00",
          "1987-04-01T00:00:00",
          "1987-07-01T00:00:00",
          "1987-10-01T00:00:00",
          "1988-01-01T00:00:00",
          "1988-04-01T00:00:00",
          "1988-07-01T00:00:00",
          "1988-10-01T00:00:00",
          "1989-01-01T00:00:00",
          "1989-04-01T00:00:00",
          "1989-07-01T00:00:00",
          "1989-10-01T00:00:00",
          "1990-01-01T00:00:00",
          "1990-04-01T00:00:00",
          "1990-07-01T00:00:00",
          "1990-10-01T00:00:00",
          "1991-01-01T00:00:00",
          "1991-04-01T00:00:00",
          "1991-07-01T00:00:00",
          "1991-10-01T00:00:00",
          "1992-01-01T00:00:00",
          "1992-04-01T00:00:00",
          "1992-07-01T00:00:00",
          "1992-10-01T00:00:00",
          "1993-01-01T00:00:00",
          "1993-04-01T00:00:00",
          "1993-07-01T00:00:00",
          "1993-10-01T00:00:00",
          "1994-01-01T00:00:00",
          "1994-04-01T00:00:00",
          "1994-07-01T00:00:00",
          "1994-10-01T00:00:00",
          "1995-01-01T00:00:00",
          "1995-04-01T00:00:00",
          "1995-07-01T00:00:00",
          "1995-10-01T00:00:00",
          "1996-01-01T00:00:00",
          "1996-04-01T00:00:00",
          "1996-07-01T00:00:00",
          "1996-10-01T00:00:00",
          "1997-01-01T00:00:00",
          "1997-04-01T00:00:00",
          "1997-07-01T00:00:00",
          "1997-10-01T00:00:00",
          "1998-01-01T00:00:00",
          "1998-04-01T00:00:00",
          "1998-07-01T00:00:00",
          "1998-10-01T00:00:00",
          "1999-01-01T00:00:00",
          "1999-04-01T00:00:00",
          "1999-07-01T00:00:00",
          "1999-10-01T00:00:00",
          "2000-01-01T00:00:00",
          "2000-04-01T00:00:00",
          "2000-07-01T00:00:00",
          "2000-10-01T00:00:00",
          "2001-01-01T00:00:00",
          "2001-04-01T00:00:00",
          "2001-07-01T00:00:00",
          "2001-10-01T00:00:00",
          "2002-01-01T00:00:00",
          "2002-04-01T00:00:00",
          "2002-07-01T00:00:00",
          "2002-10-01T00:00:00",
          "2003-01-01T00:00:00",
          "2003-04-01T00:00:00",
          "2003-07-01T00:00:00",
          "2003-10-01T00:00:00",
          "2004-01-01T00:00:00",
          "2004-04-01T00:00:00",
          "2004-07-01T00:00:00",
          "2004-10-01T00:00:00",
          "2005-01-01T00:00:00",
          "2005-04-01T00:00:00",
          "2005-07-01T00:00:00",
          "2005-10-01T00:00:00",
          "2006-01-01T00:00:00",
          "2006-04-01T00:00:00",
          "2006-07-01T00:00:00",
          "2006-10-01T00:00:00",
          "2007-01-01T00:00:00",
          "2007-04-01T00:00:00",
          "2007-07-01T00:00:00",
          "2007-10-01T00:00:00",
          "2008-01-01T00:00:00",
          "2008-04-01T00:00:00",
          "2008-07-01T00:00:00",
          "2008-10-01T00:00:00",
          "2009-01-01T00:00:00",
          "2009-04-01T00:00:00",
          "2009-07-01T00:00:00"
         ],
         "xaxis": "x",
         "y": [
          null,
          null,
          2779.62925,
          2803.746625,
          2818.637,
          2828.75525,
          2827.3773749999996,
          2828.524875,
          2843.1513750000004,
          2874.97775,
          2923.376625,
          2973.96175,
          3019.8782499999998,
          3057.0483750000003,
          3086.12075,
          3114.31875,
          3147.196625,
          3186.1577500000003,
          3231.353125,
          3280.5155000000004,
          3327.800125,
          3371.4410000000003,
          3414.565375,
          3460.2376249999998,
          3510.38625,
          3573.620375,
          3647.524,
          3717.9409999999993,
          3778.0885,
          3825.27875,
          3858.256625,
          3882.60025,
          3906.2198750000002,
          3930.4667500000005,
          3960.557125,
          4005.1465,
          4057.881875,
          4108.7273749999995,
          4156.028625,
          4194.22225,
          4225.168874999999,
          4251.17875,
          4263.358875,
          4265.896625,
          4269.235375,
          4270.7675,
          4284.619875,
          4316.117749999999,
          4349.39575,
          4389.559625,
          4432.2321249999995,
          4480.485250000001,
          4540.21425,
          4609.1945000000005,
          4691.529375,
          4772.76275,
          4838.790125,
          4892.196750000001,
          4921.191125,
          4924.074625,
          4918.68525,
          4902.254999999999,
          4875.626,
          4850.055000000001,
          4843.75025,
          4864.122625,
          4916.4400000000005,
          4990.4866250000005,
          5057.70525,
          5114.5467499999995,
          5161.432625,
          5209.968,
          5275.597125,
          5345.24,
          5404.857125,
          5473.11725,
          5550.219375000001,
          5631.945375,
          5722.192,
          5785.116125,
          5820.101625,
          5845.890125,
          5865.364,
          5870.173125,
          5852.5777499999995,
          5839.733625,
          5851.135499999999,
          5884.5945,
          5937.593125,
          5978.23925,
          5968.6415,
          5941.503375,
          5912.436500000001,
          5881.452125,
          5881.780375,
          5916.184375,
          5981.13975,
          6079.3486250000005,
          6199.200750000001,
          6322.478125,
          6435.959375,
          6533.155000000001,
          6613.617625,
          6679.837749999999,
          6744.579000000001,
          6814.43325,
          6884.57525,
          6951.5886249999985,
          7010.220125,
          7061.828625,
          7107.7915,
          7156.391875,
          7210.410500000001,
          7275.194375,
          7351.224875,
          7429.593875,
          7507.45575,
          7579.392375,
          7652.638875000001,
          7725.4061249999995,
          7796.336874999999,
          7859.589,
          7913.5635,
          7965.522499999999,
          8006.355625000001,
          8028.386874999999,
          8024.216625,
          8007.5535,
          7997.83925,
          8005.11975,
          8041.074,
          8097.064500000001,
          8163.601375,
          8243.575499999999,
          8321.430375,
          8386.056625000001,
          8441.542624999998,
          8495.105125,
          8560.378499999999,
          8642.41625,
          8734.172375,
          8825.746375,
          8907.841250000001,
          8969.680375,
          9021.400375,
          9071.086625,
          9121.463624999999,
          9194.50175,
          9285.824125,
          9382.871375,
          9486.275125,
          9588.968375,
          9694.754875,
          9802.280999999999,
          9908.98175,
          10011.721249999999,
          10109.326374999999,
          10221.178375,
          10345.735250000002,
          10469.176,
          10591.788375,
          10716.514125,
          10835.082125,
          10962.115875,
          11089.910625,
          11185.940999999999,
          11257.743125,
          11303.608625,
          11326.73425,
          11341.45825,
          11369.743375,
          11413.270375,
          11466.254625000001,
          11525.635999999999,
          11573.966875,
          11619.95275,
          11687.323624999999,
          11785.201625,
          11900.92625,
          12020.54075,
          12125.93875,
          12217.880874999999,
          12314.62525,
          12412.151125,
          12506.318249999998,
          12596.072875000002,
          12686.103125,
          12780.697125,
          12862.908374999999,
          12937.25125,
          12999.244125,
          13052.428875,
          13127.017375,
          13212.737749999998,
          13287.4295,
          13347.211125,
          13374.058625000001,
          13343.328875,
          13256.980875,
          13137.578749999999,
          13031.576125000001,
          null,
          null
         ],
         "yaxis": "y"
        },
        {
         "mode": "lines",
         "name": "Seasonality",
         "type": "scatter",
         "x": [
          "1959-01-01T00:00:00",
          "1959-04-01T00:00:00",
          "1959-07-01T00:00:00",
          "1959-10-01T00:00:00",
          "1960-01-01T00:00:00",
          "1960-04-01T00:00:00",
          "1960-07-01T00:00:00",
          "1960-10-01T00:00:00",
          "1961-01-01T00:00:00",
          "1961-04-01T00:00:00",
          "1961-07-01T00:00:00",
          "1961-10-01T00:00:00",
          "1962-01-01T00:00:00",
          "1962-04-01T00:00:00",
          "1962-07-01T00:00:00",
          "1962-10-01T00:00:00",
          "1963-01-01T00:00:00",
          "1963-04-01T00:00:00",
          "1963-07-01T00:00:00",
          "1963-10-01T00:00:00",
          "1964-01-01T00:00:00",
          "1964-04-01T00:00:00",
          "1964-07-01T00:00:00",
          "1964-10-01T00:00:00",
          "1965-01-01T00:00:00",
          "1965-04-01T00:00:00",
          "1965-07-01T00:00:00",
          "1965-10-01T00:00:00",
          "1966-01-01T00:00:00",
          "1966-04-01T00:00:00",
          "1966-07-01T00:00:00",
          "1966-10-01T00:00:00",
          "1967-01-01T00:00:00",
          "1967-04-01T00:00:00",
          "1967-07-01T00:00:00",
          "1967-10-01T00:00:00",
          "1968-01-01T00:00:00",
          "1968-04-01T00:00:00",
          "1968-07-01T00:00:00",
          "1968-10-01T00:00:00",
          "1969-01-01T00:00:00",
          "1969-04-01T00:00:00",
          "1969-07-01T00:00:00",
          "1969-10-01T00:00:00",
          "1970-01-01T00:00:00",
          "1970-04-01T00:00:00",
          "1970-07-01T00:00:00",
          "1970-10-01T00:00:00",
          "1971-01-01T00:00:00",
          "1971-04-01T00:00:00",
          "1971-07-01T00:00:00",
          "1971-10-01T00:00:00",
          "1972-01-01T00:00:00",
          "1972-04-01T00:00:00",
          "1972-07-01T00:00:00",
          "1972-10-01T00:00:00",
          "1973-01-01T00:00:00",
          "1973-04-01T00:00:00",
          "1973-07-01T00:00:00",
          "1973-10-01T00:00:00",
          "1974-01-01T00:00:00",
          "1974-04-01T00:00:00",
          "1974-07-01T00:00:00",
          "1974-10-01T00:00:00",
          "1975-01-01T00:00:00",
          "1975-04-01T00:00:00",
          "1975-07-01T00:00:00",
          "1975-10-01T00:00:00",
          "1976-01-01T00:00:00",
          "1976-04-01T00:00:00",
          "1976-07-01T00:00:00",
          "1976-10-01T00:00:00",
          "1977-01-01T00:00:00",
          "1977-04-01T00:00:00",
          "1977-07-01T00:00:00",
          "1977-10-01T00:00:00",
          "1978-01-01T00:00:00",
          "1978-04-01T00:00:00",
          "1978-07-01T00:00:00",
          "1978-10-01T00:00:00",
          "1979-01-01T00:00:00",
          "1979-04-01T00:00:00",
          "1979-07-01T00:00:00",
          "1979-10-01T00:00:00",
          "1980-01-01T00:00:00",
          "1980-04-01T00:00:00",
          "1980-07-01T00:00:00",
          "1980-10-01T00:00:00",
          "1981-01-01T00:00:00",
          "1981-04-01T00:00:00",
          "1981-07-01T00:00:00",
          "1981-10-01T00:00:00",
          "1982-01-01T00:00:00",
          "1982-04-01T00:00:00",
          "1982-07-01T00:00:00",
          "1982-10-01T00:00:00",
          "1983-01-01T00:00:00",
          "1983-04-01T00:00:00",
          "1983-07-01T00:00:00",
          "1983-10-01T00:00:00",
          "1984-01-01T00:00:00",
          "1984-04-01T00:00:00",
          "1984-07-01T00:00:00",
          "1984-10-01T00:00:00",
          "1985-01-01T00:00:00",
          "1985-04-01T00:00:00",
          "1985-07-01T00:00:00",
          "1985-10-01T00:00:00",
          "1986-01-01T00:00:00",
          "1986-04-01T00:00:00",
          "1986-07-01T00:00:00",
          "1986-10-01T00:00:00",
          "1987-01-01T00:00:00",
          "1987-04-01T00:00:00",
          "1987-07-01T00:00:00",
          "1987-10-01T00:00:00",
          "1988-01-01T00:00:00",
          "1988-04-01T00:00:00",
          "1988-07-01T00:00:00",
          "1988-10-01T00:00:00",
          "1989-01-01T00:00:00",
          "1989-04-01T00:00:00",
          "1989-07-01T00:00:00",
          "1989-10-01T00:00:00",
          "1990-01-01T00:00:00",
          "1990-04-01T00:00:00",
          "1990-07-01T00:00:00",
          "1990-10-01T00:00:00",
          "1991-01-01T00:00:00",
          "1991-04-01T00:00:00",
          "1991-07-01T00:00:00",
          "1991-10-01T00:00:00",
          "1992-01-01T00:00:00",
          "1992-04-01T00:00:00",
          "1992-07-01T00:00:00",
          "1992-10-01T00:00:00",
          "1993-01-01T00:00:00",
          "1993-04-01T00:00:00",
          "1993-07-01T00:00:00",
          "1993-10-01T00:00:00",
          "1994-01-01T00:00:00",
          "1994-04-01T00:00:00",
          "1994-07-01T00:00:00",
          "1994-10-01T00:00:00",
          "1995-01-01T00:00:00",
          "1995-04-01T00:00:00",
          "1995-07-01T00:00:00",
          "1995-10-01T00:00:00",
          "1996-01-01T00:00:00",
          "1996-04-01T00:00:00",
          "1996-07-01T00:00:00",
          "1996-10-01T00:00:00",
          "1997-01-01T00:00:00",
          "1997-04-01T00:00:00",
          "1997-07-01T00:00:00",
          "1997-10-01T00:00:00",
          "1998-01-01T00:00:00",
          "1998-04-01T00:00:00",
          "1998-07-01T00:00:00",
          "1998-10-01T00:00:00",
          "1999-01-01T00:00:00",
          "1999-04-01T00:00:00",
          "1999-07-01T00:00:00",
          "1999-10-01T00:00:00",
          "2000-01-01T00:00:00",
          "2000-04-01T00:00:00",
          "2000-07-01T00:00:00",
          "2000-10-01T00:00:00",
          "2001-01-01T00:00:00",
          "2001-04-01T00:00:00",
          "2001-07-01T00:00:00",
          "2001-10-01T00:00:00",
          "2002-01-01T00:00:00",
          "2002-04-01T00:00:00",
          "2002-07-01T00:00:00",
          "2002-10-01T00:00:00",
          "2003-01-01T00:00:00",
          "2003-04-01T00:00:00",
          "2003-07-01T00:00:00",
          "2003-10-01T00:00:00",
          "2004-01-01T00:00:00",
          "2004-04-01T00:00:00",
          "2004-07-01T00:00:00",
          "2004-10-01T00:00:00",
          "2005-01-01T00:00:00",
          "2005-04-01T00:00:00",
          "2005-07-01T00:00:00",
          "2005-10-01T00:00:00",
          "2006-01-01T00:00:00",
          "2006-04-01T00:00:00",
          "2006-07-01T00:00:00",
          "2006-10-01T00:00:00",
          "2007-01-01T00:00:00",
          "2007-04-01T00:00:00",
          "2007-07-01T00:00:00",
          "2007-10-01T00:00:00",
          "2008-01-01T00:00:00",
          "2008-04-01T00:00:00",
          "2008-07-01T00:00:00",
          "2008-10-01T00:00:00",
          "2009-01-01T00:00:00",
          "2009-04-01T00:00:00",
          "2009-07-01T00:00:00"
         ],
         "xaxis": "x2",
         "y": [
          -4.706352028061311,
          4.237946084183707,
          2.8289479719387773,
          -2.360542028061173,
          -4.706352028061311,
          4.237946084183707,
          2.8289479719387773,
          -2.360542028061173,
          -4.706352028061311,
          4.237946084183707,
          2.8289479719387773,
          -2.360542028061173,
          -4.706352028061311,
          4.237946084183707,
          2.8289479719387773,
          -2.360542028061173,
          -4.706352028061311,
          4.237946084183707,
          2.8289479719387773,
          -2.360542028061173,
          -4.706352028061311,
          4.237946084183707,
          2.8289479719387773,
          -2.360542028061173,
          -4.706352028061311,
          4.237946084183707,
          2.8289479719387773,
          -2.360542028061173,
          -4.706352028061311,
          4.237946084183707,
          2.8289479719387773,
          -2.360542028061173,
          -4.706352028061311,
          4.237946084183707,
          2.8289479719387773,
          -2.360542028061173,
          -4.706352028061311,
          4.237946084183707,
          2.8289479719387773,
          -2.360542028061173,
          -4.706352028061311,
          4.237946084183707,
          2.8289479719387773,
          -2.360542028061173,
          -4.706352028061311,
          4.237946084183707,
          2.8289479719387773,
          -2.360542028061173,
          -4.706352028061311,
          4.237946084183707,
          2.8289479719387773,
          -2.360542028061173,
          -4.706352028061311,
          4.237946084183707,
          2.8289479719387773,
          -2.360542028061173,
          -4.706352028061311,
          4.237946084183707,
          2.8289479719387773,
          -2.360542028061173,
          -4.706352028061311,
          4.237946084183707,
          2.8289479719387773,
          -2.360542028061173,
          -4.706352028061311,
          4.237946084183707,
          2.8289479719387773,
          -2.360542028061173,
          -4.706352028061311,
          4.237946084183707,
          2.8289479719387773,
          -2.360542028061173,
          -4.706352028061311,
          4.237946084183707,
          2.8289479719387773,
          -2.360542028061173,
          -4.706352028061311,
          4.237946084183707,
          2.8289479719387773,
          -2.360542028061173,
          -4.706352028061311,
          4.237946084183707,
          2.8289479719387773,
          -2.360542028061173,
          -4.706352028061311,
          4.237946084183707,
          2.8289479719387773,
          -2.360542028061173,
          -4.706352028061311,
          4.237946084183707,
          2.8289479719387773,
          -2.360542028061173,
          -4.706352028061311,
          4.237946084183707,
          2.8289479719387773,
          -2.360542028061173,
          -4.706352028061311,
          4.237946084183707,
          2.8289479719387773,
          -2.360542028061173,
          -4.706352028061311,
          4.237946084183707,
          2.8289479719387773,
          -2.360542028061173,
          -4.706352028061311,
          4.237946084183707,
          2.8289479719387773,
          -2.360542028061173,
          -4.706352028061311,
          4.237946084183707,
          2.8289479719387773,
          -2.360542028061173,
          -4.706352028061311,
          4.237946084183707,
          2.8289479719387773,
          -2.360542028061173,
          -4.706352028061311,
          4.237946084183707,
          2.8289479719387773,
          -2.360542028061173,
          -4.706352028061311,
          4.237946084183707,
          2.8289479719387773,
          -2.360542028061173,
          -4.706352028061311,
          4.237946084183707,
          2.8289479719387773,
          -2.360542028061173,
          -4.706352028061311,
          4.237946084183707,
          2.8289479719387773,
          -2.360542028061173,
          -4.706352028061311,
          4.237946084183707,
          2.8289479719387773,
          -2.360542028061173,
          -4.706352028061311,
          4.237946084183707,
          2.8289479719387773,
          -2.360542028061173,
          -4.706352028061311,
          4.237946084183707,
          2.8289479719387773,
          -2.360542028061173,
          -4.706352028061311,
          4.237946084183707,
          2.8289479719387773,
          -2.360542028061173,
          -4.706352028061311,
          4.237946084183707,
          2.8289479719387773,
          -2.360542028061173,
          -4.706352028061311,
          4.237946084183707,
          2.8289479719387773,
          -2.360542028061173,
          -4.706352028061311,
          4.237946084183707,
          2.8289479719387773,
          -2.360542028061173,
          -4.706352028061311,
          4.237946084183707,
          2.8289479719387773,
          -2.360542028061173,
          -4.706352028061311,
          4.237946084183707,
          2.8289479719387773,
          -2.360542028061173,
          -4.706352028061311,
          4.237946084183707,
          2.8289479719387773,
          -2.360542028061173,
          -4.706352028061311,
          4.237946084183707,
          2.8289479719387773,
          -2.360542028061173,
          -4.706352028061311,
          4.237946084183707,
          2.8289479719387773,
          -2.360542028061173,
          -4.706352028061311,
          4.237946084183707,
          2.8289479719387773,
          -2.360542028061173,
          -4.706352028061311,
          4.237946084183707,
          2.8289479719387773,
          -2.360542028061173,
          -4.706352028061311,
          4.237946084183707,
          2.8289479719387773,
          -2.360542028061173,
          -4.706352028061311,
          4.237946084183707,
          2.8289479719387773,
          -2.360542028061173,
          -4.706352028061311,
          4.237946084183707,
          2.8289479719387773,
          -2.360542028061173,
          -4.706352028061311,
          4.237946084183707,
          2.8289479719387773
         ],
         "yaxis": "y2"
        },
        {
         "mode": "lines",
         "name": "Residuals",
         "type": "scatter",
         "x": [
          "1959-01-01T00:00:00",
          "1959-04-01T00:00:00",
          "1959-07-01T00:00:00",
          "1959-10-01T00:00:00",
          "1960-01-01T00:00:00",
          "1960-04-01T00:00:00",
          "1960-07-01T00:00:00",
          "1960-10-01T00:00:00",
          "1961-01-01T00:00:00",
          "1961-04-01T00:00:00",
          "1961-07-01T00:00:00",
          "1961-10-01T00:00:00",
          "1962-01-01T00:00:00",
          "1962-04-01T00:00:00",
          "1962-07-01T00:00:00",
          "1962-10-01T00:00:00",
          "1963-01-01T00:00:00",
          "1963-04-01T00:00:00",
          "1963-07-01T00:00:00",
          "1963-10-01T00:00:00",
          "1964-01-01T00:00:00",
          "1964-04-01T00:00:00",
          "1964-07-01T00:00:00",
          "1964-10-01T00:00:00",
          "1965-01-01T00:00:00",
          "1965-04-01T00:00:00",
          "1965-07-01T00:00:00",
          "1965-10-01T00:00:00",
          "1966-01-01T00:00:00",
          "1966-04-01T00:00:00",
          "1966-07-01T00:00:00",
          "1966-10-01T00:00:00",
          "1967-01-01T00:00:00",
          "1967-04-01T00:00:00",
          "1967-07-01T00:00:00",
          "1967-10-01T00:00:00",
          "1968-01-01T00:00:00",
          "1968-04-01T00:00:00",
          "1968-07-01T00:00:00",
          "1968-10-01T00:00:00",
          "1969-01-01T00:00:00",
          "1969-04-01T00:00:00",
          "1969-07-01T00:00:00",
          "1969-10-01T00:00:00",
          "1970-01-01T00:00:00",
          "1970-04-01T00:00:00",
          "1970-07-01T00:00:00",
          "1970-10-01T00:00:00",
          "1971-01-01T00:00:00",
          "1971-04-01T00:00:00",
          "1971-07-01T00:00:00",
          "1971-10-01T00:00:00",
          "1972-01-01T00:00:00",
          "1972-04-01T00:00:00",
          "1972-07-01T00:00:00",
          "1972-10-01T00:00:00",
          "1973-01-01T00:00:00",
          "1973-04-01T00:00:00",
          "1973-07-01T00:00:00",
          "1973-10-01T00:00:00",
          "1974-01-01T00:00:00",
          "1974-04-01T00:00:00",
          "1974-07-01T00:00:00",
          "1974-10-01T00:00:00",
          "1975-01-01T00:00:00",
          "1975-04-01T00:00:00",
          "1975-07-01T00:00:00",
          "1975-10-01T00:00:00",
          "1976-01-01T00:00:00",
          "1976-04-01T00:00:00",
          "1976-07-01T00:00:00",
          "1976-10-01T00:00:00",
          "1977-01-01T00:00:00",
          "1977-04-01T00:00:00",
          "1977-07-01T00:00:00",
          "1977-10-01T00:00:00",
          "1978-01-01T00:00:00",
          "1978-04-01T00:00:00",
          "1978-07-01T00:00:00",
          "1978-10-01T00:00:00",
          "1979-01-01T00:00:00",
          "1979-04-01T00:00:00",
          "1979-07-01T00:00:00",
          "1979-10-01T00:00:00",
          "1980-01-01T00:00:00",
          "1980-04-01T00:00:00",
          "1980-07-01T00:00:00",
          "1980-10-01T00:00:00",
          "1981-01-01T00:00:00",
          "1981-04-01T00:00:00",
          "1981-07-01T00:00:00",
          "1981-10-01T00:00:00",
          "1982-01-01T00:00:00",
          "1982-04-01T00:00:00",
          "1982-07-01T00:00:00",
          "1982-10-01T00:00:00",
          "1983-01-01T00:00:00",
          "1983-04-01T00:00:00",
          "1983-07-01T00:00:00",
          "1983-10-01T00:00:00",
          "1984-01-01T00:00:00",
          "1984-04-01T00:00:00",
          "1984-07-01T00:00:00",
          "1984-10-01T00:00:00",
          "1985-01-01T00:00:00",
          "1985-04-01T00:00:00",
          "1985-07-01T00:00:00",
          "1985-10-01T00:00:00",
          "1986-01-01T00:00:00",
          "1986-04-01T00:00:00",
          "1986-07-01T00:00:00",
          "1986-10-01T00:00:00",
          "1987-01-01T00:00:00",
          "1987-04-01T00:00:00",
          "1987-07-01T00:00:00",
          "1987-10-01T00:00:00",
          "1988-01-01T00:00:00",
          "1988-04-01T00:00:00",
          "1988-07-01T00:00:00",
          "1988-10-01T00:00:00",
          "1989-01-01T00:00:00",
          "1989-04-01T00:00:00",
          "1989-07-01T00:00:00",
          "1989-10-01T00:00:00",
          "1990-01-01T00:00:00",
          "1990-04-01T00:00:00",
          "1990-07-01T00:00:00",
          "1990-10-01T00:00:00",
          "1991-01-01T00:00:00",
          "1991-04-01T00:00:00",
          "1991-07-01T00:00:00",
          "1991-10-01T00:00:00",
          "1992-01-01T00:00:00",
          "1992-04-01T00:00:00",
          "1992-07-01T00:00:00",
          "1992-10-01T00:00:00",
          "1993-01-01T00:00:00",
          "1993-04-01T00:00:00",
          "1993-07-01T00:00:00",
          "1993-10-01T00:00:00",
          "1994-01-01T00:00:00",
          "1994-04-01T00:00:00",
          "1994-07-01T00:00:00",
          "1994-10-01T00:00:00",
          "1995-01-01T00:00:00",
          "1995-04-01T00:00:00",
          "1995-07-01T00:00:00",
          "1995-10-01T00:00:00",
          "1996-01-01T00:00:00",
          "1996-04-01T00:00:00",
          "1996-07-01T00:00:00",
          "1996-10-01T00:00:00",
          "1997-01-01T00:00:00",
          "1997-04-01T00:00:00",
          "1997-07-01T00:00:00",
          "1997-10-01T00:00:00",
          "1998-01-01T00:00:00",
          "1998-04-01T00:00:00",
          "1998-07-01T00:00:00",
          "1998-10-01T00:00:00",
          "1999-01-01T00:00:00",
          "1999-04-01T00:00:00",
          "1999-07-01T00:00:00",
          "1999-10-01T00:00:00",
          "2000-01-01T00:00:00",
          "2000-04-01T00:00:00",
          "2000-07-01T00:00:00",
          "2000-10-01T00:00:00",
          "2001-01-01T00:00:00",
          "2001-04-01T00:00:00",
          "2001-07-01T00:00:00",
          "2001-10-01T00:00:00",
          "2002-01-01T00:00:00",
          "2002-04-01T00:00:00",
          "2002-07-01T00:00:00",
          "2002-10-01T00:00:00",
          "2003-01-01T00:00:00",
          "2003-04-01T00:00:00",
          "2003-07-01T00:00:00",
          "2003-10-01T00:00:00",
          "2004-01-01T00:00:00",
          "2004-04-01T00:00:00",
          "2004-07-01T00:00:00",
          "2004-10-01T00:00:00",
          "2005-01-01T00:00:00",
          "2005-04-01T00:00:00",
          "2005-07-01T00:00:00",
          "2005-10-01T00:00:00",
          "2006-01-01T00:00:00",
          "2006-04-01T00:00:00",
          "2006-07-01T00:00:00",
          "2006-10-01T00:00:00",
          "2007-01-01T00:00:00",
          "2007-04-01T00:00:00",
          "2007-07-01T00:00:00",
          "2007-10-01T00:00:00",
          "2008-01-01T00:00:00",
          "2008-04-01T00:00:00",
          "2008-07-01T00:00:00",
          "2008-10-01T00:00:00",
          "2009-01-01T00:00:00",
          "2009-04-01T00:00:00",
          "2009-07-01T00:00:00"
         ],
         "xaxis": "x3",
         "y": [
          null,
          null,
          -6.970197971938905,
          -16.182082971938872,
          33.76835202806121,
          1.3968039158160055,
          8.815677028061582,
          -23.54833297193891,
          -19.181022971938937,
          -7.2106960841836125,
          -7.786572971938785,
          6.228792028061163,
          16.069102028061543,
          3.42267891581582,
          4.097302028061204,
          -11.395207971938634,
          -1.4032729719387396,
          -9.948696084183897,
          6.149927028061011,
          -13.187957971939158,
          15.152227028061198,
          0.9080539158160237,
          5.074677028061142,
          -25.9200829719387,
          10.571102028061496,
          -13.898321084183639,
          -14.06794797193881,
          8.433542028061948,
          42.040852028061245,
          -1.3926960841838563,
          -7.784572971938832,
          4.280292028061195,
          17.226477028060863,
          -15.14869608418417,
          -12.56007297193857,
          -21.81595797193886,
          9.837477028061194,
          19.0326789158164,
          1.409427028061128,
          -13.568707971938965,
          23.637477028062285,
          1.043303915816293,
          17.190177028061026,
          -0.2750829719387178,
          -7.956022971938572,
          -10.716446084183875,
          14.810177028060917,
          -57.12020797193854,
          29.326602028061252,
          5.031428915816147,
          -1.118072971938108,
          -31.860707971939338,
          -9.73889797193845,
          19.668553915815433,
          -16.85532297193915,
          -15.856207971938419,
          42.082227028061034,
          36.13630391581523,
          -17.768072971938654,
          31.335917028061157,
          -4.361897971938951,
          15.695053915817194,
          -4.934947971938545,
          6.6455420280601185,
          -43.74889797193867,
          -36.41857108418367,
          -5.940947971938858,
          -10.615082971938863,
          37.66410202806089,
          10.162303915816889,
          -10.189572971939032,
          -16.10845797193888,
          -19.128772971939206,
          6.653053915816824,
          44.23492702806105,
          -19.963707971939403,
          -76.10802297193952,
          48.38567891581647,
          15.279052028061397,
          33.46641702806137,
          10.553727028060685,
          -18.71007108418394,
          5.142052028061681,
          21.682417028060808,
          60.595602028061485,
          -56.59857108418396,
          -77.347447971938,
          1.2260420280610567,
          72.83022702806063,
          -24.682196084183264,
          58.7135520280617,
          15.919167028060839,
          -50.397147971939766,
          3.383928915816111,
          -18.239322971939163,
          -42.82283297193844,
          -32.41339797193853,
          -5.967571084184558,
          -4.561697971939811,
          5.456417028061152,
          17.01097702806107,
          22.201053915815688,
          6.896427028061208,
          -0.21320797193748087,
          0.40235202806031456,
          -21.3271960841837,
          16.11880202806149,
          6.689917028062338,
          17.243227028061092,
          -15.097571084183759,
          8.329552028060771,
          -0.6723329719387032,
          -12.685147971939323,
          -9.922321084183526,
          -21.49582297193867,
          30.788667028061536,
          -6.149397971938405,
          9.250678915816248,
          -23.385822971938996,
          10.94541702806164,
          14.972477028062322,
          1.1890539158159728,
          11.000552028061048,
          -18.46495797193784,
          26.043727028060466,
          26.973178915817012,
          32.43042702806086,
          -16.328957971939236,
          -42.96889797193892,
          -5.535696084183431,
          -6.364947971938836,
          -25.65795797193987,
          -1.2790229719388924,
          -3.5194460841828485,
          5.101677028062095,
          33.31991702805972,
          -4.351272971936331,
          -12.908071084184261,
          -32.099447971937494,
          3.7132920280611876,
          -1.5470229719389215,
          17.31867891581555,
          -6.381197971939418,
          35.860167028061554,
          8.572977028061878,
          -30.656571084183955,
          -3.6085729719379915,
          -7.866207971938637,
          -33.92977297193777,
          19.942678915815346,
          -0.22507297193807885,
          5.850167028061334,
          -23.813522971938646,
          3.0320539158167295,
          20.861302028060873,
          -0.486707971937721,
          -1.1950229719381502,
          -31.13932108418317,
          -19.77719797194006,
          40.75954202806243,
          14.09697702806131,
          -36.70307108418251,
          -17.997072971938923,
          54.498667028062485,
          -42.16027297193926,
          68.27505391581713,
          7.294927028060538,
          33.29591702806029,
          -24.856897971937933,
          25.554803915816816,
          -32.49732297193806,
          -30.781832971938275,
          16.319727028060306,
          8.896053915818126,
          19.63417702806144,
          -18.768207971938683,
          -36.79827297193827,
          -50.73357108418327,
          31.705802028060116,
          24.636792028060153,
          6.390602028061559,
          -8.30082108418333,
          -13.921197971938472,
          0.49141702806009624,
          32.50110202806224,
          -12.775821084185512,
          -5.779072971938167,
          -29.6375829719389,
          57.735977028062344,
          20.97280391581648,
          -36.157072971938774,
          10.610667028061654,
          -22.410022971938297,
          -12.99869608418135,
          30.85055202806141,
          46.39841702806116,
          -2.487272971940391,
          67.69917891581667,
          64.7901770280623,
          6.701792028062483,
          -101.45977297194024,
          null,
          null
         ],
         "yaxis": "y3"
        }
       ],
       "layout": {
        "annotations": [
         {
          "font": {
           "size": 16
          },
          "showarrow": false,
          "text": "Trend",
          "x": 0.5,
          "xanchor": "center",
          "xref": "paper",
          "y": 1,
          "yanchor": "bottom",
          "yref": "paper"
         },
         {
          "font": {
           "size": 16
          },
          "showarrow": false,
          "text": "Seasonality",
          "x": 0.5,
          "xanchor": "center",
          "xref": "paper",
          "y": 0.6111111111111112,
          "yanchor": "bottom",
          "yref": "paper"
         },
         {
          "font": {
           "size": 16
          },
          "showarrow": false,
          "text": "Residuals",
          "x": 0.5,
          "xanchor": "center",
          "xref": "paper",
          "y": 0.22222222222222224,
          "yanchor": "bottom",
          "yref": "paper"
         }
        ],
        "height": 400,
        "template": {
         "data": {
          "bar": [
           {
            "error_x": {
             "color": "#2a3f5f"
            },
            "error_y": {
             "color": "#2a3f5f"
            },
            "marker": {
             "line": {
              "color": "white",
              "width": 0.5
             },
             "pattern": {
              "fillmode": "overlay",
              "size": 10,
              "solidity": 0.2
             }
            },
            "type": "bar"
           }
          ],
          "barpolar": [
           {
            "marker": {
             "line": {
              "color": "white",
              "width": 0.5
             },
             "pattern": {
              "fillmode": "overlay",
              "size": 10,
              "solidity": 0.2
             }
            },
            "type": "barpolar"
           }
          ],
          "carpet": [
           {
            "aaxis": {
             "endlinecolor": "#2a3f5f",
             "gridcolor": "#C8D4E3",
             "linecolor": "#C8D4E3",
             "minorgridcolor": "#C8D4E3",
             "startlinecolor": "#2a3f5f"
            },
            "baxis": {
             "endlinecolor": "#2a3f5f",
             "gridcolor": "#C8D4E3",
             "linecolor": "#C8D4E3",
             "minorgridcolor": "#C8D4E3",
             "startlinecolor": "#2a3f5f"
            },
            "type": "carpet"
           }
          ],
          "choropleth": [
           {
            "colorbar": {
             "outlinewidth": 0,
             "ticks": ""
            },
            "type": "choropleth"
           }
          ],
          "contour": [
           {
            "colorbar": {
             "outlinewidth": 0,
             "ticks": ""
            },
            "colorscale": [
             [
              0,
              "#0d0887"
             ],
             [
              0.1111111111111111,
              "#46039f"
             ],
             [
              0.2222222222222222,
              "#7201a8"
             ],
             [
              0.3333333333333333,
              "#9c179e"
             ],
             [
              0.4444444444444444,
              "#bd3786"
             ],
             [
              0.5555555555555556,
              "#d8576b"
             ],
             [
              0.6666666666666666,
              "#ed7953"
             ],
             [
              0.7777777777777778,
              "#fb9f3a"
             ],
             [
              0.8888888888888888,
              "#fdca26"
             ],
             [
              1,
              "#f0f921"
             ]
            ],
            "type": "contour"
           }
          ],
          "contourcarpet": [
           {
            "colorbar": {
             "outlinewidth": 0,
             "ticks": ""
            },
            "type": "contourcarpet"
           }
          ],
          "heatmap": [
           {
            "colorbar": {
             "outlinewidth": 0,
             "ticks": ""
            },
            "colorscale": [
             [
              0,
              "#0d0887"
             ],
             [
              0.1111111111111111,
              "#46039f"
             ],
             [
              0.2222222222222222,
              "#7201a8"
             ],
             [
              0.3333333333333333,
              "#9c179e"
             ],
             [
              0.4444444444444444,
              "#bd3786"
             ],
             [
              0.5555555555555556,
              "#d8576b"
             ],
             [
              0.6666666666666666,
              "#ed7953"
             ],
             [
              0.7777777777777778,
              "#fb9f3a"
             ],
             [
              0.8888888888888888,
              "#fdca26"
             ],
             [
              1,
              "#f0f921"
             ]
            ],
            "type": "heatmap"
           }
          ],
          "heatmapgl": [
           {
            "colorbar": {
             "outlinewidth": 0,
             "ticks": ""
            },
            "colorscale": [
             [
              0,
              "#0d0887"
             ],
             [
              0.1111111111111111,
              "#46039f"
             ],
             [
              0.2222222222222222,
              "#7201a8"
             ],
             [
              0.3333333333333333,
              "#9c179e"
             ],
             [
              0.4444444444444444,
              "#bd3786"
             ],
             [
              0.5555555555555556,
              "#d8576b"
             ],
             [
              0.6666666666666666,
              "#ed7953"
             ],
             [
              0.7777777777777778,
              "#fb9f3a"
             ],
             [
              0.8888888888888888,
              "#fdca26"
             ],
             [
              1,
              "#f0f921"
             ]
            ],
            "type": "heatmapgl"
           }
          ],
          "histogram": [
           {
            "marker": {
             "pattern": {
              "fillmode": "overlay",
              "size": 10,
              "solidity": 0.2
             }
            },
            "type": "histogram"
           }
          ],
          "histogram2d": [
           {
            "colorbar": {
             "outlinewidth": 0,
             "ticks": ""
            },
            "colorscale": [
             [
              0,
              "#0d0887"
             ],
             [
              0.1111111111111111,
              "#46039f"
             ],
             [
              0.2222222222222222,
              "#7201a8"
             ],
             [
              0.3333333333333333,
              "#9c179e"
             ],
             [
              0.4444444444444444,
              "#bd3786"
             ],
             [
              0.5555555555555556,
              "#d8576b"
             ],
             [
              0.6666666666666666,
              "#ed7953"
             ],
             [
              0.7777777777777778,
              "#fb9f3a"
             ],
             [
              0.8888888888888888,
              "#fdca26"
             ],
             [
              1,
              "#f0f921"
             ]
            ],
            "type": "histogram2d"
           }
          ],
          "histogram2dcontour": [
           {
            "colorbar": {
             "outlinewidth": 0,
             "ticks": ""
            },
            "colorscale": [
             [
              0,
              "#0d0887"
             ],
             [
              0.1111111111111111,
              "#46039f"
             ],
             [
              0.2222222222222222,
              "#7201a8"
             ],
             [
              0.3333333333333333,
              "#9c179e"
             ],
             [
              0.4444444444444444,
              "#bd3786"
             ],
             [
              0.5555555555555556,
              "#d8576b"
             ],
             [
              0.6666666666666666,
              "#ed7953"
             ],
             [
              0.7777777777777778,
              "#fb9f3a"
             ],
             [
              0.8888888888888888,
              "#fdca26"
             ],
             [
              1,
              "#f0f921"
             ]
            ],
            "type": "histogram2dcontour"
           }
          ],
          "mesh3d": [
           {
            "colorbar": {
             "outlinewidth": 0,
             "ticks": ""
            },
            "type": "mesh3d"
           }
          ],
          "parcoords": [
           {
            "line": {
             "colorbar": {
              "outlinewidth": 0,
              "ticks": ""
             }
            },
            "type": "parcoords"
           }
          ],
          "pie": [
           {
            "automargin": true,
            "type": "pie"
           }
          ],
          "scatter": [
           {
            "fillpattern": {
             "fillmode": "overlay",
             "size": 10,
             "solidity": 0.2
            },
            "type": "scatter"
           }
          ],
          "scatter3d": [
           {
            "line": {
             "colorbar": {
              "outlinewidth": 0,
              "ticks": ""
             }
            },
            "marker": {
             "colorbar": {
              "outlinewidth": 0,
              "ticks": ""
             }
            },
            "type": "scatter3d"
           }
          ],
          "scattercarpet": [
           {
            "marker": {
             "colorbar": {
              "outlinewidth": 0,
              "ticks": ""
             }
            },
            "type": "scattercarpet"
           }
          ],
          "scattergeo": [
           {
            "marker": {
             "colorbar": {
              "outlinewidth": 0,
              "ticks": ""
             }
            },
            "type": "scattergeo"
           }
          ],
          "scattergl": [
           {
            "marker": {
             "colorbar": {
              "outlinewidth": 0,
              "ticks": ""
             }
            },
            "type": "scattergl"
           }
          ],
          "scattermapbox": [
           {
            "marker": {
             "colorbar": {
              "outlinewidth": 0,
              "ticks": ""
             }
            },
            "type": "scattermapbox"
           }
          ],
          "scatterpolar": [
           {
            "marker": {
             "colorbar": {
              "outlinewidth": 0,
              "ticks": ""
             }
            },
            "type": "scatterpolar"
           }
          ],
          "scatterpolargl": [
           {
            "marker": {
             "colorbar": {
              "outlinewidth": 0,
              "ticks": ""
             }
            },
            "type": "scatterpolargl"
           }
          ],
          "scatterternary": [
           {
            "marker": {
             "colorbar": {
              "outlinewidth": 0,
              "ticks": ""
             }
            },
            "type": "scatterternary"
           }
          ],
          "surface": [
           {
            "colorbar": {
             "outlinewidth": 0,
             "ticks": ""
            },
            "colorscale": [
             [
              0,
              "#0d0887"
             ],
             [
              0.1111111111111111,
              "#46039f"
             ],
             [
              0.2222222222222222,
              "#7201a8"
             ],
             [
              0.3333333333333333,
              "#9c179e"
             ],
             [
              0.4444444444444444,
              "#bd3786"
             ],
             [
              0.5555555555555556,
              "#d8576b"
             ],
             [
              0.6666666666666666,
              "#ed7953"
             ],
             [
              0.7777777777777778,
              "#fb9f3a"
             ],
             [
              0.8888888888888888,
              "#fdca26"
             ],
             [
              1,
              "#f0f921"
             ]
            ],
            "type": "surface"
           }
          ],
          "table": [
           {
            "cells": {
             "fill": {
              "color": "#EBF0F8"
             },
             "line": {
              "color": "white"
             }
            },
            "header": {
             "fill": {
              "color": "#C8D4E3"
             },
             "line": {
              "color": "white"
             }
            },
            "type": "table"
           }
          ]
         },
         "layout": {
          "annotationdefaults": {
           "arrowcolor": "#2a3f5f",
           "arrowhead": 0,
           "arrowwidth": 1
          },
          "autotypenumbers": "strict",
          "coloraxis": {
           "colorbar": {
            "outlinewidth": 0,
            "ticks": ""
           }
          },
          "colorscale": {
           "diverging": [
            [
             0,
             "#8e0152"
            ],
            [
             0.1,
             "#c51b7d"
            ],
            [
             0.2,
             "#de77ae"
            ],
            [
             0.3,
             "#f1b6da"
            ],
            [
             0.4,
             "#fde0ef"
            ],
            [
             0.5,
             "#f7f7f7"
            ],
            [
             0.6,
             "#e6f5d0"
            ],
            [
             0.7,
             "#b8e186"
            ],
            [
             0.8,
             "#7fbc41"
            ],
            [
             0.9,
             "#4d9221"
            ],
            [
             1,
             "#276419"
            ]
           ],
           "sequential": [
            [
             0,
             "#0d0887"
            ],
            [
             0.1111111111111111,
             "#46039f"
            ],
            [
             0.2222222222222222,
             "#7201a8"
            ],
            [
             0.3333333333333333,
             "#9c179e"
            ],
            [
             0.4444444444444444,
             "#bd3786"
            ],
            [
             0.5555555555555556,
             "#d8576b"
            ],
            [
             0.6666666666666666,
             "#ed7953"
            ],
            [
             0.7777777777777778,
             "#fb9f3a"
            ],
            [
             0.8888888888888888,
             "#fdca26"
            ],
            [
             1,
             "#f0f921"
            ]
           ],
           "sequentialminus": [
            [
             0,
             "#0d0887"
            ],
            [
             0.1111111111111111,
             "#46039f"
            ],
            [
             0.2222222222222222,
             "#7201a8"
            ],
            [
             0.3333333333333333,
             "#9c179e"
            ],
            [
             0.4444444444444444,
             "#bd3786"
            ],
            [
             0.5555555555555556,
             "#d8576b"
            ],
            [
             0.6666666666666666,
             "#ed7953"
            ],
            [
             0.7777777777777778,
             "#fb9f3a"
            ],
            [
             0.8888888888888888,
             "#fdca26"
            ],
            [
             1,
             "#f0f921"
            ]
           ]
          },
          "colorway": [
           "#636efa",
           "#EF553B",
           "#00cc96",
           "#ab63fa",
           "#FFA15A",
           "#19d3f3",
           "#FF6692",
           "#B6E880",
           "#FF97FF",
           "#FECB52"
          ],
          "font": {
           "color": "#2a3f5f"
          },
          "geo": {
           "bgcolor": "white",
           "lakecolor": "white",
           "landcolor": "white",
           "showlakes": true,
           "showland": true,
           "subunitcolor": "#C8D4E3"
          },
          "hoverlabel": {
           "align": "left"
          },
          "hovermode": "closest",
          "mapbox": {
           "style": "light"
          },
          "paper_bgcolor": "white",
          "plot_bgcolor": "white",
          "polar": {
           "angularaxis": {
            "gridcolor": "#EBF0F8",
            "linecolor": "#EBF0F8",
            "ticks": ""
           },
           "bgcolor": "white",
           "radialaxis": {
            "gridcolor": "#EBF0F8",
            "linecolor": "#EBF0F8",
            "ticks": ""
           }
          },
          "scene": {
           "xaxis": {
            "backgroundcolor": "white",
            "gridcolor": "#DFE8F3",
            "gridwidth": 2,
            "linecolor": "#EBF0F8",
            "showbackground": true,
            "ticks": "",
            "zerolinecolor": "#EBF0F8"
           },
           "yaxis": {
            "backgroundcolor": "white",
            "gridcolor": "#DFE8F3",
            "gridwidth": 2,
            "linecolor": "#EBF0F8",
            "showbackground": true,
            "ticks": "",
            "zerolinecolor": "#EBF0F8"
           },
           "zaxis": {
            "backgroundcolor": "white",
            "gridcolor": "#DFE8F3",
            "gridwidth": 2,
            "linecolor": "#EBF0F8",
            "showbackground": true,
            "ticks": "",
            "zerolinecolor": "#EBF0F8"
           }
          },
          "shapedefaults": {
           "line": {
            "color": "#2a3f5f"
           }
          },
          "ternary": {
           "aaxis": {
            "gridcolor": "#DFE8F3",
            "linecolor": "#A2B1C6",
            "ticks": ""
           },
           "baxis": {
            "gridcolor": "#DFE8F3",
            "linecolor": "#A2B1C6",
            "ticks": ""
           },
           "bgcolor": "white",
           "caxis": {
            "gridcolor": "#DFE8F3",
            "linecolor": "#A2B1C6",
            "ticks": ""
           }
          },
          "title": {
           "x": 0.05
          },
          "xaxis": {
           "automargin": true,
           "gridcolor": "#EBF0F8",
           "linecolor": "#EBF0F8",
           "ticks": "",
           "title": {
            "standoff": 15
           },
           "zerolinecolor": "#EBF0F8",
           "zerolinewidth": 2
          },
          "yaxis": {
           "automargin": true,
           "gridcolor": "#EBF0F8",
           "linecolor": "#EBF0F8",
           "ticks": "",
           "title": {
            "standoff": 15
           },
           "zerolinecolor": "#EBF0F8",
           "zerolinewidth": 2
          }
         }
        },
        "title": {
         "text": "Seasonal decomposition for realgdp"
        },
        "width": 1200,
        "xaxis": {
         "anchor": "y",
         "domain": [
          0,
          1
         ]
        },
        "xaxis2": {
         "anchor": "y2",
         "domain": [
          0,
          1
         ]
        },
        "xaxis3": {
         "anchor": "y3",
         "domain": [
          0,
          1
         ]
        },
        "yaxis": {
         "anchor": "x",
         "domain": [
          0.7777777777777778,
          1
         ]
        },
        "yaxis2": {
         "anchor": "x2",
         "domain": [
          0.3888888888888889,
          0.6111111111111112
         ]
        },
        "yaxis3": {
         "anchor": "x3",
         "domain": [
          0,
          0.22222222222222224
         ]
        }
       }
      }
     },
     "metadata": {},
     "output_type": "display_data"
    },
    {
     "data": {
      "application/vnd.plotly.v1+json": {
       "config": {
        "plotlyServerURL": "https://plot.ly"
       },
       "data": [
        {
         "mode": "lines",
         "name": "Trend",
         "type": "scatter",
         "x": [
          "1959-01-01T00:00:00",
          "1959-04-01T00:00:00",
          "1959-07-01T00:00:00",
          "1959-10-01T00:00:00",
          "1960-01-01T00:00:00",
          "1960-04-01T00:00:00",
          "1960-07-01T00:00:00",
          "1960-10-01T00:00:00",
          "1961-01-01T00:00:00",
          "1961-04-01T00:00:00",
          "1961-07-01T00:00:00",
          "1961-10-01T00:00:00",
          "1962-01-01T00:00:00",
          "1962-04-01T00:00:00",
          "1962-07-01T00:00:00",
          "1962-10-01T00:00:00",
          "1963-01-01T00:00:00",
          "1963-04-01T00:00:00",
          "1963-07-01T00:00:00",
          "1963-10-01T00:00:00",
          "1964-01-01T00:00:00",
          "1964-04-01T00:00:00",
          "1964-07-01T00:00:00",
          "1964-10-01T00:00:00",
          "1965-01-01T00:00:00",
          "1965-04-01T00:00:00",
          "1965-07-01T00:00:00",
          "1965-10-01T00:00:00",
          "1966-01-01T00:00:00",
          "1966-04-01T00:00:00",
          "1966-07-01T00:00:00",
          "1966-10-01T00:00:00",
          "1967-01-01T00:00:00",
          "1967-04-01T00:00:00",
          "1967-07-01T00:00:00",
          "1967-10-01T00:00:00",
          "1968-01-01T00:00:00",
          "1968-04-01T00:00:00",
          "1968-07-01T00:00:00",
          "1968-10-01T00:00:00",
          "1969-01-01T00:00:00",
          "1969-04-01T00:00:00",
          "1969-07-01T00:00:00",
          "1969-10-01T00:00:00",
          "1970-01-01T00:00:00",
          "1970-04-01T00:00:00",
          "1970-07-01T00:00:00",
          "1970-10-01T00:00:00",
          "1971-01-01T00:00:00",
          "1971-04-01T00:00:00",
          "1971-07-01T00:00:00",
          "1971-10-01T00:00:00",
          "1972-01-01T00:00:00",
          "1972-04-01T00:00:00",
          "1972-07-01T00:00:00",
          "1972-10-01T00:00:00",
          "1973-01-01T00:00:00",
          "1973-04-01T00:00:00",
          "1973-07-01T00:00:00",
          "1973-10-01T00:00:00",
          "1974-01-01T00:00:00",
          "1974-04-01T00:00:00",
          "1974-07-01T00:00:00",
          "1974-10-01T00:00:00",
          "1975-01-01T00:00:00",
          "1975-04-01T00:00:00",
          "1975-07-01T00:00:00",
          "1975-10-01T00:00:00",
          "1976-01-01T00:00:00",
          "1976-04-01T00:00:00",
          "1976-07-01T00:00:00",
          "1976-10-01T00:00:00",
          "1977-01-01T00:00:00",
          "1977-04-01T00:00:00",
          "1977-07-01T00:00:00",
          "1977-10-01T00:00:00",
          "1978-01-01T00:00:00",
          "1978-04-01T00:00:00",
          "1978-07-01T00:00:00",
          "1978-10-01T00:00:00",
          "1979-01-01T00:00:00",
          "1979-04-01T00:00:00",
          "1979-07-01T00:00:00",
          "1979-10-01T00:00:00",
          "1980-01-01T00:00:00",
          "1980-04-01T00:00:00",
          "1980-07-01T00:00:00",
          "1980-10-01T00:00:00",
          "1981-01-01T00:00:00",
          "1981-04-01T00:00:00",
          "1981-07-01T00:00:00",
          "1981-10-01T00:00:00",
          "1982-01-01T00:00:00",
          "1982-04-01T00:00:00",
          "1982-07-01T00:00:00",
          "1982-10-01T00:00:00",
          "1983-01-01T00:00:00",
          "1983-04-01T00:00:00",
          "1983-07-01T00:00:00",
          "1983-10-01T00:00:00",
          "1984-01-01T00:00:00",
          "1984-04-01T00:00:00",
          "1984-07-01T00:00:00",
          "1984-10-01T00:00:00",
          "1985-01-01T00:00:00",
          "1985-04-01T00:00:00",
          "1985-07-01T00:00:00",
          "1985-10-01T00:00:00",
          "1986-01-01T00:00:00",
          "1986-04-01T00:00:00",
          "1986-07-01T00:00:00",
          "1986-10-01T00:00:00",
          "1987-01-01T00:00:00",
          "1987-04-01T00:00:00",
          "1987-07-01T00:00:00",
          "1987-10-01T00:00:00",
          "1988-01-01T00:00:00",
          "1988-04-01T00:00:00",
          "1988-07-01T00:00:00",
          "1988-10-01T00:00:00",
          "1989-01-01T00:00:00",
          "1989-04-01T00:00:00",
          "1989-07-01T00:00:00",
          "1989-10-01T00:00:00",
          "1990-01-01T00:00:00",
          "1990-04-01T00:00:00",
          "1990-07-01T00:00:00",
          "1990-10-01T00:00:00",
          "1991-01-01T00:00:00",
          "1991-04-01T00:00:00",
          "1991-07-01T00:00:00",
          "1991-10-01T00:00:00",
          "1992-01-01T00:00:00",
          "1992-04-01T00:00:00",
          "1992-07-01T00:00:00",
          "1992-10-01T00:00:00",
          "1993-01-01T00:00:00",
          "1993-04-01T00:00:00",
          "1993-07-01T00:00:00",
          "1993-10-01T00:00:00",
          "1994-01-01T00:00:00",
          "1994-04-01T00:00:00",
          "1994-07-01T00:00:00",
          "1994-10-01T00:00:00",
          "1995-01-01T00:00:00",
          "1995-04-01T00:00:00",
          "1995-07-01T00:00:00",
          "1995-10-01T00:00:00",
          "1996-01-01T00:00:00",
          "1996-04-01T00:00:00",
          "1996-07-01T00:00:00",
          "1996-10-01T00:00:00",
          "1997-01-01T00:00:00",
          "1997-04-01T00:00:00",
          "1997-07-01T00:00:00",
          "1997-10-01T00:00:00",
          "1998-01-01T00:00:00",
          "1998-04-01T00:00:00",
          "1998-07-01T00:00:00",
          "1998-10-01T00:00:00",
          "1999-01-01T00:00:00",
          "1999-04-01T00:00:00",
          "1999-07-01T00:00:00",
          "1999-10-01T00:00:00",
          "2000-01-01T00:00:00",
          "2000-04-01T00:00:00",
          "2000-07-01T00:00:00",
          "2000-10-01T00:00:00",
          "2001-01-01T00:00:00",
          "2001-04-01T00:00:00",
          "2001-07-01T00:00:00",
          "2001-10-01T00:00:00",
          "2002-01-01T00:00:00",
          "2002-04-01T00:00:00",
          "2002-07-01T00:00:00",
          "2002-10-01T00:00:00",
          "2003-01-01T00:00:00",
          "2003-04-01T00:00:00",
          "2003-07-01T00:00:00",
          "2003-10-01T00:00:00",
          "2004-01-01T00:00:00",
          "2004-04-01T00:00:00",
          "2004-07-01T00:00:00",
          "2004-10-01T00:00:00",
          "2005-01-01T00:00:00",
          "2005-04-01T00:00:00",
          "2005-07-01T00:00:00",
          "2005-10-01T00:00:00",
          "2006-01-01T00:00:00",
          "2006-04-01T00:00:00",
          "2006-07-01T00:00:00",
          "2006-10-01T00:00:00",
          "2007-01-01T00:00:00",
          "2007-04-01T00:00:00",
          "2007-07-01T00:00:00",
          "2007-10-01T00:00:00",
          "2008-01-01T00:00:00",
          "2008-04-01T00:00:00",
          "2008-07-01T00:00:00",
          "2008-10-01T00:00:00",
          "2009-01-01T00:00:00",
          "2009-04-01T00:00:00",
          "2009-07-01T00:00:00"
         ],
         "xaxis": "x",
         "y": [
          null,
          null,
          178.61237500000001,
          179.32512499999999,
          180.03912499999998,
          180.760625,
          181.496375,
          182.24699999999999,
          182.99900000000002,
          183.742875,
          184.4725,
          185.188625,
          185.89437500000003,
          186.590625,
          187.27525,
          187.9515,
          188.627625,
          189.29762499999998,
          189.962625,
          190.626625,
          191.28287500000002,
          191.927625,
          192.55500000000004,
          193.16475000000003,
          193.76225000000002,
          194.3475,
          194.92325000000002,
          195.491625,
          196.05,
          196.60087499999997,
          197.151375,
          197.69625,
          198.22824999999997,
          198.75025,
          199.2595,
          199.759,
          200.255625,
          200.74699999999999,
          201.235125,
          201.72562499999998,
          202.22349999999997,
          202.736125,
          203.27725,
          203.85412499999998,
          204.46175,
          205.099625,
          205.75975000000003,
          206.418875,
          207.064625,
          207.690625,
          208.287125,
          208.85662499999998,
          209.40275,
          209.928,
          210.44075,
          210.94662499999998,
          211.44774999999998,
          211.940625,
          212.426625,
          212.912375,
          213.4025,
          213.89937500000002,
          214.39825000000002,
          214.912125,
          215.44400000000002,
          215.9815,
          216.523875,
          217.0535,
          217.568375,
          218.086,
          218.61599999999999,
          219.161,
          219.719,
          220.28875000000002,
          220.864375,
          221.446,
          222.035125,
          222.6295,
          223.233875,
          223.8485,
          224.4735,
          225.113,
          225.764125,
          226.42587500000002,
          227.08675,
          227.72450000000003,
          228.328,
          228.90075000000002,
          229.45875,
          230.01424999999998,
          230.572,
          231.13,
          231.67962500000002,
          232.222125,
          232.75975,
          233.29162499999998,
          233.817875,
          234.33712500000001,
          234.85225,
          235.364625,
          235.878375,
          236.397375,
          236.915375,
          237.43775,
          237.969625,
          238.50799999999998,
          239.0535,
          239.600875,
          240.14412499999997,
          240.6825,
          241.2205,
          241.75937500000003,
          242.29999999999998,
          242.846125,
          243.39487499999998,
          243.94612499999997,
          244.504125,
          245.065375,
          245.63025,
          246.20487500000002,
          246.79175,
          247.392875,
          248.020375,
          248.69225,
          249.41475,
          250.19225,
          251.013125,
          251.85037499999999,
          252.69275,
          253.530625,
          254.364875,
          255.208625,
          256.062,
          256.92337499999996,
          257.78425,
          258.632125,
          259.46500000000003,
          260.28274999999996,
          261.089875,
          261.88962499999997,
          262.67949999999996,
          263.46237499999995,
          264.2435,
          265.024125,
          265.808625,
          266.591375,
          267.367,
          268.14300000000003,
          268.922375,
          269.71412499999997,
          270.519,
          271.328375,
          272.142875,
          272.96,
          273.770875,
          274.573875,
          275.368125,
          276.15749999999997,
          276.946375,
          277.73725,
          278.53475000000003,
          279.333,
          280.1315,
          280.918,
          281.677625,
          282.41650000000004,
          283.144125,
          283.8665,
          284.58387500000003,
          285.2945,
          285.99525,
          286.687625,
          287.37475,
          288.053375,
          288.72637499999996,
          289.39725000000004,
          290.065,
          290.72775,
          291.38425,
          292.03700000000003,
          292.689875,
          293.3525,
          294.02212499999996,
          294.69175,
          295.36525,
          296.04,
          296.72087500000004,
          297.4115,
          298.11087499999996,
          298.82437500000003,
          299.54949999999997,
          300.2825,
          301.0155,
          301.7405,
          302.45425,
          303.15362500000003,
          303.844875,
          304.5335,
          305.21999999999997,
          305.905875,
          306.591625,
          null,
          null
         ],
         "yaxis": "y"
        },
        {
         "mode": "lines",
         "name": "Seasonality",
         "type": "scatter",
         "x": [
          "1959-01-01T00:00:00",
          "1959-04-01T00:00:00",
          "1959-07-01T00:00:00",
          "1959-10-01T00:00:00",
          "1960-01-01T00:00:00",
          "1960-04-01T00:00:00",
          "1960-07-01T00:00:00",
          "1960-10-01T00:00:00",
          "1961-01-01T00:00:00",
          "1961-04-01T00:00:00",
          "1961-07-01T00:00:00",
          "1961-10-01T00:00:00",
          "1962-01-01T00:00:00",
          "1962-04-01T00:00:00",
          "1962-07-01T00:00:00",
          "1962-10-01T00:00:00",
          "1963-01-01T00:00:00",
          "1963-04-01T00:00:00",
          "1963-07-01T00:00:00",
          "1963-10-01T00:00:00",
          "1964-01-01T00:00:00",
          "1964-04-01T00:00:00",
          "1964-07-01T00:00:00",
          "1964-10-01T00:00:00",
          "1965-01-01T00:00:00",
          "1965-04-01T00:00:00",
          "1965-07-01T00:00:00",
          "1965-10-01T00:00:00",
          "1966-01-01T00:00:00",
          "1966-04-01T00:00:00",
          "1966-07-01T00:00:00",
          "1966-10-01T00:00:00",
          "1967-01-01T00:00:00",
          "1967-04-01T00:00:00",
          "1967-07-01T00:00:00",
          "1967-10-01T00:00:00",
          "1968-01-01T00:00:00",
          "1968-04-01T00:00:00",
          "1968-07-01T00:00:00",
          "1968-10-01T00:00:00",
          "1969-01-01T00:00:00",
          "1969-04-01T00:00:00",
          "1969-07-01T00:00:00",
          "1969-10-01T00:00:00",
          "1970-01-01T00:00:00",
          "1970-04-01T00:00:00",
          "1970-07-01T00:00:00",
          "1970-10-01T00:00:00",
          "1971-01-01T00:00:00",
          "1971-04-01T00:00:00",
          "1971-07-01T00:00:00",
          "1971-10-01T00:00:00",
          "1972-01-01T00:00:00",
          "1972-04-01T00:00:00",
          "1972-07-01T00:00:00",
          "1972-10-01T00:00:00",
          "1973-01-01T00:00:00",
          "1973-04-01T00:00:00",
          "1973-07-01T00:00:00",
          "1973-10-01T00:00:00",
          "1974-01-01T00:00:00",
          "1974-04-01T00:00:00",
          "1974-07-01T00:00:00",
          "1974-10-01T00:00:00",
          "1975-01-01T00:00:00",
          "1975-04-01T00:00:00",
          "1975-07-01T00:00:00",
          "1975-10-01T00:00:00",
          "1976-01-01T00:00:00",
          "1976-04-01T00:00:00",
          "1976-07-01T00:00:00",
          "1976-10-01T00:00:00",
          "1977-01-01T00:00:00",
          "1977-04-01T00:00:00",
          "1977-07-01T00:00:00",
          "1977-10-01T00:00:00",
          "1978-01-01T00:00:00",
          "1978-04-01T00:00:00",
          "1978-07-01T00:00:00",
          "1978-10-01T00:00:00",
          "1979-01-01T00:00:00",
          "1979-04-01T00:00:00",
          "1979-07-01T00:00:00",
          "1979-10-01T00:00:00",
          "1980-01-01T00:00:00",
          "1980-04-01T00:00:00",
          "1980-07-01T00:00:00",
          "1980-10-01T00:00:00",
          "1981-01-01T00:00:00",
          "1981-04-01T00:00:00",
          "1981-07-01T00:00:00",
          "1981-10-01T00:00:00",
          "1982-01-01T00:00:00",
          "1982-04-01T00:00:00",
          "1982-07-01T00:00:00",
          "1982-10-01T00:00:00",
          "1983-01-01T00:00:00",
          "1983-04-01T00:00:00",
          "1983-07-01T00:00:00",
          "1983-10-01T00:00:00",
          "1984-01-01T00:00:00",
          "1984-04-01T00:00:00",
          "1984-07-01T00:00:00",
          "1984-10-01T00:00:00",
          "1985-01-01T00:00:00",
          "1985-04-01T00:00:00",
          "1985-07-01T00:00:00",
          "1985-10-01T00:00:00",
          "1986-01-01T00:00:00",
          "1986-04-01T00:00:00",
          "1986-07-01T00:00:00",
          "1986-10-01T00:00:00",
          "1987-01-01T00:00:00",
          "1987-04-01T00:00:00",
          "1987-07-01T00:00:00",
          "1987-10-01T00:00:00",
          "1988-01-01T00:00:00",
          "1988-04-01T00:00:00",
          "1988-07-01T00:00:00",
          "1988-10-01T00:00:00",
          "1989-01-01T00:00:00",
          "1989-04-01T00:00:00",
          "1989-07-01T00:00:00",
          "1989-10-01T00:00:00",
          "1990-01-01T00:00:00",
          "1990-04-01T00:00:00",
          "1990-07-01T00:00:00",
          "1990-10-01T00:00:00",
          "1991-01-01T00:00:00",
          "1991-04-01T00:00:00",
          "1991-07-01T00:00:00",
          "1991-10-01T00:00:00",
          "1992-01-01T00:00:00",
          "1992-04-01T00:00:00",
          "1992-07-01T00:00:00",
          "1992-10-01T00:00:00",
          "1993-01-01T00:00:00",
          "1993-04-01T00:00:00",
          "1993-07-01T00:00:00",
          "1993-10-01T00:00:00",
          "1994-01-01T00:00:00",
          "1994-04-01T00:00:00",
          "1994-07-01T00:00:00",
          "1994-10-01T00:00:00",
          "1995-01-01T00:00:00",
          "1995-04-01T00:00:00",
          "1995-07-01T00:00:00",
          "1995-10-01T00:00:00",
          "1996-01-01T00:00:00",
          "1996-04-01T00:00:00",
          "1996-07-01T00:00:00",
          "1996-10-01T00:00:00",
          "1997-01-01T00:00:00",
          "1997-04-01T00:00:00",
          "1997-07-01T00:00:00",
          "1997-10-01T00:00:00",
          "1998-01-01T00:00:00",
          "1998-04-01T00:00:00",
          "1998-07-01T00:00:00",
          "1998-10-01T00:00:00",
          "1999-01-01T00:00:00",
          "1999-04-01T00:00:00",
          "1999-07-01T00:00:00",
          "1999-10-01T00:00:00",
          "2000-01-01T00:00:00",
          "2000-04-01T00:00:00",
          "2000-07-01T00:00:00",
          "2000-10-01T00:00:00",
          "2001-01-01T00:00:00",
          "2001-04-01T00:00:00",
          "2001-07-01T00:00:00",
          "2001-10-01T00:00:00",
          "2002-01-01T00:00:00",
          "2002-04-01T00:00:00",
          "2002-07-01T00:00:00",
          "2002-10-01T00:00:00",
          "2003-01-01T00:00:00",
          "2003-04-01T00:00:00",
          "2003-07-01T00:00:00",
          "2003-10-01T00:00:00",
          "2004-01-01T00:00:00",
          "2004-04-01T00:00:00",
          "2004-07-01T00:00:00",
          "2004-10-01T00:00:00",
          "2005-01-01T00:00:00",
          "2005-04-01T00:00:00",
          "2005-07-01T00:00:00",
          "2005-10-01T00:00:00",
          "2006-01-01T00:00:00",
          "2006-04-01T00:00:00",
          "2006-07-01T00:00:00",
          "2006-10-01T00:00:00",
          "2007-01-01T00:00:00",
          "2007-04-01T00:00:00",
          "2007-07-01T00:00:00",
          "2007-10-01T00:00:00",
          "2008-01-01T00:00:00",
          "2008-04-01T00:00:00",
          "2008-07-01T00:00:00",
          "2008-10-01T00:00:00",
          "2009-01-01T00:00:00",
          "2009-04-01T00:00:00",
          "2009-07-01T00:00:00"
         ],
         "xaxis": "x2",
         "y": [
          -0.04740480867346907,
          -0.041098073979590616,
          0.05486769132653062,
          0.03363519132652907,
          -0.04740480867346907,
          -0.041098073979590616,
          0.05486769132653062,
          0.03363519132652907,
          -0.04740480867346907,
          -0.041098073979590616,
          0.05486769132653062,
          0.03363519132652907,
          -0.04740480867346907,
          -0.041098073979590616,
          0.05486769132653062,
          0.03363519132652907,
          -0.04740480867346907,
          -0.041098073979590616,
          0.05486769132653062,
          0.03363519132652907,
          -0.04740480867346907,
          -0.041098073979590616,
          0.05486769132653062,
          0.03363519132652907,
          -0.04740480867346907,
          -0.041098073979590616,
          0.05486769132653062,
          0.03363519132652907,
          -0.04740480867346907,
          -0.041098073979590616,
          0.05486769132653062,
          0.03363519132652907,
          -0.04740480867346907,
          -0.041098073979590616,
          0.05486769132653062,
          0.03363519132652907,
          -0.04740480867346907,
          -0.041098073979590616,
          0.05486769132653062,
          0.03363519132652907,
          -0.04740480867346907,
          -0.041098073979590616,
          0.05486769132653062,
          0.03363519132652907,
          -0.04740480867346907,
          -0.041098073979590616,
          0.05486769132653062,
          0.03363519132652907,
          -0.04740480867346907,
          -0.041098073979590616,
          0.05486769132653062,
          0.03363519132652907,
          -0.04740480867346907,
          -0.041098073979590616,
          0.05486769132653062,
          0.03363519132652907,
          -0.04740480867346907,
          -0.041098073979590616,
          0.05486769132653062,
          0.03363519132652907,
          -0.04740480867346907,
          -0.041098073979590616,
          0.05486769132653062,
          0.03363519132652907,
          -0.04740480867346907,
          -0.041098073979590616,
          0.05486769132653062,
          0.03363519132652907,
          -0.04740480867346907,
          -0.041098073979590616,
          0.05486769132653062,
          0.03363519132652907,
          -0.04740480867346907,
          -0.041098073979590616,
          0.05486769132653062,
          0.03363519132652907,
          -0.04740480867346907,
          -0.041098073979590616,
          0.05486769132653062,
          0.03363519132652907,
          -0.04740480867346907,
          -0.041098073979590616,
          0.05486769132653062,
          0.03363519132652907,
          -0.04740480867346907,
          -0.041098073979590616,
          0.05486769132653062,
          0.03363519132652907,
          -0.04740480867346907,
          -0.041098073979590616,
          0.05486769132653062,
          0.03363519132652907,
          -0.04740480867346907,
          -0.041098073979590616,
          0.05486769132653062,
          0.03363519132652907,
          -0.04740480867346907,
          -0.041098073979590616,
          0.05486769132653062,
          0.03363519132652907,
          -0.04740480867346907,
          -0.041098073979590616,
          0.05486769132653062,
          0.03363519132652907,
          -0.04740480867346907,
          -0.041098073979590616,
          0.05486769132653062,
          0.03363519132652907,
          -0.04740480867346907,
          -0.041098073979590616,
          0.05486769132653062,
          0.03363519132652907,
          -0.04740480867346907,
          -0.041098073979590616,
          0.05486769132653062,
          0.03363519132652907,
          -0.04740480867346907,
          -0.041098073979590616,
          0.05486769132653062,
          0.03363519132652907,
          -0.04740480867346907,
          -0.041098073979590616,
          0.05486769132653062,
          0.03363519132652907,
          -0.04740480867346907,
          -0.041098073979590616,
          0.05486769132653062,
          0.03363519132652907,
          -0.04740480867346907,
          -0.041098073979590616,
          0.05486769132653062,
          0.03363519132652907,
          -0.04740480867346907,
          -0.041098073979590616,
          0.05486769132653062,
          0.03363519132652907,
          -0.04740480867346907,
          -0.041098073979590616,
          0.05486769132653062,
          0.03363519132652907,
          -0.04740480867346907,
          -0.041098073979590616,
          0.05486769132653062,
          0.03363519132652907,
          -0.04740480867346907,
          -0.041098073979590616,
          0.05486769132653062,
          0.03363519132652907,
          -0.04740480867346907,
          -0.041098073979590616,
          0.05486769132653062,
          0.03363519132652907,
          -0.04740480867346907,
          -0.041098073979590616,
          0.05486769132653062,
          0.03363519132652907,
          -0.04740480867346907,
          -0.041098073979590616,
          0.05486769132653062,
          0.03363519132652907,
          -0.04740480867346907,
          -0.041098073979590616,
          0.05486769132653062,
          0.03363519132652907,
          -0.04740480867346907,
          -0.041098073979590616,
          0.05486769132653062,
          0.03363519132652907,
          -0.04740480867346907,
          -0.041098073979590616,
          0.05486769132653062,
          0.03363519132652907,
          -0.04740480867346907,
          -0.041098073979590616,
          0.05486769132653062,
          0.03363519132652907,
          -0.04740480867346907,
          -0.041098073979590616,
          0.05486769132653062,
          0.03363519132652907,
          -0.04740480867346907,
          -0.041098073979590616,
          0.05486769132653062,
          0.03363519132652907,
          -0.04740480867346907,
          -0.041098073979590616,
          0.05486769132653062,
          0.03363519132652907,
          -0.04740480867346907,
          -0.041098073979590616,
          0.05486769132653062,
          0.03363519132652907,
          -0.04740480867346907,
          -0.041098073979590616,
          0.05486769132653062,
          0.03363519132652907,
          -0.04740480867346907,
          -0.041098073979590616,
          0.05486769132653062,
          0.03363519132652907,
          -0.04740480867346907,
          -0.041098073979590616,
          0.05486769132653062
         ],
         "yaxis": "y2"
        },
        {
         "mode": "lines",
         "name": "Residuals",
         "type": "scatter",
         "x": [
          "1959-01-01T00:00:00",
          "1959-04-01T00:00:00",
          "1959-07-01T00:00:00",
          "1959-10-01T00:00:00",
          "1960-01-01T00:00:00",
          "1960-04-01T00:00:00",
          "1960-07-01T00:00:00",
          "1960-10-01T00:00:00",
          "1961-01-01T00:00:00",
          "1961-04-01T00:00:00",
          "1961-07-01T00:00:00",
          "1961-10-01T00:00:00",
          "1962-01-01T00:00:00",
          "1962-04-01T00:00:00",
          "1962-07-01T00:00:00",
          "1962-10-01T00:00:00",
          "1963-01-01T00:00:00",
          "1963-04-01T00:00:00",
          "1963-07-01T00:00:00",
          "1963-10-01T00:00:00",
          "1964-01-01T00:00:00",
          "1964-04-01T00:00:00",
          "1964-07-01T00:00:00",
          "1964-10-01T00:00:00",
          "1965-01-01T00:00:00",
          "1965-04-01T00:00:00",
          "1965-07-01T00:00:00",
          "1965-10-01T00:00:00",
          "1966-01-01T00:00:00",
          "1966-04-01T00:00:00",
          "1966-07-01T00:00:00",
          "1966-10-01T00:00:00",
          "1967-01-01T00:00:00",
          "1967-04-01T00:00:00",
          "1967-07-01T00:00:00",
          "1967-10-01T00:00:00",
          "1968-01-01T00:00:00",
          "1968-04-01T00:00:00",
          "1968-07-01T00:00:00",
          "1968-10-01T00:00:00",
          "1969-01-01T00:00:00",
          "1969-04-01T00:00:00",
          "1969-07-01T00:00:00",
          "1969-10-01T00:00:00",
          "1970-01-01T00:00:00",
          "1970-04-01T00:00:00",
          "1970-07-01T00:00:00",
          "1970-10-01T00:00:00",
          "1971-01-01T00:00:00",
          "1971-04-01T00:00:00",
          "1971-07-01T00:00:00",
          "1971-10-01T00:00:00",
          "1972-01-01T00:00:00",
          "1972-04-01T00:00:00",
          "1972-07-01T00:00:00",
          "1972-10-01T00:00:00",
          "1973-01-01T00:00:00",
          "1973-04-01T00:00:00",
          "1973-07-01T00:00:00",
          "1973-10-01T00:00:00",
          "1974-01-01T00:00:00",
          "1974-04-01T00:00:00",
          "1974-07-01T00:00:00",
          "1974-10-01T00:00:00",
          "1975-01-01T00:00:00",
          "1975-04-01T00:00:00",
          "1975-07-01T00:00:00",
          "1975-10-01T00:00:00",
          "1976-01-01T00:00:00",
          "1976-04-01T00:00:00",
          "1976-07-01T00:00:00",
          "1976-10-01T00:00:00",
          "1977-01-01T00:00:00",
          "1977-04-01T00:00:00",
          "1977-07-01T00:00:00",
          "1977-10-01T00:00:00",
          "1978-01-01T00:00:00",
          "1978-04-01T00:00:00",
          "1978-07-01T00:00:00",
          "1978-10-01T00:00:00",
          "1979-01-01T00:00:00",
          "1979-04-01T00:00:00",
          "1979-07-01T00:00:00",
          "1979-10-01T00:00:00",
          "1980-01-01T00:00:00",
          "1980-04-01T00:00:00",
          "1980-07-01T00:00:00",
          "1980-10-01T00:00:00",
          "1981-01-01T00:00:00",
          "1981-04-01T00:00:00",
          "1981-07-01T00:00:00",
          "1981-10-01T00:00:00",
          "1982-01-01T00:00:00",
          "1982-04-01T00:00:00",
          "1982-07-01T00:00:00",
          "1982-10-01T00:00:00",
          "1983-01-01T00:00:00",
          "1983-04-01T00:00:00",
          "1983-07-01T00:00:00",
          "1983-10-01T00:00:00",
          "1984-01-01T00:00:00",
          "1984-04-01T00:00:00",
          "1984-07-01T00:00:00",
          "1984-10-01T00:00:00",
          "1985-01-01T00:00:00",
          "1985-04-01T00:00:00",
          "1985-07-01T00:00:00",
          "1985-10-01T00:00:00",
          "1986-01-01T00:00:00",
          "1986-04-01T00:00:00",
          "1986-07-01T00:00:00",
          "1986-10-01T00:00:00",
          "1987-01-01T00:00:00",
          "1987-04-01T00:00:00",
          "1987-07-01T00:00:00",
          "1987-10-01T00:00:00",
          "1988-01-01T00:00:00",
          "1988-04-01T00:00:00",
          "1988-07-01T00:00:00",
          "1988-10-01T00:00:00",
          "1989-01-01T00:00:00",
          "1989-04-01T00:00:00",
          "1989-07-01T00:00:00",
          "1989-10-01T00:00:00",
          "1990-01-01T00:00:00",
          "1990-04-01T00:00:00",
          "1990-07-01T00:00:00",
          "1990-10-01T00:00:00",
          "1991-01-01T00:00:00",
          "1991-04-01T00:00:00",
          "1991-07-01T00:00:00",
          "1991-10-01T00:00:00",
          "1992-01-01T00:00:00",
          "1992-04-01T00:00:00",
          "1992-07-01T00:00:00",
          "1992-10-01T00:00:00",
          "1993-01-01T00:00:00",
          "1993-04-01T00:00:00",
          "1993-07-01T00:00:00",
          "1993-10-01T00:00:00",
          "1994-01-01T00:00:00",
          "1994-04-01T00:00:00",
          "1994-07-01T00:00:00",
          "1994-10-01T00:00:00",
          "1995-01-01T00:00:00",
          "1995-04-01T00:00:00",
          "1995-07-01T00:00:00",
          "1995-10-01T00:00:00",
          "1996-01-01T00:00:00",
          "1996-04-01T00:00:00",
          "1996-07-01T00:00:00",
          "1996-10-01T00:00:00",
          "1997-01-01T00:00:00",
          "1997-04-01T00:00:00",
          "1997-07-01T00:00:00",
          "1997-10-01T00:00:00",
          "1998-01-01T00:00:00",
          "1998-04-01T00:00:00",
          "1998-07-01T00:00:00",
          "1998-10-01T00:00:00",
          "1999-01-01T00:00:00",
          "1999-04-01T00:00:00",
          "1999-07-01T00:00:00",
          "1999-10-01T00:00:00",
          "2000-01-01T00:00:00",
          "2000-04-01T00:00:00",
          "2000-07-01T00:00:00",
          "2000-10-01T00:00:00",
          "2001-01-01T00:00:00",
          "2001-04-01T00:00:00",
          "2001-07-01T00:00:00",
          "2001-10-01T00:00:00",
          "2002-01-01T00:00:00",
          "2002-04-01T00:00:00",
          "2002-07-01T00:00:00",
          "2002-10-01T00:00:00",
          "2003-01-01T00:00:00",
          "2003-04-01T00:00:00",
          "2003-07-01T00:00:00",
          "2003-10-01T00:00:00",
          "2004-01-01T00:00:00",
          "2004-04-01T00:00:00",
          "2004-07-01T00:00:00",
          "2004-10-01T00:00:00",
          "2005-01-01T00:00:00",
          "2005-04-01T00:00:00",
          "2005-07-01T00:00:00",
          "2005-10-01T00:00:00",
          "2006-01-01T00:00:00",
          "2006-04-01T00:00:00",
          "2006-07-01T00:00:00",
          "2006-10-01T00:00:00",
          "2007-01-01T00:00:00",
          "2007-04-01T00:00:00",
          "2007-07-01T00:00:00",
          "2007-10-01T00:00:00",
          "2008-01-01T00:00:00",
          "2008-04-01T00:00:00",
          "2008-07-01T00:00:00",
          "2008-10-01T00:00:00",
          "2009-01-01T00:00:00",
          "2009-04-01T00:00:00",
          "2009-07-01T00:00:00"
         ],
         "xaxis": "x3",
         "y": [
          null,
          null,
          -0.010242691326534256,
          0.027239808673480935,
          0.015279808673489763,
          -0.04852692602042166,
          -0.023242691326539486,
          0.006364808673491394,
          0.04040480867343565,
          -0.010776926020404837,
          -0.003367691326526298,
          0.019739808673459334,
          0.027029808673439286,
          -0.011526926020387102,
          -0.0071176913265228875,
          0.027864808673466156,
          -0.000220191326513193,
          -0.014526926020401426,
          0.01050730867345824,
          0.0077398086734873014,
          0.009529808673455202,
          0.002473073979594481,
          0.021132308673434366,
          0.024614808673457743,
          -0.00584519132655071,
          -0.003401926020408702,
          0.01888230867345915,
          0.013739808673459107,
          -0.0035951913265470717,
          0.0002230739796192649,
          0.0007573086734614237,
          0.006114808673468884,
          0.025154808673483624,
          0.0028480739795856136,
          -0.003367691326526298,
          0.015364808673477524,
          -0.00022019132654161472,
          0.00009807397959379904,
          0.0000073086734507371576,
          0.0007398086734822992,
          -0.015095191326502506,
          -0.018026926020403927,
          -0.030117691326547444,
          -0.038760191326521566,
          -0.013345191326515467,
          -0.006526926020420071,
          -0.026617691326544943,
          0.013489808673465019,
          0.047779808673460204,
          0.011473073979580611,
          0.0030073086734650617,
          0.02673980867349276,
          0.030654808673467253,
          0.00909807397957993,
          -0.016617691326525616,
          0.004739808673501399,
          0.019654808673471573,
          0.009473073979571062,
          -0.006492691326537667,
          -0.014010191326538392,
          0.005904808673455657,
          -0.004276926020416433,
          -0.0021176913265558567,
          -0.014760191326520657,
          -0.043595191326539114,
          0.03259807397959266,
          0.008257308673454603,
          0.007864808673455924,
          0.007029808673457476,
          -0.009901926020425528,
          -0.02686769132651061,
          -0.015635191326528387,
          0.012404808673472482,
          -0.008651926020426665,
          -0.015242691326529709,
          -0.0026351913265231577,
          0.003279808673489308,
          -0.003401926020408702,
          -0.017742691326555857,
          -0.01713519132652134,
          0.011904808673455884,
          -0.016901926020402108,
          -0.017992691326549945,
          -0.008510191326554763,
          0.021654808673481123,
          0.042598073979555146,
          0.03413230867346802,
          0.002614808673466383,
          -0.008345191326548436,
          -0.00715192602037687,
          0.014132308673457786,
          -0.006635191326513835,
          0.012779808673463615,
          0.006973073979573335,
          0.0013823086734750661,
          -0.0032601913265083785,
          0.010529808673488399,
          0.010973073979564013,
          -0.00011769132651788528,
          -0.013260191326527705,
          0.00802980867346225,
          -0.00827692602040711,
          0.005757308673456876,
          -0.0033851913265338443,
          -0.022220191326532975,
          -0.0009019260203825541,
          0.004632308673455057,
          0.0034898086734741138,
          -0.0027201913265109193,
          0.009598073979596528,
          -0.0013676913265167484,
          -0.009010191326571361,
          -0.0005951913265043254,
          -0.00102692602040802,
          -0.0037426913265174305,
          0.0012398086734988975,
          -0.011720191326525471,
          -0.003276926020411658,
          0.007882308673491892,
          -0.01451019132655499,
          -0.023345191326534794,
          -0.009776926020400062,
          -0.008242691326524706,
          -0.06688519132653861,
          -0.061345191326517286,
          -0.019151926020405746,
          -0.010992691326544943,
          0.004989808673495487,
          -0.002345191326519787,
          0.003473073979599256,
          0.015257308673459605,
          -0.028260191326542485,
          -0.02259519132655253,
          0.011723073979631543,
          0.021882308673473475,
          0.01323980867347093,
          -0.0035951913265754934,
          0.013348073979621539,
          0.01825730867347393,
          -0.004260191326513153,
          -0.0010951913265209237,
          0.014723073979617446,
          0.0026323086734739293,
          -0.013760191326572725,
          -0.006220191326541842,
          0.006723073979579247,
          0.03413230867346802,
          -0.025635191326547714,
          -0.021970191326510465,
          -0.0060269260204034725,
          0.007132308673481205,
          -0.0020101913265095153,
          -0.012470191326507736,
          -0.006901926020411203,
          0.026257308673455285,
          0.01848980867346047,
          -0.016720191326577767,
          -0.0014019260203707307,
          0.0017573086734661986,
          0.019114808673474114,
          -0.03634519132654002,
          0.003098073979579702,
          0.01663230867342709,
          0.024364808673463655,
          0.022779808673511363,
          0.009598073979539684,
          -0.008992691326506971,
          -0.00013519132652543148,
          0.01352980867344588,
          0.013598073979558783,
          -0.003117691326503788,
          0.006739808673454105,
          0.0006548086734376943,
          0.0157230739795938,
          0.001757308673523042,
          -0.009885191326579092,
          0.0014048086734768025,
          0.017348073979583795,
          0.00988230867347302,
          -0.01363519132654726,
          -0.0074701913265122835,
          -0.001401926020427574,
          -0.010992691326516521,
          0.015614808673443191,
          -0.009845191326541387,
          -0.0049019260204016535,
          -0.005742691326583824,
          -0.010135191326516337,
          -0.002470191326516831,
          -0.017276926020421662,
          -0.011367691326479232,
          0.0038648086734368245,
          0.008904808673469981,
          0.01459807397959198,
          -0.00011769132651788528,
          0.01673980867344501,
          0.005529808673464524,
          -0.00940192602040893,
          -0.0048676913265192495,
          0.012489808673488666,
          0.00277980867347271,
          null,
          null
         ],
         "yaxis": "y3"
        }
       ],
       "layout": {
        "annotations": [
         {
          "font": {
           "size": 16
          },
          "showarrow": false,
          "text": "Trend",
          "x": 0.5,
          "xanchor": "center",
          "xref": "paper",
          "y": 1,
          "yanchor": "bottom",
          "yref": "paper"
         },
         {
          "font": {
           "size": 16
          },
          "showarrow": false,
          "text": "Seasonality",
          "x": 0.5,
          "xanchor": "center",
          "xref": "paper",
          "y": 0.6111111111111112,
          "yanchor": "bottom",
          "yref": "paper"
         },
         {
          "font": {
           "size": 16
          },
          "showarrow": false,
          "text": "Residuals",
          "x": 0.5,
          "xanchor": "center",
          "xref": "paper",
          "y": 0.22222222222222224,
          "yanchor": "bottom",
          "yref": "paper"
         }
        ],
        "height": 400,
        "template": {
         "data": {
          "bar": [
           {
            "error_x": {
             "color": "#2a3f5f"
            },
            "error_y": {
             "color": "#2a3f5f"
            },
            "marker": {
             "line": {
              "color": "white",
              "width": 0.5
             },
             "pattern": {
              "fillmode": "overlay",
              "size": 10,
              "solidity": 0.2
             }
            },
            "type": "bar"
           }
          ],
          "barpolar": [
           {
            "marker": {
             "line": {
              "color": "white",
              "width": 0.5
             },
             "pattern": {
              "fillmode": "overlay",
              "size": 10,
              "solidity": 0.2
             }
            },
            "type": "barpolar"
           }
          ],
          "carpet": [
           {
            "aaxis": {
             "endlinecolor": "#2a3f5f",
             "gridcolor": "#C8D4E3",
             "linecolor": "#C8D4E3",
             "minorgridcolor": "#C8D4E3",
             "startlinecolor": "#2a3f5f"
            },
            "baxis": {
             "endlinecolor": "#2a3f5f",
             "gridcolor": "#C8D4E3",
             "linecolor": "#C8D4E3",
             "minorgridcolor": "#C8D4E3",
             "startlinecolor": "#2a3f5f"
            },
            "type": "carpet"
           }
          ],
          "choropleth": [
           {
            "colorbar": {
             "outlinewidth": 0,
             "ticks": ""
            },
            "type": "choropleth"
           }
          ],
          "contour": [
           {
            "colorbar": {
             "outlinewidth": 0,
             "ticks": ""
            },
            "colorscale": [
             [
              0,
              "#0d0887"
             ],
             [
              0.1111111111111111,
              "#46039f"
             ],
             [
              0.2222222222222222,
              "#7201a8"
             ],
             [
              0.3333333333333333,
              "#9c179e"
             ],
             [
              0.4444444444444444,
              "#bd3786"
             ],
             [
              0.5555555555555556,
              "#d8576b"
             ],
             [
              0.6666666666666666,
              "#ed7953"
             ],
             [
              0.7777777777777778,
              "#fb9f3a"
             ],
             [
              0.8888888888888888,
              "#fdca26"
             ],
             [
              1,
              "#f0f921"
             ]
            ],
            "type": "contour"
           }
          ],
          "contourcarpet": [
           {
            "colorbar": {
             "outlinewidth": 0,
             "ticks": ""
            },
            "type": "contourcarpet"
           }
          ],
          "heatmap": [
           {
            "colorbar": {
             "outlinewidth": 0,
             "ticks": ""
            },
            "colorscale": [
             [
              0,
              "#0d0887"
             ],
             [
              0.1111111111111111,
              "#46039f"
             ],
             [
              0.2222222222222222,
              "#7201a8"
             ],
             [
              0.3333333333333333,
              "#9c179e"
             ],
             [
              0.4444444444444444,
              "#bd3786"
             ],
             [
              0.5555555555555556,
              "#d8576b"
             ],
             [
              0.6666666666666666,
              "#ed7953"
             ],
             [
              0.7777777777777778,
              "#fb9f3a"
             ],
             [
              0.8888888888888888,
              "#fdca26"
             ],
             [
              1,
              "#f0f921"
             ]
            ],
            "type": "heatmap"
           }
          ],
          "heatmapgl": [
           {
            "colorbar": {
             "outlinewidth": 0,
             "ticks": ""
            },
            "colorscale": [
             [
              0,
              "#0d0887"
             ],
             [
              0.1111111111111111,
              "#46039f"
             ],
             [
              0.2222222222222222,
              "#7201a8"
             ],
             [
              0.3333333333333333,
              "#9c179e"
             ],
             [
              0.4444444444444444,
              "#bd3786"
             ],
             [
              0.5555555555555556,
              "#d8576b"
             ],
             [
              0.6666666666666666,
              "#ed7953"
             ],
             [
              0.7777777777777778,
              "#fb9f3a"
             ],
             [
              0.8888888888888888,
              "#fdca26"
             ],
             [
              1,
              "#f0f921"
             ]
            ],
            "type": "heatmapgl"
           }
          ],
          "histogram": [
           {
            "marker": {
             "pattern": {
              "fillmode": "overlay",
              "size": 10,
              "solidity": 0.2
             }
            },
            "type": "histogram"
           }
          ],
          "histogram2d": [
           {
            "colorbar": {
             "outlinewidth": 0,
             "ticks": ""
            },
            "colorscale": [
             [
              0,
              "#0d0887"
             ],
             [
              0.1111111111111111,
              "#46039f"
             ],
             [
              0.2222222222222222,
              "#7201a8"
             ],
             [
              0.3333333333333333,
              "#9c179e"
             ],
             [
              0.4444444444444444,
              "#bd3786"
             ],
             [
              0.5555555555555556,
              "#d8576b"
             ],
             [
              0.6666666666666666,
              "#ed7953"
             ],
             [
              0.7777777777777778,
              "#fb9f3a"
             ],
             [
              0.8888888888888888,
              "#fdca26"
             ],
             [
              1,
              "#f0f921"
             ]
            ],
            "type": "histogram2d"
           }
          ],
          "histogram2dcontour": [
           {
            "colorbar": {
             "outlinewidth": 0,
             "ticks": ""
            },
            "colorscale": [
             [
              0,
              "#0d0887"
             ],
             [
              0.1111111111111111,
              "#46039f"
             ],
             [
              0.2222222222222222,
              "#7201a8"
             ],
             [
              0.3333333333333333,
              "#9c179e"
             ],
             [
              0.4444444444444444,
              "#bd3786"
             ],
             [
              0.5555555555555556,
              "#d8576b"
             ],
             [
              0.6666666666666666,
              "#ed7953"
             ],
             [
              0.7777777777777778,
              "#fb9f3a"
             ],
             [
              0.8888888888888888,
              "#fdca26"
             ],
             [
              1,
              "#f0f921"
             ]
            ],
            "type": "histogram2dcontour"
           }
          ],
          "mesh3d": [
           {
            "colorbar": {
             "outlinewidth": 0,
             "ticks": ""
            },
            "type": "mesh3d"
           }
          ],
          "parcoords": [
           {
            "line": {
             "colorbar": {
              "outlinewidth": 0,
              "ticks": ""
             }
            },
            "type": "parcoords"
           }
          ],
          "pie": [
           {
            "automargin": true,
            "type": "pie"
           }
          ],
          "scatter": [
           {
            "fillpattern": {
             "fillmode": "overlay",
             "size": 10,
             "solidity": 0.2
            },
            "type": "scatter"
           }
          ],
          "scatter3d": [
           {
            "line": {
             "colorbar": {
              "outlinewidth": 0,
              "ticks": ""
             }
            },
            "marker": {
             "colorbar": {
              "outlinewidth": 0,
              "ticks": ""
             }
            },
            "type": "scatter3d"
           }
          ],
          "scattercarpet": [
           {
            "marker": {
             "colorbar": {
              "outlinewidth": 0,
              "ticks": ""
             }
            },
            "type": "scattercarpet"
           }
          ],
          "scattergeo": [
           {
            "marker": {
             "colorbar": {
              "outlinewidth": 0,
              "ticks": ""
             }
            },
            "type": "scattergeo"
           }
          ],
          "scattergl": [
           {
            "marker": {
             "colorbar": {
              "outlinewidth": 0,
              "ticks": ""
             }
            },
            "type": "scattergl"
           }
          ],
          "scattermapbox": [
           {
            "marker": {
             "colorbar": {
              "outlinewidth": 0,
              "ticks": ""
             }
            },
            "type": "scattermapbox"
           }
          ],
          "scatterpolar": [
           {
            "marker": {
             "colorbar": {
              "outlinewidth": 0,
              "ticks": ""
             }
            },
            "type": "scatterpolar"
           }
          ],
          "scatterpolargl": [
           {
            "marker": {
             "colorbar": {
              "outlinewidth": 0,
              "ticks": ""
             }
            },
            "type": "scatterpolargl"
           }
          ],
          "scatterternary": [
           {
            "marker": {
             "colorbar": {
              "outlinewidth": 0,
              "ticks": ""
             }
            },
            "type": "scatterternary"
           }
          ],
          "surface": [
           {
            "colorbar": {
             "outlinewidth": 0,
             "ticks": ""
            },
            "colorscale": [
             [
              0,
              "#0d0887"
             ],
             [
              0.1111111111111111,
              "#46039f"
             ],
             [
              0.2222222222222222,
              "#7201a8"
             ],
             [
              0.3333333333333333,
              "#9c179e"
             ],
             [
              0.4444444444444444,
              "#bd3786"
             ],
             [
              0.5555555555555556,
              "#d8576b"
             ],
             [
              0.6666666666666666,
              "#ed7953"
             ],
             [
              0.7777777777777778,
              "#fb9f3a"
             ],
             [
              0.8888888888888888,
              "#fdca26"
             ],
             [
              1,
              "#f0f921"
             ]
            ],
            "type": "surface"
           }
          ],
          "table": [
           {
            "cells": {
             "fill": {
              "color": "#EBF0F8"
             },
             "line": {
              "color": "white"
             }
            },
            "header": {
             "fill": {
              "color": "#C8D4E3"
             },
             "line": {
              "color": "white"
             }
            },
            "type": "table"
           }
          ]
         },
         "layout": {
          "annotationdefaults": {
           "arrowcolor": "#2a3f5f",
           "arrowhead": 0,
           "arrowwidth": 1
          },
          "autotypenumbers": "strict",
          "coloraxis": {
           "colorbar": {
            "outlinewidth": 0,
            "ticks": ""
           }
          },
          "colorscale": {
           "diverging": [
            [
             0,
             "#8e0152"
            ],
            [
             0.1,
             "#c51b7d"
            ],
            [
             0.2,
             "#de77ae"
            ],
            [
             0.3,
             "#f1b6da"
            ],
            [
             0.4,
             "#fde0ef"
            ],
            [
             0.5,
             "#f7f7f7"
            ],
            [
             0.6,
             "#e6f5d0"
            ],
            [
             0.7,
             "#b8e186"
            ],
            [
             0.8,
             "#7fbc41"
            ],
            [
             0.9,
             "#4d9221"
            ],
            [
             1,
             "#276419"
            ]
           ],
           "sequential": [
            [
             0,
             "#0d0887"
            ],
            [
             0.1111111111111111,
             "#46039f"
            ],
            [
             0.2222222222222222,
             "#7201a8"
            ],
            [
             0.3333333333333333,
             "#9c179e"
            ],
            [
             0.4444444444444444,
             "#bd3786"
            ],
            [
             0.5555555555555556,
             "#d8576b"
            ],
            [
             0.6666666666666666,
             "#ed7953"
            ],
            [
             0.7777777777777778,
             "#fb9f3a"
            ],
            [
             0.8888888888888888,
             "#fdca26"
            ],
            [
             1,
             "#f0f921"
            ]
           ],
           "sequentialminus": [
            [
             0,
             "#0d0887"
            ],
            [
             0.1111111111111111,
             "#46039f"
            ],
            [
             0.2222222222222222,
             "#7201a8"
            ],
            [
             0.3333333333333333,
             "#9c179e"
            ],
            [
             0.4444444444444444,
             "#bd3786"
            ],
            [
             0.5555555555555556,
             "#d8576b"
            ],
            [
             0.6666666666666666,
             "#ed7953"
            ],
            [
             0.7777777777777778,
             "#fb9f3a"
            ],
            [
             0.8888888888888888,
             "#fdca26"
            ],
            [
             1,
             "#f0f921"
            ]
           ]
          },
          "colorway": [
           "#636efa",
           "#EF553B",
           "#00cc96",
           "#ab63fa",
           "#FFA15A",
           "#19d3f3",
           "#FF6692",
           "#B6E880",
           "#FF97FF",
           "#FECB52"
          ],
          "font": {
           "color": "#2a3f5f"
          },
          "geo": {
           "bgcolor": "white",
           "lakecolor": "white",
           "landcolor": "white",
           "showlakes": true,
           "showland": true,
           "subunitcolor": "#C8D4E3"
          },
          "hoverlabel": {
           "align": "left"
          },
          "hovermode": "closest",
          "mapbox": {
           "style": "light"
          },
          "paper_bgcolor": "white",
          "plot_bgcolor": "white",
          "polar": {
           "angularaxis": {
            "gridcolor": "#EBF0F8",
            "linecolor": "#EBF0F8",
            "ticks": ""
           },
           "bgcolor": "white",
           "radialaxis": {
            "gridcolor": "#EBF0F8",
            "linecolor": "#EBF0F8",
            "ticks": ""
           }
          },
          "scene": {
           "xaxis": {
            "backgroundcolor": "white",
            "gridcolor": "#DFE8F3",
            "gridwidth": 2,
            "linecolor": "#EBF0F8",
            "showbackground": true,
            "ticks": "",
            "zerolinecolor": "#EBF0F8"
           },
           "yaxis": {
            "backgroundcolor": "white",
            "gridcolor": "#DFE8F3",
            "gridwidth": 2,
            "linecolor": "#EBF0F8",
            "showbackground": true,
            "ticks": "",
            "zerolinecolor": "#EBF0F8"
           },
           "zaxis": {
            "backgroundcolor": "white",
            "gridcolor": "#DFE8F3",
            "gridwidth": 2,
            "linecolor": "#EBF0F8",
            "showbackground": true,
            "ticks": "",
            "zerolinecolor": "#EBF0F8"
           }
          },
          "shapedefaults": {
           "line": {
            "color": "#2a3f5f"
           }
          },
          "ternary": {
           "aaxis": {
            "gridcolor": "#DFE8F3",
            "linecolor": "#A2B1C6",
            "ticks": ""
           },
           "baxis": {
            "gridcolor": "#DFE8F3",
            "linecolor": "#A2B1C6",
            "ticks": ""
           },
           "bgcolor": "white",
           "caxis": {
            "gridcolor": "#DFE8F3",
            "linecolor": "#A2B1C6",
            "ticks": ""
           }
          },
          "title": {
           "x": 0.05
          },
          "xaxis": {
           "automargin": true,
           "gridcolor": "#EBF0F8",
           "linecolor": "#EBF0F8",
           "ticks": "",
           "title": {
            "standoff": 15
           },
           "zerolinecolor": "#EBF0F8",
           "zerolinewidth": 2
          },
          "yaxis": {
           "automargin": true,
           "gridcolor": "#EBF0F8",
           "linecolor": "#EBF0F8",
           "ticks": "",
           "title": {
            "standoff": 15
           },
           "zerolinecolor": "#EBF0F8",
           "zerolinewidth": 2
          }
         }
        },
        "title": {
         "text": "Seasonal decomposition for pop"
        },
        "width": 1200,
        "xaxis": {
         "anchor": "y",
         "domain": [
          0,
          1
         ]
        },
        "xaxis2": {
         "anchor": "y2",
         "domain": [
          0,
          1
         ]
        },
        "xaxis3": {
         "anchor": "y3",
         "domain": [
          0,
          1
         ]
        },
        "yaxis": {
         "anchor": "x",
         "domain": [
          0.7777777777777778,
          1
         ]
        },
        "yaxis2": {
         "anchor": "x2",
         "domain": [
          0.3888888888888889,
          0.6111111111111112
         ]
        },
        "yaxis3": {
         "anchor": "x3",
         "domain": [
          0,
          0.22222222222222224
         ]
        }
       }
      }
     },
     "metadata": {},
     "output_type": "display_data"
    },
    {
     "data": {
      "application/vnd.plotly.v1+json": {
       "config": {
        "plotlyServerURL": "https://plot.ly"
       },
       "data": [
        {
         "mode": "lines",
         "name": "Trend",
         "type": "scatter",
         "x": [
          "1959-01-01T00:00:00",
          "1959-04-01T00:00:00",
          "1959-07-01T00:00:00",
          "1959-10-01T00:00:00",
          "1960-01-01T00:00:00",
          "1960-04-01T00:00:00",
          "1960-07-01T00:00:00",
          "1960-10-01T00:00:00",
          "1961-01-01T00:00:00",
          "1961-04-01T00:00:00",
          "1961-07-01T00:00:00",
          "1961-10-01T00:00:00",
          "1962-01-01T00:00:00",
          "1962-04-01T00:00:00",
          "1962-07-01T00:00:00",
          "1962-10-01T00:00:00",
          "1963-01-01T00:00:00",
          "1963-04-01T00:00:00",
          "1963-07-01T00:00:00",
          "1963-10-01T00:00:00",
          "1964-01-01T00:00:00",
          "1964-04-01T00:00:00",
          "1964-07-01T00:00:00",
          "1964-10-01T00:00:00",
          "1965-01-01T00:00:00",
          "1965-04-01T00:00:00",
          "1965-07-01T00:00:00",
          "1965-10-01T00:00:00",
          "1966-01-01T00:00:00",
          "1966-04-01T00:00:00",
          "1966-07-01T00:00:00",
          "1966-10-01T00:00:00",
          "1967-01-01T00:00:00",
          "1967-04-01T00:00:00",
          "1967-07-01T00:00:00",
          "1967-10-01T00:00:00",
          "1968-01-01T00:00:00",
          "1968-04-01T00:00:00",
          "1968-07-01T00:00:00",
          "1968-10-01T00:00:00",
          "1969-01-01T00:00:00",
          "1969-04-01T00:00:00",
          "1969-07-01T00:00:00",
          "1969-10-01T00:00:00",
          "1970-01-01T00:00:00",
          "1970-04-01T00:00:00",
          "1970-07-01T00:00:00",
          "1970-10-01T00:00:00",
          "1971-01-01T00:00:00",
          "1971-04-01T00:00:00",
          "1971-07-01T00:00:00",
          "1971-10-01T00:00:00",
          "1972-01-01T00:00:00",
          "1972-04-01T00:00:00",
          "1972-07-01T00:00:00",
          "1972-10-01T00:00:00",
          "1973-01-01T00:00:00",
          "1973-04-01T00:00:00",
          "1973-07-01T00:00:00",
          "1973-10-01T00:00:00",
          "1974-01-01T00:00:00",
          "1974-04-01T00:00:00",
          "1974-07-01T00:00:00",
          "1974-10-01T00:00:00",
          "1975-01-01T00:00:00",
          "1975-04-01T00:00:00",
          "1975-07-01T00:00:00",
          "1975-10-01T00:00:00",
          "1976-01-01T00:00:00",
          "1976-04-01T00:00:00",
          "1976-07-01T00:00:00",
          "1976-10-01T00:00:00",
          "1977-01-01T00:00:00",
          "1977-04-01T00:00:00",
          "1977-07-01T00:00:00",
          "1977-10-01T00:00:00",
          "1978-01-01T00:00:00",
          "1978-04-01T00:00:00",
          "1978-07-01T00:00:00",
          "1978-10-01T00:00:00",
          "1979-01-01T00:00:00",
          "1979-04-01T00:00:00",
          "1979-07-01T00:00:00",
          "1979-10-01T00:00:00",
          "1980-01-01T00:00:00",
          "1980-04-01T00:00:00",
          "1980-07-01T00:00:00",
          "1980-10-01T00:00:00",
          "1981-01-01T00:00:00",
          "1981-04-01T00:00:00",
          "1981-07-01T00:00:00",
          "1981-10-01T00:00:00",
          "1982-01-01T00:00:00",
          "1982-04-01T00:00:00",
          "1982-07-01T00:00:00",
          "1982-10-01T00:00:00",
          "1983-01-01T00:00:00",
          "1983-04-01T00:00:00",
          "1983-07-01T00:00:00",
          "1983-10-01T00:00:00",
          "1984-01-01T00:00:00",
          "1984-04-01T00:00:00",
          "1984-07-01T00:00:00",
          "1984-10-01T00:00:00",
          "1985-01-01T00:00:00",
          "1985-04-01T00:00:00",
          "1985-07-01T00:00:00",
          "1985-10-01T00:00:00",
          "1986-01-01T00:00:00",
          "1986-04-01T00:00:00",
          "1986-07-01T00:00:00",
          "1986-10-01T00:00:00",
          "1987-01-01T00:00:00",
          "1987-04-01T00:00:00",
          "1987-07-01T00:00:00",
          "1987-10-01T00:00:00",
          "1988-01-01T00:00:00",
          "1988-04-01T00:00:00",
          "1988-07-01T00:00:00",
          "1988-10-01T00:00:00",
          "1989-01-01T00:00:00",
          "1989-04-01T00:00:00",
          "1989-07-01T00:00:00",
          "1989-10-01T00:00:00",
          "1990-01-01T00:00:00",
          "1990-04-01T00:00:00",
          "1990-07-01T00:00:00",
          "1990-10-01T00:00:00",
          "1991-01-01T00:00:00",
          "1991-04-01T00:00:00",
          "1991-07-01T00:00:00",
          "1991-10-01T00:00:00",
          "1992-01-01T00:00:00",
          "1992-04-01T00:00:00",
          "1992-07-01T00:00:00",
          "1992-10-01T00:00:00",
          "1993-01-01T00:00:00",
          "1993-04-01T00:00:00",
          "1993-07-01T00:00:00",
          "1993-10-01T00:00:00",
          "1994-01-01T00:00:00",
          "1994-04-01T00:00:00",
          "1994-07-01T00:00:00",
          "1994-10-01T00:00:00",
          "1995-01-01T00:00:00",
          "1995-04-01T00:00:00",
          "1995-07-01T00:00:00",
          "1995-10-01T00:00:00",
          "1996-01-01T00:00:00",
          "1996-04-01T00:00:00",
          "1996-07-01T00:00:00",
          "1996-10-01T00:00:00",
          "1997-01-01T00:00:00",
          "1997-04-01T00:00:00",
          "1997-07-01T00:00:00",
          "1997-10-01T00:00:00",
          "1998-01-01T00:00:00",
          "1998-04-01T00:00:00",
          "1998-07-01T00:00:00",
          "1998-10-01T00:00:00",
          "1999-01-01T00:00:00",
          "1999-04-01T00:00:00",
          "1999-07-01T00:00:00",
          "1999-10-01T00:00:00",
          "2000-01-01T00:00:00",
          "2000-04-01T00:00:00",
          "2000-07-01T00:00:00",
          "2000-10-01T00:00:00",
          "2001-01-01T00:00:00",
          "2001-04-01T00:00:00",
          "2001-07-01T00:00:00",
          "2001-10-01T00:00:00",
          "2002-01-01T00:00:00",
          "2002-04-01T00:00:00",
          "2002-07-01T00:00:00",
          "2002-10-01T00:00:00",
          "2003-01-01T00:00:00",
          "2003-04-01T00:00:00",
          "2003-07-01T00:00:00",
          "2003-10-01T00:00:00",
          "2004-01-01T00:00:00",
          "2004-04-01T00:00:00",
          "2004-07-01T00:00:00",
          "2004-10-01T00:00:00",
          "2005-01-01T00:00:00",
          "2005-04-01T00:00:00",
          "2005-07-01T00:00:00",
          "2005-10-01T00:00:00",
          "2006-01-01T00:00:00",
          "2006-04-01T00:00:00",
          "2006-07-01T00:00:00",
          "2006-10-01T00:00:00",
          "2007-01-01T00:00:00",
          "2007-04-01T00:00:00",
          "2007-07-01T00:00:00",
          "2007-10-01T00:00:00",
          "2008-01-01T00:00:00",
          "2008-04-01T00:00:00",
          "2008-07-01T00:00:00",
          "2008-10-01T00:00:00",
          "2009-01-01T00:00:00",
          "2009-04-01T00:00:00",
          "2009-07-01T00:00:00"
         ],
         "xaxis": "x",
         "y": [
          null,
          null,
          5.375,
          5.3125,
          5.3625,
          5.487499999999999,
          5.7749999999999995,
          6.2,
          6.574999999999999,
          6.7125,
          6.55,
          6.2125,
          5.875,
          5.637499999999999,
          5.574999999999999,
          5.625,
          5.6375,
          5.6375,
          5.6125,
          5.5125,
          5.3875,
          5.25,
          5.1,
          4.9625,
          4.825,
          4.6375,
          4.4,
          4.1625,
          3.975,
          3.85,
          3.7875,
          3.775,
          3.775,
          3.8,
          3.8125,
          3.7625,
          3.6875,
          4.4375,
          5.187499999999999,
          5.137499999999999,
          5.1375,
          4.325,
          3.5999999999999996,
          3.8750000000000004,
          4.250000000000001,
          4.725,
          5.2125,
          5.562499999999999,
          5.800000000000001,
          5.925000000000001,
          5.9375,
          5.9,
          5.825,
          5.6875,
          5.5,
          5.3,
          5.1,
          4.9375,
          4.8875,
          4.9375,
          5.075,
          5.3999999999999995,
          6.012499999999999,
          6.8625,
          7.6875,
          8.2625,
          8.4125,
          8.1875,
          7.925000000000001,
          7.7625,
          7.675,
          7.5875,
          7.425,
          7.175,
          6.875,
          6.5874999999999995,
          6.3375,
          6.1375,
          6,
          5.9125000000000005,
          5.8625,
          5.8500000000000005,
          5.9,
          6.1499999999999995,
          6.575000000000001,
          6.9875,
          7.312499999999999,
          7.4624999999999995,
          7.437499999999999,
          7.5,
          7.775,
          8.200000000000001,
          8.762500000000001,
          9.387500000000001,
          9.900000000000002,
          10.1875,
          10.2125,
          9.875,
          9.287500000000001,
          8.65,
          8.075000000000001,
          7.674999999999999,
          7.45,
          7.35,
          7.300000000000001,
          7.2375,
          7.1625,
          7.112500000000001,
          7.075,
          7.0249999999999995,
          6.95,
          6.7875,
          6.55,
          6.3125,
          6.0875,
          5.875,
          5.7125,
          5.574999999999999,
          5.4375,
          5.3375,
          5.2749999999999995,
          5.2625,
          5.2875,
          5.3125,
          5.375000000000001,
          5.5125,
          5.7625,
          6.112499999999999,
          6.449999999999999,
          6.7250000000000005,
          6.95,
          7.1499999999999995,
          7.337500000000001,
          7.4624999999999995,
          7.475,
          7.387499999999999,
          7.225,
          7.025,
          6.8500000000000005,
          6.6625,
          6.45,
          6.225,
          5.9625,
          5.7625,
          5.6625000000000005,
          5.625,
          5.625,
          5.6,
          5.5249999999999995,
          6.7625,
          8.012500000000001,
          7.9125000000000005,
          7.8,
          6.35,
          4.875,
          4.7250000000000005,
          4.6,
          4.5125,
          4.4375,
          4.3875,
          4.3375,
          4.2625,
          4.1875,
          4.1,
          4.025,
          3.9749999999999996,
          3.975,
          4.0625,
          4.2250000000000005,
          4.525,
          4.9125000000000005,
          5.2749999999999995,
          5.562500000000001,
          5.7124999999999995,
          5.775,
          5.85,
          5.95,
          6,
          5.9750000000000005,
          5.875,
          5.7124999999999995,
          5.575,
          5.475,
          5.3625,
          5.25,
          5.1375,
          5,
          4.875,
          4.7875000000000005,
          4.6875,
          4.6,
          4.550000000000001,
          4.525,
          4.574999999999999,
          4.675,
          4.8374999999999995,
          5.112500000000001,
          5.5375000000000005,
          6.2,
          7.074999999999999,
          8,
          null,
          null
         ],
         "yaxis": "y"
        },
        {
         "mode": "lines",
         "name": "Seasonality",
         "type": "scatter",
         "x": [
          "1959-01-01T00:00:00",
          "1959-04-01T00:00:00",
          "1959-07-01T00:00:00",
          "1959-10-01T00:00:00",
          "1960-01-01T00:00:00",
          "1960-04-01T00:00:00",
          "1960-07-01T00:00:00",
          "1960-10-01T00:00:00",
          "1961-01-01T00:00:00",
          "1961-04-01T00:00:00",
          "1961-07-01T00:00:00",
          "1961-10-01T00:00:00",
          "1962-01-01T00:00:00",
          "1962-04-01T00:00:00",
          "1962-07-01T00:00:00",
          "1962-10-01T00:00:00",
          "1963-01-01T00:00:00",
          "1963-04-01T00:00:00",
          "1963-07-01T00:00:00",
          "1963-10-01T00:00:00",
          "1964-01-01T00:00:00",
          "1964-04-01T00:00:00",
          "1964-07-01T00:00:00",
          "1964-10-01T00:00:00",
          "1965-01-01T00:00:00",
          "1965-04-01T00:00:00",
          "1965-07-01T00:00:00",
          "1965-10-01T00:00:00",
          "1966-01-01T00:00:00",
          "1966-04-01T00:00:00",
          "1966-07-01T00:00:00",
          "1966-10-01T00:00:00",
          "1967-01-01T00:00:00",
          "1967-04-01T00:00:00",
          "1967-07-01T00:00:00",
          "1967-10-01T00:00:00",
          "1968-01-01T00:00:00",
          "1968-04-01T00:00:00",
          "1968-07-01T00:00:00",
          "1968-10-01T00:00:00",
          "1969-01-01T00:00:00",
          "1969-04-01T00:00:00",
          "1969-07-01T00:00:00",
          "1969-10-01T00:00:00",
          "1970-01-01T00:00:00",
          "1970-04-01T00:00:00",
          "1970-07-01T00:00:00",
          "1970-10-01T00:00:00",
          "1971-01-01T00:00:00",
          "1971-04-01T00:00:00",
          "1971-07-01T00:00:00",
          "1971-10-01T00:00:00",
          "1972-01-01T00:00:00",
          "1972-04-01T00:00:00",
          "1972-07-01T00:00:00",
          "1972-10-01T00:00:00",
          "1973-01-01T00:00:00",
          "1973-04-01T00:00:00",
          "1973-07-01T00:00:00",
          "1973-10-01T00:00:00",
          "1974-01-01T00:00:00",
          "1974-04-01T00:00:00",
          "1974-07-01T00:00:00",
          "1974-10-01T00:00:00",
          "1975-01-01T00:00:00",
          "1975-04-01T00:00:00",
          "1975-07-01T00:00:00",
          "1975-10-01T00:00:00",
          "1976-01-01T00:00:00",
          "1976-04-01T00:00:00",
          "1976-07-01T00:00:00",
          "1976-10-01T00:00:00",
          "1977-01-01T00:00:00",
          "1977-04-01T00:00:00",
          "1977-07-01T00:00:00",
          "1977-10-01T00:00:00",
          "1978-01-01T00:00:00",
          "1978-04-01T00:00:00",
          "1978-07-01T00:00:00",
          "1978-10-01T00:00:00",
          "1979-01-01T00:00:00",
          "1979-04-01T00:00:00",
          "1979-07-01T00:00:00",
          "1979-10-01T00:00:00",
          "1980-01-01T00:00:00",
          "1980-04-01T00:00:00",
          "1980-07-01T00:00:00",
          "1980-10-01T00:00:00",
          "1981-01-01T00:00:00",
          "1981-04-01T00:00:00",
          "1981-07-01T00:00:00",
          "1981-10-01T00:00:00",
          "1982-01-01T00:00:00",
          "1982-04-01T00:00:00",
          "1982-07-01T00:00:00",
          "1982-10-01T00:00:00",
          "1983-01-01T00:00:00",
          "1983-04-01T00:00:00",
          "1983-07-01T00:00:00",
          "1983-10-01T00:00:00",
          "1984-01-01T00:00:00",
          "1984-04-01T00:00:00",
          "1984-07-01T00:00:00",
          "1984-10-01T00:00:00",
          "1985-01-01T00:00:00",
          "1985-04-01T00:00:00",
          "1985-07-01T00:00:00",
          "1985-10-01T00:00:00",
          "1986-01-01T00:00:00",
          "1986-04-01T00:00:00",
          "1986-07-01T00:00:00",
          "1986-10-01T00:00:00",
          "1987-01-01T00:00:00",
          "1987-04-01T00:00:00",
          "1987-07-01T00:00:00",
          "1987-10-01T00:00:00",
          "1988-01-01T00:00:00",
          "1988-04-01T00:00:00",
          "1988-07-01T00:00:00",
          "1988-10-01T00:00:00",
          "1989-01-01T00:00:00",
          "1989-04-01T00:00:00",
          "1989-07-01T00:00:00",
          "1989-10-01T00:00:00",
          "1990-01-01T00:00:00",
          "1990-04-01T00:00:00",
          "1990-07-01T00:00:00",
          "1990-10-01T00:00:00",
          "1991-01-01T00:00:00",
          "1991-04-01T00:00:00",
          "1991-07-01T00:00:00",
          "1991-10-01T00:00:00",
          "1992-01-01T00:00:00",
          "1992-04-01T00:00:00",
          "1992-07-01T00:00:00",
          "1992-10-01T00:00:00",
          "1993-01-01T00:00:00",
          "1993-04-01T00:00:00",
          "1993-07-01T00:00:00",
          "1993-10-01T00:00:00",
          "1994-01-01T00:00:00",
          "1994-04-01T00:00:00",
          "1994-07-01T00:00:00",
          "1994-10-01T00:00:00",
          "1995-01-01T00:00:00",
          "1995-04-01T00:00:00",
          "1995-07-01T00:00:00",
          "1995-10-01T00:00:00",
          "1996-01-01T00:00:00",
          "1996-04-01T00:00:00",
          "1996-07-01T00:00:00",
          "1996-10-01T00:00:00",
          "1997-01-01T00:00:00",
          "1997-04-01T00:00:00",
          "1997-07-01T00:00:00",
          "1997-10-01T00:00:00",
          "1998-01-01T00:00:00",
          "1998-04-01T00:00:00",
          "1998-07-01T00:00:00",
          "1998-10-01T00:00:00",
          "1999-01-01T00:00:00",
          "1999-04-01T00:00:00",
          "1999-07-01T00:00:00",
          "1999-10-01T00:00:00",
          "2000-01-01T00:00:00",
          "2000-04-01T00:00:00",
          "2000-07-01T00:00:00",
          "2000-10-01T00:00:00",
          "2001-01-01T00:00:00",
          "2001-04-01T00:00:00",
          "2001-07-01T00:00:00",
          "2001-10-01T00:00:00",
          "2002-01-01T00:00:00",
          "2002-04-01T00:00:00",
          "2002-07-01T00:00:00",
          "2002-10-01T00:00:00",
          "2003-01-01T00:00:00",
          "2003-04-01T00:00:00",
          "2003-07-01T00:00:00",
          "2003-10-01T00:00:00",
          "2004-01-01T00:00:00",
          "2004-04-01T00:00:00",
          "2004-07-01T00:00:00",
          "2004-10-01T00:00:00",
          "2005-01-01T00:00:00",
          "2005-04-01T00:00:00",
          "2005-07-01T00:00:00",
          "2005-10-01T00:00:00",
          "2006-01-01T00:00:00",
          "2006-04-01T00:00:00",
          "2006-07-01T00:00:00",
          "2006-10-01T00:00:00",
          "2007-01-01T00:00:00",
          "2007-04-01T00:00:00",
          "2007-07-01T00:00:00",
          "2007-10-01T00:00:00",
          "2008-01-01T00:00:00",
          "2008-04-01T00:00:00",
          "2008-07-01T00:00:00",
          "2008-10-01T00:00:00",
          "2009-01-01T00:00:00",
          "2009-04-01T00:00:00",
          "2009-07-01T00:00:00"
         ],
         "xaxis": "x2",
         "y": [
          -0.08430484693877567,
          -0.08508545918367338,
          -0.08930484693877551,
          0.25869515306122454,
          -0.08430484693877567,
          -0.08508545918367338,
          -0.08930484693877551,
          0.25869515306122454,
          -0.08430484693877567,
          -0.08508545918367338,
          -0.08930484693877551,
          0.25869515306122454,
          -0.08430484693877567,
          -0.08508545918367338,
          -0.08930484693877551,
          0.25869515306122454,
          -0.08430484693877567,
          -0.08508545918367338,
          -0.08930484693877551,
          0.25869515306122454,
          -0.08430484693877567,
          -0.08508545918367338,
          -0.08930484693877551,
          0.25869515306122454,
          -0.08430484693877567,
          -0.08508545918367338,
          -0.08930484693877551,
          0.25869515306122454,
          -0.08430484693877567,
          -0.08508545918367338,
          -0.08930484693877551,
          0.25869515306122454,
          -0.08430484693877567,
          -0.08508545918367338,
          -0.08930484693877551,
          0.25869515306122454,
          -0.08430484693877567,
          -0.08508545918367338,
          -0.08930484693877551,
          0.25869515306122454,
          -0.08430484693877567,
          -0.08508545918367338,
          -0.08930484693877551,
          0.25869515306122454,
          -0.08430484693877567,
          -0.08508545918367338,
          -0.08930484693877551,
          0.25869515306122454,
          -0.08430484693877567,
          -0.08508545918367338,
          -0.08930484693877551,
          0.25869515306122454,
          -0.08430484693877567,
          -0.08508545918367338,
          -0.08930484693877551,
          0.25869515306122454,
          -0.08430484693877567,
          -0.08508545918367338,
          -0.08930484693877551,
          0.25869515306122454,
          -0.08430484693877567,
          -0.08508545918367338,
          -0.08930484693877551,
          0.25869515306122454,
          -0.08430484693877567,
          -0.08508545918367338,
          -0.08930484693877551,
          0.25869515306122454,
          -0.08430484693877567,
          -0.08508545918367338,
          -0.08930484693877551,
          0.25869515306122454,
          -0.08430484693877567,
          -0.08508545918367338,
          -0.08930484693877551,
          0.25869515306122454,
          -0.08430484693877567,
          -0.08508545918367338,
          -0.08930484693877551,
          0.25869515306122454,
          -0.08430484693877567,
          -0.08508545918367338,
          -0.08930484693877551,
          0.25869515306122454,
          -0.08430484693877567,
          -0.08508545918367338,
          -0.08930484693877551,
          0.25869515306122454,
          -0.08430484693877567,
          -0.08508545918367338,
          -0.08930484693877551,
          0.25869515306122454,
          -0.08430484693877567,
          -0.08508545918367338,
          -0.08930484693877551,
          0.25869515306122454,
          -0.08430484693877567,
          -0.08508545918367338,
          -0.08930484693877551,
          0.25869515306122454,
          -0.08430484693877567,
          -0.08508545918367338,
          -0.08930484693877551,
          0.25869515306122454,
          -0.08430484693877567,
          -0.08508545918367338,
          -0.08930484693877551,
          0.25869515306122454,
          -0.08430484693877567,
          -0.08508545918367338,
          -0.08930484693877551,
          0.25869515306122454,
          -0.08430484693877567,
          -0.08508545918367338,
          -0.08930484693877551,
          0.25869515306122454,
          -0.08430484693877567,
          -0.08508545918367338,
          -0.08930484693877551,
          0.25869515306122454,
          -0.08430484693877567,
          -0.08508545918367338,
          -0.08930484693877551,
          0.25869515306122454,
          -0.08430484693877567,
          -0.08508545918367338,
          -0.08930484693877551,
          0.25869515306122454,
          -0.08430484693877567,
          -0.08508545918367338,
          -0.08930484693877551,
          0.25869515306122454,
          -0.08430484693877567,
          -0.08508545918367338,
          -0.08930484693877551,
          0.25869515306122454,
          -0.08430484693877567,
          -0.08508545918367338,
          -0.08930484693877551,
          0.25869515306122454,
          -0.08430484693877567,
          -0.08508545918367338,
          -0.08930484693877551,
          0.25869515306122454,
          -0.08430484693877567,
          -0.08508545918367338,
          -0.08930484693877551,
          0.25869515306122454,
          -0.08430484693877567,
          -0.08508545918367338,
          -0.08930484693877551,
          0.25869515306122454,
          -0.08430484693877567,
          -0.08508545918367338,
          -0.08930484693877551,
          0.25869515306122454,
          -0.08430484693877567,
          -0.08508545918367338,
          -0.08930484693877551,
          0.25869515306122454,
          -0.08430484693877567,
          -0.08508545918367338,
          -0.08930484693877551,
          0.25869515306122454,
          -0.08430484693877567,
          -0.08508545918367338,
          -0.08930484693877551,
          0.25869515306122454,
          -0.08430484693877567,
          -0.08508545918367338,
          -0.08930484693877551,
          0.25869515306122454,
          -0.08430484693877567,
          -0.08508545918367338,
          -0.08930484693877551,
          0.25869515306122454,
          -0.08430484693877567,
          -0.08508545918367338,
          -0.08930484693877551,
          0.25869515306122454,
          -0.08430484693877567,
          -0.08508545918367338,
          -0.08930484693877551,
          0.25869515306122454,
          -0.08430484693877567,
          -0.08508545918367338,
          -0.08930484693877551,
          0.25869515306122454,
          -0.08430484693877567,
          -0.08508545918367338,
          -0.08930484693877551,
          0.25869515306122454,
          -0.08430484693877567,
          -0.08508545918367338,
          -0.08930484693877551,
          0.25869515306122454,
          -0.08430484693877567,
          -0.08508545918367338,
          -0.08930484693877551,
          0.25869515306122454,
          -0.08430484693877567,
          -0.08508545918367338,
          -0.08930484693877551
         ],
         "yaxis": "y2"
        },
        {
         "mode": "lines",
         "name": "Residuals",
         "type": "scatter",
         "x": [
          "1959-01-01T00:00:00",
          "1959-04-01T00:00:00",
          "1959-07-01T00:00:00",
          "1959-10-01T00:00:00",
          "1960-01-01T00:00:00",
          "1960-04-01T00:00:00",
          "1960-07-01T00:00:00",
          "1960-10-01T00:00:00",
          "1961-01-01T00:00:00",
          "1961-04-01T00:00:00",
          "1961-07-01T00:00:00",
          "1961-10-01T00:00:00",
          "1962-01-01T00:00:00",
          "1962-04-01T00:00:00",
          "1962-07-01T00:00:00",
          "1962-10-01T00:00:00",
          "1963-01-01T00:00:00",
          "1963-04-01T00:00:00",
          "1963-07-01T00:00:00",
          "1963-10-01T00:00:00",
          "1964-01-01T00:00:00",
          "1964-04-01T00:00:00",
          "1964-07-01T00:00:00",
          "1964-10-01T00:00:00",
          "1965-01-01T00:00:00",
          "1965-04-01T00:00:00",
          "1965-07-01T00:00:00",
          "1965-10-01T00:00:00",
          "1966-01-01T00:00:00",
          "1966-04-01T00:00:00",
          "1966-07-01T00:00:00",
          "1966-10-01T00:00:00",
          "1967-01-01T00:00:00",
          "1967-04-01T00:00:00",
          "1967-07-01T00:00:00",
          "1967-10-01T00:00:00",
          "1968-01-01T00:00:00",
          "1968-04-01T00:00:00",
          "1968-07-01T00:00:00",
          "1968-10-01T00:00:00",
          "1969-01-01T00:00:00",
          "1969-04-01T00:00:00",
          "1969-07-01T00:00:00",
          "1969-10-01T00:00:00",
          "1970-01-01T00:00:00",
          "1970-04-01T00:00:00",
          "1970-07-01T00:00:00",
          "1970-10-01T00:00:00",
          "1971-01-01T00:00:00",
          "1971-04-01T00:00:00",
          "1971-07-01T00:00:00",
          "1971-10-01T00:00:00",
          "1972-01-01T00:00:00",
          "1972-04-01T00:00:00",
          "1972-07-01T00:00:00",
          "1972-10-01T00:00:00",
          "1973-01-01T00:00:00",
          "1973-04-01T00:00:00",
          "1973-07-01T00:00:00",
          "1973-10-01T00:00:00",
          "1974-01-01T00:00:00",
          "1974-04-01T00:00:00",
          "1974-07-01T00:00:00",
          "1974-10-01T00:00:00",
          "1975-01-01T00:00:00",
          "1975-04-01T00:00:00",
          "1975-07-01T00:00:00",
          "1975-10-01T00:00:00",
          "1976-01-01T00:00:00",
          "1976-04-01T00:00:00",
          "1976-07-01T00:00:00",
          "1976-10-01T00:00:00",
          "1977-01-01T00:00:00",
          "1977-04-01T00:00:00",
          "1977-07-01T00:00:00",
          "1977-10-01T00:00:00",
          "1978-01-01T00:00:00",
          "1978-04-01T00:00:00",
          "1978-07-01T00:00:00",
          "1978-10-01T00:00:00",
          "1979-01-01T00:00:00",
          "1979-04-01T00:00:00",
          "1979-07-01T00:00:00",
          "1979-10-01T00:00:00",
          "1980-01-01T00:00:00",
          "1980-04-01T00:00:00",
          "1980-07-01T00:00:00",
          "1980-10-01T00:00:00",
          "1981-01-01T00:00:00",
          "1981-04-01T00:00:00",
          "1981-07-01T00:00:00",
          "1981-10-01T00:00:00",
          "1982-01-01T00:00:00",
          "1982-04-01T00:00:00",
          "1982-07-01T00:00:00",
          "1982-10-01T00:00:00",
          "1983-01-01T00:00:00",
          "1983-04-01T00:00:00",
          "1983-07-01T00:00:00",
          "1983-10-01T00:00:00",
          "1984-01-01T00:00:00",
          "1984-04-01T00:00:00",
          "1984-07-01T00:00:00",
          "1984-10-01T00:00:00",
          "1985-01-01T00:00:00",
          "1985-04-01T00:00:00",
          "1985-07-01T00:00:00",
          "1985-10-01T00:00:00",
          "1986-01-01T00:00:00",
          "1986-04-01T00:00:00",
          "1986-07-01T00:00:00",
          "1986-10-01T00:00:00",
          "1987-01-01T00:00:00",
          "1987-04-01T00:00:00",
          "1987-07-01T00:00:00",
          "1987-10-01T00:00:00",
          "1988-01-01T00:00:00",
          "1988-04-01T00:00:00",
          "1988-07-01T00:00:00",
          "1988-10-01T00:00:00",
          "1989-01-01T00:00:00",
          "1989-04-01T00:00:00",
          "1989-07-01T00:00:00",
          "1989-10-01T00:00:00",
          "1990-01-01T00:00:00",
          "1990-04-01T00:00:00",
          "1990-07-01T00:00:00",
          "1990-10-01T00:00:00",
          "1991-01-01T00:00:00",
          "1991-04-01T00:00:00",
          "1991-07-01T00:00:00",
          "1991-10-01T00:00:00",
          "1992-01-01T00:00:00",
          "1992-04-01T00:00:00",
          "1992-07-01T00:00:00",
          "1992-10-01T00:00:00",
          "1993-01-01T00:00:00",
          "1993-04-01T00:00:00",
          "1993-07-01T00:00:00",
          "1993-10-01T00:00:00",
          "1994-01-01T00:00:00",
          "1994-04-01T00:00:00",
          "1994-07-01T00:00:00",
          "1994-10-01T00:00:00",
          "1995-01-01T00:00:00",
          "1995-04-01T00:00:00",
          "1995-07-01T00:00:00",
          "1995-10-01T00:00:00",
          "1996-01-01T00:00:00",
          "1996-04-01T00:00:00",
          "1996-07-01T00:00:00",
          "1996-10-01T00:00:00",
          "1997-01-01T00:00:00",
          "1997-04-01T00:00:00",
          "1997-07-01T00:00:00",
          "1997-10-01T00:00:00",
          "1998-01-01T00:00:00",
          "1998-04-01T00:00:00",
          "1998-07-01T00:00:00",
          "1998-10-01T00:00:00",
          "1999-01-01T00:00:00",
          "1999-04-01T00:00:00",
          "1999-07-01T00:00:00",
          "1999-10-01T00:00:00",
          "2000-01-01T00:00:00",
          "2000-04-01T00:00:00",
          "2000-07-01T00:00:00",
          "2000-10-01T00:00:00",
          "2001-01-01T00:00:00",
          "2001-04-01T00:00:00",
          "2001-07-01T00:00:00",
          "2001-10-01T00:00:00",
          "2002-01-01T00:00:00",
          "2002-04-01T00:00:00",
          "2002-07-01T00:00:00",
          "2002-10-01T00:00:00",
          "2003-01-01T00:00:00",
          "2003-04-01T00:00:00",
          "2003-07-01T00:00:00",
          "2003-10-01T00:00:00",
          "2004-01-01T00:00:00",
          "2004-04-01T00:00:00",
          "2004-07-01T00:00:00",
          "2004-10-01T00:00:00",
          "2005-01-01T00:00:00",
          "2005-04-01T00:00:00",
          "2005-07-01T00:00:00",
          "2005-10-01T00:00:00",
          "2006-01-01T00:00:00",
          "2006-04-01T00:00:00",
          "2006-07-01T00:00:00",
          "2006-10-01T00:00:00",
          "2007-01-01T00:00:00",
          "2007-04-01T00:00:00",
          "2007-07-01T00:00:00",
          "2007-10-01T00:00:00",
          "2008-01-01T00:00:00",
          "2008-04-01T00:00:00",
          "2008-07-01T00:00:00",
          "2008-10-01T00:00:00",
          "2009-01-01T00:00:00",
          "2009-04-01T00:00:00",
          "2009-07-01T00:00:00"
         ],
         "xaxis": "x3",
         "y": [
          null,
          null,
          0.014304846938775331,
          0.02880484693877511,
          -0.07819515306122397,
          -0.20241454081632537,
          -0.08569515306122431,
          -0.1586951530612249,
          0.3093048469387762,
          0.37258545918367303,
          0.3393048469387755,
          -0.2711951530612247,
          -0.1906951530612247,
          -0.052414540816325905,
          0.11430484693877586,
          -0.38369515306122454,
          0.2468048469387753,
          0.14758545918367338,
          -0.023195153061224313,
          -0.17119515306122507,
          0.19680484693877548,
          0.03508545918367356,
          -0.010695153061224136,
          -0.2211951530612249,
          0.15930484693877583,
          0.14758545918367338,
          0.08930484693877551,
          -0.32119515306122454,
          0.009304846938775493,
          0.03508545918367312,
          0.10180484693877524,
          -0.33369515306122427,
          0.10930484693877558,
          0.08508545918367338,
          0.07680484693877533,
          -0.1211951530612248,
          0.09680484693877585,
          -0.8524145408163266,
          -1.5981951530612235,
          4.8038048469387755,
          -1.6531951530612246,
          -0.8399145408163269,
          0.08930484693877595,
          -0.5336951530612248,
          0.03430484693877496,
          0.16008545918367356,
          0.07680484693877533,
          -0.021195153061223826,
          0.1843048469387753,
          0.06008545918367303,
          0.1518048469387755,
          -0.1586951530612249,
          0.059304846938775316,
          0.09758545918367356,
          0.18930484693877514,
          -0.25869515306122454,
          -0.015695153061223974,
          0.04758545918367374,
          0.0018048469387751537,
          -0.3961951530612247,
          0.10930484693877514,
          -0.1149145408163259,
          -0.32319515306122415,
          -0.5211951530612247,
          0.596804846938775,
          0.7225854591836745,
          0.17680484693877585,
          -0.14619515306122383,
          -0.14069515306122488,
          -0.07741454081632715,
          0.11430484693877586,
          -0.04619515306122507,
          0.15930484693877583,
          0.010085459183673207,
          0.11430484693877586,
          -0.24619515306122436,
          0.04680484693877514,
          -0.05241454081632679,
          0.08930484693877551,
          -0.2711951530612247,
          0.1218048469387762,
          -0.06491454081632697,
          0.08930484693877551,
          -0.5086951530612236,
          -0.1906951530612256,
          0.3975854591836734,
          0.47680484693877656,
          -0.32119515306122365,
          0.046804846938776914,
          -0.01491454081632626,
          -0.2856951530612245,
          -0.2586951530612263,
          0.12180484693877532,
          0.09758545918367267,
          0.08930484693877373,
          0.25380484693877475,
          0.27180484693877566,
          0.31008545918367303,
          0.20180484693877443,
          -0.4086951530612249,
          -0.09069515306122504,
          -0.08991454081632555,
          0.03930484693877569,
          -0.30869515306122436,
          0.08430484693877478,
          0.14758545918367338,
          0.12680484693877603,
          -0.37119515306122525,
          0.009304846938775493,
          0.2600854591836741,
          0.13930484693877532,
          -0.24619515306122436,
          0.13430484693877548,
          0.0725854591836732,
          0.0018048469387751537,
          -0.23369515306122418,
          0.0718048469387755,
          0.010085459183674095,
          0.1518048469387755,
          -0.29619515306122507,
          0.009304846938776382,
          0.022585459183673384,
          0.10180484693877569,
          -0.17119515306122418,
          0.009304846938774605,
          -0.12741454081632697,
          0.02680484693877551,
          -0.2711951530612238,
          0.234304846938776,
          0.16008545918367267,
          0.03930484693877569,
          -0.30869515306122436,
          0.14680484693877477,
          0.22258545918367356,
          0.2143048469387755,
          -0.24619515306122347,
          0.059304846938776204,
          0.16008545918367267,
          0.0393048469387748,
          -0.32119515306122454,
          0.23430484693877512,
          0.06008545918367392,
          0.12680484693877514,
          -0.42119515306122507,
          -0.07819515306122486,
          0.16008545918367356,
          0.16430484693877567,
          -0.25869515306122454,
          0.059304846938776204,
          -1.1774145408163268,
          -2.623195153061226,
          7.728804846938775,
          -2.515695153061224,
          -1.2649145408163263,
          0.11430484693877586,
          -0.2836951530612249,
          0.08430484693877567,
          -0.027414540816326438,
          0.1518048469387755,
          -0.24619515306122436,
          0.04680484693877514,
          0.12258545918367303,
          0.10180484693877569,
          -0.25869515306122454,
          0.059304846938775316,
          0.01008545918367365,
          0.11430484693877542,
          -0.4211951530612246,
          0.059304846938775316,
          -0.039914540816326616,
          -0.0231951530612252,
          -0.033695153061224004,
          0.22180484693877495,
          0.17258545918367374,
          0.014304846938775331,
          -0.30869515306122436,
          0.03430484693877585,
          0.28508545918367356,
          0.2143048469387746,
          -0.3336951530612247,
          0.07180484693877638,
          0.11008545918367285,
          0.01430484693877622,
          -0.221195153061224,
          0.13430484693877548,
          0.04758545918367285,
          0.08930484693877551,
          -0.23369515306122418,
          -0.0031951530612246842,
          0.09758545918367356,
          0.18930484693877603,
          -0.4086951530612249,
          0.059304846938775316,
          0.010085459183674095,
          0.11430484693877586,
          -0.2961951530612242,
          -0.1281951530612247,
          -0.05241454081632679,
          -0.11069515306122467,
          -0.43369515306122347,
          0.1843048469387753,
          null,
          null
         ],
         "yaxis": "y3"
        }
       ],
       "layout": {
        "annotations": [
         {
          "font": {
           "size": 16
          },
          "showarrow": false,
          "text": "Trend",
          "x": 0.5,
          "xanchor": "center",
          "xref": "paper",
          "y": 1,
          "yanchor": "bottom",
          "yref": "paper"
         },
         {
          "font": {
           "size": 16
          },
          "showarrow": false,
          "text": "Seasonality",
          "x": 0.5,
          "xanchor": "center",
          "xref": "paper",
          "y": 0.6111111111111112,
          "yanchor": "bottom",
          "yref": "paper"
         },
         {
          "font": {
           "size": 16
          },
          "showarrow": false,
          "text": "Residuals",
          "x": 0.5,
          "xanchor": "center",
          "xref": "paper",
          "y": 0.22222222222222224,
          "yanchor": "bottom",
          "yref": "paper"
         }
        ],
        "height": 400,
        "template": {
         "data": {
          "bar": [
           {
            "error_x": {
             "color": "#2a3f5f"
            },
            "error_y": {
             "color": "#2a3f5f"
            },
            "marker": {
             "line": {
              "color": "white",
              "width": 0.5
             },
             "pattern": {
              "fillmode": "overlay",
              "size": 10,
              "solidity": 0.2
             }
            },
            "type": "bar"
           }
          ],
          "barpolar": [
           {
            "marker": {
             "line": {
              "color": "white",
              "width": 0.5
             },
             "pattern": {
              "fillmode": "overlay",
              "size": 10,
              "solidity": 0.2
             }
            },
            "type": "barpolar"
           }
          ],
          "carpet": [
           {
            "aaxis": {
             "endlinecolor": "#2a3f5f",
             "gridcolor": "#C8D4E3",
             "linecolor": "#C8D4E3",
             "minorgridcolor": "#C8D4E3",
             "startlinecolor": "#2a3f5f"
            },
            "baxis": {
             "endlinecolor": "#2a3f5f",
             "gridcolor": "#C8D4E3",
             "linecolor": "#C8D4E3",
             "minorgridcolor": "#C8D4E3",
             "startlinecolor": "#2a3f5f"
            },
            "type": "carpet"
           }
          ],
          "choropleth": [
           {
            "colorbar": {
             "outlinewidth": 0,
             "ticks": ""
            },
            "type": "choropleth"
           }
          ],
          "contour": [
           {
            "colorbar": {
             "outlinewidth": 0,
             "ticks": ""
            },
            "colorscale": [
             [
              0,
              "#0d0887"
             ],
             [
              0.1111111111111111,
              "#46039f"
             ],
             [
              0.2222222222222222,
              "#7201a8"
             ],
             [
              0.3333333333333333,
              "#9c179e"
             ],
             [
              0.4444444444444444,
              "#bd3786"
             ],
             [
              0.5555555555555556,
              "#d8576b"
             ],
             [
              0.6666666666666666,
              "#ed7953"
             ],
             [
              0.7777777777777778,
              "#fb9f3a"
             ],
             [
              0.8888888888888888,
              "#fdca26"
             ],
             [
              1,
              "#f0f921"
             ]
            ],
            "type": "contour"
           }
          ],
          "contourcarpet": [
           {
            "colorbar": {
             "outlinewidth": 0,
             "ticks": ""
            },
            "type": "contourcarpet"
           }
          ],
          "heatmap": [
           {
            "colorbar": {
             "outlinewidth": 0,
             "ticks": ""
            },
            "colorscale": [
             [
              0,
              "#0d0887"
             ],
             [
              0.1111111111111111,
              "#46039f"
             ],
             [
              0.2222222222222222,
              "#7201a8"
             ],
             [
              0.3333333333333333,
              "#9c179e"
             ],
             [
              0.4444444444444444,
              "#bd3786"
             ],
             [
              0.5555555555555556,
              "#d8576b"
             ],
             [
              0.6666666666666666,
              "#ed7953"
             ],
             [
              0.7777777777777778,
              "#fb9f3a"
             ],
             [
              0.8888888888888888,
              "#fdca26"
             ],
             [
              1,
              "#f0f921"
             ]
            ],
            "type": "heatmap"
           }
          ],
          "heatmapgl": [
           {
            "colorbar": {
             "outlinewidth": 0,
             "ticks": ""
            },
            "colorscale": [
             [
              0,
              "#0d0887"
             ],
             [
              0.1111111111111111,
              "#46039f"
             ],
             [
              0.2222222222222222,
              "#7201a8"
             ],
             [
              0.3333333333333333,
              "#9c179e"
             ],
             [
              0.4444444444444444,
              "#bd3786"
             ],
             [
              0.5555555555555556,
              "#d8576b"
             ],
             [
              0.6666666666666666,
              "#ed7953"
             ],
             [
              0.7777777777777778,
              "#fb9f3a"
             ],
             [
              0.8888888888888888,
              "#fdca26"
             ],
             [
              1,
              "#f0f921"
             ]
            ],
            "type": "heatmapgl"
           }
          ],
          "histogram": [
           {
            "marker": {
             "pattern": {
              "fillmode": "overlay",
              "size": 10,
              "solidity": 0.2
             }
            },
            "type": "histogram"
           }
          ],
          "histogram2d": [
           {
            "colorbar": {
             "outlinewidth": 0,
             "ticks": ""
            },
            "colorscale": [
             [
              0,
              "#0d0887"
             ],
             [
              0.1111111111111111,
              "#46039f"
             ],
             [
              0.2222222222222222,
              "#7201a8"
             ],
             [
              0.3333333333333333,
              "#9c179e"
             ],
             [
              0.4444444444444444,
              "#bd3786"
             ],
             [
              0.5555555555555556,
              "#d8576b"
             ],
             [
              0.6666666666666666,
              "#ed7953"
             ],
             [
              0.7777777777777778,
              "#fb9f3a"
             ],
             [
              0.8888888888888888,
              "#fdca26"
             ],
             [
              1,
              "#f0f921"
             ]
            ],
            "type": "histogram2d"
           }
          ],
          "histogram2dcontour": [
           {
            "colorbar": {
             "outlinewidth": 0,
             "ticks": ""
            },
            "colorscale": [
             [
              0,
              "#0d0887"
             ],
             [
              0.1111111111111111,
              "#46039f"
             ],
             [
              0.2222222222222222,
              "#7201a8"
             ],
             [
              0.3333333333333333,
              "#9c179e"
             ],
             [
              0.4444444444444444,
              "#bd3786"
             ],
             [
              0.5555555555555556,
              "#d8576b"
             ],
             [
              0.6666666666666666,
              "#ed7953"
             ],
             [
              0.7777777777777778,
              "#fb9f3a"
             ],
             [
              0.8888888888888888,
              "#fdca26"
             ],
             [
              1,
              "#f0f921"
             ]
            ],
            "type": "histogram2dcontour"
           }
          ],
          "mesh3d": [
           {
            "colorbar": {
             "outlinewidth": 0,
             "ticks": ""
            },
            "type": "mesh3d"
           }
          ],
          "parcoords": [
           {
            "line": {
             "colorbar": {
              "outlinewidth": 0,
              "ticks": ""
             }
            },
            "type": "parcoords"
           }
          ],
          "pie": [
           {
            "automargin": true,
            "type": "pie"
           }
          ],
          "scatter": [
           {
            "fillpattern": {
             "fillmode": "overlay",
             "size": 10,
             "solidity": 0.2
            },
            "type": "scatter"
           }
          ],
          "scatter3d": [
           {
            "line": {
             "colorbar": {
              "outlinewidth": 0,
              "ticks": ""
             }
            },
            "marker": {
             "colorbar": {
              "outlinewidth": 0,
              "ticks": ""
             }
            },
            "type": "scatter3d"
           }
          ],
          "scattercarpet": [
           {
            "marker": {
             "colorbar": {
              "outlinewidth": 0,
              "ticks": ""
             }
            },
            "type": "scattercarpet"
           }
          ],
          "scattergeo": [
           {
            "marker": {
             "colorbar": {
              "outlinewidth": 0,
              "ticks": ""
             }
            },
            "type": "scattergeo"
           }
          ],
          "scattergl": [
           {
            "marker": {
             "colorbar": {
              "outlinewidth": 0,
              "ticks": ""
             }
            },
            "type": "scattergl"
           }
          ],
          "scattermapbox": [
           {
            "marker": {
             "colorbar": {
              "outlinewidth": 0,
              "ticks": ""
             }
            },
            "type": "scattermapbox"
           }
          ],
          "scatterpolar": [
           {
            "marker": {
             "colorbar": {
              "outlinewidth": 0,
              "ticks": ""
             }
            },
            "type": "scatterpolar"
           }
          ],
          "scatterpolargl": [
           {
            "marker": {
             "colorbar": {
              "outlinewidth": 0,
              "ticks": ""
             }
            },
            "type": "scatterpolargl"
           }
          ],
          "scatterternary": [
           {
            "marker": {
             "colorbar": {
              "outlinewidth": 0,
              "ticks": ""
             }
            },
            "type": "scatterternary"
           }
          ],
          "surface": [
           {
            "colorbar": {
             "outlinewidth": 0,
             "ticks": ""
            },
            "colorscale": [
             [
              0,
              "#0d0887"
             ],
             [
              0.1111111111111111,
              "#46039f"
             ],
             [
              0.2222222222222222,
              "#7201a8"
             ],
             [
              0.3333333333333333,
              "#9c179e"
             ],
             [
              0.4444444444444444,
              "#bd3786"
             ],
             [
              0.5555555555555556,
              "#d8576b"
             ],
             [
              0.6666666666666666,
              "#ed7953"
             ],
             [
              0.7777777777777778,
              "#fb9f3a"
             ],
             [
              0.8888888888888888,
              "#fdca26"
             ],
             [
              1,
              "#f0f921"
             ]
            ],
            "type": "surface"
           }
          ],
          "table": [
           {
            "cells": {
             "fill": {
              "color": "#EBF0F8"
             },
             "line": {
              "color": "white"
             }
            },
            "header": {
             "fill": {
              "color": "#C8D4E3"
             },
             "line": {
              "color": "white"
             }
            },
            "type": "table"
           }
          ]
         },
         "layout": {
          "annotationdefaults": {
           "arrowcolor": "#2a3f5f",
           "arrowhead": 0,
           "arrowwidth": 1
          },
          "autotypenumbers": "strict",
          "coloraxis": {
           "colorbar": {
            "outlinewidth": 0,
            "ticks": ""
           }
          },
          "colorscale": {
           "diverging": [
            [
             0,
             "#8e0152"
            ],
            [
             0.1,
             "#c51b7d"
            ],
            [
             0.2,
             "#de77ae"
            ],
            [
             0.3,
             "#f1b6da"
            ],
            [
             0.4,
             "#fde0ef"
            ],
            [
             0.5,
             "#f7f7f7"
            ],
            [
             0.6,
             "#e6f5d0"
            ],
            [
             0.7,
             "#b8e186"
            ],
            [
             0.8,
             "#7fbc41"
            ],
            [
             0.9,
             "#4d9221"
            ],
            [
             1,
             "#276419"
            ]
           ],
           "sequential": [
            [
             0,
             "#0d0887"
            ],
            [
             0.1111111111111111,
             "#46039f"
            ],
            [
             0.2222222222222222,
             "#7201a8"
            ],
            [
             0.3333333333333333,
             "#9c179e"
            ],
            [
             0.4444444444444444,
             "#bd3786"
            ],
            [
             0.5555555555555556,
             "#d8576b"
            ],
            [
             0.6666666666666666,
             "#ed7953"
            ],
            [
             0.7777777777777778,
             "#fb9f3a"
            ],
            [
             0.8888888888888888,
             "#fdca26"
            ],
            [
             1,
             "#f0f921"
            ]
           ],
           "sequentialminus": [
            [
             0,
             "#0d0887"
            ],
            [
             0.1111111111111111,
             "#46039f"
            ],
            [
             0.2222222222222222,
             "#7201a8"
            ],
            [
             0.3333333333333333,
             "#9c179e"
            ],
            [
             0.4444444444444444,
             "#bd3786"
            ],
            [
             0.5555555555555556,
             "#d8576b"
            ],
            [
             0.6666666666666666,
             "#ed7953"
            ],
            [
             0.7777777777777778,
             "#fb9f3a"
            ],
            [
             0.8888888888888888,
             "#fdca26"
            ],
            [
             1,
             "#f0f921"
            ]
           ]
          },
          "colorway": [
           "#636efa",
           "#EF553B",
           "#00cc96",
           "#ab63fa",
           "#FFA15A",
           "#19d3f3",
           "#FF6692",
           "#B6E880",
           "#FF97FF",
           "#FECB52"
          ],
          "font": {
           "color": "#2a3f5f"
          },
          "geo": {
           "bgcolor": "white",
           "lakecolor": "white",
           "landcolor": "white",
           "showlakes": true,
           "showland": true,
           "subunitcolor": "#C8D4E3"
          },
          "hoverlabel": {
           "align": "left"
          },
          "hovermode": "closest",
          "mapbox": {
           "style": "light"
          },
          "paper_bgcolor": "white",
          "plot_bgcolor": "white",
          "polar": {
           "angularaxis": {
            "gridcolor": "#EBF0F8",
            "linecolor": "#EBF0F8",
            "ticks": ""
           },
           "bgcolor": "white",
           "radialaxis": {
            "gridcolor": "#EBF0F8",
            "linecolor": "#EBF0F8",
            "ticks": ""
           }
          },
          "scene": {
           "xaxis": {
            "backgroundcolor": "white",
            "gridcolor": "#DFE8F3",
            "gridwidth": 2,
            "linecolor": "#EBF0F8",
            "showbackground": true,
            "ticks": "",
            "zerolinecolor": "#EBF0F8"
           },
           "yaxis": {
            "backgroundcolor": "white",
            "gridcolor": "#DFE8F3",
            "gridwidth": 2,
            "linecolor": "#EBF0F8",
            "showbackground": true,
            "ticks": "",
            "zerolinecolor": "#EBF0F8"
           },
           "zaxis": {
            "backgroundcolor": "white",
            "gridcolor": "#DFE8F3",
            "gridwidth": 2,
            "linecolor": "#EBF0F8",
            "showbackground": true,
            "ticks": "",
            "zerolinecolor": "#EBF0F8"
           }
          },
          "shapedefaults": {
           "line": {
            "color": "#2a3f5f"
           }
          },
          "ternary": {
           "aaxis": {
            "gridcolor": "#DFE8F3",
            "linecolor": "#A2B1C6",
            "ticks": ""
           },
           "baxis": {
            "gridcolor": "#DFE8F3",
            "linecolor": "#A2B1C6",
            "ticks": ""
           },
           "bgcolor": "white",
           "caxis": {
            "gridcolor": "#DFE8F3",
            "linecolor": "#A2B1C6",
            "ticks": ""
           }
          },
          "title": {
           "x": 0.05
          },
          "xaxis": {
           "automargin": true,
           "gridcolor": "#EBF0F8",
           "linecolor": "#EBF0F8",
           "ticks": "",
           "title": {
            "standoff": 15
           },
           "zerolinecolor": "#EBF0F8",
           "zerolinewidth": 2
          },
          "yaxis": {
           "automargin": true,
           "gridcolor": "#EBF0F8",
           "linecolor": "#EBF0F8",
           "ticks": "",
           "title": {
            "standoff": 15
           },
           "zerolinecolor": "#EBF0F8",
           "zerolinewidth": 2
          }
         }
        },
        "title": {
         "text": "Seasonal decomposition for unemp"
        },
        "width": 1200,
        "xaxis": {
         "anchor": "y",
         "domain": [
          0,
          1
         ]
        },
        "xaxis2": {
         "anchor": "y2",
         "domain": [
          0,
          1
         ]
        },
        "xaxis3": {
         "anchor": "y3",
         "domain": [
          0,
          1
         ]
        },
        "yaxis": {
         "anchor": "x",
         "domain": [
          0.7777777777777778,
          1
         ]
        },
        "yaxis2": {
         "anchor": "x2",
         "domain": [
          0.3888888888888889,
          0.6111111111111112
         ]
        },
        "yaxis3": {
         "anchor": "x3",
         "domain": [
          0,
          0.22222222222222224
         ]
        }
       }
      }
     },
     "metadata": {},
     "output_type": "display_data"
    },
    {
     "data": {
      "application/vnd.plotly.v1+json": {
       "config": {
        "plotlyServerURL": "https://plot.ly"
       },
       "data": [
        {
         "mode": "lines",
         "name": "Trend",
         "type": "scatter",
         "x": [
          "1959-01-01T00:00:00",
          "1959-04-01T00:00:00",
          "1959-07-01T00:00:00",
          "1959-10-01T00:00:00",
          "1960-01-01T00:00:00",
          "1960-04-01T00:00:00",
          "1960-07-01T00:00:00",
          "1960-10-01T00:00:00",
          "1961-01-01T00:00:00",
          "1961-04-01T00:00:00",
          "1961-07-01T00:00:00",
          "1961-10-01T00:00:00",
          "1962-01-01T00:00:00",
          "1962-04-01T00:00:00",
          "1962-07-01T00:00:00",
          "1962-10-01T00:00:00",
          "1963-01-01T00:00:00",
          "1963-04-01T00:00:00",
          "1963-07-01T00:00:00",
          "1963-10-01T00:00:00",
          "1964-01-01T00:00:00",
          "1964-04-01T00:00:00",
          "1964-07-01T00:00:00",
          "1964-10-01T00:00:00",
          "1965-01-01T00:00:00",
          "1965-04-01T00:00:00",
          "1965-07-01T00:00:00",
          "1965-10-01T00:00:00",
          "1966-01-01T00:00:00",
          "1966-04-01T00:00:00",
          "1966-07-01T00:00:00",
          "1966-10-01T00:00:00",
          "1967-01-01T00:00:00",
          "1967-04-01T00:00:00",
          "1967-07-01T00:00:00",
          "1967-10-01T00:00:00",
          "1968-01-01T00:00:00",
          "1968-04-01T00:00:00",
          "1968-07-01T00:00:00",
          "1968-10-01T00:00:00",
          "1969-01-01T00:00:00",
          "1969-04-01T00:00:00",
          "1969-07-01T00:00:00",
          "1969-10-01T00:00:00",
          "1970-01-01T00:00:00",
          "1970-04-01T00:00:00",
          "1970-07-01T00:00:00",
          "1970-10-01T00:00:00",
          "1971-01-01T00:00:00",
          "1971-04-01T00:00:00",
          "1971-07-01T00:00:00",
          "1971-10-01T00:00:00",
          "1972-01-01T00:00:00",
          "1972-04-01T00:00:00",
          "1972-07-01T00:00:00",
          "1972-10-01T00:00:00",
          "1973-01-01T00:00:00",
          "1973-04-01T00:00:00",
          "1973-07-01T00:00:00",
          "1973-10-01T00:00:00",
          "1974-01-01T00:00:00",
          "1974-04-01T00:00:00",
          "1974-07-01T00:00:00",
          "1974-10-01T00:00:00",
          "1975-01-01T00:00:00",
          "1975-04-01T00:00:00",
          "1975-07-01T00:00:00",
          "1975-10-01T00:00:00",
          "1976-01-01T00:00:00",
          "1976-04-01T00:00:00",
          "1976-07-01T00:00:00",
          "1976-10-01T00:00:00",
          "1977-01-01T00:00:00",
          "1977-04-01T00:00:00",
          "1977-07-01T00:00:00",
          "1977-10-01T00:00:00",
          "1978-01-01T00:00:00",
          "1978-04-01T00:00:00",
          "1978-07-01T00:00:00",
          "1978-10-01T00:00:00",
          "1979-01-01T00:00:00",
          "1979-04-01T00:00:00",
          "1979-07-01T00:00:00",
          "1979-10-01T00:00:00",
          "1980-01-01T00:00:00",
          "1980-04-01T00:00:00",
          "1980-07-01T00:00:00",
          "1980-10-01T00:00:00",
          "1981-01-01T00:00:00",
          "1981-04-01T00:00:00",
          "1981-07-01T00:00:00",
          "1981-10-01T00:00:00",
          "1982-01-01T00:00:00",
          "1982-04-01T00:00:00",
          "1982-07-01T00:00:00",
          "1982-10-01T00:00:00",
          "1983-01-01T00:00:00",
          "1983-04-01T00:00:00",
          "1983-07-01T00:00:00",
          "1983-10-01T00:00:00",
          "1984-01-01T00:00:00",
          "1984-04-01T00:00:00",
          "1984-07-01T00:00:00",
          "1984-10-01T00:00:00",
          "1985-01-01T00:00:00",
          "1985-04-01T00:00:00",
          "1985-07-01T00:00:00",
          "1985-10-01T00:00:00",
          "1986-01-01T00:00:00",
          "1986-04-01T00:00:00",
          "1986-07-01T00:00:00",
          "1986-10-01T00:00:00",
          "1987-01-01T00:00:00",
          "1987-04-01T00:00:00",
          "1987-07-01T00:00:00",
          "1987-10-01T00:00:00",
          "1988-01-01T00:00:00",
          "1988-04-01T00:00:00",
          "1988-07-01T00:00:00",
          "1988-10-01T00:00:00",
          "1989-01-01T00:00:00",
          "1989-04-01T00:00:00",
          "1989-07-01T00:00:00",
          "1989-10-01T00:00:00",
          "1990-01-01T00:00:00",
          "1990-04-01T00:00:00",
          "1990-07-01T00:00:00",
          "1990-10-01T00:00:00",
          "1991-01-01T00:00:00",
          "1991-04-01T00:00:00",
          "1991-07-01T00:00:00",
          "1991-10-01T00:00:00",
          "1992-01-01T00:00:00",
          "1992-04-01T00:00:00",
          "1992-07-01T00:00:00",
          "1992-10-01T00:00:00",
          "1993-01-01T00:00:00",
          "1993-04-01T00:00:00",
          "1993-07-01T00:00:00",
          "1993-10-01T00:00:00",
          "1994-01-01T00:00:00",
          "1994-04-01T00:00:00",
          "1994-07-01T00:00:00",
          "1994-10-01T00:00:00",
          "1995-01-01T00:00:00",
          "1995-04-01T00:00:00",
          "1995-07-01T00:00:00",
          "1995-10-01T00:00:00",
          "1996-01-01T00:00:00",
          "1996-04-01T00:00:00",
          "1996-07-01T00:00:00",
          "1996-10-01T00:00:00",
          "1997-01-01T00:00:00",
          "1997-04-01T00:00:00",
          "1997-07-01T00:00:00",
          "1997-10-01T00:00:00",
          "1998-01-01T00:00:00",
          "1998-04-01T00:00:00",
          "1998-07-01T00:00:00",
          "1998-10-01T00:00:00",
          "1999-01-01T00:00:00",
          "1999-04-01T00:00:00",
          "1999-07-01T00:00:00",
          "1999-10-01T00:00:00",
          "2000-01-01T00:00:00",
          "2000-04-01T00:00:00",
          "2000-07-01T00:00:00",
          "2000-10-01T00:00:00",
          "2001-01-01T00:00:00",
          "2001-04-01T00:00:00",
          "2001-07-01T00:00:00",
          "2001-10-01T00:00:00",
          "2002-01-01T00:00:00",
          "2002-04-01T00:00:00",
          "2002-07-01T00:00:00",
          "2002-10-01T00:00:00",
          "2003-01-01T00:00:00",
          "2003-04-01T00:00:00",
          "2003-07-01T00:00:00",
          "2003-10-01T00:00:00",
          "2004-01-01T00:00:00",
          "2004-04-01T00:00:00",
          "2004-07-01T00:00:00",
          "2004-10-01T00:00:00",
          "2005-01-01T00:00:00",
          "2005-04-01T00:00:00",
          "2005-07-01T00:00:00",
          "2005-10-01T00:00:00",
          "2006-01-01T00:00:00",
          "2006-04-01T00:00:00",
          "2006-07-01T00:00:00",
          "2006-10-01T00:00:00",
          "2007-01-01T00:00:00",
          "2007-04-01T00:00:00",
          "2007-07-01T00:00:00",
          "2007-10-01T00:00:00",
          "2008-01-01T00:00:00",
          "2008-04-01T00:00:00",
          "2008-07-01T00:00:00",
          "2008-10-01T00:00:00",
          "2009-01-01T00:00:00",
          "2009-04-01T00:00:00",
          "2009-07-01T00:00:00"
         ],
         "xaxis": "x",
         "y": [
          null,
          null,
          1.62625,
          1.6400000000000001,
          1.3599999999999999,
          1.4725000000000001,
          1.25125,
          1.07875,
          1.0075,
          0.7187499999999999,
          1,
          1.165,
          1.16125,
          1.32375,
          1.10625,
          1.2175,
          1.37875,
          1.4212500000000001,
          1.58,
          1.29875,
          1.13125,
          1.1437499999999998,
          1.2362499999999998,
          1.585,
          1.74,
          1.79625,
          2.36625,
          2.7750000000000004,
          3.2212500000000004,
          3.4362500000000002,
          2.8287500000000003,
          2.69625,
          2.7199999999999998,
          3.0687499999999996,
          3.7175000000000002,
          4.1225000000000005,
          4.515,
          4.611249999999999,
          4.981249999999999,
          5.34,
          5.4075,
          5.746250000000001,
          5.93125,
          5.715000000000001,
          5.5112499999999995,
          5.3075,
          4.6049999999999995,
          4.17375,
          4.00625,
          3.4699999999999998,
          3.3175,
          3.17,
          3.0187499999999994,
          3.35125,
          4.37,
          5.373749999999999,
          6.665,
          8.4575,
          9.379999999999999,
          10.25625,
          11.05625,
          11.1525,
          10.407499999999999,
          9.405000000000001,
          8.238750000000001,
          6.92375,
          6.08,
          5.54375,
          5.362500000000001,
          5.1937500000000005,
          5.8950000000000005,
          6.588749999999999,
          6.324999999999999,
          6.39375,
          6.445,
          6.87125,
          7.9975,
          8.697500000000002,
          9.407499999999999,
          10.405000000000001,
          11.118749999999999,
          12.1925,
          13.302499999999998,
          12.986250000000002,
          12.125,
          11.522499999999999,
          10.4025,
          9.94375,
          10.005,
          8.855,
          7.171250000000001,
          6.380000000000001,
          5.62875,
          4.2725,
          3.77875,
          3.125,
          2.5225,
          3.4587499999999998,
          4.32875,
          4.3375,
          4.1987499999999995,
          3.82125,
          3.4924999999999997,
          3.46,
          3.2924999999999995,
          3.5412499999999993,
          2.7375,
          1.6175,
          1.6062500000000002,
          1.455,
          2.48375,
          3.7325,
          4.058750000000001,
          4.15625,
          3.9825000000000004,
          3.9825000000000004,
          4.11,
          4.2787500000000005,
          4.6475,
          4.92375,
          4.71,
          4.77375,
          4.833749999999999,
          4.65375,
          5.44375,
          5.8374999999999995,
          5.095,
          4.48625,
          3.5424999999999995,
          2.7237500000000003,
          2.885,
          3.12,
          3.16625,
          3.2125,
          3.1525,
          2.9549999999999996,
          2.75875,
          2.56625,
          2.3775,
          2.4987500000000002,
          2.62,
          2.70375,
          2.95375,
          2.93375,
          2.7475,
          2.7275,
          2.77,
          2.815,
          2.9274999999999998,
          3.0037499999999997,
          2.69875,
          2.2737499999999997,
          2.1025,
          1.84,
          1.5225000000000002,
          1.5787499999999999,
          1.6025,
          1.5637499999999998,
          1.95375,
          2.1875,
          2.325,
          2.6425,
          2.8625,
          3.25375,
          3.4650000000000003,
          3.5225,
          3.41,
          2.9262500000000005,
          2.395,
          1.6475000000000002,
          1.41125,
          1.545,
          1.7337500000000001,
          2.36625,
          2.4375,
          2.09375,
          2.0275000000000003,
          2.0125,
          2.1350000000000002,
          2.58,
          3.0175,
          3.02375,
          3.1325000000000003,
          3.1375,
          3.6125000000000003,
          4.09625,
          3.6912500000000006,
          3.7625,
          2.6875,
          1.71,
          2.3200000000000003,
          2.415,
          2.89125,
          3.905,
          4.07,
          4.5725,
          4.46875,
          1.7462499999999999,
          -0.38499999999999995,
          -1.2649999999999997,
          -1.0699999999999998,
          null,
          null
         ],
         "yaxis": "y"
        },
        {
         "mode": "lines",
         "name": "Seasonality",
         "type": "scatter",
         "x": [
          "1959-01-01T00:00:00",
          "1959-04-01T00:00:00",
          "1959-07-01T00:00:00",
          "1959-10-01T00:00:00",
          "1960-01-01T00:00:00",
          "1960-04-01T00:00:00",
          "1960-07-01T00:00:00",
          "1960-10-01T00:00:00",
          "1961-01-01T00:00:00",
          "1961-04-01T00:00:00",
          "1961-07-01T00:00:00",
          "1961-10-01T00:00:00",
          "1962-01-01T00:00:00",
          "1962-04-01T00:00:00",
          "1962-07-01T00:00:00",
          "1962-10-01T00:00:00",
          "1963-01-01T00:00:00",
          "1963-04-01T00:00:00",
          "1963-07-01T00:00:00",
          "1963-10-01T00:00:00",
          "1964-01-01T00:00:00",
          "1964-04-01T00:00:00",
          "1964-07-01T00:00:00",
          "1964-10-01T00:00:00",
          "1965-01-01T00:00:00",
          "1965-04-01T00:00:00",
          "1965-07-01T00:00:00",
          "1965-10-01T00:00:00",
          "1966-01-01T00:00:00",
          "1966-04-01T00:00:00",
          "1966-07-01T00:00:00",
          "1966-10-01T00:00:00",
          "1967-01-01T00:00:00",
          "1967-04-01T00:00:00",
          "1967-07-01T00:00:00",
          "1967-10-01T00:00:00",
          "1968-01-01T00:00:00",
          "1968-04-01T00:00:00",
          "1968-07-01T00:00:00",
          "1968-10-01T00:00:00",
          "1969-01-01T00:00:00",
          "1969-04-01T00:00:00",
          "1969-07-01T00:00:00",
          "1969-10-01T00:00:00",
          "1970-01-01T00:00:00",
          "1970-04-01T00:00:00",
          "1970-07-01T00:00:00",
          "1970-10-01T00:00:00",
          "1971-01-01T00:00:00",
          "1971-04-01T00:00:00",
          "1971-07-01T00:00:00",
          "1971-10-01T00:00:00",
          "1972-01-01T00:00:00",
          "1972-04-01T00:00:00",
          "1972-07-01T00:00:00",
          "1972-10-01T00:00:00",
          "1973-01-01T00:00:00",
          "1973-04-01T00:00:00",
          "1973-07-01T00:00:00",
          "1973-10-01T00:00:00",
          "1974-01-01T00:00:00",
          "1974-04-01T00:00:00",
          "1974-07-01T00:00:00",
          "1974-10-01T00:00:00",
          "1975-01-01T00:00:00",
          "1975-04-01T00:00:00",
          "1975-07-01T00:00:00",
          "1975-10-01T00:00:00",
          "1976-01-01T00:00:00",
          "1976-04-01T00:00:00",
          "1976-07-01T00:00:00",
          "1976-10-01T00:00:00",
          "1977-01-01T00:00:00",
          "1977-04-01T00:00:00",
          "1977-07-01T00:00:00",
          "1977-10-01T00:00:00",
          "1978-01-01T00:00:00",
          "1978-04-01T00:00:00",
          "1978-07-01T00:00:00",
          "1978-10-01T00:00:00",
          "1979-01-01T00:00:00",
          "1979-04-01T00:00:00",
          "1979-07-01T00:00:00",
          "1979-10-01T00:00:00",
          "1980-01-01T00:00:00",
          "1980-04-01T00:00:00",
          "1980-07-01T00:00:00",
          "1980-10-01T00:00:00",
          "1981-01-01T00:00:00",
          "1981-04-01T00:00:00",
          "1981-07-01T00:00:00",
          "1981-10-01T00:00:00",
          "1982-01-01T00:00:00",
          "1982-04-01T00:00:00",
          "1982-07-01T00:00:00",
          "1982-10-01T00:00:00",
          "1983-01-01T00:00:00",
          "1983-04-01T00:00:00",
          "1983-07-01T00:00:00",
          "1983-10-01T00:00:00",
          "1984-01-01T00:00:00",
          "1984-04-01T00:00:00",
          "1984-07-01T00:00:00",
          "1984-10-01T00:00:00",
          "1985-01-01T00:00:00",
          "1985-04-01T00:00:00",
          "1985-07-01T00:00:00",
          "1985-10-01T00:00:00",
          "1986-01-01T00:00:00",
          "1986-04-01T00:00:00",
          "1986-07-01T00:00:00",
          "1986-10-01T00:00:00",
          "1987-01-01T00:00:00",
          "1987-04-01T00:00:00",
          "1987-07-01T00:00:00",
          "1987-10-01T00:00:00",
          "1988-01-01T00:00:00",
          "1988-04-01T00:00:00",
          "1988-07-01T00:00:00",
          "1988-10-01T00:00:00",
          "1989-01-01T00:00:00",
          "1989-04-01T00:00:00",
          "1989-07-01T00:00:00",
          "1989-10-01T00:00:00",
          "1990-01-01T00:00:00",
          "1990-04-01T00:00:00",
          "1990-07-01T00:00:00",
          "1990-10-01T00:00:00",
          "1991-01-01T00:00:00",
          "1991-04-01T00:00:00",
          "1991-07-01T00:00:00",
          "1991-10-01T00:00:00",
          "1992-01-01T00:00:00",
          "1992-04-01T00:00:00",
          "1992-07-01T00:00:00",
          "1992-10-01T00:00:00",
          "1993-01-01T00:00:00",
          "1993-04-01T00:00:00",
          "1993-07-01T00:00:00",
          "1993-10-01T00:00:00",
          "1994-01-01T00:00:00",
          "1994-04-01T00:00:00",
          "1994-07-01T00:00:00",
          "1994-10-01T00:00:00",
          "1995-01-01T00:00:00",
          "1995-04-01T00:00:00",
          "1995-07-01T00:00:00",
          "1995-10-01T00:00:00",
          "1996-01-01T00:00:00",
          "1996-04-01T00:00:00",
          "1996-07-01T00:00:00",
          "1996-10-01T00:00:00",
          "1997-01-01T00:00:00",
          "1997-04-01T00:00:00",
          "1997-07-01T00:00:00",
          "1997-10-01T00:00:00",
          "1998-01-01T00:00:00",
          "1998-04-01T00:00:00",
          "1998-07-01T00:00:00",
          "1998-10-01T00:00:00",
          "1999-01-01T00:00:00",
          "1999-04-01T00:00:00",
          "1999-07-01T00:00:00",
          "1999-10-01T00:00:00",
          "2000-01-01T00:00:00",
          "2000-04-01T00:00:00",
          "2000-07-01T00:00:00",
          "2000-10-01T00:00:00",
          "2001-01-01T00:00:00",
          "2001-04-01T00:00:00",
          "2001-07-01T00:00:00",
          "2001-10-01T00:00:00",
          "2002-01-01T00:00:00",
          "2002-04-01T00:00:00",
          "2002-07-01T00:00:00",
          "2002-10-01T00:00:00",
          "2003-01-01T00:00:00",
          "2003-04-01T00:00:00",
          "2003-07-01T00:00:00",
          "2003-10-01T00:00:00",
          "2004-01-01T00:00:00",
          "2004-04-01T00:00:00",
          "2004-07-01T00:00:00",
          "2004-10-01T00:00:00",
          "2005-01-01T00:00:00",
          "2005-04-01T00:00:00",
          "2005-07-01T00:00:00",
          "2005-10-01T00:00:00",
          "2006-01-01T00:00:00",
          "2006-04-01T00:00:00",
          "2006-07-01T00:00:00",
          "2006-10-01T00:00:00",
          "2007-01-01T00:00:00",
          "2007-04-01T00:00:00",
          "2007-07-01T00:00:00",
          "2007-10-01T00:00:00",
          "2008-01-01T00:00:00",
          "2008-04-01T00:00:00",
          "2008-07-01T00:00:00",
          "2008-10-01T00:00:00",
          "2009-01-01T00:00:00",
          "2009-04-01T00:00:00",
          "2009-07-01T00:00:00"
         ],
         "xaxis": "x2",
         "y": [
          -0.10055242346938775,
          0.13248227040816327,
          0.16759757653061236,
          -0.19952742346938787,
          -0.10055242346938775,
          0.13248227040816327,
          0.16759757653061236,
          -0.19952742346938787,
          -0.10055242346938775,
          0.13248227040816327,
          0.16759757653061236,
          -0.19952742346938787,
          -0.10055242346938775,
          0.13248227040816327,
          0.16759757653061236,
          -0.19952742346938787,
          -0.10055242346938775,
          0.13248227040816327,
          0.16759757653061236,
          -0.19952742346938787,
          -0.10055242346938775,
          0.13248227040816327,
          0.16759757653061236,
          -0.19952742346938787,
          -0.10055242346938775,
          0.13248227040816327,
          0.16759757653061236,
          -0.19952742346938787,
          -0.10055242346938775,
          0.13248227040816327,
          0.16759757653061236,
          -0.19952742346938787,
          -0.10055242346938775,
          0.13248227040816327,
          0.16759757653061236,
          -0.19952742346938787,
          -0.10055242346938775,
          0.13248227040816327,
          0.16759757653061236,
          -0.19952742346938787,
          -0.10055242346938775,
          0.13248227040816327,
          0.16759757653061236,
          -0.19952742346938787,
          -0.10055242346938775,
          0.13248227040816327,
          0.16759757653061236,
          -0.19952742346938787,
          -0.10055242346938775,
          0.13248227040816327,
          0.16759757653061236,
          -0.19952742346938787,
          -0.10055242346938775,
          0.13248227040816327,
          0.16759757653061236,
          -0.19952742346938787,
          -0.10055242346938775,
          0.13248227040816327,
          0.16759757653061236,
          -0.19952742346938787,
          -0.10055242346938775,
          0.13248227040816327,
          0.16759757653061236,
          -0.19952742346938787,
          -0.10055242346938775,
          0.13248227040816327,
          0.16759757653061236,
          -0.19952742346938787,
          -0.10055242346938775,
          0.13248227040816327,
          0.16759757653061236,
          -0.19952742346938787,
          -0.10055242346938775,
          0.13248227040816327,
          0.16759757653061236,
          -0.19952742346938787,
          -0.10055242346938775,
          0.13248227040816327,
          0.16759757653061236,
          -0.19952742346938787,
          -0.10055242346938775,
          0.13248227040816327,
          0.16759757653061236,
          -0.19952742346938787,
          -0.10055242346938775,
          0.13248227040816327,
          0.16759757653061236,
          -0.19952742346938787,
          -0.10055242346938775,
          0.13248227040816327,
          0.16759757653061236,
          -0.19952742346938787,
          -0.10055242346938775,
          0.13248227040816327,
          0.16759757653061236,
          -0.19952742346938787,
          -0.10055242346938775,
          0.13248227040816327,
          0.16759757653061236,
          -0.19952742346938787,
          -0.10055242346938775,
          0.13248227040816327,
          0.16759757653061236,
          -0.19952742346938787,
          -0.10055242346938775,
          0.13248227040816327,
          0.16759757653061236,
          -0.19952742346938787,
          -0.10055242346938775,
          0.13248227040816327,
          0.16759757653061236,
          -0.19952742346938787,
          -0.10055242346938775,
          0.13248227040816327,
          0.16759757653061236,
          -0.19952742346938787,
          -0.10055242346938775,
          0.13248227040816327,
          0.16759757653061236,
          -0.19952742346938787,
          -0.10055242346938775,
          0.13248227040816327,
          0.16759757653061236,
          -0.19952742346938787,
          -0.10055242346938775,
          0.13248227040816327,
          0.16759757653061236,
          -0.19952742346938787,
          -0.10055242346938775,
          0.13248227040816327,
          0.16759757653061236,
          -0.19952742346938787,
          -0.10055242346938775,
          0.13248227040816327,
          0.16759757653061236,
          -0.19952742346938787,
          -0.10055242346938775,
          0.13248227040816327,
          0.16759757653061236,
          -0.19952742346938787,
          -0.10055242346938775,
          0.13248227040816327,
          0.16759757653061236,
          -0.19952742346938787,
          -0.10055242346938775,
          0.13248227040816327,
          0.16759757653061236,
          -0.19952742346938787,
          -0.10055242346938775,
          0.13248227040816327,
          0.16759757653061236,
          -0.19952742346938787,
          -0.10055242346938775,
          0.13248227040816327,
          0.16759757653061236,
          -0.19952742346938787,
          -0.10055242346938775,
          0.13248227040816327,
          0.16759757653061236,
          -0.19952742346938787,
          -0.10055242346938775,
          0.13248227040816327,
          0.16759757653061236,
          -0.19952742346938787,
          -0.10055242346938775,
          0.13248227040816327,
          0.16759757653061236,
          -0.19952742346938787,
          -0.10055242346938775,
          0.13248227040816327,
          0.16759757653061236,
          -0.19952742346938787,
          -0.10055242346938775,
          0.13248227040816327,
          0.16759757653061236,
          -0.19952742346938787,
          -0.10055242346938775,
          0.13248227040816327,
          0.16759757653061236,
          -0.19952742346938787,
          -0.10055242346938775,
          0.13248227040816327,
          0.16759757653061236,
          -0.19952742346938787,
          -0.10055242346938775,
          0.13248227040816327,
          0.16759757653061236,
          -0.19952742346938787,
          -0.10055242346938775,
          0.13248227040816327,
          0.16759757653061236,
          -0.19952742346938787,
          -0.10055242346938775,
          0.13248227040816327,
          0.16759757653061236,
          -0.19952742346938787,
          -0.10055242346938775,
          0.13248227040816327,
          0.16759757653061236,
          -0.19952742346938787,
          -0.10055242346938775,
          0.13248227040816327,
          0.16759757653061236
         ],
         "yaxis": "y2"
        },
        {
         "mode": "lines",
         "name": "Residuals",
         "type": "scatter",
         "x": [
          "1959-01-01T00:00:00",
          "1959-04-01T00:00:00",
          "1959-07-01T00:00:00",
          "1959-10-01T00:00:00",
          "1960-01-01T00:00:00",
          "1960-04-01T00:00:00",
          "1960-07-01T00:00:00",
          "1960-10-01T00:00:00",
          "1961-01-01T00:00:00",
          "1961-04-01T00:00:00",
          "1961-07-01T00:00:00",
          "1961-10-01T00:00:00",
          "1962-01-01T00:00:00",
          "1962-04-01T00:00:00",
          "1962-07-01T00:00:00",
          "1962-10-01T00:00:00",
          "1963-01-01T00:00:00",
          "1963-04-01T00:00:00",
          "1963-07-01T00:00:00",
          "1963-10-01T00:00:00",
          "1964-01-01T00:00:00",
          "1964-04-01T00:00:00",
          "1964-07-01T00:00:00",
          "1964-10-01T00:00:00",
          "1965-01-01T00:00:00",
          "1965-04-01T00:00:00",
          "1965-07-01T00:00:00",
          "1965-10-01T00:00:00",
          "1966-01-01T00:00:00",
          "1966-04-01T00:00:00",
          "1966-07-01T00:00:00",
          "1966-10-01T00:00:00",
          "1967-01-01T00:00:00",
          "1967-04-01T00:00:00",
          "1967-07-01T00:00:00",
          "1967-10-01T00:00:00",
          "1968-01-01T00:00:00",
          "1968-04-01T00:00:00",
          "1968-07-01T00:00:00",
          "1968-10-01T00:00:00",
          "1969-01-01T00:00:00",
          "1969-04-01T00:00:00",
          "1969-07-01T00:00:00",
          "1969-10-01T00:00:00",
          "1970-01-01T00:00:00",
          "1970-04-01T00:00:00",
          "1970-07-01T00:00:00",
          "1970-10-01T00:00:00",
          "1971-01-01T00:00:00",
          "1971-04-01T00:00:00",
          "1971-07-01T00:00:00",
          "1971-10-01T00:00:00",
          "1972-01-01T00:00:00",
          "1972-04-01T00:00:00",
          "1972-07-01T00:00:00",
          "1972-10-01T00:00:00",
          "1973-01-01T00:00:00",
          "1973-04-01T00:00:00",
          "1973-07-01T00:00:00",
          "1973-10-01T00:00:00",
          "1974-01-01T00:00:00",
          "1974-04-01T00:00:00",
          "1974-07-01T00:00:00",
          "1974-10-01T00:00:00",
          "1975-01-01T00:00:00",
          "1975-04-01T00:00:00",
          "1975-07-01T00:00:00",
          "1975-10-01T00:00:00",
          "1976-01-01T00:00:00",
          "1976-04-01T00:00:00",
          "1976-07-01T00:00:00",
          "1976-10-01T00:00:00",
          "1977-01-01T00:00:00",
          "1977-04-01T00:00:00",
          "1977-07-01T00:00:00",
          "1977-10-01T00:00:00",
          "1978-01-01T00:00:00",
          "1978-04-01T00:00:00",
          "1978-07-01T00:00:00",
          "1978-10-01T00:00:00",
          "1979-01-01T00:00:00",
          "1979-04-01T00:00:00",
          "1979-07-01T00:00:00",
          "1979-10-01T00:00:00",
          "1980-01-01T00:00:00",
          "1980-04-01T00:00:00",
          "1980-07-01T00:00:00",
          "1980-10-01T00:00:00",
          "1981-01-01T00:00:00",
          "1981-04-01T00:00:00",
          "1981-07-01T00:00:00",
          "1981-10-01T00:00:00",
          "1982-01-01T00:00:00",
          "1982-04-01T00:00:00",
          "1982-07-01T00:00:00",
          "1982-10-01T00:00:00",
          "1983-01-01T00:00:00",
          "1983-04-01T00:00:00",
          "1983-07-01T00:00:00",
          "1983-10-01T00:00:00",
          "1984-01-01T00:00:00",
          "1984-04-01T00:00:00",
          "1984-07-01T00:00:00",
          "1984-10-01T00:00:00",
          "1985-01-01T00:00:00",
          "1985-04-01T00:00:00",
          "1985-07-01T00:00:00",
          "1985-10-01T00:00:00",
          "1986-01-01T00:00:00",
          "1986-04-01T00:00:00",
          "1986-07-01T00:00:00",
          "1986-10-01T00:00:00",
          "1987-01-01T00:00:00",
          "1987-04-01T00:00:00",
          "1987-07-01T00:00:00",
          "1987-10-01T00:00:00",
          "1988-01-01T00:00:00",
          "1988-04-01T00:00:00",
          "1988-07-01T00:00:00",
          "1988-10-01T00:00:00",
          "1989-01-01T00:00:00",
          "1989-04-01T00:00:00",
          "1989-07-01T00:00:00",
          "1989-10-01T00:00:00",
          "1990-01-01T00:00:00",
          "1990-04-01T00:00:00",
          "1990-07-01T00:00:00",
          "1990-10-01T00:00:00",
          "1991-01-01T00:00:00",
          "1991-04-01T00:00:00",
          "1991-07-01T00:00:00",
          "1991-10-01T00:00:00",
          "1992-01-01T00:00:00",
          "1992-04-01T00:00:00",
          "1992-07-01T00:00:00",
          "1992-10-01T00:00:00",
          "1993-01-01T00:00:00",
          "1993-04-01T00:00:00",
          "1993-07-01T00:00:00",
          "1993-10-01T00:00:00",
          "1994-01-01T00:00:00",
          "1994-04-01T00:00:00",
          "1994-07-01T00:00:00",
          "1994-10-01T00:00:00",
          "1995-01-01T00:00:00",
          "1995-04-01T00:00:00",
          "1995-07-01T00:00:00",
          "1995-10-01T00:00:00",
          "1996-01-01T00:00:00",
          "1996-04-01T00:00:00",
          "1996-07-01T00:00:00",
          "1996-10-01T00:00:00",
          "1997-01-01T00:00:00",
          "1997-04-01T00:00:00",
          "1997-07-01T00:00:00",
          "1997-10-01T00:00:00",
          "1998-01-01T00:00:00",
          "1998-04-01T00:00:00",
          "1998-07-01T00:00:00",
          "1998-10-01T00:00:00",
          "1999-01-01T00:00:00",
          "1999-04-01T00:00:00",
          "1999-07-01T00:00:00",
          "1999-10-01T00:00:00",
          "2000-01-01T00:00:00",
          "2000-04-01T00:00:00",
          "2000-07-01T00:00:00",
          "2000-10-01T00:00:00",
          "2001-01-01T00:00:00",
          "2001-04-01T00:00:00",
          "2001-07-01T00:00:00",
          "2001-10-01T00:00:00",
          "2002-01-01T00:00:00",
          "2002-04-01T00:00:00",
          "2002-07-01T00:00:00",
          "2002-10-01T00:00:00",
          "2003-01-01T00:00:00",
          "2003-04-01T00:00:00",
          "2003-07-01T00:00:00",
          "2003-10-01T00:00:00",
          "2004-01-01T00:00:00",
          "2004-04-01T00:00:00",
          "2004-07-01T00:00:00",
          "2004-10-01T00:00:00",
          "2005-01-01T00:00:00",
          "2005-04-01T00:00:00",
          "2005-07-01T00:00:00",
          "2005-10-01T00:00:00",
          "2006-01-01T00:00:00",
          "2006-04-01T00:00:00",
          "2006-07-01T00:00:00",
          "2006-10-01T00:00:00",
          "2007-01-01T00:00:00",
          "2007-04-01T00:00:00",
          "2007-07-01T00:00:00",
          "2007-10-01T00:00:00",
          "2008-01-01T00:00:00",
          "2008-04-01T00:00:00",
          "2008-07-01T00:00:00",
          "2008-10-01T00:00:00",
          "2009-01-01T00:00:00",
          "2009-04-01T00:00:00",
          "2009-07-01T00:00:00"
         ],
         "xaxis": "x3",
         "y": [
          null,
          null,
          0.9461524234693879,
          -1.1704725765306123,
          1.050552423469388,
          -1.4649822704081632,
          1.2811524234693878,
          0.33077742346938777,
          -1.3069475765306124,
          0.6187677295918368,
          -0.3675975765306123,
          -0.16547257653061212,
          1.1993024234693876,
          -1.3262322704081633,
          0.8361524234693876,
          -0.22797257653061212,
          -0.7481975765306121,
          1.1962677295918367,
          -0.9675975765306124,
          1.3607774234693877,
          -0.9006975765306124,
          -0.3762322704081631,
          -0.11384757653061217,
          0.6645274234693878,
          -0.3594475765306122,
          0.6112677295918368,
          -1.6438475765306122,
          0.32452742346938745,
          1.8693024234693876,
          -1.4687322704081633,
          1.9036524234693877,
          -1.8867225765306124,
          -0.19944757653061207,
          0.40876772959183694,
          -0.30509757653061254,
          0.7970274234693872,
          -0.9144475765306119,
          1.0262677295918372,
          -0.588847576530612,
          -0.6304725765306122,
          1.363052423469388,
          -0.4087322704081643,
          -0.6988475765306124,
          0.864527423469387,
          0.8693024234693885,
          -1.3099822704081634,
          0.3374024234693884,
          1.0657774234693878,
          -1.905697576530612,
          1.357517729591837,
          -0.5450975765306123,
          -0.05047257653061213,
          -0.018197576530611714,
          -0.6037322704081632,
          -0.7275975765306124,
          -0.4642225765306115,
          2.6955524234693877,
          -4.039982270408163,
          2.9224024234693893,
          0.3332774234693888,
          0.00430242346938825,
          -1.4249822704081636,
          2.9849024234693893,
          0.864527423469387,
          -2.818197576530613,
          0.42376772959183706,
          0.3624024234693879,
          1.1557774234693876,
          -3.121947576530613,
          1.0437677295918364,
          0.20740242346938675,
          -0.8992225765306111,
          2.5355524234693885,
          -1.2262322704081632,
          -1.3825975765306122,
          0.4082774234693881,
          -0.3169475765306118,
          1.0600177295918358,
          0.07490242346938913,
          -1.9454725765306136,
          1.0618024234693892,
          1.0450177295918353,
          -1.59009757653061,
          1.8332774234693852,
          2.5755524234693876,
          -3.334982270408162,
          -0.5300975765306131,
          1.8957774234693887,
          -1.2844475765306138,
          1.6425177295918372,
          0.8811524234693877,
          -1.9204725765306132,
          -2.998197576530613,
          5.985017729591838,
          -1.4963475765306122,
          -3.745472576530612,
          1.238052423469388,
          0.4387677295918372,
          -0.5063475765306125,
          0.9920274234693874,
          0.5718024234693881,
          -0.8637322704081635,
          0.15990242346938777,
          -0.9804725765306123,
          1.698052423469388,
          -1.0637322704081627,
          0.054902423469387784,
          3.712027423469388,
          -5.895697576530612,
          1.342517729591837,
          -0.10134757653061266,
          0.797027423469388,
          0.6818024234693867,
          -0.39873227040816317,
          0.04990242346938745,
          -0.3229725765306125,
          0.11055242346938754,
          -0.0012322704081636215,
          -0.11509757653061214,
          -0.41422257653061256,
          1.6105524234693875,
          -0.38623227040816344,
          -2.121347576530612,
          2.185777423469388,
          -0.9731975765306118,
          -1.039982270408163,
          3.527402423469387,
          -0.4067225765306123,
          -2.251947576530612,
          0.3837677295918366,
          -0.12259757653061198,
          0.26952742346938774,
          0.1043024234693879,
          -0.20498227040816305,
          0.0799024234693877,
          0.33452742346938813,
          0.13180242346938775,
          -0.7587322704081635,
          0.4849024234693875,
          -0.3792225765306124,
          -0.06944757653061218,
          0.41376772959183683,
          -0.4313475765306123,
          0.19577742346938817,
          0.7930524234693876,
          -0.7599822704081632,
          -0.5875975765306123,
          0.49452742346938783,
          0.7730524234693881,
          -0.8362322704081632,
          0.18365242346938748,
          0.9457774234693882,
          -0.7519475765306123,
          -0.7224822704081634,
          1.0399024234693874,
          -0.139222576530612,
          -1.0119475765306123,
          0.7637677295918369,
          -0.4113475765306125,
          -0.03797257653061217,
          0.6755524234693875,
          -0.8549822704081634,
          0.3199024234693879,
          -0.20422257653061218,
          0.39555242346938724,
          0.5350177295918371,
          -0.8075975765306125,
          1.1632774234693875,
          -0.4744475765306122,
          0.4800177295918363,
          -1.1288475765306123,
          -1.1154725765306122,
          1.9568024234693875,
          -0.9387322704081632,
          0.054902423469387784,
          1.1857774234693879,
          -0.6169475765306125,
          -1.0549822704081633,
          0.2974024234693875,
          0.6395274234693878,
          -0.5669475765306122,
          0.4537677295918364,
          0.27990242346938743,
          -0.8479725765306124,
          0.6380524234693878,
          -2.3787322704081637,
          5.281152423469388,
          -3.1629725765306125,
          0.013052423469387842,
          2.127517729591837,
          -4.067597576530613,
          1.0845274234693876,
          1.789302423469388,
          -1.287482270408163,
          -0.7875975765306125,
          2.007027423469388,
          -1.5481975765306124,
          6.6512677295918365,
          -2.9425975765306127,
          -7.325472576530611,
          2.1105524234693878,
          null,
          null
         ],
         "yaxis": "y3"
        }
       ],
       "layout": {
        "annotations": [
         {
          "font": {
           "size": 16
          },
          "showarrow": false,
          "text": "Trend",
          "x": 0.5,
          "xanchor": "center",
          "xref": "paper",
          "y": 1,
          "yanchor": "bottom",
          "yref": "paper"
         },
         {
          "font": {
           "size": 16
          },
          "showarrow": false,
          "text": "Seasonality",
          "x": 0.5,
          "xanchor": "center",
          "xref": "paper",
          "y": 0.6111111111111112,
          "yanchor": "bottom",
          "yref": "paper"
         },
         {
          "font": {
           "size": 16
          },
          "showarrow": false,
          "text": "Residuals",
          "x": 0.5,
          "xanchor": "center",
          "xref": "paper",
          "y": 0.22222222222222224,
          "yanchor": "bottom",
          "yref": "paper"
         }
        ],
        "height": 400,
        "template": {
         "data": {
          "bar": [
           {
            "error_x": {
             "color": "#2a3f5f"
            },
            "error_y": {
             "color": "#2a3f5f"
            },
            "marker": {
             "line": {
              "color": "white",
              "width": 0.5
             },
             "pattern": {
              "fillmode": "overlay",
              "size": 10,
              "solidity": 0.2
             }
            },
            "type": "bar"
           }
          ],
          "barpolar": [
           {
            "marker": {
             "line": {
              "color": "white",
              "width": 0.5
             },
             "pattern": {
              "fillmode": "overlay",
              "size": 10,
              "solidity": 0.2
             }
            },
            "type": "barpolar"
           }
          ],
          "carpet": [
           {
            "aaxis": {
             "endlinecolor": "#2a3f5f",
             "gridcolor": "#C8D4E3",
             "linecolor": "#C8D4E3",
             "minorgridcolor": "#C8D4E3",
             "startlinecolor": "#2a3f5f"
            },
            "baxis": {
             "endlinecolor": "#2a3f5f",
             "gridcolor": "#C8D4E3",
             "linecolor": "#C8D4E3",
             "minorgridcolor": "#C8D4E3",
             "startlinecolor": "#2a3f5f"
            },
            "type": "carpet"
           }
          ],
          "choropleth": [
           {
            "colorbar": {
             "outlinewidth": 0,
             "ticks": ""
            },
            "type": "choropleth"
           }
          ],
          "contour": [
           {
            "colorbar": {
             "outlinewidth": 0,
             "ticks": ""
            },
            "colorscale": [
             [
              0,
              "#0d0887"
             ],
             [
              0.1111111111111111,
              "#46039f"
             ],
             [
              0.2222222222222222,
              "#7201a8"
             ],
             [
              0.3333333333333333,
              "#9c179e"
             ],
             [
              0.4444444444444444,
              "#bd3786"
             ],
             [
              0.5555555555555556,
              "#d8576b"
             ],
             [
              0.6666666666666666,
              "#ed7953"
             ],
             [
              0.7777777777777778,
              "#fb9f3a"
             ],
             [
              0.8888888888888888,
              "#fdca26"
             ],
             [
              1,
              "#f0f921"
             ]
            ],
            "type": "contour"
           }
          ],
          "contourcarpet": [
           {
            "colorbar": {
             "outlinewidth": 0,
             "ticks": ""
            },
            "type": "contourcarpet"
           }
          ],
          "heatmap": [
           {
            "colorbar": {
             "outlinewidth": 0,
             "ticks": ""
            },
            "colorscale": [
             [
              0,
              "#0d0887"
             ],
             [
              0.1111111111111111,
              "#46039f"
             ],
             [
              0.2222222222222222,
              "#7201a8"
             ],
             [
              0.3333333333333333,
              "#9c179e"
             ],
             [
              0.4444444444444444,
              "#bd3786"
             ],
             [
              0.5555555555555556,
              "#d8576b"
             ],
             [
              0.6666666666666666,
              "#ed7953"
             ],
             [
              0.7777777777777778,
              "#fb9f3a"
             ],
             [
              0.8888888888888888,
              "#fdca26"
             ],
             [
              1,
              "#f0f921"
             ]
            ],
            "type": "heatmap"
           }
          ],
          "heatmapgl": [
           {
            "colorbar": {
             "outlinewidth": 0,
             "ticks": ""
            },
            "colorscale": [
             [
              0,
              "#0d0887"
             ],
             [
              0.1111111111111111,
              "#46039f"
             ],
             [
              0.2222222222222222,
              "#7201a8"
             ],
             [
              0.3333333333333333,
              "#9c179e"
             ],
             [
              0.4444444444444444,
              "#bd3786"
             ],
             [
              0.5555555555555556,
              "#d8576b"
             ],
             [
              0.6666666666666666,
              "#ed7953"
             ],
             [
              0.7777777777777778,
              "#fb9f3a"
             ],
             [
              0.8888888888888888,
              "#fdca26"
             ],
             [
              1,
              "#f0f921"
             ]
            ],
            "type": "heatmapgl"
           }
          ],
          "histogram": [
           {
            "marker": {
             "pattern": {
              "fillmode": "overlay",
              "size": 10,
              "solidity": 0.2
             }
            },
            "type": "histogram"
           }
          ],
          "histogram2d": [
           {
            "colorbar": {
             "outlinewidth": 0,
             "ticks": ""
            },
            "colorscale": [
             [
              0,
              "#0d0887"
             ],
             [
              0.1111111111111111,
              "#46039f"
             ],
             [
              0.2222222222222222,
              "#7201a8"
             ],
             [
              0.3333333333333333,
              "#9c179e"
             ],
             [
              0.4444444444444444,
              "#bd3786"
             ],
             [
              0.5555555555555556,
              "#d8576b"
             ],
             [
              0.6666666666666666,
              "#ed7953"
             ],
             [
              0.7777777777777778,
              "#fb9f3a"
             ],
             [
              0.8888888888888888,
              "#fdca26"
             ],
             [
              1,
              "#f0f921"
             ]
            ],
            "type": "histogram2d"
           }
          ],
          "histogram2dcontour": [
           {
            "colorbar": {
             "outlinewidth": 0,
             "ticks": ""
            },
            "colorscale": [
             [
              0,
              "#0d0887"
             ],
             [
              0.1111111111111111,
              "#46039f"
             ],
             [
              0.2222222222222222,
              "#7201a8"
             ],
             [
              0.3333333333333333,
              "#9c179e"
             ],
             [
              0.4444444444444444,
              "#bd3786"
             ],
             [
              0.5555555555555556,
              "#d8576b"
             ],
             [
              0.6666666666666666,
              "#ed7953"
             ],
             [
              0.7777777777777778,
              "#fb9f3a"
             ],
             [
              0.8888888888888888,
              "#fdca26"
             ],
             [
              1,
              "#f0f921"
             ]
            ],
            "type": "histogram2dcontour"
           }
          ],
          "mesh3d": [
           {
            "colorbar": {
             "outlinewidth": 0,
             "ticks": ""
            },
            "type": "mesh3d"
           }
          ],
          "parcoords": [
           {
            "line": {
             "colorbar": {
              "outlinewidth": 0,
              "ticks": ""
             }
            },
            "type": "parcoords"
           }
          ],
          "pie": [
           {
            "automargin": true,
            "type": "pie"
           }
          ],
          "scatter": [
           {
            "fillpattern": {
             "fillmode": "overlay",
             "size": 10,
             "solidity": 0.2
            },
            "type": "scatter"
           }
          ],
          "scatter3d": [
           {
            "line": {
             "colorbar": {
              "outlinewidth": 0,
              "ticks": ""
             }
            },
            "marker": {
             "colorbar": {
              "outlinewidth": 0,
              "ticks": ""
             }
            },
            "type": "scatter3d"
           }
          ],
          "scattercarpet": [
           {
            "marker": {
             "colorbar": {
              "outlinewidth": 0,
              "ticks": ""
             }
            },
            "type": "scattercarpet"
           }
          ],
          "scattergeo": [
           {
            "marker": {
             "colorbar": {
              "outlinewidth": 0,
              "ticks": ""
             }
            },
            "type": "scattergeo"
           }
          ],
          "scattergl": [
           {
            "marker": {
             "colorbar": {
              "outlinewidth": 0,
              "ticks": ""
             }
            },
            "type": "scattergl"
           }
          ],
          "scattermapbox": [
           {
            "marker": {
             "colorbar": {
              "outlinewidth": 0,
              "ticks": ""
             }
            },
            "type": "scattermapbox"
           }
          ],
          "scatterpolar": [
           {
            "marker": {
             "colorbar": {
              "outlinewidth": 0,
              "ticks": ""
             }
            },
            "type": "scatterpolar"
           }
          ],
          "scatterpolargl": [
           {
            "marker": {
             "colorbar": {
              "outlinewidth": 0,
              "ticks": ""
             }
            },
            "type": "scatterpolargl"
           }
          ],
          "scatterternary": [
           {
            "marker": {
             "colorbar": {
              "outlinewidth": 0,
              "ticks": ""
             }
            },
            "type": "scatterternary"
           }
          ],
          "surface": [
           {
            "colorbar": {
             "outlinewidth": 0,
             "ticks": ""
            },
            "colorscale": [
             [
              0,
              "#0d0887"
             ],
             [
              0.1111111111111111,
              "#46039f"
             ],
             [
              0.2222222222222222,
              "#7201a8"
             ],
             [
              0.3333333333333333,
              "#9c179e"
             ],
             [
              0.4444444444444444,
              "#bd3786"
             ],
             [
              0.5555555555555556,
              "#d8576b"
             ],
             [
              0.6666666666666666,
              "#ed7953"
             ],
             [
              0.7777777777777778,
              "#fb9f3a"
             ],
             [
              0.8888888888888888,
              "#fdca26"
             ],
             [
              1,
              "#f0f921"
             ]
            ],
            "type": "surface"
           }
          ],
          "table": [
           {
            "cells": {
             "fill": {
              "color": "#EBF0F8"
             },
             "line": {
              "color": "white"
             }
            },
            "header": {
             "fill": {
              "color": "#C8D4E3"
             },
             "line": {
              "color": "white"
             }
            },
            "type": "table"
           }
          ]
         },
         "layout": {
          "annotationdefaults": {
           "arrowcolor": "#2a3f5f",
           "arrowhead": 0,
           "arrowwidth": 1
          },
          "autotypenumbers": "strict",
          "coloraxis": {
           "colorbar": {
            "outlinewidth": 0,
            "ticks": ""
           }
          },
          "colorscale": {
           "diverging": [
            [
             0,
             "#8e0152"
            ],
            [
             0.1,
             "#c51b7d"
            ],
            [
             0.2,
             "#de77ae"
            ],
            [
             0.3,
             "#f1b6da"
            ],
            [
             0.4,
             "#fde0ef"
            ],
            [
             0.5,
             "#f7f7f7"
            ],
            [
             0.6,
             "#e6f5d0"
            ],
            [
             0.7,
             "#b8e186"
            ],
            [
             0.8,
             "#7fbc41"
            ],
            [
             0.9,
             "#4d9221"
            ],
            [
             1,
             "#276419"
            ]
           ],
           "sequential": [
            [
             0,
             "#0d0887"
            ],
            [
             0.1111111111111111,
             "#46039f"
            ],
            [
             0.2222222222222222,
             "#7201a8"
            ],
            [
             0.3333333333333333,
             "#9c179e"
            ],
            [
             0.4444444444444444,
             "#bd3786"
            ],
            [
             0.5555555555555556,
             "#d8576b"
            ],
            [
             0.6666666666666666,
             "#ed7953"
            ],
            [
             0.7777777777777778,
             "#fb9f3a"
            ],
            [
             0.8888888888888888,
             "#fdca26"
            ],
            [
             1,
             "#f0f921"
            ]
           ],
           "sequentialminus": [
            [
             0,
             "#0d0887"
            ],
            [
             0.1111111111111111,
             "#46039f"
            ],
            [
             0.2222222222222222,
             "#7201a8"
            ],
            [
             0.3333333333333333,
             "#9c179e"
            ],
            [
             0.4444444444444444,
             "#bd3786"
            ],
            [
             0.5555555555555556,
             "#d8576b"
            ],
            [
             0.6666666666666666,
             "#ed7953"
            ],
            [
             0.7777777777777778,
             "#fb9f3a"
            ],
            [
             0.8888888888888888,
             "#fdca26"
            ],
            [
             1,
             "#f0f921"
            ]
           ]
          },
          "colorway": [
           "#636efa",
           "#EF553B",
           "#00cc96",
           "#ab63fa",
           "#FFA15A",
           "#19d3f3",
           "#FF6692",
           "#B6E880",
           "#FF97FF",
           "#FECB52"
          ],
          "font": {
           "color": "#2a3f5f"
          },
          "geo": {
           "bgcolor": "white",
           "lakecolor": "white",
           "landcolor": "white",
           "showlakes": true,
           "showland": true,
           "subunitcolor": "#C8D4E3"
          },
          "hoverlabel": {
           "align": "left"
          },
          "hovermode": "closest",
          "mapbox": {
           "style": "light"
          },
          "paper_bgcolor": "white",
          "plot_bgcolor": "white",
          "polar": {
           "angularaxis": {
            "gridcolor": "#EBF0F8",
            "linecolor": "#EBF0F8",
            "ticks": ""
           },
           "bgcolor": "white",
           "radialaxis": {
            "gridcolor": "#EBF0F8",
            "linecolor": "#EBF0F8",
            "ticks": ""
           }
          },
          "scene": {
           "xaxis": {
            "backgroundcolor": "white",
            "gridcolor": "#DFE8F3",
            "gridwidth": 2,
            "linecolor": "#EBF0F8",
            "showbackground": true,
            "ticks": "",
            "zerolinecolor": "#EBF0F8"
           },
           "yaxis": {
            "backgroundcolor": "white",
            "gridcolor": "#DFE8F3",
            "gridwidth": 2,
            "linecolor": "#EBF0F8",
            "showbackground": true,
            "ticks": "",
            "zerolinecolor": "#EBF0F8"
           },
           "zaxis": {
            "backgroundcolor": "white",
            "gridcolor": "#DFE8F3",
            "gridwidth": 2,
            "linecolor": "#EBF0F8",
            "showbackground": true,
            "ticks": "",
            "zerolinecolor": "#EBF0F8"
           }
          },
          "shapedefaults": {
           "line": {
            "color": "#2a3f5f"
           }
          },
          "ternary": {
           "aaxis": {
            "gridcolor": "#DFE8F3",
            "linecolor": "#A2B1C6",
            "ticks": ""
           },
           "baxis": {
            "gridcolor": "#DFE8F3",
            "linecolor": "#A2B1C6",
            "ticks": ""
           },
           "bgcolor": "white",
           "caxis": {
            "gridcolor": "#DFE8F3",
            "linecolor": "#A2B1C6",
            "ticks": ""
           }
          },
          "title": {
           "x": 0.05
          },
          "xaxis": {
           "automargin": true,
           "gridcolor": "#EBF0F8",
           "linecolor": "#EBF0F8",
           "ticks": "",
           "title": {
            "standoff": 15
           },
           "zerolinecolor": "#EBF0F8",
           "zerolinewidth": 2
          },
          "yaxis": {
           "automargin": true,
           "gridcolor": "#EBF0F8",
           "linecolor": "#EBF0F8",
           "ticks": "",
           "title": {
            "standoff": 15
           },
           "zerolinecolor": "#EBF0F8",
           "zerolinewidth": 2
          }
         }
        },
        "title": {
         "text": "Seasonal decomposition for infl"
        },
        "width": 1200,
        "xaxis": {
         "anchor": "y",
         "domain": [
          0,
          1
         ]
        },
        "xaxis2": {
         "anchor": "y2",
         "domain": [
          0,
          1
         ]
        },
        "xaxis3": {
         "anchor": "y3",
         "domain": [
          0,
          1
         ]
        },
        "yaxis": {
         "anchor": "x",
         "domain": [
          0.7777777777777778,
          1
         ]
        },
        "yaxis2": {
         "anchor": "x2",
         "domain": [
          0.3888888888888889,
          0.6111111111111112
         ]
        },
        "yaxis3": {
         "anchor": "x3",
         "domain": [
          0,
          0.22222222222222224
         ]
        }
       }
      }
     },
     "metadata": {},
     "output_type": "display_data"
    }
   ],
   "source": [
    "for col in data.columns:\n",
    "    result = seasonal_decompose(data[col], model='additive', period=4)\n",
    "\n",
    "    fig = sp.make_subplots(rows=3, cols=1, subplot_titles=['Trend', 'Seasonality', 'Residuals'])\n",
    "\n",
    "    fig.add_trace(go.Scatter(x=data.index, y=result.trend, mode='lines', name='Trend'), row=1, col=1)\n",
    "    fig.add_trace(go.Scatter(x=data.index, y=result.seasonal, mode='lines', name='Seasonality'), row=2, col=1)\n",
    "    fig.add_trace(go.Scatter(x=data.index, y=result.resid, mode='lines', name='Residuals'), row=3, col=1)\n",
    "\n",
    "    fig.update_layout(height=400, width=1200, title_text=f'Seasonal decomposition for {col}', template='plotly_white')\n",
    "    fig.show()"
   ]
  },
  {
   "cell_type": "markdown",
   "id": "14b4ac77",
   "metadata": {},
   "source": [
    "Based on the decomposition of each variable we can conclude different things:\n",
    "- realgdp trend reflects an upward trajectory which confirms consistent economic increase over the years, but with notable declines through historical events while its seasonality reveals regular quarterly patterns (it may be linked to cyclical production and consumption behaviors); the residuals remain stable in general but there is some evident variance during periods of instability;\n",
    "- pop's trend is linear with minimal seasonal variation, reflecting continuous growth; the cumulative nature of pop variable leads to no seasonal patterns for pop var; the residuals are relatively stable with minor deviations (some slight unexpected variations)\n",
    "- unemployment’s trend highlights significant peaks during economic crises, while its seasonal component suggests recurring employment patterns within a year; residuals display variability during economic downturns (labor market's sensitivity to sudden macroeconomic shifts)\n",
    "- inflation’s trend displays sharp increases during historical economic shocks, with seasonal patterns likely tied to economic cycles; residuals are reflecting the influence of unpredictable factors on inflation (global events, political decisions or some other factors);"
   ]
  },
  {
   "cell_type": "markdown",
   "id": "d3b99115",
   "metadata": {},
   "source": [
    "d) Studying the outliers in our data. Winsorization"
   ]
  },
  {
   "cell_type": "markdown",
   "id": "03d6bc8a",
   "metadata": {},
   "source": [
    "Now I will study the existence of outliers in our data using box plot representation. Based on these plots, I will decide which variable to winsorize in order to maintain the integrity of the dataset"
   ]
  },
  {
   "cell_type": "code",
   "execution_count": 9,
   "id": "dc6755a7",
   "metadata": {},
   "outputs": [
    {
     "data": {
      "application/vnd.plotly.v1+json": {
       "config": {
        "plotlyServerURL": "https://plot.ly"
       },
       "data": [
        {
         "alignmentgroup": "True",
         "hovertemplate": "realgdp=%{y}<extra></extra>",
         "legendgroup": "",
         "marker": {
          "color": "#636efa"
         },
         "name": "",
         "notched": false,
         "offsetgroup": "",
         "orientation": "v",
         "showlegend": false,
         "type": "box",
         "x0": " ",
         "xaxis": "x",
         "y": [
          2710.349,
          2778.801,
          2775.488,
          2785.204,
          2847.699,
          2834.39,
          2839.022,
          2802.616,
          2819.264,
          2872.005,
          2918.419,
          2977.83,
          3031.241,
          3064.709,
          3093.047,
          3100.563,
          3141.087,
          3180.447,
          3240.332,
          3264.967,
          3338.246,
          3376.587,
          3422.469,
          3431.957,
          3516.251,
          3563.96,
          3636.285,
          3724.014,
          3815.423,
          3828.124,
          3853.301,
          3884.52,
          3918.74,
          3919.556,
          3950.826,
          3980.97,
          4063.013,
          4131.998,
          4160.267,
          4178.293,
          4244.1,
          4256.46,
          4283.378,
          4263.261,
          4256.573,
          4264.289,
          4302.259,
          4256.637,
          4374.016,
          4398.829,
          4433.943,
          4446.264,
          4525.769,
          4633.101,
          4677.503,
          4754.546,
          4876.166,
          4932.571,
          4906.252,
          4953.05,
          4909.617,
          4922.188,
          4873.52,
          4854.34,
          4795.295,
          4831.942,
          4913.328,
          4977.511,
          5090.663,
          5128.947,
          5154.072,
          5191.499,
          5251.762,
          5356.131,
          5451.921,
          5450.793,
          5469.405,
          5684.569,
          5740.3,
          5816.222,
          5825.949,
          5831.418,
          5873.335,
          5889.495,
          5908.467,
          5787.373,
          5776.617,
          5883.46,
          6005.717,
          5957.795,
          6030.184,
          5955.062,
          5857.333,
          5889.074,
          5866.37,
          5871.001,
          5944.02,
          6077.619,
          6197.468,
          6325.574,
          6448.264,
          6559.594,
          6623.343,
          6677.264,
          6740.275,
          6797.344,
          6903.523,
          6955.918,
          7022.757,
          7050.969,
          7118.95,
          7153.359,
          7193.019,
          7269.51,
          7332.558,
          7458.022,
          7496.6,
          7592.881,
          7632.082,
          7733.991,
          7806.603,
          7865.016,
          7927.393,
          7944.697,
          8027.693,
          8059.598,
          8059.476,
          7988.864,
          7950.164,
          8003.822,
          8037.538,
          8069.046,
          8157.616,
          8244.294,
          8329.361,
          8417.016,
          8432.485,
          8486.435,
          8531.108,
          8643.769,
          8727.919,
          8847.303,
          8904.289,
          9003.18,
          9025.267,
          9044.668,
          9120.684,
          9184.275,
          9247.188,
          9407.052,
          9488.879,
          9592.458,
          9666.235,
          9809.551,
          9932.672,
          10008.874,
          10103.425,
          10194.277,
          10328.787,
          10507.575,
          10601.179,
          10684.049,
          10819.914,
          11014.254,
          11043.044,
          11258.454,
          11267.867,
          11334.544,
          11297.171,
          11371.251,
          11340.075,
          11380.128,
          11477.868,
          11538.77,
          11596.43,
          11598.824,
          11645.819,
          11738.706,
          11935.461,
          12042.817,
          12127.623,
          12213.818,
          12303.533,
          12410.282,
          12534.113,
          12587.535,
          12683.153,
          12748.699,
          12915.938,
          12962.462,
          12965.916,
          13060.679,
          13099.901,
          13203.977,
          13321.109,
          13391.249,
          13366.865,
          13415.266,
          13324.6,
          13141.92,
          12925.41,
          12901.504,
          12990.341
         ],
         "y0": " ",
         "yaxis": "y"
        }
       ],
       "layout": {
        "boxmode": "group",
        "height": 400,
        "legend": {
         "tracegroupgap": 0
        },
        "template": {
         "data": {
          "bar": [
           {
            "error_x": {
             "color": "#2a3f5f"
            },
            "error_y": {
             "color": "#2a3f5f"
            },
            "marker": {
             "line": {
              "color": "#E5ECF6",
              "width": 0.5
             },
             "pattern": {
              "fillmode": "overlay",
              "size": 10,
              "solidity": 0.2
             }
            },
            "type": "bar"
           }
          ],
          "barpolar": [
           {
            "marker": {
             "line": {
              "color": "#E5ECF6",
              "width": 0.5
             },
             "pattern": {
              "fillmode": "overlay",
              "size": 10,
              "solidity": 0.2
             }
            },
            "type": "barpolar"
           }
          ],
          "carpet": [
           {
            "aaxis": {
             "endlinecolor": "#2a3f5f",
             "gridcolor": "white",
             "linecolor": "white",
             "minorgridcolor": "white",
             "startlinecolor": "#2a3f5f"
            },
            "baxis": {
             "endlinecolor": "#2a3f5f",
             "gridcolor": "white",
             "linecolor": "white",
             "minorgridcolor": "white",
             "startlinecolor": "#2a3f5f"
            },
            "type": "carpet"
           }
          ],
          "choropleth": [
           {
            "colorbar": {
             "outlinewidth": 0,
             "ticks": ""
            },
            "type": "choropleth"
           }
          ],
          "contour": [
           {
            "colorbar": {
             "outlinewidth": 0,
             "ticks": ""
            },
            "colorscale": [
             [
              0,
              "#0d0887"
             ],
             [
              0.1111111111111111,
              "#46039f"
             ],
             [
              0.2222222222222222,
              "#7201a8"
             ],
             [
              0.3333333333333333,
              "#9c179e"
             ],
             [
              0.4444444444444444,
              "#bd3786"
             ],
             [
              0.5555555555555556,
              "#d8576b"
             ],
             [
              0.6666666666666666,
              "#ed7953"
             ],
             [
              0.7777777777777778,
              "#fb9f3a"
             ],
             [
              0.8888888888888888,
              "#fdca26"
             ],
             [
              1,
              "#f0f921"
             ]
            ],
            "type": "contour"
           }
          ],
          "contourcarpet": [
           {
            "colorbar": {
             "outlinewidth": 0,
             "ticks": ""
            },
            "type": "contourcarpet"
           }
          ],
          "heatmap": [
           {
            "colorbar": {
             "outlinewidth": 0,
             "ticks": ""
            },
            "colorscale": [
             [
              0,
              "#0d0887"
             ],
             [
              0.1111111111111111,
              "#46039f"
             ],
             [
              0.2222222222222222,
              "#7201a8"
             ],
             [
              0.3333333333333333,
              "#9c179e"
             ],
             [
              0.4444444444444444,
              "#bd3786"
             ],
             [
              0.5555555555555556,
              "#d8576b"
             ],
             [
              0.6666666666666666,
              "#ed7953"
             ],
             [
              0.7777777777777778,
              "#fb9f3a"
             ],
             [
              0.8888888888888888,
              "#fdca26"
             ],
             [
              1,
              "#f0f921"
             ]
            ],
            "type": "heatmap"
           }
          ],
          "heatmapgl": [
           {
            "colorbar": {
             "outlinewidth": 0,
             "ticks": ""
            },
            "colorscale": [
             [
              0,
              "#0d0887"
             ],
             [
              0.1111111111111111,
              "#46039f"
             ],
             [
              0.2222222222222222,
              "#7201a8"
             ],
             [
              0.3333333333333333,
              "#9c179e"
             ],
             [
              0.4444444444444444,
              "#bd3786"
             ],
             [
              0.5555555555555556,
              "#d8576b"
             ],
             [
              0.6666666666666666,
              "#ed7953"
             ],
             [
              0.7777777777777778,
              "#fb9f3a"
             ],
             [
              0.8888888888888888,
              "#fdca26"
             ],
             [
              1,
              "#f0f921"
             ]
            ],
            "type": "heatmapgl"
           }
          ],
          "histogram": [
           {
            "marker": {
             "pattern": {
              "fillmode": "overlay",
              "size": 10,
              "solidity": 0.2
             }
            },
            "type": "histogram"
           }
          ],
          "histogram2d": [
           {
            "colorbar": {
             "outlinewidth": 0,
             "ticks": ""
            },
            "colorscale": [
             [
              0,
              "#0d0887"
             ],
             [
              0.1111111111111111,
              "#46039f"
             ],
             [
              0.2222222222222222,
              "#7201a8"
             ],
             [
              0.3333333333333333,
              "#9c179e"
             ],
             [
              0.4444444444444444,
              "#bd3786"
             ],
             [
              0.5555555555555556,
              "#d8576b"
             ],
             [
              0.6666666666666666,
              "#ed7953"
             ],
             [
              0.7777777777777778,
              "#fb9f3a"
             ],
             [
              0.8888888888888888,
              "#fdca26"
             ],
             [
              1,
              "#f0f921"
             ]
            ],
            "type": "histogram2d"
           }
          ],
          "histogram2dcontour": [
           {
            "colorbar": {
             "outlinewidth": 0,
             "ticks": ""
            },
            "colorscale": [
             [
              0,
              "#0d0887"
             ],
             [
              0.1111111111111111,
              "#46039f"
             ],
             [
              0.2222222222222222,
              "#7201a8"
             ],
             [
              0.3333333333333333,
              "#9c179e"
             ],
             [
              0.4444444444444444,
              "#bd3786"
             ],
             [
              0.5555555555555556,
              "#d8576b"
             ],
             [
              0.6666666666666666,
              "#ed7953"
             ],
             [
              0.7777777777777778,
              "#fb9f3a"
             ],
             [
              0.8888888888888888,
              "#fdca26"
             ],
             [
              1,
              "#f0f921"
             ]
            ],
            "type": "histogram2dcontour"
           }
          ],
          "mesh3d": [
           {
            "colorbar": {
             "outlinewidth": 0,
             "ticks": ""
            },
            "type": "mesh3d"
           }
          ],
          "parcoords": [
           {
            "line": {
             "colorbar": {
              "outlinewidth": 0,
              "ticks": ""
             }
            },
            "type": "parcoords"
           }
          ],
          "pie": [
           {
            "automargin": true,
            "type": "pie"
           }
          ],
          "scatter": [
           {
            "fillpattern": {
             "fillmode": "overlay",
             "size": 10,
             "solidity": 0.2
            },
            "type": "scatter"
           }
          ],
          "scatter3d": [
           {
            "line": {
             "colorbar": {
              "outlinewidth": 0,
              "ticks": ""
             }
            },
            "marker": {
             "colorbar": {
              "outlinewidth": 0,
              "ticks": ""
             }
            },
            "type": "scatter3d"
           }
          ],
          "scattercarpet": [
           {
            "marker": {
             "colorbar": {
              "outlinewidth": 0,
              "ticks": ""
             }
            },
            "type": "scattercarpet"
           }
          ],
          "scattergeo": [
           {
            "marker": {
             "colorbar": {
              "outlinewidth": 0,
              "ticks": ""
             }
            },
            "type": "scattergeo"
           }
          ],
          "scattergl": [
           {
            "marker": {
             "colorbar": {
              "outlinewidth": 0,
              "ticks": ""
             }
            },
            "type": "scattergl"
           }
          ],
          "scattermapbox": [
           {
            "marker": {
             "colorbar": {
              "outlinewidth": 0,
              "ticks": ""
             }
            },
            "type": "scattermapbox"
           }
          ],
          "scatterpolar": [
           {
            "marker": {
             "colorbar": {
              "outlinewidth": 0,
              "ticks": ""
             }
            },
            "type": "scatterpolar"
           }
          ],
          "scatterpolargl": [
           {
            "marker": {
             "colorbar": {
              "outlinewidth": 0,
              "ticks": ""
             }
            },
            "type": "scatterpolargl"
           }
          ],
          "scatterternary": [
           {
            "marker": {
             "colorbar": {
              "outlinewidth": 0,
              "ticks": ""
             }
            },
            "type": "scatterternary"
           }
          ],
          "surface": [
           {
            "colorbar": {
             "outlinewidth": 0,
             "ticks": ""
            },
            "colorscale": [
             [
              0,
              "#0d0887"
             ],
             [
              0.1111111111111111,
              "#46039f"
             ],
             [
              0.2222222222222222,
              "#7201a8"
             ],
             [
              0.3333333333333333,
              "#9c179e"
             ],
             [
              0.4444444444444444,
              "#bd3786"
             ],
             [
              0.5555555555555556,
              "#d8576b"
             ],
             [
              0.6666666666666666,
              "#ed7953"
             ],
             [
              0.7777777777777778,
              "#fb9f3a"
             ],
             [
              0.8888888888888888,
              "#fdca26"
             ],
             [
              1,
              "#f0f921"
             ]
            ],
            "type": "surface"
           }
          ],
          "table": [
           {
            "cells": {
             "fill": {
              "color": "#EBF0F8"
             },
             "line": {
              "color": "white"
             }
            },
            "header": {
             "fill": {
              "color": "#C8D4E3"
             },
             "line": {
              "color": "white"
             }
            },
            "type": "table"
           }
          ]
         },
         "layout": {
          "annotationdefaults": {
           "arrowcolor": "#2a3f5f",
           "arrowhead": 0,
           "arrowwidth": 1
          },
          "autotypenumbers": "strict",
          "coloraxis": {
           "colorbar": {
            "outlinewidth": 0,
            "ticks": ""
           }
          },
          "colorscale": {
           "diverging": [
            [
             0,
             "#8e0152"
            ],
            [
             0.1,
             "#c51b7d"
            ],
            [
             0.2,
             "#de77ae"
            ],
            [
             0.3,
             "#f1b6da"
            ],
            [
             0.4,
             "#fde0ef"
            ],
            [
             0.5,
             "#f7f7f7"
            ],
            [
             0.6,
             "#e6f5d0"
            ],
            [
             0.7,
             "#b8e186"
            ],
            [
             0.8,
             "#7fbc41"
            ],
            [
             0.9,
             "#4d9221"
            ],
            [
             1,
             "#276419"
            ]
           ],
           "sequential": [
            [
             0,
             "#0d0887"
            ],
            [
             0.1111111111111111,
             "#46039f"
            ],
            [
             0.2222222222222222,
             "#7201a8"
            ],
            [
             0.3333333333333333,
             "#9c179e"
            ],
            [
             0.4444444444444444,
             "#bd3786"
            ],
            [
             0.5555555555555556,
             "#d8576b"
            ],
            [
             0.6666666666666666,
             "#ed7953"
            ],
            [
             0.7777777777777778,
             "#fb9f3a"
            ],
            [
             0.8888888888888888,
             "#fdca26"
            ],
            [
             1,
             "#f0f921"
            ]
           ],
           "sequentialminus": [
            [
             0,
             "#0d0887"
            ],
            [
             0.1111111111111111,
             "#46039f"
            ],
            [
             0.2222222222222222,
             "#7201a8"
            ],
            [
             0.3333333333333333,
             "#9c179e"
            ],
            [
             0.4444444444444444,
             "#bd3786"
            ],
            [
             0.5555555555555556,
             "#d8576b"
            ],
            [
             0.6666666666666666,
             "#ed7953"
            ],
            [
             0.7777777777777778,
             "#fb9f3a"
            ],
            [
             0.8888888888888888,
             "#fdca26"
            ],
            [
             1,
             "#f0f921"
            ]
           ]
          },
          "colorway": [
           "#636efa",
           "#EF553B",
           "#00cc96",
           "#ab63fa",
           "#FFA15A",
           "#19d3f3",
           "#FF6692",
           "#B6E880",
           "#FF97FF",
           "#FECB52"
          ],
          "font": {
           "color": "#2a3f5f"
          },
          "geo": {
           "bgcolor": "white",
           "lakecolor": "white",
           "landcolor": "#E5ECF6",
           "showlakes": true,
           "showland": true,
           "subunitcolor": "white"
          },
          "hoverlabel": {
           "align": "left"
          },
          "hovermode": "closest",
          "mapbox": {
           "style": "light"
          },
          "paper_bgcolor": "white",
          "plot_bgcolor": "#E5ECF6",
          "polar": {
           "angularaxis": {
            "gridcolor": "white",
            "linecolor": "white",
            "ticks": ""
           },
           "bgcolor": "#E5ECF6",
           "radialaxis": {
            "gridcolor": "white",
            "linecolor": "white",
            "ticks": ""
           }
          },
          "scene": {
           "xaxis": {
            "backgroundcolor": "#E5ECF6",
            "gridcolor": "white",
            "gridwidth": 2,
            "linecolor": "white",
            "showbackground": true,
            "ticks": "",
            "zerolinecolor": "white"
           },
           "yaxis": {
            "backgroundcolor": "#E5ECF6",
            "gridcolor": "white",
            "gridwidth": 2,
            "linecolor": "white",
            "showbackground": true,
            "ticks": "",
            "zerolinecolor": "white"
           },
           "zaxis": {
            "backgroundcolor": "#E5ECF6",
            "gridcolor": "white",
            "gridwidth": 2,
            "linecolor": "white",
            "showbackground": true,
            "ticks": "",
            "zerolinecolor": "white"
           }
          },
          "shapedefaults": {
           "line": {
            "color": "#2a3f5f"
           }
          },
          "ternary": {
           "aaxis": {
            "gridcolor": "white",
            "linecolor": "white",
            "ticks": ""
           },
           "baxis": {
            "gridcolor": "white",
            "linecolor": "white",
            "ticks": ""
           },
           "bgcolor": "#E5ECF6",
           "caxis": {
            "gridcolor": "white",
            "linecolor": "white",
            "ticks": ""
           }
          },
          "title": {
           "x": 0.05
          },
          "xaxis": {
           "automargin": true,
           "gridcolor": "white",
           "linecolor": "white",
           "ticks": "",
           "title": {
            "standoff": 15
           },
           "zerolinecolor": "white",
           "zerolinewidth": 2
          },
          "yaxis": {
           "automargin": true,
           "gridcolor": "white",
           "linecolor": "white",
           "ticks": "",
           "title": {
            "standoff": 15
           },
           "zerolinecolor": "white",
           "zerolinewidth": 2
          }
         }
        },
        "title": {
         "text": "Boxplot for realgdp variable"
        },
        "width": 600,
        "xaxis": {
         "anchor": "y",
         "domain": [
          0,
          1
         ]
        },
        "yaxis": {
         "anchor": "x",
         "domain": [
          0,
          1
         ],
         "title": {
          "text": "realgdp"
         }
        }
       }
      }
     },
     "metadata": {},
     "output_type": "display_data"
    },
    {
     "data": {
      "application/vnd.plotly.v1+json": {
       "config": {
        "plotlyServerURL": "https://plot.ly"
       },
       "data": [
        {
         "alignmentgroup": "True",
         "hovertemplate": "pop=%{y}<extra></extra>",
         "legendgroup": "",
         "marker": {
          "color": "#636efa"
         },
         "name": "",
         "notched": false,
         "offsetgroup": "",
         "orientation": "v",
         "showlegend": false,
         "type": "box",
         "x0": " ",
         "xaxis": "x",
         "y": [
          177.146,
          177.83,
          178.657,
          179.386,
          180.007,
          180.671,
          181.528,
          182.287,
          182.992,
          183.691,
          184.524,
          185.242,
          185.874,
          186.538,
          187.323,
          188.013,
          188.58,
          189.242,
          190.028,
          190.668,
          191.245,
          191.889,
          192.631,
          193.223,
          193.709,
          194.303,
          194.997,
          195.539,
          195.999,
          196.56,
          197.207,
          197.736,
          198.206,
          198.712,
          199.311,
          199.808,
          200.208,
          200.706,
          201.29,
          201.76,
          202.161,
          202.677,
          203.302,
          203.849,
          204.401,
          205.052,
          205.788,
          206.466,
          207.065,
          207.661,
          208.345,
          208.917,
          209.386,
          209.896,
          210.479,
          210.985,
          211.42,
          211.909,
          212.475,
          212.932,
          213.361,
          213.854,
          214.451,
          214.931,
          215.353,
          215.973,
          216.587,
          217.095,
          217.528,
          218.035,
          218.644,
          219.179,
          219.684,
          220.239,
          220.904,
          221.477,
          221.991,
          222.585,
          223.271,
          223.865,
          224.438,
          225.055,
          225.801,
          226.451,
          227.061,
          227.726,
          228.417,
          228.937,
          229.403,
          229.966,
          230.641,
          231.157,
          231.645,
          232.188,
          232.816,
          233.322,
          233.781,
          234.307,
          234.907,
          235.385,
          235.839,
          236.348,
          236.976,
          237.468,
          237.9,
          238.466,
          239.113,
          239.638,
          240.094,
          240.651,
          241.274,
          241.784,
          242.252,
          242.804,
          243.446,
          243.981,
          244.445,
          245.021,
          245.693,
          246.224,
          246.721,
          247.342,
          248.067,
          248.659,
          249.306,
          250.132,
          251.057,
          251.889,
          252.643,
          253.493,
          254.435,
          255.214,
          255.992,
          256.894,
          257.861,
          258.679,
          259.414,
          260.255,
          261.163,
          261.919,
          262.631,
          263.436,
          264.301,
          265.044,
          265.755,
          266.557,
          267.456,
          268.151,
          268.853,
          269.667,
          270.581,
          271.36,
          272.083,
          272.912,
          273.852,
          274.626,
          275.304,
          276.115,
          277.003,
          277.79,
          278.451,
          279.295,
          280.203,
          280.976,
          281.653,
          282.385,
          283.19,
          283.9,
          284.55,
          285.267,
          286.047,
          286.728,
          287.328,
          288.028,
          288.783,
          289.421,
          290.019,
          290.704,
          291.449,
          292.057,
          292.635,
          293.31,
          294.066,
          294.741,
          295.308,
          295.994,
          296.77,
          297.435,
          298.061,
          298.766,
          299.593,
          300.32,
          300.977,
          301.714,
          302.509,
          303.204,
          303.803,
          304.483,
          305.27,
          305.952,
          306.547,
          307.226,
          308.013
         ],
         "y0": " ",
         "yaxis": "y"
        }
       ],
       "layout": {
        "boxmode": "group",
        "height": 400,
        "legend": {
         "tracegroupgap": 0
        },
        "template": {
         "data": {
          "bar": [
           {
            "error_x": {
             "color": "#2a3f5f"
            },
            "error_y": {
             "color": "#2a3f5f"
            },
            "marker": {
             "line": {
              "color": "#E5ECF6",
              "width": 0.5
             },
             "pattern": {
              "fillmode": "overlay",
              "size": 10,
              "solidity": 0.2
             }
            },
            "type": "bar"
           }
          ],
          "barpolar": [
           {
            "marker": {
             "line": {
              "color": "#E5ECF6",
              "width": 0.5
             },
             "pattern": {
              "fillmode": "overlay",
              "size": 10,
              "solidity": 0.2
             }
            },
            "type": "barpolar"
           }
          ],
          "carpet": [
           {
            "aaxis": {
             "endlinecolor": "#2a3f5f",
             "gridcolor": "white",
             "linecolor": "white",
             "minorgridcolor": "white",
             "startlinecolor": "#2a3f5f"
            },
            "baxis": {
             "endlinecolor": "#2a3f5f",
             "gridcolor": "white",
             "linecolor": "white",
             "minorgridcolor": "white",
             "startlinecolor": "#2a3f5f"
            },
            "type": "carpet"
           }
          ],
          "choropleth": [
           {
            "colorbar": {
             "outlinewidth": 0,
             "ticks": ""
            },
            "type": "choropleth"
           }
          ],
          "contour": [
           {
            "colorbar": {
             "outlinewidth": 0,
             "ticks": ""
            },
            "colorscale": [
             [
              0,
              "#0d0887"
             ],
             [
              0.1111111111111111,
              "#46039f"
             ],
             [
              0.2222222222222222,
              "#7201a8"
             ],
             [
              0.3333333333333333,
              "#9c179e"
             ],
             [
              0.4444444444444444,
              "#bd3786"
             ],
             [
              0.5555555555555556,
              "#d8576b"
             ],
             [
              0.6666666666666666,
              "#ed7953"
             ],
             [
              0.7777777777777778,
              "#fb9f3a"
             ],
             [
              0.8888888888888888,
              "#fdca26"
             ],
             [
              1,
              "#f0f921"
             ]
            ],
            "type": "contour"
           }
          ],
          "contourcarpet": [
           {
            "colorbar": {
             "outlinewidth": 0,
             "ticks": ""
            },
            "type": "contourcarpet"
           }
          ],
          "heatmap": [
           {
            "colorbar": {
             "outlinewidth": 0,
             "ticks": ""
            },
            "colorscale": [
             [
              0,
              "#0d0887"
             ],
             [
              0.1111111111111111,
              "#46039f"
             ],
             [
              0.2222222222222222,
              "#7201a8"
             ],
             [
              0.3333333333333333,
              "#9c179e"
             ],
             [
              0.4444444444444444,
              "#bd3786"
             ],
             [
              0.5555555555555556,
              "#d8576b"
             ],
             [
              0.6666666666666666,
              "#ed7953"
             ],
             [
              0.7777777777777778,
              "#fb9f3a"
             ],
             [
              0.8888888888888888,
              "#fdca26"
             ],
             [
              1,
              "#f0f921"
             ]
            ],
            "type": "heatmap"
           }
          ],
          "heatmapgl": [
           {
            "colorbar": {
             "outlinewidth": 0,
             "ticks": ""
            },
            "colorscale": [
             [
              0,
              "#0d0887"
             ],
             [
              0.1111111111111111,
              "#46039f"
             ],
             [
              0.2222222222222222,
              "#7201a8"
             ],
             [
              0.3333333333333333,
              "#9c179e"
             ],
             [
              0.4444444444444444,
              "#bd3786"
             ],
             [
              0.5555555555555556,
              "#d8576b"
             ],
             [
              0.6666666666666666,
              "#ed7953"
             ],
             [
              0.7777777777777778,
              "#fb9f3a"
             ],
             [
              0.8888888888888888,
              "#fdca26"
             ],
             [
              1,
              "#f0f921"
             ]
            ],
            "type": "heatmapgl"
           }
          ],
          "histogram": [
           {
            "marker": {
             "pattern": {
              "fillmode": "overlay",
              "size": 10,
              "solidity": 0.2
             }
            },
            "type": "histogram"
           }
          ],
          "histogram2d": [
           {
            "colorbar": {
             "outlinewidth": 0,
             "ticks": ""
            },
            "colorscale": [
             [
              0,
              "#0d0887"
             ],
             [
              0.1111111111111111,
              "#46039f"
             ],
             [
              0.2222222222222222,
              "#7201a8"
             ],
             [
              0.3333333333333333,
              "#9c179e"
             ],
             [
              0.4444444444444444,
              "#bd3786"
             ],
             [
              0.5555555555555556,
              "#d8576b"
             ],
             [
              0.6666666666666666,
              "#ed7953"
             ],
             [
              0.7777777777777778,
              "#fb9f3a"
             ],
             [
              0.8888888888888888,
              "#fdca26"
             ],
             [
              1,
              "#f0f921"
             ]
            ],
            "type": "histogram2d"
           }
          ],
          "histogram2dcontour": [
           {
            "colorbar": {
             "outlinewidth": 0,
             "ticks": ""
            },
            "colorscale": [
             [
              0,
              "#0d0887"
             ],
             [
              0.1111111111111111,
              "#46039f"
             ],
             [
              0.2222222222222222,
              "#7201a8"
             ],
             [
              0.3333333333333333,
              "#9c179e"
             ],
             [
              0.4444444444444444,
              "#bd3786"
             ],
             [
              0.5555555555555556,
              "#d8576b"
             ],
             [
              0.6666666666666666,
              "#ed7953"
             ],
             [
              0.7777777777777778,
              "#fb9f3a"
             ],
             [
              0.8888888888888888,
              "#fdca26"
             ],
             [
              1,
              "#f0f921"
             ]
            ],
            "type": "histogram2dcontour"
           }
          ],
          "mesh3d": [
           {
            "colorbar": {
             "outlinewidth": 0,
             "ticks": ""
            },
            "type": "mesh3d"
           }
          ],
          "parcoords": [
           {
            "line": {
             "colorbar": {
              "outlinewidth": 0,
              "ticks": ""
             }
            },
            "type": "parcoords"
           }
          ],
          "pie": [
           {
            "automargin": true,
            "type": "pie"
           }
          ],
          "scatter": [
           {
            "fillpattern": {
             "fillmode": "overlay",
             "size": 10,
             "solidity": 0.2
            },
            "type": "scatter"
           }
          ],
          "scatter3d": [
           {
            "line": {
             "colorbar": {
              "outlinewidth": 0,
              "ticks": ""
             }
            },
            "marker": {
             "colorbar": {
              "outlinewidth": 0,
              "ticks": ""
             }
            },
            "type": "scatter3d"
           }
          ],
          "scattercarpet": [
           {
            "marker": {
             "colorbar": {
              "outlinewidth": 0,
              "ticks": ""
             }
            },
            "type": "scattercarpet"
           }
          ],
          "scattergeo": [
           {
            "marker": {
             "colorbar": {
              "outlinewidth": 0,
              "ticks": ""
             }
            },
            "type": "scattergeo"
           }
          ],
          "scattergl": [
           {
            "marker": {
             "colorbar": {
              "outlinewidth": 0,
              "ticks": ""
             }
            },
            "type": "scattergl"
           }
          ],
          "scattermapbox": [
           {
            "marker": {
             "colorbar": {
              "outlinewidth": 0,
              "ticks": ""
             }
            },
            "type": "scattermapbox"
           }
          ],
          "scatterpolar": [
           {
            "marker": {
             "colorbar": {
              "outlinewidth": 0,
              "ticks": ""
             }
            },
            "type": "scatterpolar"
           }
          ],
          "scatterpolargl": [
           {
            "marker": {
             "colorbar": {
              "outlinewidth": 0,
              "ticks": ""
             }
            },
            "type": "scatterpolargl"
           }
          ],
          "scatterternary": [
           {
            "marker": {
             "colorbar": {
              "outlinewidth": 0,
              "ticks": ""
             }
            },
            "type": "scatterternary"
           }
          ],
          "surface": [
           {
            "colorbar": {
             "outlinewidth": 0,
             "ticks": ""
            },
            "colorscale": [
             [
              0,
              "#0d0887"
             ],
             [
              0.1111111111111111,
              "#46039f"
             ],
             [
              0.2222222222222222,
              "#7201a8"
             ],
             [
              0.3333333333333333,
              "#9c179e"
             ],
             [
              0.4444444444444444,
              "#bd3786"
             ],
             [
              0.5555555555555556,
              "#d8576b"
             ],
             [
              0.6666666666666666,
              "#ed7953"
             ],
             [
              0.7777777777777778,
              "#fb9f3a"
             ],
             [
              0.8888888888888888,
              "#fdca26"
             ],
             [
              1,
              "#f0f921"
             ]
            ],
            "type": "surface"
           }
          ],
          "table": [
           {
            "cells": {
             "fill": {
              "color": "#EBF0F8"
             },
             "line": {
              "color": "white"
             }
            },
            "header": {
             "fill": {
              "color": "#C8D4E3"
             },
             "line": {
              "color": "white"
             }
            },
            "type": "table"
           }
          ]
         },
         "layout": {
          "annotationdefaults": {
           "arrowcolor": "#2a3f5f",
           "arrowhead": 0,
           "arrowwidth": 1
          },
          "autotypenumbers": "strict",
          "coloraxis": {
           "colorbar": {
            "outlinewidth": 0,
            "ticks": ""
           }
          },
          "colorscale": {
           "diverging": [
            [
             0,
             "#8e0152"
            ],
            [
             0.1,
             "#c51b7d"
            ],
            [
             0.2,
             "#de77ae"
            ],
            [
             0.3,
             "#f1b6da"
            ],
            [
             0.4,
             "#fde0ef"
            ],
            [
             0.5,
             "#f7f7f7"
            ],
            [
             0.6,
             "#e6f5d0"
            ],
            [
             0.7,
             "#b8e186"
            ],
            [
             0.8,
             "#7fbc41"
            ],
            [
             0.9,
             "#4d9221"
            ],
            [
             1,
             "#276419"
            ]
           ],
           "sequential": [
            [
             0,
             "#0d0887"
            ],
            [
             0.1111111111111111,
             "#46039f"
            ],
            [
             0.2222222222222222,
             "#7201a8"
            ],
            [
             0.3333333333333333,
             "#9c179e"
            ],
            [
             0.4444444444444444,
             "#bd3786"
            ],
            [
             0.5555555555555556,
             "#d8576b"
            ],
            [
             0.6666666666666666,
             "#ed7953"
            ],
            [
             0.7777777777777778,
             "#fb9f3a"
            ],
            [
             0.8888888888888888,
             "#fdca26"
            ],
            [
             1,
             "#f0f921"
            ]
           ],
           "sequentialminus": [
            [
             0,
             "#0d0887"
            ],
            [
             0.1111111111111111,
             "#46039f"
            ],
            [
             0.2222222222222222,
             "#7201a8"
            ],
            [
             0.3333333333333333,
             "#9c179e"
            ],
            [
             0.4444444444444444,
             "#bd3786"
            ],
            [
             0.5555555555555556,
             "#d8576b"
            ],
            [
             0.6666666666666666,
             "#ed7953"
            ],
            [
             0.7777777777777778,
             "#fb9f3a"
            ],
            [
             0.8888888888888888,
             "#fdca26"
            ],
            [
             1,
             "#f0f921"
            ]
           ]
          },
          "colorway": [
           "#636efa",
           "#EF553B",
           "#00cc96",
           "#ab63fa",
           "#FFA15A",
           "#19d3f3",
           "#FF6692",
           "#B6E880",
           "#FF97FF",
           "#FECB52"
          ],
          "font": {
           "color": "#2a3f5f"
          },
          "geo": {
           "bgcolor": "white",
           "lakecolor": "white",
           "landcolor": "#E5ECF6",
           "showlakes": true,
           "showland": true,
           "subunitcolor": "white"
          },
          "hoverlabel": {
           "align": "left"
          },
          "hovermode": "closest",
          "mapbox": {
           "style": "light"
          },
          "paper_bgcolor": "white",
          "plot_bgcolor": "#E5ECF6",
          "polar": {
           "angularaxis": {
            "gridcolor": "white",
            "linecolor": "white",
            "ticks": ""
           },
           "bgcolor": "#E5ECF6",
           "radialaxis": {
            "gridcolor": "white",
            "linecolor": "white",
            "ticks": ""
           }
          },
          "scene": {
           "xaxis": {
            "backgroundcolor": "#E5ECF6",
            "gridcolor": "white",
            "gridwidth": 2,
            "linecolor": "white",
            "showbackground": true,
            "ticks": "",
            "zerolinecolor": "white"
           },
           "yaxis": {
            "backgroundcolor": "#E5ECF6",
            "gridcolor": "white",
            "gridwidth": 2,
            "linecolor": "white",
            "showbackground": true,
            "ticks": "",
            "zerolinecolor": "white"
           },
           "zaxis": {
            "backgroundcolor": "#E5ECF6",
            "gridcolor": "white",
            "gridwidth": 2,
            "linecolor": "white",
            "showbackground": true,
            "ticks": "",
            "zerolinecolor": "white"
           }
          },
          "shapedefaults": {
           "line": {
            "color": "#2a3f5f"
           }
          },
          "ternary": {
           "aaxis": {
            "gridcolor": "white",
            "linecolor": "white",
            "ticks": ""
           },
           "baxis": {
            "gridcolor": "white",
            "linecolor": "white",
            "ticks": ""
           },
           "bgcolor": "#E5ECF6",
           "caxis": {
            "gridcolor": "white",
            "linecolor": "white",
            "ticks": ""
           }
          },
          "title": {
           "x": 0.05
          },
          "xaxis": {
           "automargin": true,
           "gridcolor": "white",
           "linecolor": "white",
           "ticks": "",
           "title": {
            "standoff": 15
           },
           "zerolinecolor": "white",
           "zerolinewidth": 2
          },
          "yaxis": {
           "automargin": true,
           "gridcolor": "white",
           "linecolor": "white",
           "ticks": "",
           "title": {
            "standoff": 15
           },
           "zerolinecolor": "white",
           "zerolinewidth": 2
          }
         }
        },
        "title": {
         "text": "Boxplot for pop variable"
        },
        "width": 600,
        "xaxis": {
         "anchor": "y",
         "domain": [
          0,
          1
         ]
        },
        "yaxis": {
         "anchor": "x",
         "domain": [
          0,
          1
         ],
         "title": {
          "text": "pop"
         }
        }
       }
      }
     },
     "metadata": {},
     "output_type": "display_data"
    },
    {
     "data": {
      "application/vnd.plotly.v1+json": {
       "config": {
        "plotlyServerURL": "https://plot.ly"
       },
       "data": [
        {
         "alignmentgroup": "True",
         "hovertemplate": "unemp=%{y}<extra></extra>",
         "legendgroup": "",
         "marker": {
          "color": "#636efa"
         },
         "name": "",
         "notched": false,
         "offsetgroup": "",
         "orientation": "v",
         "showlegend": false,
         "type": "box",
         "x0": " ",
         "xaxis": "x",
         "y": [
          5.8,
          5.1,
          5.3,
          5.6,
          5.2,
          5.2,
          5.6,
          6.3,
          6.8,
          7,
          6.8,
          6.2,
          5.6,
          5.5,
          5.6,
          5.5,
          5.8,
          5.7,
          5.5,
          5.6,
          5.5,
          5.2,
          5,
          5,
          4.9,
          4.7,
          4.4,
          4.1,
          3.9,
          3.8,
          3.8,
          3.7,
          3.8,
          3.8,
          3.8,
          3.9,
          3.7,
          3.5,
          3.5,
          10.2,
          3.4,
          3.4,
          3.6,
          3.6,
          4.2,
          4.8,
          5.2,
          5.8,
          5.9,
          5.9,
          6,
          6,
          5.8,
          5.7,
          5.6,
          5.3,
          5,
          4.9,
          4.8,
          4.8,
          5.1,
          5.2,
          5.6,
          6.6,
          8.2,
          8.9,
          8.5,
          8.3,
          7.7,
          7.6,
          7.7,
          7.8,
          7.5,
          7.1,
          6.9,
          6.6,
          6.3,
          6,
          6,
          5.9,
          5.9,
          5.7,
          5.9,
          5.9,
          6.3,
          7.3,
          7.7,
          7.4,
          7.4,
          7.4,
          7.4,
          8.2,
          8.8,
          9.4,
          9.9,
          10.7,
          10.4,
          10.1,
          9.4,
          8.5,
          7.9,
          7.5,
          7.4,
          7.3,
          7.3,
          7.3,
          7.2,
          7,
          7,
          7.2,
          7,
          6.8,
          6.6,
          6.3,
          6,
          5.9,
          5.7,
          5.5,
          5.5,
          5.3,
          5.2,
          5.2,
          5.3,
          5.4,
          5.3,
          5.3,
          5.7,
          6.1,
          6.6,
          6.8,
          6.9,
          7.1,
          7.4,
          7.6,
          7.6,
          7.4,
          7.2,
          7.1,
          6.8,
          6.6,
          6.6,
          6.2,
          6,
          5.6,
          5.5,
          5.7,
          5.7,
          5.6,
          5.5,
          5.5,
          5.3,
          15.9,
          5.2,
          5,
          4.9,
          4.7,
          4.6,
          4.4,
          4.5,
          4.4,
          4.3,
          4.3,
          4.2,
          4.1,
          4,
          3.9,
          4,
          3.9,
          4.2,
          4.4,
          4.8,
          5.5,
          5.7,
          5.8,
          5.7,
          5.8,
          5.9,
          6.2,
          6.1,
          5.8,
          5.7,
          5.6,
          5.4,
          5.4,
          5.3,
          5.1,
          5,
          4.9,
          4.7,
          4.7,
          4.7,
          4.4,
          4.5,
          4.5,
          4.7,
          4.8,
          4.9,
          5.4,
          6,
          6.9,
          8.1,
          9.2,
          9.6
         ],
         "y0": " ",
         "yaxis": "y"
        }
       ],
       "layout": {
        "boxmode": "group",
        "height": 400,
        "legend": {
         "tracegroupgap": 0
        },
        "template": {
         "data": {
          "bar": [
           {
            "error_x": {
             "color": "#2a3f5f"
            },
            "error_y": {
             "color": "#2a3f5f"
            },
            "marker": {
             "line": {
              "color": "#E5ECF6",
              "width": 0.5
             },
             "pattern": {
              "fillmode": "overlay",
              "size": 10,
              "solidity": 0.2
             }
            },
            "type": "bar"
           }
          ],
          "barpolar": [
           {
            "marker": {
             "line": {
              "color": "#E5ECF6",
              "width": 0.5
             },
             "pattern": {
              "fillmode": "overlay",
              "size": 10,
              "solidity": 0.2
             }
            },
            "type": "barpolar"
           }
          ],
          "carpet": [
           {
            "aaxis": {
             "endlinecolor": "#2a3f5f",
             "gridcolor": "white",
             "linecolor": "white",
             "minorgridcolor": "white",
             "startlinecolor": "#2a3f5f"
            },
            "baxis": {
             "endlinecolor": "#2a3f5f",
             "gridcolor": "white",
             "linecolor": "white",
             "minorgridcolor": "white",
             "startlinecolor": "#2a3f5f"
            },
            "type": "carpet"
           }
          ],
          "choropleth": [
           {
            "colorbar": {
             "outlinewidth": 0,
             "ticks": ""
            },
            "type": "choropleth"
           }
          ],
          "contour": [
           {
            "colorbar": {
             "outlinewidth": 0,
             "ticks": ""
            },
            "colorscale": [
             [
              0,
              "#0d0887"
             ],
             [
              0.1111111111111111,
              "#46039f"
             ],
             [
              0.2222222222222222,
              "#7201a8"
             ],
             [
              0.3333333333333333,
              "#9c179e"
             ],
             [
              0.4444444444444444,
              "#bd3786"
             ],
             [
              0.5555555555555556,
              "#d8576b"
             ],
             [
              0.6666666666666666,
              "#ed7953"
             ],
             [
              0.7777777777777778,
              "#fb9f3a"
             ],
             [
              0.8888888888888888,
              "#fdca26"
             ],
             [
              1,
              "#f0f921"
             ]
            ],
            "type": "contour"
           }
          ],
          "contourcarpet": [
           {
            "colorbar": {
             "outlinewidth": 0,
             "ticks": ""
            },
            "type": "contourcarpet"
           }
          ],
          "heatmap": [
           {
            "colorbar": {
             "outlinewidth": 0,
             "ticks": ""
            },
            "colorscale": [
             [
              0,
              "#0d0887"
             ],
             [
              0.1111111111111111,
              "#46039f"
             ],
             [
              0.2222222222222222,
              "#7201a8"
             ],
             [
              0.3333333333333333,
              "#9c179e"
             ],
             [
              0.4444444444444444,
              "#bd3786"
             ],
             [
              0.5555555555555556,
              "#d8576b"
             ],
             [
              0.6666666666666666,
              "#ed7953"
             ],
             [
              0.7777777777777778,
              "#fb9f3a"
             ],
             [
              0.8888888888888888,
              "#fdca26"
             ],
             [
              1,
              "#f0f921"
             ]
            ],
            "type": "heatmap"
           }
          ],
          "heatmapgl": [
           {
            "colorbar": {
             "outlinewidth": 0,
             "ticks": ""
            },
            "colorscale": [
             [
              0,
              "#0d0887"
             ],
             [
              0.1111111111111111,
              "#46039f"
             ],
             [
              0.2222222222222222,
              "#7201a8"
             ],
             [
              0.3333333333333333,
              "#9c179e"
             ],
             [
              0.4444444444444444,
              "#bd3786"
             ],
             [
              0.5555555555555556,
              "#d8576b"
             ],
             [
              0.6666666666666666,
              "#ed7953"
             ],
             [
              0.7777777777777778,
              "#fb9f3a"
             ],
             [
              0.8888888888888888,
              "#fdca26"
             ],
             [
              1,
              "#f0f921"
             ]
            ],
            "type": "heatmapgl"
           }
          ],
          "histogram": [
           {
            "marker": {
             "pattern": {
              "fillmode": "overlay",
              "size": 10,
              "solidity": 0.2
             }
            },
            "type": "histogram"
           }
          ],
          "histogram2d": [
           {
            "colorbar": {
             "outlinewidth": 0,
             "ticks": ""
            },
            "colorscale": [
             [
              0,
              "#0d0887"
             ],
             [
              0.1111111111111111,
              "#46039f"
             ],
             [
              0.2222222222222222,
              "#7201a8"
             ],
             [
              0.3333333333333333,
              "#9c179e"
             ],
             [
              0.4444444444444444,
              "#bd3786"
             ],
             [
              0.5555555555555556,
              "#d8576b"
             ],
             [
              0.6666666666666666,
              "#ed7953"
             ],
             [
              0.7777777777777778,
              "#fb9f3a"
             ],
             [
              0.8888888888888888,
              "#fdca26"
             ],
             [
              1,
              "#f0f921"
             ]
            ],
            "type": "histogram2d"
           }
          ],
          "histogram2dcontour": [
           {
            "colorbar": {
             "outlinewidth": 0,
             "ticks": ""
            },
            "colorscale": [
             [
              0,
              "#0d0887"
             ],
             [
              0.1111111111111111,
              "#46039f"
             ],
             [
              0.2222222222222222,
              "#7201a8"
             ],
             [
              0.3333333333333333,
              "#9c179e"
             ],
             [
              0.4444444444444444,
              "#bd3786"
             ],
             [
              0.5555555555555556,
              "#d8576b"
             ],
             [
              0.6666666666666666,
              "#ed7953"
             ],
             [
              0.7777777777777778,
              "#fb9f3a"
             ],
             [
              0.8888888888888888,
              "#fdca26"
             ],
             [
              1,
              "#f0f921"
             ]
            ],
            "type": "histogram2dcontour"
           }
          ],
          "mesh3d": [
           {
            "colorbar": {
             "outlinewidth": 0,
             "ticks": ""
            },
            "type": "mesh3d"
           }
          ],
          "parcoords": [
           {
            "line": {
             "colorbar": {
              "outlinewidth": 0,
              "ticks": ""
             }
            },
            "type": "parcoords"
           }
          ],
          "pie": [
           {
            "automargin": true,
            "type": "pie"
           }
          ],
          "scatter": [
           {
            "fillpattern": {
             "fillmode": "overlay",
             "size": 10,
             "solidity": 0.2
            },
            "type": "scatter"
           }
          ],
          "scatter3d": [
           {
            "line": {
             "colorbar": {
              "outlinewidth": 0,
              "ticks": ""
             }
            },
            "marker": {
             "colorbar": {
              "outlinewidth": 0,
              "ticks": ""
             }
            },
            "type": "scatter3d"
           }
          ],
          "scattercarpet": [
           {
            "marker": {
             "colorbar": {
              "outlinewidth": 0,
              "ticks": ""
             }
            },
            "type": "scattercarpet"
           }
          ],
          "scattergeo": [
           {
            "marker": {
             "colorbar": {
              "outlinewidth": 0,
              "ticks": ""
             }
            },
            "type": "scattergeo"
           }
          ],
          "scattergl": [
           {
            "marker": {
             "colorbar": {
              "outlinewidth": 0,
              "ticks": ""
             }
            },
            "type": "scattergl"
           }
          ],
          "scattermapbox": [
           {
            "marker": {
             "colorbar": {
              "outlinewidth": 0,
              "ticks": ""
             }
            },
            "type": "scattermapbox"
           }
          ],
          "scatterpolar": [
           {
            "marker": {
             "colorbar": {
              "outlinewidth": 0,
              "ticks": ""
             }
            },
            "type": "scatterpolar"
           }
          ],
          "scatterpolargl": [
           {
            "marker": {
             "colorbar": {
              "outlinewidth": 0,
              "ticks": ""
             }
            },
            "type": "scatterpolargl"
           }
          ],
          "scatterternary": [
           {
            "marker": {
             "colorbar": {
              "outlinewidth": 0,
              "ticks": ""
             }
            },
            "type": "scatterternary"
           }
          ],
          "surface": [
           {
            "colorbar": {
             "outlinewidth": 0,
             "ticks": ""
            },
            "colorscale": [
             [
              0,
              "#0d0887"
             ],
             [
              0.1111111111111111,
              "#46039f"
             ],
             [
              0.2222222222222222,
              "#7201a8"
             ],
             [
              0.3333333333333333,
              "#9c179e"
             ],
             [
              0.4444444444444444,
              "#bd3786"
             ],
             [
              0.5555555555555556,
              "#d8576b"
             ],
             [
              0.6666666666666666,
              "#ed7953"
             ],
             [
              0.7777777777777778,
              "#fb9f3a"
             ],
             [
              0.8888888888888888,
              "#fdca26"
             ],
             [
              1,
              "#f0f921"
             ]
            ],
            "type": "surface"
           }
          ],
          "table": [
           {
            "cells": {
             "fill": {
              "color": "#EBF0F8"
             },
             "line": {
              "color": "white"
             }
            },
            "header": {
             "fill": {
              "color": "#C8D4E3"
             },
             "line": {
              "color": "white"
             }
            },
            "type": "table"
           }
          ]
         },
         "layout": {
          "annotationdefaults": {
           "arrowcolor": "#2a3f5f",
           "arrowhead": 0,
           "arrowwidth": 1
          },
          "autotypenumbers": "strict",
          "coloraxis": {
           "colorbar": {
            "outlinewidth": 0,
            "ticks": ""
           }
          },
          "colorscale": {
           "diverging": [
            [
             0,
             "#8e0152"
            ],
            [
             0.1,
             "#c51b7d"
            ],
            [
             0.2,
             "#de77ae"
            ],
            [
             0.3,
             "#f1b6da"
            ],
            [
             0.4,
             "#fde0ef"
            ],
            [
             0.5,
             "#f7f7f7"
            ],
            [
             0.6,
             "#e6f5d0"
            ],
            [
             0.7,
             "#b8e186"
            ],
            [
             0.8,
             "#7fbc41"
            ],
            [
             0.9,
             "#4d9221"
            ],
            [
             1,
             "#276419"
            ]
           ],
           "sequential": [
            [
             0,
             "#0d0887"
            ],
            [
             0.1111111111111111,
             "#46039f"
            ],
            [
             0.2222222222222222,
             "#7201a8"
            ],
            [
             0.3333333333333333,
             "#9c179e"
            ],
            [
             0.4444444444444444,
             "#bd3786"
            ],
            [
             0.5555555555555556,
             "#d8576b"
            ],
            [
             0.6666666666666666,
             "#ed7953"
            ],
            [
             0.7777777777777778,
             "#fb9f3a"
            ],
            [
             0.8888888888888888,
             "#fdca26"
            ],
            [
             1,
             "#f0f921"
            ]
           ],
           "sequentialminus": [
            [
             0,
             "#0d0887"
            ],
            [
             0.1111111111111111,
             "#46039f"
            ],
            [
             0.2222222222222222,
             "#7201a8"
            ],
            [
             0.3333333333333333,
             "#9c179e"
            ],
            [
             0.4444444444444444,
             "#bd3786"
            ],
            [
             0.5555555555555556,
             "#d8576b"
            ],
            [
             0.6666666666666666,
             "#ed7953"
            ],
            [
             0.7777777777777778,
             "#fb9f3a"
            ],
            [
             0.8888888888888888,
             "#fdca26"
            ],
            [
             1,
             "#f0f921"
            ]
           ]
          },
          "colorway": [
           "#636efa",
           "#EF553B",
           "#00cc96",
           "#ab63fa",
           "#FFA15A",
           "#19d3f3",
           "#FF6692",
           "#B6E880",
           "#FF97FF",
           "#FECB52"
          ],
          "font": {
           "color": "#2a3f5f"
          },
          "geo": {
           "bgcolor": "white",
           "lakecolor": "white",
           "landcolor": "#E5ECF6",
           "showlakes": true,
           "showland": true,
           "subunitcolor": "white"
          },
          "hoverlabel": {
           "align": "left"
          },
          "hovermode": "closest",
          "mapbox": {
           "style": "light"
          },
          "paper_bgcolor": "white",
          "plot_bgcolor": "#E5ECF6",
          "polar": {
           "angularaxis": {
            "gridcolor": "white",
            "linecolor": "white",
            "ticks": ""
           },
           "bgcolor": "#E5ECF6",
           "radialaxis": {
            "gridcolor": "white",
            "linecolor": "white",
            "ticks": ""
           }
          },
          "scene": {
           "xaxis": {
            "backgroundcolor": "#E5ECF6",
            "gridcolor": "white",
            "gridwidth": 2,
            "linecolor": "white",
            "showbackground": true,
            "ticks": "",
            "zerolinecolor": "white"
           },
           "yaxis": {
            "backgroundcolor": "#E5ECF6",
            "gridcolor": "white",
            "gridwidth": 2,
            "linecolor": "white",
            "showbackground": true,
            "ticks": "",
            "zerolinecolor": "white"
           },
           "zaxis": {
            "backgroundcolor": "#E5ECF6",
            "gridcolor": "white",
            "gridwidth": 2,
            "linecolor": "white",
            "showbackground": true,
            "ticks": "",
            "zerolinecolor": "white"
           }
          },
          "shapedefaults": {
           "line": {
            "color": "#2a3f5f"
           }
          },
          "ternary": {
           "aaxis": {
            "gridcolor": "white",
            "linecolor": "white",
            "ticks": ""
           },
           "baxis": {
            "gridcolor": "white",
            "linecolor": "white",
            "ticks": ""
           },
           "bgcolor": "#E5ECF6",
           "caxis": {
            "gridcolor": "white",
            "linecolor": "white",
            "ticks": ""
           }
          },
          "title": {
           "x": 0.05
          },
          "xaxis": {
           "automargin": true,
           "gridcolor": "white",
           "linecolor": "white",
           "ticks": "",
           "title": {
            "standoff": 15
           },
           "zerolinecolor": "white",
           "zerolinewidth": 2
          },
          "yaxis": {
           "automargin": true,
           "gridcolor": "white",
           "linecolor": "white",
           "ticks": "",
           "title": {
            "standoff": 15
           },
           "zerolinecolor": "white",
           "zerolinewidth": 2
          }
         }
        },
        "title": {
         "text": "Boxplot for unemp variable"
        },
        "width": 600,
        "xaxis": {
         "anchor": "y",
         "domain": [
          0,
          1
         ]
        },
        "yaxis": {
         "anchor": "x",
         "domain": [
          0,
          1
         ],
         "title": {
          "text": "unemp"
         }
        }
       }
      }
     },
     "metadata": {},
     "output_type": "display_data"
    },
    {
     "data": {
      "application/vnd.plotly.v1+json": {
       "config": {
        "plotlyServerURL": "https://plot.ly"
       },
       "data": [
        {
         "alignmentgroup": "True",
         "hovertemplate": "infl=%{y}<extra></extra>",
         "legendgroup": "",
         "marker": {
          "color": "#636efa"
         },
         "name": "",
         "notched": false,
         "offsetgroup": "",
         "orientation": "v",
         "showlegend": false,
         "type": "box",
         "x0": " ",
         "xaxis": "x",
         "y": [
          0,
          2.34,
          2.74,
          0.27,
          2.31,
          0.14,
          2.7,
          1.21,
          -0.4,
          1.47,
          0.8,
          0.8,
          2.26,
          0.13,
          2.11,
          0.79,
          0.53,
          2.75,
          0.78,
          2.46,
          0.13,
          0.9,
          1.29,
          2.05,
          1.28,
          2.54,
          0.89,
          2.9,
          4.99,
          2.1,
          4.9,
          0.61,
          2.42,
          3.61,
          3.58,
          4.72,
          3.5,
          5.77,
          4.56,
          4.51,
          6.67,
          5.47,
          5.4,
          6.38,
          6.28,
          4.13,
          5.11,
          5.04,
          2,
          4.96,
          2.94,
          2.92,
          2.9,
          2.88,
          3.81,
          4.71,
          9.26,
          4.55,
          12.47,
          10.39,
          10.96,
          9.86,
          13.56,
          10.07,
          5.32,
          7.48,
          6.61,
          6.5,
          2.14,
          6.37,
          6.27,
          5.49,
          8.76,
          5.3,
          5.23,
          7.08,
          7.58,
          9.89,
          9.65,
          8.26,
          12.08,
          13.37,
          11.88,
          14.62,
          14.6,
          8.32,
          10.04,
          11.64,
          8.62,
          10.63,
          8.22,
          4.26,
          2.53,
          10.39,
          2.45,
          -0.82,
          3.66,
          4.03,
          3.99,
          5.13,
          4.67,
          3.09,
          3.82,
          2.28,
          4.89,
          2.61,
          2.96,
          5.13,
          -4.39,
          2.93,
          2.55,
          4.33,
          4.64,
          3.89,
          4.2,
          3.46,
          4.12,
          4.41,
          4.7,
          4.31,
          6.22,
          4.52,
          2.88,
          6.64,
          4.37,
          4.93,
          8.79,
          3.88,
          1.19,
          3.24,
          2.93,
          3.19,
          3.17,
          3.14,
          3.4,
          3.09,
          2.79,
          1.94,
          3.03,
          1.92,
          2.45,
          3.25,
          2.69,
          2.93,
          3.44,
          2.1,
          2.35,
          3.11,
          3.6,
          2.3,
          3.05,
          3.02,
          1.25,
          1.25,
          2.73,
          1.24,
          0.49,
          2.46,
          1.71,
          1.95,
          2.9,
          1.92,
          3.35,
          2.85,
          3.76,
          4.19,
          2.77,
          3.89,
          1.82,
          2.26,
          0.45,
          0.23,
          3.59,
          1.56,
          2.66,
          3.08,
          1.31,
          1.09,
          2.6,
          3.02,
          2.35,
          3.61,
          3.58,
          2.09,
          4.15,
          1.85,
          9.14,
          0.4,
          2.6,
          3.97,
          -1.58,
          3.3,
          4.58,
          2.75,
          3.45,
          6.38,
          2.82,
          8.53,
          -3.16,
          -8.79,
          0.94,
          3.37,
          3.56
         ],
         "y0": " ",
         "yaxis": "y"
        }
       ],
       "layout": {
        "boxmode": "group",
        "height": 400,
        "legend": {
         "tracegroupgap": 0
        },
        "template": {
         "data": {
          "bar": [
           {
            "error_x": {
             "color": "#2a3f5f"
            },
            "error_y": {
             "color": "#2a3f5f"
            },
            "marker": {
             "line": {
              "color": "#E5ECF6",
              "width": 0.5
             },
             "pattern": {
              "fillmode": "overlay",
              "size": 10,
              "solidity": 0.2
             }
            },
            "type": "bar"
           }
          ],
          "barpolar": [
           {
            "marker": {
             "line": {
              "color": "#E5ECF6",
              "width": 0.5
             },
             "pattern": {
              "fillmode": "overlay",
              "size": 10,
              "solidity": 0.2
             }
            },
            "type": "barpolar"
           }
          ],
          "carpet": [
           {
            "aaxis": {
             "endlinecolor": "#2a3f5f",
             "gridcolor": "white",
             "linecolor": "white",
             "minorgridcolor": "white",
             "startlinecolor": "#2a3f5f"
            },
            "baxis": {
             "endlinecolor": "#2a3f5f",
             "gridcolor": "white",
             "linecolor": "white",
             "minorgridcolor": "white",
             "startlinecolor": "#2a3f5f"
            },
            "type": "carpet"
           }
          ],
          "choropleth": [
           {
            "colorbar": {
             "outlinewidth": 0,
             "ticks": ""
            },
            "type": "choropleth"
           }
          ],
          "contour": [
           {
            "colorbar": {
             "outlinewidth": 0,
             "ticks": ""
            },
            "colorscale": [
             [
              0,
              "#0d0887"
             ],
             [
              0.1111111111111111,
              "#46039f"
             ],
             [
              0.2222222222222222,
              "#7201a8"
             ],
             [
              0.3333333333333333,
              "#9c179e"
             ],
             [
              0.4444444444444444,
              "#bd3786"
             ],
             [
              0.5555555555555556,
              "#d8576b"
             ],
             [
              0.6666666666666666,
              "#ed7953"
             ],
             [
              0.7777777777777778,
              "#fb9f3a"
             ],
             [
              0.8888888888888888,
              "#fdca26"
             ],
             [
              1,
              "#f0f921"
             ]
            ],
            "type": "contour"
           }
          ],
          "contourcarpet": [
           {
            "colorbar": {
             "outlinewidth": 0,
             "ticks": ""
            },
            "type": "contourcarpet"
           }
          ],
          "heatmap": [
           {
            "colorbar": {
             "outlinewidth": 0,
             "ticks": ""
            },
            "colorscale": [
             [
              0,
              "#0d0887"
             ],
             [
              0.1111111111111111,
              "#46039f"
             ],
             [
              0.2222222222222222,
              "#7201a8"
             ],
             [
              0.3333333333333333,
              "#9c179e"
             ],
             [
              0.4444444444444444,
              "#bd3786"
             ],
             [
              0.5555555555555556,
              "#d8576b"
             ],
             [
              0.6666666666666666,
              "#ed7953"
             ],
             [
              0.7777777777777778,
              "#fb9f3a"
             ],
             [
              0.8888888888888888,
              "#fdca26"
             ],
             [
              1,
              "#f0f921"
             ]
            ],
            "type": "heatmap"
           }
          ],
          "heatmapgl": [
           {
            "colorbar": {
             "outlinewidth": 0,
             "ticks": ""
            },
            "colorscale": [
             [
              0,
              "#0d0887"
             ],
             [
              0.1111111111111111,
              "#46039f"
             ],
             [
              0.2222222222222222,
              "#7201a8"
             ],
             [
              0.3333333333333333,
              "#9c179e"
             ],
             [
              0.4444444444444444,
              "#bd3786"
             ],
             [
              0.5555555555555556,
              "#d8576b"
             ],
             [
              0.6666666666666666,
              "#ed7953"
             ],
             [
              0.7777777777777778,
              "#fb9f3a"
             ],
             [
              0.8888888888888888,
              "#fdca26"
             ],
             [
              1,
              "#f0f921"
             ]
            ],
            "type": "heatmapgl"
           }
          ],
          "histogram": [
           {
            "marker": {
             "pattern": {
              "fillmode": "overlay",
              "size": 10,
              "solidity": 0.2
             }
            },
            "type": "histogram"
           }
          ],
          "histogram2d": [
           {
            "colorbar": {
             "outlinewidth": 0,
             "ticks": ""
            },
            "colorscale": [
             [
              0,
              "#0d0887"
             ],
             [
              0.1111111111111111,
              "#46039f"
             ],
             [
              0.2222222222222222,
              "#7201a8"
             ],
             [
              0.3333333333333333,
              "#9c179e"
             ],
             [
              0.4444444444444444,
              "#bd3786"
             ],
             [
              0.5555555555555556,
              "#d8576b"
             ],
             [
              0.6666666666666666,
              "#ed7953"
             ],
             [
              0.7777777777777778,
              "#fb9f3a"
             ],
             [
              0.8888888888888888,
              "#fdca26"
             ],
             [
              1,
              "#f0f921"
             ]
            ],
            "type": "histogram2d"
           }
          ],
          "histogram2dcontour": [
           {
            "colorbar": {
             "outlinewidth": 0,
             "ticks": ""
            },
            "colorscale": [
             [
              0,
              "#0d0887"
             ],
             [
              0.1111111111111111,
              "#46039f"
             ],
             [
              0.2222222222222222,
              "#7201a8"
             ],
             [
              0.3333333333333333,
              "#9c179e"
             ],
             [
              0.4444444444444444,
              "#bd3786"
             ],
             [
              0.5555555555555556,
              "#d8576b"
             ],
             [
              0.6666666666666666,
              "#ed7953"
             ],
             [
              0.7777777777777778,
              "#fb9f3a"
             ],
             [
              0.8888888888888888,
              "#fdca26"
             ],
             [
              1,
              "#f0f921"
             ]
            ],
            "type": "histogram2dcontour"
           }
          ],
          "mesh3d": [
           {
            "colorbar": {
             "outlinewidth": 0,
             "ticks": ""
            },
            "type": "mesh3d"
           }
          ],
          "parcoords": [
           {
            "line": {
             "colorbar": {
              "outlinewidth": 0,
              "ticks": ""
             }
            },
            "type": "parcoords"
           }
          ],
          "pie": [
           {
            "automargin": true,
            "type": "pie"
           }
          ],
          "scatter": [
           {
            "fillpattern": {
             "fillmode": "overlay",
             "size": 10,
             "solidity": 0.2
            },
            "type": "scatter"
           }
          ],
          "scatter3d": [
           {
            "line": {
             "colorbar": {
              "outlinewidth": 0,
              "ticks": ""
             }
            },
            "marker": {
             "colorbar": {
              "outlinewidth": 0,
              "ticks": ""
             }
            },
            "type": "scatter3d"
           }
          ],
          "scattercarpet": [
           {
            "marker": {
             "colorbar": {
              "outlinewidth": 0,
              "ticks": ""
             }
            },
            "type": "scattercarpet"
           }
          ],
          "scattergeo": [
           {
            "marker": {
             "colorbar": {
              "outlinewidth": 0,
              "ticks": ""
             }
            },
            "type": "scattergeo"
           }
          ],
          "scattergl": [
           {
            "marker": {
             "colorbar": {
              "outlinewidth": 0,
              "ticks": ""
             }
            },
            "type": "scattergl"
           }
          ],
          "scattermapbox": [
           {
            "marker": {
             "colorbar": {
              "outlinewidth": 0,
              "ticks": ""
             }
            },
            "type": "scattermapbox"
           }
          ],
          "scatterpolar": [
           {
            "marker": {
             "colorbar": {
              "outlinewidth": 0,
              "ticks": ""
             }
            },
            "type": "scatterpolar"
           }
          ],
          "scatterpolargl": [
           {
            "marker": {
             "colorbar": {
              "outlinewidth": 0,
              "ticks": ""
             }
            },
            "type": "scatterpolargl"
           }
          ],
          "scatterternary": [
           {
            "marker": {
             "colorbar": {
              "outlinewidth": 0,
              "ticks": ""
             }
            },
            "type": "scatterternary"
           }
          ],
          "surface": [
           {
            "colorbar": {
             "outlinewidth": 0,
             "ticks": ""
            },
            "colorscale": [
             [
              0,
              "#0d0887"
             ],
             [
              0.1111111111111111,
              "#46039f"
             ],
             [
              0.2222222222222222,
              "#7201a8"
             ],
             [
              0.3333333333333333,
              "#9c179e"
             ],
             [
              0.4444444444444444,
              "#bd3786"
             ],
             [
              0.5555555555555556,
              "#d8576b"
             ],
             [
              0.6666666666666666,
              "#ed7953"
             ],
             [
              0.7777777777777778,
              "#fb9f3a"
             ],
             [
              0.8888888888888888,
              "#fdca26"
             ],
             [
              1,
              "#f0f921"
             ]
            ],
            "type": "surface"
           }
          ],
          "table": [
           {
            "cells": {
             "fill": {
              "color": "#EBF0F8"
             },
             "line": {
              "color": "white"
             }
            },
            "header": {
             "fill": {
              "color": "#C8D4E3"
             },
             "line": {
              "color": "white"
             }
            },
            "type": "table"
           }
          ]
         },
         "layout": {
          "annotationdefaults": {
           "arrowcolor": "#2a3f5f",
           "arrowhead": 0,
           "arrowwidth": 1
          },
          "autotypenumbers": "strict",
          "coloraxis": {
           "colorbar": {
            "outlinewidth": 0,
            "ticks": ""
           }
          },
          "colorscale": {
           "diverging": [
            [
             0,
             "#8e0152"
            ],
            [
             0.1,
             "#c51b7d"
            ],
            [
             0.2,
             "#de77ae"
            ],
            [
             0.3,
             "#f1b6da"
            ],
            [
             0.4,
             "#fde0ef"
            ],
            [
             0.5,
             "#f7f7f7"
            ],
            [
             0.6,
             "#e6f5d0"
            ],
            [
             0.7,
             "#b8e186"
            ],
            [
             0.8,
             "#7fbc41"
            ],
            [
             0.9,
             "#4d9221"
            ],
            [
             1,
             "#276419"
            ]
           ],
           "sequential": [
            [
             0,
             "#0d0887"
            ],
            [
             0.1111111111111111,
             "#46039f"
            ],
            [
             0.2222222222222222,
             "#7201a8"
            ],
            [
             0.3333333333333333,
             "#9c179e"
            ],
            [
             0.4444444444444444,
             "#bd3786"
            ],
            [
             0.5555555555555556,
             "#d8576b"
            ],
            [
             0.6666666666666666,
             "#ed7953"
            ],
            [
             0.7777777777777778,
             "#fb9f3a"
            ],
            [
             0.8888888888888888,
             "#fdca26"
            ],
            [
             1,
             "#f0f921"
            ]
           ],
           "sequentialminus": [
            [
             0,
             "#0d0887"
            ],
            [
             0.1111111111111111,
             "#46039f"
            ],
            [
             0.2222222222222222,
             "#7201a8"
            ],
            [
             0.3333333333333333,
             "#9c179e"
            ],
            [
             0.4444444444444444,
             "#bd3786"
            ],
            [
             0.5555555555555556,
             "#d8576b"
            ],
            [
             0.6666666666666666,
             "#ed7953"
            ],
            [
             0.7777777777777778,
             "#fb9f3a"
            ],
            [
             0.8888888888888888,
             "#fdca26"
            ],
            [
             1,
             "#f0f921"
            ]
           ]
          },
          "colorway": [
           "#636efa",
           "#EF553B",
           "#00cc96",
           "#ab63fa",
           "#FFA15A",
           "#19d3f3",
           "#FF6692",
           "#B6E880",
           "#FF97FF",
           "#FECB52"
          ],
          "font": {
           "color": "#2a3f5f"
          },
          "geo": {
           "bgcolor": "white",
           "lakecolor": "white",
           "landcolor": "#E5ECF6",
           "showlakes": true,
           "showland": true,
           "subunitcolor": "white"
          },
          "hoverlabel": {
           "align": "left"
          },
          "hovermode": "closest",
          "mapbox": {
           "style": "light"
          },
          "paper_bgcolor": "white",
          "plot_bgcolor": "#E5ECF6",
          "polar": {
           "angularaxis": {
            "gridcolor": "white",
            "linecolor": "white",
            "ticks": ""
           },
           "bgcolor": "#E5ECF6",
           "radialaxis": {
            "gridcolor": "white",
            "linecolor": "white",
            "ticks": ""
           }
          },
          "scene": {
           "xaxis": {
            "backgroundcolor": "#E5ECF6",
            "gridcolor": "white",
            "gridwidth": 2,
            "linecolor": "white",
            "showbackground": true,
            "ticks": "",
            "zerolinecolor": "white"
           },
           "yaxis": {
            "backgroundcolor": "#E5ECF6",
            "gridcolor": "white",
            "gridwidth": 2,
            "linecolor": "white",
            "showbackground": true,
            "ticks": "",
            "zerolinecolor": "white"
           },
           "zaxis": {
            "backgroundcolor": "#E5ECF6",
            "gridcolor": "white",
            "gridwidth": 2,
            "linecolor": "white",
            "showbackground": true,
            "ticks": "",
            "zerolinecolor": "white"
           }
          },
          "shapedefaults": {
           "line": {
            "color": "#2a3f5f"
           }
          },
          "ternary": {
           "aaxis": {
            "gridcolor": "white",
            "linecolor": "white",
            "ticks": ""
           },
           "baxis": {
            "gridcolor": "white",
            "linecolor": "white",
            "ticks": ""
           },
           "bgcolor": "#E5ECF6",
           "caxis": {
            "gridcolor": "white",
            "linecolor": "white",
            "ticks": ""
           }
          },
          "title": {
           "x": 0.05
          },
          "xaxis": {
           "automargin": true,
           "gridcolor": "white",
           "linecolor": "white",
           "ticks": "",
           "title": {
            "standoff": 15
           },
           "zerolinecolor": "white",
           "zerolinewidth": 2
          },
          "yaxis": {
           "automargin": true,
           "gridcolor": "white",
           "linecolor": "white",
           "ticks": "",
           "title": {
            "standoff": 15
           },
           "zerolinecolor": "white",
           "zerolinewidth": 2
          }
         }
        },
        "title": {
         "text": "Boxplot for infl variable"
        },
        "width": 600,
        "xaxis": {
         "anchor": "y",
         "domain": [
          0,
          1
         ]
        },
        "yaxis": {
         "anchor": "x",
         "domain": [
          0,
          1
         ],
         "title": {
          "text": "infl"
         }
        }
       }
      }
     },
     "metadata": {},
     "output_type": "display_data"
    }
   ],
   "source": [
    "for var in data.columns:\n",
    "    fig = px.box(data, y=var, title=f'Boxplot for {var} variable')\n",
    "    fig.update_layout(width=600, height=400)\n",
    "    fig.show()"
   ]
  },
  {
   "cell_type": "markdown",
   "id": "39ef4e49",
   "metadata": {},
   "source": [
    "As we can observe from the above plots, for the variables unemp and infl there are multiple outliers present. For the unemp variable, there are a few significant outliers above 10%, with one extreme point above 15%. As for the infl variable, the range is wide, with several values exceeding 10% and going below -5%. This is aligned with historical economic events (e.g., oil shocks, recessions, or deflationary periods). I will winsorize just the unemp variable (5% winsorization) and I will leave the infl variable as it is now."
   ]
  },
  {
   "cell_type": "code",
   "execution_count": 10,
   "id": "c19b4969",
   "metadata": {},
   "outputs": [],
   "source": [
    "data['unemp_wins'] = winsorize(data['unemp'], limits=[0.05, 0.05])"
   ]
  },
  {
   "cell_type": "markdown",
   "id": "da4370a8",
   "metadata": {},
   "source": [
    "e) Studying the stationarity "
   ]
  },
  {
   "cell_type": "markdown",
   "id": "510695ee",
   "metadata": {},
   "source": [
    "In this subsection we will employ the Augmented Dickey-Fuller test in order to find the stationarity of each variable within our dataset. We will do so on the raw variables that we have vailable"
   ]
  },
  {
   "cell_type": "code",
   "execution_count": 11,
   "id": "9a474ba7",
   "metadata": {},
   "outputs": [
    {
     "name": "stdout",
     "output_type": "stream",
     "text": [
      "ADF test for realgdp:\n",
      "ADF statistic: 1.7504627967647133\n",
      "p-value: 0.9982455372335032\n",
      "Critical values:\n",
      "1%: -3.4652439354133255\n",
      "5%: -2.8768752281673717\n",
      "10%: -2.574944653739612\n",
      "Stationary: False\n",
      "\n",
      "ADF test for pop:\n",
      "ADF statistic: 1.730646621830091\n",
      "p-value: 0.998201073889376\n",
      "Critical values:\n",
      "1%: -3.465811691080702\n",
      "5%: -2.877123351472649\n",
      "10%: -2.5750770662586864\n",
      "Stationary: False\n",
      "\n",
      "ADF test for unemp:\n",
      "ADF statistic: -3.086359013410627\n",
      "p-value: 0.027579291063347017\n",
      "Critical values:\n",
      "1%: -3.463476079125\n",
      "5%: -2.876102355\n",
      "10%: -2.574532225\n",
      "Stationary: True\n",
      "\n",
      "ADF test for infl:\n",
      "ADF statistic: -3.054514496257238\n",
      "p-value: 0.030107620863485774\n",
      "Critical values:\n",
      "1%: -3.463476079125\n",
      "5%: -2.876102355\n",
      "10%: -2.574532225\n",
      "Stationary: True\n",
      "\n",
      "ADF test for unemp_wins:\n",
      "ADF statistic: -2.4627491723568506\n",
      "p-value: 0.12480287353208053\n",
      "Critical values:\n",
      "1%: -3.4633090972761744\n",
      "5%: -2.876029332045744\n",
      "10%: -2.5744932593252643\n",
      "Stationary: False\n",
      "\n"
     ]
    }
   ],
   "source": [
    "for column in data.columns:\n",
    "    adf_test(data[column], column)"
   ]
  },
  {
   "cell_type": "markdown",
   "id": "c393eb7b",
   "metadata": {},
   "source": [
    "For those variables which are not stationary, we will try to find the order of differentiation in order to transform them into stationary series."
   ]
  },
  {
   "cell_type": "code",
   "execution_count": 12,
   "id": "e25f39f6",
   "metadata": {},
   "outputs": [
    {
     "name": "stdout",
     "output_type": "stream",
     "text": [
      "Order 0: ADF statistic=1.7504627967647133, p-value=0.9982455372335032\n",
      "Order 1: ADF statistic=-6.305695561658103, p-value=3.327882187668259e-08\n",
      "Series is stationary after 1 diffs\n",
      "Order 0: ADF statistic=1.730646621830091, p-value=0.998201073889376\n",
      "Order 1: ADF statistic=-1.615825140043302, p-value=0.47491868429942974\n",
      "Order 2: ADF statistic=-4.397672009811731, p-value=0.0002996612287556704\n",
      "Series is stationary after 2 diffs\n",
      "Order 0: ADF statistic=-2.4627491723568506, p-value=0.12480287353208053\n",
      "Order 1: ADF statistic=-18.69284930380423, p-value=2.038882847293204e-30\n",
      "Series is stationary after 1 diffs\n"
     ]
    }
   ],
   "source": [
    "for col in ['realgdp', 'pop', 'unemp_wins']:\n",
    "    data[col + \"_diff\"] = make_stationary(data[col], max_diff=5)"
   ]
  },
  {
   "cell_type": "markdown",
   "id": "d5e44f82",
   "metadata": {},
   "source": [
    "After differentiating, we will use the new variables to perform the Granger causality test. In order to decide how to test it, we will measure the degrees of freedom in our data"
   ]
  },
  {
   "cell_type": "code",
   "execution_count": 13,
   "id": "4752c04b",
   "metadata": {},
   "outputs": [
    {
     "data": {
      "text/plain": [
       "182"
      ]
     },
     "execution_count": 13,
     "metadata": {},
     "output_type": "execute_result"
    }
   ],
   "source": [
    "max_lag = 5\n",
    "dof = calculate_dof(data[['unemp_wins_diff', 'realgdp_diff', 'pop_diff', 'infl']].copy(), max_lag)\n",
    "dof"
   ]
  },
  {
   "cell_type": "markdown",
   "id": "e6d40658",
   "metadata": {},
   "source": [
    "Since the dof is pretty small, we will further use the F-test in order to measure the power of the Granger causality test, another approach would have been the chi squared test but in this case it is not suitable because of his reliance on large-sample approximations"
   ]
  },
  {
   "cell_type": "code",
   "execution_count": 14,
   "id": "755ff60d",
   "metadata": {},
   "outputs": [
    {
     "data": {
      "text/html": [
       "<div>\n",
       "<style scoped>\n",
       "    .dataframe tbody tr th:only-of-type {\n",
       "        vertical-align: middle;\n",
       "    }\n",
       "\n",
       "    .dataframe tbody tr th {\n",
       "        vertical-align: top;\n",
       "    }\n",
       "\n",
       "    .dataframe thead th {\n",
       "        text-align: right;\n",
       "    }\n",
       "</style>\n",
       "<table border=\"1\" class=\"dataframe\">\n",
       "  <thead>\n",
       "    <tr style=\"text-align: right;\">\n",
       "      <th></th>\n",
       "      <th>unemp_wins_diff</th>\n",
       "      <th>realgdp_diff</th>\n",
       "      <th>pop_diff</th>\n",
       "      <th>infl</th>\n",
       "    </tr>\n",
       "  </thead>\n",
       "  <tbody>\n",
       "    <tr>\n",
       "      <th>unemp_wins_diff</th>\n",
       "      <td>1.000</td>\n",
       "      <td>0.0000</td>\n",
       "      <td>0.0523</td>\n",
       "      <td>0.0352</td>\n",
       "    </tr>\n",
       "    <tr>\n",
       "      <th>realgdp_diff</th>\n",
       "      <td>0.585</td>\n",
       "      <td>1.0000</td>\n",
       "      <td>0.3756</td>\n",
       "      <td>0.0130</td>\n",
       "    </tr>\n",
       "    <tr>\n",
       "      <th>pop_diff</th>\n",
       "      <td>0.163</td>\n",
       "      <td>0.4182</td>\n",
       "      <td>1.0000</td>\n",
       "      <td>0.1411</td>\n",
       "    </tr>\n",
       "    <tr>\n",
       "      <th>infl</th>\n",
       "      <td>0.688</td>\n",
       "      <td>0.2265</td>\n",
       "      <td>0.6022</td>\n",
       "      <td>1.0000</td>\n",
       "    </tr>\n",
       "  </tbody>\n",
       "</table>\n",
       "</div>"
      ],
      "text/plain": [
       "                 unemp_wins_diff  realgdp_diff  pop_diff    infl\n",
       "unemp_wins_diff            1.000        0.0000    0.0523  0.0352\n",
       "realgdp_diff               0.585        1.0000    0.3756  0.0130\n",
       "pop_diff                   0.163        0.4182    1.0000  0.1411\n",
       "infl                       0.688        0.2265    0.6022  1.0000"
      ]
     },
     "execution_count": 14,
     "metadata": {},
     "output_type": "execute_result"
    }
   ],
   "source": [
    "study_df = data[['unemp_wins_diff', 'realgdp_diff', 'pop_diff', 'infl']].copy()\n",
    "study_df.dropna(inplace=True)\n",
    "granger_matrix = granger_causality_matrix(study_df, list(study_df))\n",
    "granger_matrix"
   ]
  },
  {
   "cell_type": "markdown",
   "id": "1e5098fc",
   "metadata": {},
   "source": [
    "For the Granger causality test:\n",
    "- infl has a strong causal influence on unemployment (Philips curve link between them, so it aligns with the theory);\n",
    "- pop_diff demonstrates a statistically significant cauasl relationship - demographic shifts directly affect unemployment levels;\n",
    "- real gdp diff may not be a strong variable, but we will include it in our models as it is a key macroeconomic indicator"
   ]
  },
  {
   "cell_type": "markdown",
   "id": "8d0c87ac",
   "metadata": {},
   "source": [
    "### II. Feature engineering based on the models we will use"
   ]
  },
  {
   "cell_type": "markdown",
   "id": "99fb54bf",
   "metadata": {},
   "source": [
    "I propose to use both statistical mehtods like SARIMAX/VARMAX and ML models, for example LGBMRegressor and RandomForestRegressor, to further study our problem. Based on this, I will implement two strategies:\n",
    "- for statistical models, I will keep only stationary variables, as it is mandatory to maintain their structure within this step;\n",
    "- for ML models the stationarity is not mandatory, so I will use all variables along with the engineered features that I will create.\n",
    "\n",
    "For the first strategy I will also test the stationarity of the new features I will create. I propose to create the following variables:\n",
    "- the rolling mean of infl as a quarterly average, inflation often fluctuates seasonally or due to short-term shocks and I think a rolling mean smooths these fluctuations giving a clearer signal. It may also help statistical models to detect consistent inflation trends and aids ML models in identifying long-term patterns (e.g. LGBM);\n",
    "- lagged value of pop_diff (1 quarter) to add a temporal dependency that could be important for stat models;\n"
   ]
  },
  {
   "cell_type": "code",
   "execution_count": 15,
   "id": "4564171d",
   "metadata": {},
   "outputs": [],
   "source": [
    "data['infl_rolling_mean'] = data['infl'].rolling(window=4).mean()\n",
    "data['pop_diff_lag_1'] = data['pop_diff'].shift(1)\n",
    "\n",
    "stat_model_df = data[['unemp_wins_diff', 'infl',  'pop_diff', 'realgdp_diff','infl_rolling_mean', 'pop_diff_lag_1']].copy()\n",
    "stat_model_df.dropna(inplace=True)"
   ]
  },
  {
   "cell_type": "markdown",
   "id": "7410f640",
   "metadata": {},
   "source": [
    "For the statistical methods, I will also check the stationarity of the new created variables in the dataset"
   ]
  },
  {
   "cell_type": "code",
   "execution_count": 16,
   "id": "86797c24",
   "metadata": {},
   "outputs": [
    {
     "name": "stdout",
     "output_type": "stream",
     "text": [
      "ADF test for infl_rolling_mean:\n",
      "ADF statistic: -1.6815532793955712\n",
      "p-value: 0.4406409639758399\n",
      "Critical values:\n",
      "1%: -3.465811691080702\n",
      "5%: -2.877123351472649\n",
      "10%: -2.5750770662586864\n",
      "Stationary: False\n",
      "\n",
      "ADF test for pop_diff_lag_1:\n",
      "ADF statistic: -4.3949694071552345\n",
      "p-value: 0.0003029770474860001\n",
      "Critical values:\n",
      "1%: -3.466005071659723\n",
      "5%: -2.8772078537639385\n",
      "10%: -2.5751221620996647\n",
      "Stationary: True\n",
      "\n"
     ]
    }
   ],
   "source": [
    "variables = ['infl_rolling_mean', 'pop_diff_lag_1']\n",
    "for var in variables:\n",
    "    adf_test(stat_model_df[var], var)"
   ]
  },
  {
   "cell_type": "markdown",
   "id": "896595e5",
   "metadata": {},
   "source": [
    "Since infl_rolling_mean is not stationary, I will try to differentiate it in order to obtain a stationary version"
   ]
  },
  {
   "cell_type": "code",
   "execution_count": 17,
   "id": "8c63e0ae",
   "metadata": {},
   "outputs": [
    {
     "name": "stdout",
     "output_type": "stream",
     "text": [
      "Order 0: ADF statistic=-1.6815532793955712, p-value=0.4406409639758399\n",
      "Order 1: ADF statistic=-6.292274493442885, p-value=3.575160342887458e-08\n",
      "Series is stationary after 1 diffs\n"
     ]
    }
   ],
   "source": [
    "stat_model_df['infl_rolling_mean' + '_diff'] = make_stationary(stat_model_df['infl_rolling_mean'])"
   ]
  },
  {
   "cell_type": "code",
   "execution_count": 18,
   "id": "35d62b8f",
   "metadata": {},
   "outputs": [],
   "source": [
    "stat_model_df.drop('infl_rolling_mean', axis=1, inplace=True)"
   ]
  },
  {
   "cell_type": "code",
   "execution_count": 19,
   "id": "930baca4",
   "metadata": {},
   "outputs": [
    {
     "data": {
      "text/html": [
       "<div>\n",
       "<style scoped>\n",
       "    .dataframe tbody tr th:only-of-type {\n",
       "        vertical-align: middle;\n",
       "    }\n",
       "\n",
       "    .dataframe tbody tr th {\n",
       "        vertical-align: top;\n",
       "    }\n",
       "\n",
       "    .dataframe thead th {\n",
       "        text-align: right;\n",
       "    }\n",
       "</style>\n",
       "<table border=\"1\" class=\"dataframe\">\n",
       "  <thead>\n",
       "    <tr style=\"text-align: right;\">\n",
       "      <th></th>\n",
       "      <th>unemp_wins_diff</th>\n",
       "      <th>infl</th>\n",
       "      <th>pop_diff</th>\n",
       "      <th>realgdp_diff</th>\n",
       "      <th>pop_diff_lag_1</th>\n",
       "      <th>infl_rolling_mean_diff</th>\n",
       "    </tr>\n",
       "    <tr>\n",
       "      <th>Period</th>\n",
       "      <th></th>\n",
       "      <th></th>\n",
       "      <th></th>\n",
       "      <th></th>\n",
       "      <th></th>\n",
       "      <th></th>\n",
       "    </tr>\n",
       "  </thead>\n",
       "  <tbody>\n",
       "    <tr>\n",
       "      <th>1960-01-01</th>\n",
       "      <td>-0.4</td>\n",
       "      <td>2.31</td>\n",
       "      <td>-0.108</td>\n",
       "      <td>62.495</td>\n",
       "      <td>-0.098</td>\n",
       "      <td>0.5775</td>\n",
       "    </tr>\n",
       "    <tr>\n",
       "      <th>1960-04-01</th>\n",
       "      <td>0.0</td>\n",
       "      <td>0.14</td>\n",
       "      <td>0.043</td>\n",
       "      <td>-13.309</td>\n",
       "      <td>-0.108</td>\n",
       "      <td>-0.5500</td>\n",
       "    </tr>\n",
       "    <tr>\n",
       "      <th>1960-07-01</th>\n",
       "      <td>0.4</td>\n",
       "      <td>2.70</td>\n",
       "      <td>0.193</td>\n",
       "      <td>4.632</td>\n",
       "      <td>0.043</td>\n",
       "      <td>-0.0100</td>\n",
       "    </tr>\n",
       "    <tr>\n",
       "      <th>1960-10-01</th>\n",
       "      <td>0.7</td>\n",
       "      <td>1.21</td>\n",
       "      <td>-0.098</td>\n",
       "      <td>-36.406</td>\n",
       "      <td>0.193</td>\n",
       "      <td>0.2350</td>\n",
       "    </tr>\n",
       "    <tr>\n",
       "      <th>1961-01-01</th>\n",
       "      <td>0.5</td>\n",
       "      <td>-0.40</td>\n",
       "      <td>-0.054</td>\n",
       "      <td>16.648</td>\n",
       "      <td>-0.098</td>\n",
       "      <td>-0.6775</td>\n",
       "    </tr>\n",
       "  </tbody>\n",
       "</table>\n",
       "</div>"
      ],
      "text/plain": [
       "            unemp_wins_diff  infl  pop_diff  realgdp_diff  pop_diff_lag_1  \\\n",
       "Period                                                                      \n",
       "1960-01-01             -0.4  2.31    -0.108        62.495          -0.098   \n",
       "1960-04-01              0.0  0.14     0.043       -13.309          -0.108   \n",
       "1960-07-01              0.4  2.70     0.193         4.632           0.043   \n",
       "1960-10-01              0.7  1.21    -0.098       -36.406           0.193   \n",
       "1961-01-01              0.5 -0.40    -0.054        16.648          -0.098   \n",
       "\n",
       "            infl_rolling_mean_diff  \n",
       "Period                              \n",
       "1960-01-01                  0.5775  \n",
       "1960-04-01                 -0.5500  \n",
       "1960-07-01                 -0.0100  \n",
       "1960-10-01                  0.2350  \n",
       "1961-01-01                 -0.6775  "
      ]
     },
     "execution_count": 19,
     "metadata": {},
     "output_type": "execute_result"
    }
   ],
   "source": [
    "stat_model_df.dropna(inplace=True)\n",
    "stat_model_df.head()"
   ]
  },
  {
   "cell_type": "code",
   "execution_count": 20,
   "id": "0137bf1d",
   "metadata": {},
   "outputs": [],
   "source": [
    "ml_model_df = data[['realgdp', 'pop', 'unemp', 'infl', 'infl_rolling_mean', 'pop_diff_lag_1']].copy()\n",
    "ml_model_df.dropna(inplace=True)"
   ]
  },
  {
   "cell_type": "markdown",
   "id": "07244c48",
   "metadata": {},
   "source": [
    "As a benchmark model I will use the Linear Regression. Starting from it I will measure our performance as I try different models"
   ]
  },
  {
   "cell_type": "markdown",
   "id": "04b57e7c",
   "metadata": {},
   "source": [
    "### II.  Train-validation-test split"
   ]
  },
  {
   "cell_type": "markdown",
   "id": "c534833b",
   "metadata": {},
   "source": [
    "In this section I will describe the strategy for training, validating and testing (forecasting) in the data:\n",
    "1. I will train the model starting from 1959Q1 to 2005Q4\n",
    "2. Validate the training from 2006Q1 to 2009Q3\n",
    "3. Test on an out-of-sample set (forecast) from 2009Q4 to 2013Q4  \n",
    "\n",
    "As a final step in the notebook, I will train the best models with the entire data then perform the predictions. "
   ]
  },
  {
   "cell_type": "code",
   "execution_count": 21,
   "id": "56db2061",
   "metadata": {},
   "outputs": [],
   "source": [
    "train_start = '1959-01-01'\n",
    "train_end = '2005-01-01'\n",
    "val_start = '2005-04-01'\n",
    "val_end = '2009-09-30'\n",
    "\n",
    "# Perform train-val split on stat_model_df\n",
    "train_stat = stat_model_df.loc[train_start:train_end]\n",
    "val_stat = stat_model_df.loc[val_start:val_end]\n",
    "\n",
    "# Perform train-val split on ml_model_df\n",
    "train_ml = ml_model_df.loc[train_start:train_end]\n",
    "val_ml = ml_model_df.loc[val_start:val_end]\n",
    "\n",
    "# Keep original data stored separately\n",
    "data_train = data.loc[train_start:train_end]\n",
    "data_val = data.loc[val_start:val_end]\n",
    "\n",
    "y_train_orig = data_train['unemp_wins']\n",
    "y_test_orig = data_val['unemp_wins']"
   ]
  },
  {
   "cell_type": "markdown",
   "id": "8022dbfd",
   "metadata": {},
   "source": [
    "### III. Models building"
   ]
  },
  {
   "cell_type": "markdown",
   "id": "9f3a198a",
   "metadata": {},
   "source": [
    "#### 1. Building the benchmark model"
   ]
  },
  {
   "cell_type": "code",
   "execution_count": 22,
   "id": "e7b6748d",
   "metadata": {},
   "outputs": [],
   "source": [
    "X_train = train_ml.drop(columns=['unemp'])\n",
    "y_train = train_ml['unemp']\n",
    "X_val = val_ml.drop(columns=['unemp'])\n",
    "y_val = val_ml['unemp']"
   ]
  },
  {
   "cell_type": "markdown",
   "id": "e5d05920",
   "metadata": {},
   "source": [
    "To assess the performance of the fitted models, I will use 3 different measures, namely the MAE, MSE and RMSE. As I will train non-linear models like LGMBRegressor and RandomForestRegressor, I will not take into consideration the R-squared coefficient."
   ]
  },
  {
   "cell_type": "code",
   "execution_count": 23,
   "id": "204f9d29",
   "metadata": {},
   "outputs": [],
   "source": [
    "lr_model = LinearRegression()\n",
    "lr_model.fit(X_train, y_train)\n",
    "\n",
    "y_pred = lr_model.predict(X_val)\n",
    "\n",
    "mae = mean_absolute_error(y_val, y_pred)\n",
    "mse = mean_squared_error(y_val, y_pred)\n",
    "rmse = np.sqrt(mean_squared_error(y_val, y_pred))\n",
    "\n",
    "benchmark_results = pd.DataFrame({\n",
    "    'Model': ['Linear regression (Benchmark)'],\n",
    "    'MAE': [mae],\n",
    "    'MSE': [mse],\n",
    "    'RMSE': [rmse]\n",
    "})"
   ]
  },
  {
   "cell_type": "code",
   "execution_count": 24,
   "id": "48e72472",
   "metadata": {},
   "outputs": [
    {
     "data": {
      "text/html": [
       "<div>\n",
       "<style scoped>\n",
       "    .dataframe tbody tr th:only-of-type {\n",
       "        vertical-align: middle;\n",
       "    }\n",
       "\n",
       "    .dataframe tbody tr th {\n",
       "        vertical-align: top;\n",
       "    }\n",
       "\n",
       "    .dataframe thead th {\n",
       "        text-align: right;\n",
       "    }\n",
       "</style>\n",
       "<table border=\"1\" class=\"dataframe\">\n",
       "  <thead>\n",
       "    <tr style=\"text-align: right;\">\n",
       "      <th></th>\n",
       "      <th>Model</th>\n",
       "      <th>MAE</th>\n",
       "      <th>MSE</th>\n",
       "      <th>RMSE</th>\n",
       "    </tr>\n",
       "  </thead>\n",
       "  <tbody>\n",
       "    <tr>\n",
       "      <th>0</th>\n",
       "      <td>Linear regression (Benchmark)</td>\n",
       "      <td>1.956603</td>\n",
       "      <td>4.697423</td>\n",
       "      <td>2.167354</td>\n",
       "    </tr>\n",
       "  </tbody>\n",
       "</table>\n",
       "</div>"
      ],
      "text/plain": [
       "                           Model       MAE       MSE      RMSE\n",
       "0  Linear regression (Benchmark)  1.956603  4.697423  2.167354"
      ]
     },
     "execution_count": 24,
     "metadata": {},
     "output_type": "execute_result"
    }
   ],
   "source": [
    "benchmark_results"
   ]
  },
  {
   "cell_type": "markdown",
   "id": "034a013d",
   "metadata": {},
   "source": [
    "MAE: on average, the model's predictions deviate from the actual unemployment rate by approximately 2.01 percentage points; this is a moderate error given typical unemployment rate ranges but indicates room for improvement\n",
    "\n",
    "MSE: the average of squared errors is relatively high; MSE penalizes large errors more than MAE, suggesting some significant outliers or poor fits during certain periods\n",
    "\n",
    "RMSE: a value of 2.19 suggests that typical forecast errors are around 2.16 percentage points"
   ]
  },
  {
   "cell_type": "code",
   "execution_count": 25,
   "id": "1df8b4b8",
   "metadata": {},
   "outputs": [
    {
     "data": {
      "application/vnd.plotly.v1+json": {
       "config": {
        "plotlyServerURL": "https://plot.ly"
       },
       "data": [
        {
         "mode": "lines",
         "name": "Training data",
         "type": "scatter",
         "x": [
          "1959-10-01T00:00:00",
          "1960-01-01T00:00:00",
          "1960-04-01T00:00:00",
          "1960-07-01T00:00:00",
          "1960-10-01T00:00:00",
          "1961-01-01T00:00:00",
          "1961-04-01T00:00:00",
          "1961-07-01T00:00:00",
          "1961-10-01T00:00:00",
          "1962-01-01T00:00:00",
          "1962-04-01T00:00:00",
          "1962-07-01T00:00:00",
          "1962-10-01T00:00:00",
          "1963-01-01T00:00:00",
          "1963-04-01T00:00:00",
          "1963-07-01T00:00:00",
          "1963-10-01T00:00:00",
          "1964-01-01T00:00:00",
          "1964-04-01T00:00:00",
          "1964-07-01T00:00:00",
          "1964-10-01T00:00:00",
          "1965-01-01T00:00:00",
          "1965-04-01T00:00:00",
          "1965-07-01T00:00:00",
          "1965-10-01T00:00:00",
          "1966-01-01T00:00:00",
          "1966-04-01T00:00:00",
          "1966-07-01T00:00:00",
          "1966-10-01T00:00:00",
          "1967-01-01T00:00:00",
          "1967-04-01T00:00:00",
          "1967-07-01T00:00:00",
          "1967-10-01T00:00:00",
          "1968-01-01T00:00:00",
          "1968-04-01T00:00:00",
          "1968-07-01T00:00:00",
          "1968-10-01T00:00:00",
          "1969-01-01T00:00:00",
          "1969-04-01T00:00:00",
          "1969-07-01T00:00:00",
          "1969-10-01T00:00:00",
          "1970-01-01T00:00:00",
          "1970-04-01T00:00:00",
          "1970-07-01T00:00:00",
          "1970-10-01T00:00:00",
          "1971-01-01T00:00:00",
          "1971-04-01T00:00:00",
          "1971-07-01T00:00:00",
          "1971-10-01T00:00:00",
          "1972-01-01T00:00:00",
          "1972-04-01T00:00:00",
          "1972-07-01T00:00:00",
          "1972-10-01T00:00:00",
          "1973-01-01T00:00:00",
          "1973-04-01T00:00:00",
          "1973-07-01T00:00:00",
          "1973-10-01T00:00:00",
          "1974-01-01T00:00:00",
          "1974-04-01T00:00:00",
          "1974-07-01T00:00:00",
          "1974-10-01T00:00:00",
          "1975-01-01T00:00:00",
          "1975-04-01T00:00:00",
          "1975-07-01T00:00:00",
          "1975-10-01T00:00:00",
          "1976-01-01T00:00:00",
          "1976-04-01T00:00:00",
          "1976-07-01T00:00:00",
          "1976-10-01T00:00:00",
          "1977-01-01T00:00:00",
          "1977-04-01T00:00:00",
          "1977-07-01T00:00:00",
          "1977-10-01T00:00:00",
          "1978-01-01T00:00:00",
          "1978-04-01T00:00:00",
          "1978-07-01T00:00:00",
          "1978-10-01T00:00:00",
          "1979-01-01T00:00:00",
          "1979-04-01T00:00:00",
          "1979-07-01T00:00:00",
          "1979-10-01T00:00:00",
          "1980-01-01T00:00:00",
          "1980-04-01T00:00:00",
          "1980-07-01T00:00:00",
          "1980-10-01T00:00:00",
          "1981-01-01T00:00:00",
          "1981-04-01T00:00:00",
          "1981-07-01T00:00:00",
          "1981-10-01T00:00:00",
          "1982-01-01T00:00:00",
          "1982-04-01T00:00:00",
          "1982-07-01T00:00:00",
          "1982-10-01T00:00:00",
          "1983-01-01T00:00:00",
          "1983-04-01T00:00:00",
          "1983-07-01T00:00:00",
          "1983-10-01T00:00:00",
          "1984-01-01T00:00:00",
          "1984-04-01T00:00:00",
          "1984-07-01T00:00:00",
          "1984-10-01T00:00:00",
          "1985-01-01T00:00:00",
          "1985-04-01T00:00:00",
          "1985-07-01T00:00:00",
          "1985-10-01T00:00:00",
          "1986-01-01T00:00:00",
          "1986-04-01T00:00:00",
          "1986-07-01T00:00:00",
          "1986-10-01T00:00:00",
          "1987-01-01T00:00:00",
          "1987-04-01T00:00:00",
          "1987-07-01T00:00:00",
          "1987-10-01T00:00:00",
          "1988-01-01T00:00:00",
          "1988-04-01T00:00:00",
          "1988-07-01T00:00:00",
          "1988-10-01T00:00:00",
          "1989-01-01T00:00:00",
          "1989-04-01T00:00:00",
          "1989-07-01T00:00:00",
          "1989-10-01T00:00:00",
          "1990-01-01T00:00:00",
          "1990-04-01T00:00:00",
          "1990-07-01T00:00:00",
          "1990-10-01T00:00:00",
          "1991-01-01T00:00:00",
          "1991-04-01T00:00:00",
          "1991-07-01T00:00:00",
          "1991-10-01T00:00:00",
          "1992-01-01T00:00:00",
          "1992-04-01T00:00:00",
          "1992-07-01T00:00:00",
          "1992-10-01T00:00:00",
          "1993-01-01T00:00:00",
          "1993-04-01T00:00:00",
          "1993-07-01T00:00:00",
          "1993-10-01T00:00:00",
          "1994-01-01T00:00:00",
          "1994-04-01T00:00:00",
          "1994-07-01T00:00:00",
          "1994-10-01T00:00:00",
          "1995-01-01T00:00:00",
          "1995-04-01T00:00:00",
          "1995-07-01T00:00:00",
          "1995-10-01T00:00:00",
          "1996-01-01T00:00:00",
          "1996-04-01T00:00:00",
          "1996-07-01T00:00:00",
          "1996-10-01T00:00:00",
          "1997-01-01T00:00:00",
          "1997-04-01T00:00:00",
          "1997-07-01T00:00:00",
          "1997-10-01T00:00:00",
          "1998-01-01T00:00:00",
          "1998-04-01T00:00:00",
          "1998-07-01T00:00:00",
          "1998-10-01T00:00:00",
          "1999-01-01T00:00:00",
          "1999-04-01T00:00:00",
          "1999-07-01T00:00:00",
          "1999-10-01T00:00:00",
          "2000-01-01T00:00:00",
          "2000-04-01T00:00:00",
          "2000-07-01T00:00:00",
          "2000-10-01T00:00:00",
          "2001-01-01T00:00:00",
          "2001-04-01T00:00:00",
          "2001-07-01T00:00:00",
          "2001-10-01T00:00:00",
          "2002-01-01T00:00:00",
          "2002-04-01T00:00:00",
          "2002-07-01T00:00:00",
          "2002-10-01T00:00:00",
          "2003-01-01T00:00:00",
          "2003-04-01T00:00:00",
          "2003-07-01T00:00:00",
          "2003-10-01T00:00:00",
          "2004-01-01T00:00:00",
          "2004-04-01T00:00:00",
          "2004-07-01T00:00:00",
          "2004-10-01T00:00:00",
          "2005-01-01T00:00:00"
         ],
         "y": [
          5.6,
          5.2,
          5.2,
          5.6,
          6.3,
          6.8,
          7,
          6.8,
          6.2,
          5.6,
          5.5,
          5.6,
          5.5,
          5.8,
          5.7,
          5.5,
          5.6,
          5.5,
          5.2,
          5,
          5,
          4.9,
          4.7,
          4.4,
          4.1,
          3.9,
          3.8,
          3.8,
          3.7,
          3.8,
          3.8,
          3.8,
          3.9,
          3.7,
          3.5,
          3.5,
          10.2,
          3.4,
          3.4,
          3.6,
          3.6,
          4.2,
          4.8,
          5.2,
          5.8,
          5.9,
          5.9,
          6,
          6,
          5.8,
          5.7,
          5.6,
          5.3,
          5,
          4.9,
          4.8,
          4.8,
          5.1,
          5.2,
          5.6,
          6.6,
          8.2,
          8.9,
          8.5,
          8.3,
          7.7,
          7.6,
          7.7,
          7.8,
          7.5,
          7.1,
          6.9,
          6.6,
          6.3,
          6,
          6,
          5.9,
          5.9,
          5.7,
          5.9,
          5.9,
          6.3,
          7.3,
          7.7,
          7.4,
          7.4,
          7.4,
          7.4,
          8.2,
          8.8,
          9.4,
          9.9,
          10.7,
          10.4,
          10.1,
          9.4,
          8.5,
          7.9,
          7.5,
          7.4,
          7.3,
          7.3,
          7.3,
          7.2,
          7,
          7,
          7.2,
          7,
          6.8,
          6.6,
          6.3,
          6,
          5.9,
          5.7,
          5.5,
          5.5,
          5.3,
          5.2,
          5.2,
          5.3,
          5.4,
          5.3,
          5.3,
          5.7,
          6.1,
          6.6,
          6.8,
          6.9,
          7.1,
          7.4,
          7.6,
          7.6,
          7.4,
          7.2,
          7.1,
          6.8,
          6.6,
          6.6,
          6.2,
          6,
          5.6,
          5.5,
          5.7,
          5.7,
          5.6,
          5.5,
          5.5,
          5.3,
          15.9,
          5.2,
          5,
          4.9,
          4.7,
          4.6,
          4.4,
          4.5,
          4.4,
          4.3,
          4.3,
          4.2,
          4.1,
          4,
          3.9,
          4,
          3.9,
          4.2,
          4.4,
          4.8,
          5.5,
          5.7,
          5.8,
          5.7,
          5.8,
          5.9,
          6.2,
          6.1,
          5.8,
          5.7,
          5.6,
          5.4,
          5.4,
          5.3
         ]
        },
        {
         "mode": "lines",
         "name": "Validation data",
         "type": "scatter",
         "x": [
          "2005-04-01T00:00:00",
          "2005-07-01T00:00:00",
          "2005-10-01T00:00:00",
          "2006-01-01T00:00:00",
          "2006-04-01T00:00:00",
          "2006-07-01T00:00:00",
          "2006-10-01T00:00:00",
          "2007-01-01T00:00:00",
          "2007-04-01T00:00:00",
          "2007-07-01T00:00:00",
          "2007-10-01T00:00:00",
          "2008-01-01T00:00:00",
          "2008-04-01T00:00:00",
          "2008-07-01T00:00:00",
          "2008-10-01T00:00:00",
          "2009-01-01T00:00:00",
          "2009-04-01T00:00:00",
          "2009-07-01T00:00:00"
         ],
         "y": [
          5.1,
          5,
          4.9,
          4.7,
          4.7,
          4.7,
          4.4,
          4.5,
          4.5,
          4.7,
          4.8,
          4.9,
          5.4,
          6,
          6.9,
          8.1,
          9.2,
          9.6
         ]
        },
        {
         "line": {
          "dash": "dot"
         },
         "mode": "lines",
         "name": "Predictions",
         "type": "scatter",
         "x": [
          "2005-04-01T00:00:00",
          "2005-07-01T00:00:00",
          "2005-10-01T00:00:00",
          "2006-01-01T00:00:00",
          "2006-04-01T00:00:00",
          "2006-07-01T00:00:00",
          "2006-10-01T00:00:00",
          "2007-01-01T00:00:00",
          "2007-04-01T00:00:00",
          "2007-07-01T00:00:00",
          "2007-10-01T00:00:00",
          "2008-01-01T00:00:00",
          "2008-04-01T00:00:00",
          "2008-07-01T00:00:00",
          "2008-10-01T00:00:00",
          "2009-01-01T00:00:00",
          "2009-04-01T00:00:00",
          "2009-07-01T00:00:00"
         ],
         "y": [
          3.6033165399630676,
          2.958727414915707,
          3.890815669513387,
          3.039120438167771,
          3.024808520143324,
          3.7986778568233106,
          3.20759051814192,
          2.9433692676685084,
          3.0210188553423407,
          3.0020093257728533,
          2.656036832203135,
          3.141824513581824,
          2.61250219702314,
          4.537405992253085,
          5.7296929818907785,
          5.242517410525849,
          5.144272742620842,
          5.327434994919585
         ]
        }
       ],
       "layout": {
        "height": 400,
        "template": {
         "data": {
          "bar": [
           {
            "error_x": {
             "color": "#2a3f5f"
            },
            "error_y": {
             "color": "#2a3f5f"
            },
            "marker": {
             "line": {
              "color": "white",
              "width": 0.5
             },
             "pattern": {
              "fillmode": "overlay",
              "size": 10,
              "solidity": 0.2
             }
            },
            "type": "bar"
           }
          ],
          "barpolar": [
           {
            "marker": {
             "line": {
              "color": "white",
              "width": 0.5
             },
             "pattern": {
              "fillmode": "overlay",
              "size": 10,
              "solidity": 0.2
             }
            },
            "type": "barpolar"
           }
          ],
          "carpet": [
           {
            "aaxis": {
             "endlinecolor": "#2a3f5f",
             "gridcolor": "#C8D4E3",
             "linecolor": "#C8D4E3",
             "minorgridcolor": "#C8D4E3",
             "startlinecolor": "#2a3f5f"
            },
            "baxis": {
             "endlinecolor": "#2a3f5f",
             "gridcolor": "#C8D4E3",
             "linecolor": "#C8D4E3",
             "minorgridcolor": "#C8D4E3",
             "startlinecolor": "#2a3f5f"
            },
            "type": "carpet"
           }
          ],
          "choropleth": [
           {
            "colorbar": {
             "outlinewidth": 0,
             "ticks": ""
            },
            "type": "choropleth"
           }
          ],
          "contour": [
           {
            "colorbar": {
             "outlinewidth": 0,
             "ticks": ""
            },
            "colorscale": [
             [
              0,
              "#0d0887"
             ],
             [
              0.1111111111111111,
              "#46039f"
             ],
             [
              0.2222222222222222,
              "#7201a8"
             ],
             [
              0.3333333333333333,
              "#9c179e"
             ],
             [
              0.4444444444444444,
              "#bd3786"
             ],
             [
              0.5555555555555556,
              "#d8576b"
             ],
             [
              0.6666666666666666,
              "#ed7953"
             ],
             [
              0.7777777777777778,
              "#fb9f3a"
             ],
             [
              0.8888888888888888,
              "#fdca26"
             ],
             [
              1,
              "#f0f921"
             ]
            ],
            "type": "contour"
           }
          ],
          "contourcarpet": [
           {
            "colorbar": {
             "outlinewidth": 0,
             "ticks": ""
            },
            "type": "contourcarpet"
           }
          ],
          "heatmap": [
           {
            "colorbar": {
             "outlinewidth": 0,
             "ticks": ""
            },
            "colorscale": [
             [
              0,
              "#0d0887"
             ],
             [
              0.1111111111111111,
              "#46039f"
             ],
             [
              0.2222222222222222,
              "#7201a8"
             ],
             [
              0.3333333333333333,
              "#9c179e"
             ],
             [
              0.4444444444444444,
              "#bd3786"
             ],
             [
              0.5555555555555556,
              "#d8576b"
             ],
             [
              0.6666666666666666,
              "#ed7953"
             ],
             [
              0.7777777777777778,
              "#fb9f3a"
             ],
             [
              0.8888888888888888,
              "#fdca26"
             ],
             [
              1,
              "#f0f921"
             ]
            ],
            "type": "heatmap"
           }
          ],
          "heatmapgl": [
           {
            "colorbar": {
             "outlinewidth": 0,
             "ticks": ""
            },
            "colorscale": [
             [
              0,
              "#0d0887"
             ],
             [
              0.1111111111111111,
              "#46039f"
             ],
             [
              0.2222222222222222,
              "#7201a8"
             ],
             [
              0.3333333333333333,
              "#9c179e"
             ],
             [
              0.4444444444444444,
              "#bd3786"
             ],
             [
              0.5555555555555556,
              "#d8576b"
             ],
             [
              0.6666666666666666,
              "#ed7953"
             ],
             [
              0.7777777777777778,
              "#fb9f3a"
             ],
             [
              0.8888888888888888,
              "#fdca26"
             ],
             [
              1,
              "#f0f921"
             ]
            ],
            "type": "heatmapgl"
           }
          ],
          "histogram": [
           {
            "marker": {
             "pattern": {
              "fillmode": "overlay",
              "size": 10,
              "solidity": 0.2
             }
            },
            "type": "histogram"
           }
          ],
          "histogram2d": [
           {
            "colorbar": {
             "outlinewidth": 0,
             "ticks": ""
            },
            "colorscale": [
             [
              0,
              "#0d0887"
             ],
             [
              0.1111111111111111,
              "#46039f"
             ],
             [
              0.2222222222222222,
              "#7201a8"
             ],
             [
              0.3333333333333333,
              "#9c179e"
             ],
             [
              0.4444444444444444,
              "#bd3786"
             ],
             [
              0.5555555555555556,
              "#d8576b"
             ],
             [
              0.6666666666666666,
              "#ed7953"
             ],
             [
              0.7777777777777778,
              "#fb9f3a"
             ],
             [
              0.8888888888888888,
              "#fdca26"
             ],
             [
              1,
              "#f0f921"
             ]
            ],
            "type": "histogram2d"
           }
          ],
          "histogram2dcontour": [
           {
            "colorbar": {
             "outlinewidth": 0,
             "ticks": ""
            },
            "colorscale": [
             [
              0,
              "#0d0887"
             ],
             [
              0.1111111111111111,
              "#46039f"
             ],
             [
              0.2222222222222222,
              "#7201a8"
             ],
             [
              0.3333333333333333,
              "#9c179e"
             ],
             [
              0.4444444444444444,
              "#bd3786"
             ],
             [
              0.5555555555555556,
              "#d8576b"
             ],
             [
              0.6666666666666666,
              "#ed7953"
             ],
             [
              0.7777777777777778,
              "#fb9f3a"
             ],
             [
              0.8888888888888888,
              "#fdca26"
             ],
             [
              1,
              "#f0f921"
             ]
            ],
            "type": "histogram2dcontour"
           }
          ],
          "mesh3d": [
           {
            "colorbar": {
             "outlinewidth": 0,
             "ticks": ""
            },
            "type": "mesh3d"
           }
          ],
          "parcoords": [
           {
            "line": {
             "colorbar": {
              "outlinewidth": 0,
              "ticks": ""
             }
            },
            "type": "parcoords"
           }
          ],
          "pie": [
           {
            "automargin": true,
            "type": "pie"
           }
          ],
          "scatter": [
           {
            "fillpattern": {
             "fillmode": "overlay",
             "size": 10,
             "solidity": 0.2
            },
            "type": "scatter"
           }
          ],
          "scatter3d": [
           {
            "line": {
             "colorbar": {
              "outlinewidth": 0,
              "ticks": ""
             }
            },
            "marker": {
             "colorbar": {
              "outlinewidth": 0,
              "ticks": ""
             }
            },
            "type": "scatter3d"
           }
          ],
          "scattercarpet": [
           {
            "marker": {
             "colorbar": {
              "outlinewidth": 0,
              "ticks": ""
             }
            },
            "type": "scattercarpet"
           }
          ],
          "scattergeo": [
           {
            "marker": {
             "colorbar": {
              "outlinewidth": 0,
              "ticks": ""
             }
            },
            "type": "scattergeo"
           }
          ],
          "scattergl": [
           {
            "marker": {
             "colorbar": {
              "outlinewidth": 0,
              "ticks": ""
             }
            },
            "type": "scattergl"
           }
          ],
          "scattermapbox": [
           {
            "marker": {
             "colorbar": {
              "outlinewidth": 0,
              "ticks": ""
             }
            },
            "type": "scattermapbox"
           }
          ],
          "scatterpolar": [
           {
            "marker": {
             "colorbar": {
              "outlinewidth": 0,
              "ticks": ""
             }
            },
            "type": "scatterpolar"
           }
          ],
          "scatterpolargl": [
           {
            "marker": {
             "colorbar": {
              "outlinewidth": 0,
              "ticks": ""
             }
            },
            "type": "scatterpolargl"
           }
          ],
          "scatterternary": [
           {
            "marker": {
             "colorbar": {
              "outlinewidth": 0,
              "ticks": ""
             }
            },
            "type": "scatterternary"
           }
          ],
          "surface": [
           {
            "colorbar": {
             "outlinewidth": 0,
             "ticks": ""
            },
            "colorscale": [
             [
              0,
              "#0d0887"
             ],
             [
              0.1111111111111111,
              "#46039f"
             ],
             [
              0.2222222222222222,
              "#7201a8"
             ],
             [
              0.3333333333333333,
              "#9c179e"
             ],
             [
              0.4444444444444444,
              "#bd3786"
             ],
             [
              0.5555555555555556,
              "#d8576b"
             ],
             [
              0.6666666666666666,
              "#ed7953"
             ],
             [
              0.7777777777777778,
              "#fb9f3a"
             ],
             [
              0.8888888888888888,
              "#fdca26"
             ],
             [
              1,
              "#f0f921"
             ]
            ],
            "type": "surface"
           }
          ],
          "table": [
           {
            "cells": {
             "fill": {
              "color": "#EBF0F8"
             },
             "line": {
              "color": "white"
             }
            },
            "header": {
             "fill": {
              "color": "#C8D4E3"
             },
             "line": {
              "color": "white"
             }
            },
            "type": "table"
           }
          ]
         },
         "layout": {
          "annotationdefaults": {
           "arrowcolor": "#2a3f5f",
           "arrowhead": 0,
           "arrowwidth": 1
          },
          "autotypenumbers": "strict",
          "coloraxis": {
           "colorbar": {
            "outlinewidth": 0,
            "ticks": ""
           }
          },
          "colorscale": {
           "diverging": [
            [
             0,
             "#8e0152"
            ],
            [
             0.1,
             "#c51b7d"
            ],
            [
             0.2,
             "#de77ae"
            ],
            [
             0.3,
             "#f1b6da"
            ],
            [
             0.4,
             "#fde0ef"
            ],
            [
             0.5,
             "#f7f7f7"
            ],
            [
             0.6,
             "#e6f5d0"
            ],
            [
             0.7,
             "#b8e186"
            ],
            [
             0.8,
             "#7fbc41"
            ],
            [
             0.9,
             "#4d9221"
            ],
            [
             1,
             "#276419"
            ]
           ],
           "sequential": [
            [
             0,
             "#0d0887"
            ],
            [
             0.1111111111111111,
             "#46039f"
            ],
            [
             0.2222222222222222,
             "#7201a8"
            ],
            [
             0.3333333333333333,
             "#9c179e"
            ],
            [
             0.4444444444444444,
             "#bd3786"
            ],
            [
             0.5555555555555556,
             "#d8576b"
            ],
            [
             0.6666666666666666,
             "#ed7953"
            ],
            [
             0.7777777777777778,
             "#fb9f3a"
            ],
            [
             0.8888888888888888,
             "#fdca26"
            ],
            [
             1,
             "#f0f921"
            ]
           ],
           "sequentialminus": [
            [
             0,
             "#0d0887"
            ],
            [
             0.1111111111111111,
             "#46039f"
            ],
            [
             0.2222222222222222,
             "#7201a8"
            ],
            [
             0.3333333333333333,
             "#9c179e"
            ],
            [
             0.4444444444444444,
             "#bd3786"
            ],
            [
             0.5555555555555556,
             "#d8576b"
            ],
            [
             0.6666666666666666,
             "#ed7953"
            ],
            [
             0.7777777777777778,
             "#fb9f3a"
            ],
            [
             0.8888888888888888,
             "#fdca26"
            ],
            [
             1,
             "#f0f921"
            ]
           ]
          },
          "colorway": [
           "#636efa",
           "#EF553B",
           "#00cc96",
           "#ab63fa",
           "#FFA15A",
           "#19d3f3",
           "#FF6692",
           "#B6E880",
           "#FF97FF",
           "#FECB52"
          ],
          "font": {
           "color": "#2a3f5f"
          },
          "geo": {
           "bgcolor": "white",
           "lakecolor": "white",
           "landcolor": "white",
           "showlakes": true,
           "showland": true,
           "subunitcolor": "#C8D4E3"
          },
          "hoverlabel": {
           "align": "left"
          },
          "hovermode": "closest",
          "mapbox": {
           "style": "light"
          },
          "paper_bgcolor": "white",
          "plot_bgcolor": "white",
          "polar": {
           "angularaxis": {
            "gridcolor": "#EBF0F8",
            "linecolor": "#EBF0F8",
            "ticks": ""
           },
           "bgcolor": "white",
           "radialaxis": {
            "gridcolor": "#EBF0F8",
            "linecolor": "#EBF0F8",
            "ticks": ""
           }
          },
          "scene": {
           "xaxis": {
            "backgroundcolor": "white",
            "gridcolor": "#DFE8F3",
            "gridwidth": 2,
            "linecolor": "#EBF0F8",
            "showbackground": true,
            "ticks": "",
            "zerolinecolor": "#EBF0F8"
           },
           "yaxis": {
            "backgroundcolor": "white",
            "gridcolor": "#DFE8F3",
            "gridwidth": 2,
            "linecolor": "#EBF0F8",
            "showbackground": true,
            "ticks": "",
            "zerolinecolor": "#EBF0F8"
           },
           "zaxis": {
            "backgroundcolor": "white",
            "gridcolor": "#DFE8F3",
            "gridwidth": 2,
            "linecolor": "#EBF0F8",
            "showbackground": true,
            "ticks": "",
            "zerolinecolor": "#EBF0F8"
           }
          },
          "shapedefaults": {
           "line": {
            "color": "#2a3f5f"
           }
          },
          "ternary": {
           "aaxis": {
            "gridcolor": "#DFE8F3",
            "linecolor": "#A2B1C6",
            "ticks": ""
           },
           "baxis": {
            "gridcolor": "#DFE8F3",
            "linecolor": "#A2B1C6",
            "ticks": ""
           },
           "bgcolor": "white",
           "caxis": {
            "gridcolor": "#DFE8F3",
            "linecolor": "#A2B1C6",
            "ticks": ""
           }
          },
          "title": {
           "x": 0.05
          },
          "xaxis": {
           "automargin": true,
           "gridcolor": "#EBF0F8",
           "linecolor": "#EBF0F8",
           "ticks": "",
           "title": {
            "standoff": 15
           },
           "zerolinecolor": "#EBF0F8",
           "zerolinewidth": 2
          },
          "yaxis": {
           "automargin": true,
           "gridcolor": "#EBF0F8",
           "linecolor": "#EBF0F8",
           "ticks": "",
           "title": {
            "standoff": 15
           },
           "zerolinecolor": "#EBF0F8",
           "zerolinewidth": 2
          }
         }
        },
        "title": {
         "text": "Unemployment rate Forecasting: training, validation, and predictions"
        },
        "width": 1200,
        "xaxis": {
         "title": {
          "text": "Time"
         }
        },
        "yaxis": {
         "title": {
          "text": "Unemployment rate (%)"
         }
        }
       }
      }
     },
     "metadata": {},
     "output_type": "display_data"
    }
   ],
   "source": [
    "fig = go.Figure()\n",
    "fig.add_trace(go.Scatter(x=train_ml.index, y=train_ml['unemp'], \n",
    "                         mode='lines', name='Training data'))\n",
    "fig.add_trace(go.Scatter(x=val_ml.index, y=val_ml['unemp'], \n",
    "                         mode='lines', name='Validation data'))\n",
    "fig.add_trace(go.Scatter(x=val_ml.index, y=y_pred, \n",
    "                         mode='lines', name='Predictions', \n",
    "                         line=dict(dash='dot')))\n",
    "fig.update_layout(\n",
    "    title='Unemployment rate Forecasting: training, validation, and predictions',\n",
    "    xaxis_title='Time',\n",
    "    yaxis_title='Unemployment rate (%)',\n",
    "    template='plotly_white',\n",
    "    width=1200,\n",
    "    height=400\n",
    ")\n",
    "fig.show()\n"
   ]
  },
  {
   "cell_type": "markdown",
   "id": "a7a0d6ec",
   "metadata": {},
   "source": [
    "As we can see, the predictions for the LR model are not very well aligned with the actual values, since it is a benchmark model, the scope is to improve for the next models those predictions. I will now create the predictions for the period 2009q4 - 2013q4 and display them together with actual data"
   ]
  },
  {
   "cell_type": "markdown",
   "id": "208f37ea",
   "metadata": {},
   "source": [
    "#### 2. Building the statistical models: SARIMAX and VARMAX"
   ]
  },
  {
   "cell_type": "markdown",
   "id": "946412f6",
   "metadata": {},
   "source": [
    "a) SARIMAX"
   ]
  },
  {
   "cell_type": "markdown",
   "id": "fe316b09",
   "metadata": {},
   "source": [
    "SARIMAX is a suitable model for forecasting the unemployment rate because it directly models time-dependent patterns such as trends and cycles. . Since the unemployment rate is non-stationary, SARIMAX uses differencing (d=1) to stabilize the series before modeling. Additionally, we selected (p=1, q=1) based on ACF and PACF analysis, ensuring the model reflects the observed time dependencies."
   ]
  },
  {
   "cell_type": "markdown",
   "id": "5e9831fb",
   "metadata": {},
   "source": [
    "For this step, we will focus on using the ACF and PACF plots in order to determine the order q using the autocorrelation function (ACF) and the order p through the partial autocorrelation function (PACF)"
   ]
  },
  {
   "cell_type": "code",
   "execution_count": 26,
   "id": "71ecd55b",
   "metadata": {},
   "outputs": [],
   "source": [
    "X_train_stat = train_stat.drop(columns=['unemp_wins_diff'])\n",
    "y_train_stat = train_stat['unemp_wins_diff']\n",
    "X_val_stat = val_stat.drop(columns=['unemp_wins_diff'])\n",
    "y_val_stat = val_stat['unemp_wins_diff']"
   ]
  },
  {
   "cell_type": "code",
   "execution_count": 27,
   "id": "42afe863",
   "metadata": {},
   "outputs": [
    {
     "data": {
      "application/vnd.plotly.v1+json": {
       "config": {
        "plotlyServerURL": "https://plot.ly"
       },
       "data": [
        {
         "name": "ACF",
         "type": "bar",
         "x": [
          0,
          1,
          2,
          3,
          4,
          5,
          6,
          7,
          8,
          9,
          10,
          11,
          12,
          13,
          14,
          15,
          16,
          17,
          18,
          19,
          20,
          21,
          22,
          23,
          24,
          25,
          26,
          27,
          28,
          29,
          30,
          31,
          32,
          33,
          34,
          35,
          36,
          37,
          38,
          39,
          40
         ],
         "y": [
          1,
          -0.2714058814607783,
          0.06414558795691092,
          0.018400897299465115,
          -0.015433611566957078,
          -0.0074123971723332824,
          0.02232572903589358,
          -0.007520303799750186,
          -0.014020682012762112,
          -0.02793531847767864,
          -0.04790709803358486,
          -0.015504872406569559,
          -0.0315572338083366,
          -0.029575258610758864,
          -0.014427271346979841,
          -0.005132322783234814,
          -0.02885368927073081,
          -0.01626749346034893,
          -0.010755893456772674,
          -0.007551849612596472,
          0.011379486211351304,
          0.0015535875832966503,
          0.0034342778951369384,
          -0.008953412186315136,
          -0.05191379156563776,
          0.047487874436806785,
          0.049961950947916584,
          -0.02270661542172089,
          0.03370268582418121,
          0.00406024583966584,
          0.014355766304937352,
          0.012249003665653325,
          0.028668678939245688,
          -0.011187676770106108,
          -0.05584534529526983,
          -0.0313663600479806,
          0.009073690879999041,
          -0.020072555472368508,
          -0.0026850468461747357,
          0.03475635761618712,
          0.0031797855459502447
         ]
        }
       ],
       "layout": {
        "height": 400,
        "template": {
         "data": {
          "bar": [
           {
            "error_x": {
             "color": "#2a3f5f"
            },
            "error_y": {
             "color": "#2a3f5f"
            },
            "marker": {
             "line": {
              "color": "#E5ECF6",
              "width": 0.5
             },
             "pattern": {
              "fillmode": "overlay",
              "size": 10,
              "solidity": 0.2
             }
            },
            "type": "bar"
           }
          ],
          "barpolar": [
           {
            "marker": {
             "line": {
              "color": "#E5ECF6",
              "width": 0.5
             },
             "pattern": {
              "fillmode": "overlay",
              "size": 10,
              "solidity": 0.2
             }
            },
            "type": "barpolar"
           }
          ],
          "carpet": [
           {
            "aaxis": {
             "endlinecolor": "#2a3f5f",
             "gridcolor": "white",
             "linecolor": "white",
             "minorgridcolor": "white",
             "startlinecolor": "#2a3f5f"
            },
            "baxis": {
             "endlinecolor": "#2a3f5f",
             "gridcolor": "white",
             "linecolor": "white",
             "minorgridcolor": "white",
             "startlinecolor": "#2a3f5f"
            },
            "type": "carpet"
           }
          ],
          "choropleth": [
           {
            "colorbar": {
             "outlinewidth": 0,
             "ticks": ""
            },
            "type": "choropleth"
           }
          ],
          "contour": [
           {
            "colorbar": {
             "outlinewidth": 0,
             "ticks": ""
            },
            "colorscale": [
             [
              0,
              "#0d0887"
             ],
             [
              0.1111111111111111,
              "#46039f"
             ],
             [
              0.2222222222222222,
              "#7201a8"
             ],
             [
              0.3333333333333333,
              "#9c179e"
             ],
             [
              0.4444444444444444,
              "#bd3786"
             ],
             [
              0.5555555555555556,
              "#d8576b"
             ],
             [
              0.6666666666666666,
              "#ed7953"
             ],
             [
              0.7777777777777778,
              "#fb9f3a"
             ],
             [
              0.8888888888888888,
              "#fdca26"
             ],
             [
              1,
              "#f0f921"
             ]
            ],
            "type": "contour"
           }
          ],
          "contourcarpet": [
           {
            "colorbar": {
             "outlinewidth": 0,
             "ticks": ""
            },
            "type": "contourcarpet"
           }
          ],
          "heatmap": [
           {
            "colorbar": {
             "outlinewidth": 0,
             "ticks": ""
            },
            "colorscale": [
             [
              0,
              "#0d0887"
             ],
             [
              0.1111111111111111,
              "#46039f"
             ],
             [
              0.2222222222222222,
              "#7201a8"
             ],
             [
              0.3333333333333333,
              "#9c179e"
             ],
             [
              0.4444444444444444,
              "#bd3786"
             ],
             [
              0.5555555555555556,
              "#d8576b"
             ],
             [
              0.6666666666666666,
              "#ed7953"
             ],
             [
              0.7777777777777778,
              "#fb9f3a"
             ],
             [
              0.8888888888888888,
              "#fdca26"
             ],
             [
              1,
              "#f0f921"
             ]
            ],
            "type": "heatmap"
           }
          ],
          "heatmapgl": [
           {
            "colorbar": {
             "outlinewidth": 0,
             "ticks": ""
            },
            "colorscale": [
             [
              0,
              "#0d0887"
             ],
             [
              0.1111111111111111,
              "#46039f"
             ],
             [
              0.2222222222222222,
              "#7201a8"
             ],
             [
              0.3333333333333333,
              "#9c179e"
             ],
             [
              0.4444444444444444,
              "#bd3786"
             ],
             [
              0.5555555555555556,
              "#d8576b"
             ],
             [
              0.6666666666666666,
              "#ed7953"
             ],
             [
              0.7777777777777778,
              "#fb9f3a"
             ],
             [
              0.8888888888888888,
              "#fdca26"
             ],
             [
              1,
              "#f0f921"
             ]
            ],
            "type": "heatmapgl"
           }
          ],
          "histogram": [
           {
            "marker": {
             "pattern": {
              "fillmode": "overlay",
              "size": 10,
              "solidity": 0.2
             }
            },
            "type": "histogram"
           }
          ],
          "histogram2d": [
           {
            "colorbar": {
             "outlinewidth": 0,
             "ticks": ""
            },
            "colorscale": [
             [
              0,
              "#0d0887"
             ],
             [
              0.1111111111111111,
              "#46039f"
             ],
             [
              0.2222222222222222,
              "#7201a8"
             ],
             [
              0.3333333333333333,
              "#9c179e"
             ],
             [
              0.4444444444444444,
              "#bd3786"
             ],
             [
              0.5555555555555556,
              "#d8576b"
             ],
             [
              0.6666666666666666,
              "#ed7953"
             ],
             [
              0.7777777777777778,
              "#fb9f3a"
             ],
             [
              0.8888888888888888,
              "#fdca26"
             ],
             [
              1,
              "#f0f921"
             ]
            ],
            "type": "histogram2d"
           }
          ],
          "histogram2dcontour": [
           {
            "colorbar": {
             "outlinewidth": 0,
             "ticks": ""
            },
            "colorscale": [
             [
              0,
              "#0d0887"
             ],
             [
              0.1111111111111111,
              "#46039f"
             ],
             [
              0.2222222222222222,
              "#7201a8"
             ],
             [
              0.3333333333333333,
              "#9c179e"
             ],
             [
              0.4444444444444444,
              "#bd3786"
             ],
             [
              0.5555555555555556,
              "#d8576b"
             ],
             [
              0.6666666666666666,
              "#ed7953"
             ],
             [
              0.7777777777777778,
              "#fb9f3a"
             ],
             [
              0.8888888888888888,
              "#fdca26"
             ],
             [
              1,
              "#f0f921"
             ]
            ],
            "type": "histogram2dcontour"
           }
          ],
          "mesh3d": [
           {
            "colorbar": {
             "outlinewidth": 0,
             "ticks": ""
            },
            "type": "mesh3d"
           }
          ],
          "parcoords": [
           {
            "line": {
             "colorbar": {
              "outlinewidth": 0,
              "ticks": ""
             }
            },
            "type": "parcoords"
           }
          ],
          "pie": [
           {
            "automargin": true,
            "type": "pie"
           }
          ],
          "scatter": [
           {
            "fillpattern": {
             "fillmode": "overlay",
             "size": 10,
             "solidity": 0.2
            },
            "type": "scatter"
           }
          ],
          "scatter3d": [
           {
            "line": {
             "colorbar": {
              "outlinewidth": 0,
              "ticks": ""
             }
            },
            "marker": {
             "colorbar": {
              "outlinewidth": 0,
              "ticks": ""
             }
            },
            "type": "scatter3d"
           }
          ],
          "scattercarpet": [
           {
            "marker": {
             "colorbar": {
              "outlinewidth": 0,
              "ticks": ""
             }
            },
            "type": "scattercarpet"
           }
          ],
          "scattergeo": [
           {
            "marker": {
             "colorbar": {
              "outlinewidth": 0,
              "ticks": ""
             }
            },
            "type": "scattergeo"
           }
          ],
          "scattergl": [
           {
            "marker": {
             "colorbar": {
              "outlinewidth": 0,
              "ticks": ""
             }
            },
            "type": "scattergl"
           }
          ],
          "scattermapbox": [
           {
            "marker": {
             "colorbar": {
              "outlinewidth": 0,
              "ticks": ""
             }
            },
            "type": "scattermapbox"
           }
          ],
          "scatterpolar": [
           {
            "marker": {
             "colorbar": {
              "outlinewidth": 0,
              "ticks": ""
             }
            },
            "type": "scatterpolar"
           }
          ],
          "scatterpolargl": [
           {
            "marker": {
             "colorbar": {
              "outlinewidth": 0,
              "ticks": ""
             }
            },
            "type": "scatterpolargl"
           }
          ],
          "scatterternary": [
           {
            "marker": {
             "colorbar": {
              "outlinewidth": 0,
              "ticks": ""
             }
            },
            "type": "scatterternary"
           }
          ],
          "surface": [
           {
            "colorbar": {
             "outlinewidth": 0,
             "ticks": ""
            },
            "colorscale": [
             [
              0,
              "#0d0887"
             ],
             [
              0.1111111111111111,
              "#46039f"
             ],
             [
              0.2222222222222222,
              "#7201a8"
             ],
             [
              0.3333333333333333,
              "#9c179e"
             ],
             [
              0.4444444444444444,
              "#bd3786"
             ],
             [
              0.5555555555555556,
              "#d8576b"
             ],
             [
              0.6666666666666666,
              "#ed7953"
             ],
             [
              0.7777777777777778,
              "#fb9f3a"
             ],
             [
              0.8888888888888888,
              "#fdca26"
             ],
             [
              1,
              "#f0f921"
             ]
            ],
            "type": "surface"
           }
          ],
          "table": [
           {
            "cells": {
             "fill": {
              "color": "#EBF0F8"
             },
             "line": {
              "color": "white"
             }
            },
            "header": {
             "fill": {
              "color": "#C8D4E3"
             },
             "line": {
              "color": "white"
             }
            },
            "type": "table"
           }
          ]
         },
         "layout": {
          "annotationdefaults": {
           "arrowcolor": "#2a3f5f",
           "arrowhead": 0,
           "arrowwidth": 1
          },
          "autotypenumbers": "strict",
          "coloraxis": {
           "colorbar": {
            "outlinewidth": 0,
            "ticks": ""
           }
          },
          "colorscale": {
           "diverging": [
            [
             0,
             "#8e0152"
            ],
            [
             0.1,
             "#c51b7d"
            ],
            [
             0.2,
             "#de77ae"
            ],
            [
             0.3,
             "#f1b6da"
            ],
            [
             0.4,
             "#fde0ef"
            ],
            [
             0.5,
             "#f7f7f7"
            ],
            [
             0.6,
             "#e6f5d0"
            ],
            [
             0.7,
             "#b8e186"
            ],
            [
             0.8,
             "#7fbc41"
            ],
            [
             0.9,
             "#4d9221"
            ],
            [
             1,
             "#276419"
            ]
           ],
           "sequential": [
            [
             0,
             "#0d0887"
            ],
            [
             0.1111111111111111,
             "#46039f"
            ],
            [
             0.2222222222222222,
             "#7201a8"
            ],
            [
             0.3333333333333333,
             "#9c179e"
            ],
            [
             0.4444444444444444,
             "#bd3786"
            ],
            [
             0.5555555555555556,
             "#d8576b"
            ],
            [
             0.6666666666666666,
             "#ed7953"
            ],
            [
             0.7777777777777778,
             "#fb9f3a"
            ],
            [
             0.8888888888888888,
             "#fdca26"
            ],
            [
             1,
             "#f0f921"
            ]
           ],
           "sequentialminus": [
            [
             0,
             "#0d0887"
            ],
            [
             0.1111111111111111,
             "#46039f"
            ],
            [
             0.2222222222222222,
             "#7201a8"
            ],
            [
             0.3333333333333333,
             "#9c179e"
            ],
            [
             0.4444444444444444,
             "#bd3786"
            ],
            [
             0.5555555555555556,
             "#d8576b"
            ],
            [
             0.6666666666666666,
             "#ed7953"
            ],
            [
             0.7777777777777778,
             "#fb9f3a"
            ],
            [
             0.8888888888888888,
             "#fdca26"
            ],
            [
             1,
             "#f0f921"
            ]
           ]
          },
          "colorway": [
           "#636efa",
           "#EF553B",
           "#00cc96",
           "#ab63fa",
           "#FFA15A",
           "#19d3f3",
           "#FF6692",
           "#B6E880",
           "#FF97FF",
           "#FECB52"
          ],
          "font": {
           "color": "#2a3f5f"
          },
          "geo": {
           "bgcolor": "white",
           "lakecolor": "white",
           "landcolor": "#E5ECF6",
           "showlakes": true,
           "showland": true,
           "subunitcolor": "white"
          },
          "hoverlabel": {
           "align": "left"
          },
          "hovermode": "closest",
          "mapbox": {
           "style": "light"
          },
          "paper_bgcolor": "white",
          "plot_bgcolor": "#E5ECF6",
          "polar": {
           "angularaxis": {
            "gridcolor": "white",
            "linecolor": "white",
            "ticks": ""
           },
           "bgcolor": "#E5ECF6",
           "radialaxis": {
            "gridcolor": "white",
            "linecolor": "white",
            "ticks": ""
           }
          },
          "scene": {
           "xaxis": {
            "backgroundcolor": "#E5ECF6",
            "gridcolor": "white",
            "gridwidth": 2,
            "linecolor": "white",
            "showbackground": true,
            "ticks": "",
            "zerolinecolor": "white"
           },
           "yaxis": {
            "backgroundcolor": "#E5ECF6",
            "gridcolor": "white",
            "gridwidth": 2,
            "linecolor": "white",
            "showbackground": true,
            "ticks": "",
            "zerolinecolor": "white"
           },
           "zaxis": {
            "backgroundcolor": "#E5ECF6",
            "gridcolor": "white",
            "gridwidth": 2,
            "linecolor": "white",
            "showbackground": true,
            "ticks": "",
            "zerolinecolor": "white"
           }
          },
          "shapedefaults": {
           "line": {
            "color": "#2a3f5f"
           }
          },
          "ternary": {
           "aaxis": {
            "gridcolor": "white",
            "linecolor": "white",
            "ticks": ""
           },
           "baxis": {
            "gridcolor": "white",
            "linecolor": "white",
            "ticks": ""
           },
           "bgcolor": "#E5ECF6",
           "caxis": {
            "gridcolor": "white",
            "linecolor": "white",
            "ticks": ""
           }
          },
          "title": {
           "x": 0.05
          },
          "xaxis": {
           "automargin": true,
           "gridcolor": "white",
           "linecolor": "white",
           "ticks": "",
           "title": {
            "standoff": 15
           },
           "zerolinecolor": "white",
           "zerolinewidth": 2
          },
          "yaxis": {
           "automargin": true,
           "gridcolor": "white",
           "linecolor": "white",
           "ticks": "",
           "title": {
            "standoff": 15
           },
           "zerolinecolor": "white",
           "zerolinewidth": 2
          }
         }
        },
        "title": {
         "text": "ACF (Autocorrelation Function) - unemp_wins"
        },
        "width": 700,
        "xaxis": {
         "title": {
          "text": "Lags"
         }
        },
        "yaxis": {
         "title": {
          "text": "ACF"
         }
        }
       }
      }
     },
     "metadata": {},
     "output_type": "display_data"
    },
    {
     "data": {
      "application/vnd.plotly.v1+json": {
       "config": {
        "plotlyServerURL": "https://plot.ly"
       },
       "data": [
        {
         "name": "PACF",
         "type": "bar",
         "x": [
          0,
          1,
          2,
          3,
          4,
          5,
          6,
          7,
          8,
          9,
          10,
          11,
          12,
          13,
          14,
          15,
          16,
          17,
          18,
          19,
          20,
          21,
          22,
          23,
          24,
          25,
          26,
          27,
          28,
          29,
          30,
          31,
          32,
          33,
          34,
          35,
          36,
          37,
          38,
          39,
          40
         ],
         "y": [
          1,
          -0.2714058814607783,
          -0.010272228742413682,
          0.03584517902971974,
          -0.000689605887565331,
          -0.015247084676454461,
          0.017100940441808803,
          0.0049077912951118975,
          -0.01682802796140171,
          -0.04074897905160686,
          -0.06958426393900448,
          -0.04622927469332026,
          -0.04610115696619545,
          -0.04984249757787144,
          -0.035981521151055726,
          -0.015663933812060302,
          -0.033342484890512496,
          -0.03724840716953909,
          -0.030131788773022163,
          -0.023465498209154553,
          -0.0037803911589364067,
          -0.00580730756557834,
          -0.008946210840577997,
          -0.023365614597670482,
          -0.07746157472574673,
          0.0025190035827619157,
          0.06158144907644076,
          -0.0021681878793483058,
          0.010461814813296407,
          0.006641090990473529,
          0.01765416442195622,
          0.014912036398254972,
          0.0285319231129089,
          -0.0036962916530633326,
          -0.07470836607386751,
          -0.07423206348628476,
          -0.014120132192694014,
          -0.014447423710030126,
          -0.006455184047035064,
          0.04202014201273768,
          0.03530671483990065
         ]
        }
       ],
       "layout": {
        "height": 400,
        "template": {
         "data": {
          "bar": [
           {
            "error_x": {
             "color": "#2a3f5f"
            },
            "error_y": {
             "color": "#2a3f5f"
            },
            "marker": {
             "line": {
              "color": "#E5ECF6",
              "width": 0.5
             },
             "pattern": {
              "fillmode": "overlay",
              "size": 10,
              "solidity": 0.2
             }
            },
            "type": "bar"
           }
          ],
          "barpolar": [
           {
            "marker": {
             "line": {
              "color": "#E5ECF6",
              "width": 0.5
             },
             "pattern": {
              "fillmode": "overlay",
              "size": 10,
              "solidity": 0.2
             }
            },
            "type": "barpolar"
           }
          ],
          "carpet": [
           {
            "aaxis": {
             "endlinecolor": "#2a3f5f",
             "gridcolor": "white",
             "linecolor": "white",
             "minorgridcolor": "white",
             "startlinecolor": "#2a3f5f"
            },
            "baxis": {
             "endlinecolor": "#2a3f5f",
             "gridcolor": "white",
             "linecolor": "white",
             "minorgridcolor": "white",
             "startlinecolor": "#2a3f5f"
            },
            "type": "carpet"
           }
          ],
          "choropleth": [
           {
            "colorbar": {
             "outlinewidth": 0,
             "ticks": ""
            },
            "type": "choropleth"
           }
          ],
          "contour": [
           {
            "colorbar": {
             "outlinewidth": 0,
             "ticks": ""
            },
            "colorscale": [
             [
              0,
              "#0d0887"
             ],
             [
              0.1111111111111111,
              "#46039f"
             ],
             [
              0.2222222222222222,
              "#7201a8"
             ],
             [
              0.3333333333333333,
              "#9c179e"
             ],
             [
              0.4444444444444444,
              "#bd3786"
             ],
             [
              0.5555555555555556,
              "#d8576b"
             ],
             [
              0.6666666666666666,
              "#ed7953"
             ],
             [
              0.7777777777777778,
              "#fb9f3a"
             ],
             [
              0.8888888888888888,
              "#fdca26"
             ],
             [
              1,
              "#f0f921"
             ]
            ],
            "type": "contour"
           }
          ],
          "contourcarpet": [
           {
            "colorbar": {
             "outlinewidth": 0,
             "ticks": ""
            },
            "type": "contourcarpet"
           }
          ],
          "heatmap": [
           {
            "colorbar": {
             "outlinewidth": 0,
             "ticks": ""
            },
            "colorscale": [
             [
              0,
              "#0d0887"
             ],
             [
              0.1111111111111111,
              "#46039f"
             ],
             [
              0.2222222222222222,
              "#7201a8"
             ],
             [
              0.3333333333333333,
              "#9c179e"
             ],
             [
              0.4444444444444444,
              "#bd3786"
             ],
             [
              0.5555555555555556,
              "#d8576b"
             ],
             [
              0.6666666666666666,
              "#ed7953"
             ],
             [
              0.7777777777777778,
              "#fb9f3a"
             ],
             [
              0.8888888888888888,
              "#fdca26"
             ],
             [
              1,
              "#f0f921"
             ]
            ],
            "type": "heatmap"
           }
          ],
          "heatmapgl": [
           {
            "colorbar": {
             "outlinewidth": 0,
             "ticks": ""
            },
            "colorscale": [
             [
              0,
              "#0d0887"
             ],
             [
              0.1111111111111111,
              "#46039f"
             ],
             [
              0.2222222222222222,
              "#7201a8"
             ],
             [
              0.3333333333333333,
              "#9c179e"
             ],
             [
              0.4444444444444444,
              "#bd3786"
             ],
             [
              0.5555555555555556,
              "#d8576b"
             ],
             [
              0.6666666666666666,
              "#ed7953"
             ],
             [
              0.7777777777777778,
              "#fb9f3a"
             ],
             [
              0.8888888888888888,
              "#fdca26"
             ],
             [
              1,
              "#f0f921"
             ]
            ],
            "type": "heatmapgl"
           }
          ],
          "histogram": [
           {
            "marker": {
             "pattern": {
              "fillmode": "overlay",
              "size": 10,
              "solidity": 0.2
             }
            },
            "type": "histogram"
           }
          ],
          "histogram2d": [
           {
            "colorbar": {
             "outlinewidth": 0,
             "ticks": ""
            },
            "colorscale": [
             [
              0,
              "#0d0887"
             ],
             [
              0.1111111111111111,
              "#46039f"
             ],
             [
              0.2222222222222222,
              "#7201a8"
             ],
             [
              0.3333333333333333,
              "#9c179e"
             ],
             [
              0.4444444444444444,
              "#bd3786"
             ],
             [
              0.5555555555555556,
              "#d8576b"
             ],
             [
              0.6666666666666666,
              "#ed7953"
             ],
             [
              0.7777777777777778,
              "#fb9f3a"
             ],
             [
              0.8888888888888888,
              "#fdca26"
             ],
             [
              1,
              "#f0f921"
             ]
            ],
            "type": "histogram2d"
           }
          ],
          "histogram2dcontour": [
           {
            "colorbar": {
             "outlinewidth": 0,
             "ticks": ""
            },
            "colorscale": [
             [
              0,
              "#0d0887"
             ],
             [
              0.1111111111111111,
              "#46039f"
             ],
             [
              0.2222222222222222,
              "#7201a8"
             ],
             [
              0.3333333333333333,
              "#9c179e"
             ],
             [
              0.4444444444444444,
              "#bd3786"
             ],
             [
              0.5555555555555556,
              "#d8576b"
             ],
             [
              0.6666666666666666,
              "#ed7953"
             ],
             [
              0.7777777777777778,
              "#fb9f3a"
             ],
             [
              0.8888888888888888,
              "#fdca26"
             ],
             [
              1,
              "#f0f921"
             ]
            ],
            "type": "histogram2dcontour"
           }
          ],
          "mesh3d": [
           {
            "colorbar": {
             "outlinewidth": 0,
             "ticks": ""
            },
            "type": "mesh3d"
           }
          ],
          "parcoords": [
           {
            "line": {
             "colorbar": {
              "outlinewidth": 0,
              "ticks": ""
             }
            },
            "type": "parcoords"
           }
          ],
          "pie": [
           {
            "automargin": true,
            "type": "pie"
           }
          ],
          "scatter": [
           {
            "fillpattern": {
             "fillmode": "overlay",
             "size": 10,
             "solidity": 0.2
            },
            "type": "scatter"
           }
          ],
          "scatter3d": [
           {
            "line": {
             "colorbar": {
              "outlinewidth": 0,
              "ticks": ""
             }
            },
            "marker": {
             "colorbar": {
              "outlinewidth": 0,
              "ticks": ""
             }
            },
            "type": "scatter3d"
           }
          ],
          "scattercarpet": [
           {
            "marker": {
             "colorbar": {
              "outlinewidth": 0,
              "ticks": ""
             }
            },
            "type": "scattercarpet"
           }
          ],
          "scattergeo": [
           {
            "marker": {
             "colorbar": {
              "outlinewidth": 0,
              "ticks": ""
             }
            },
            "type": "scattergeo"
           }
          ],
          "scattergl": [
           {
            "marker": {
             "colorbar": {
              "outlinewidth": 0,
              "ticks": ""
             }
            },
            "type": "scattergl"
           }
          ],
          "scattermapbox": [
           {
            "marker": {
             "colorbar": {
              "outlinewidth": 0,
              "ticks": ""
             }
            },
            "type": "scattermapbox"
           }
          ],
          "scatterpolar": [
           {
            "marker": {
             "colorbar": {
              "outlinewidth": 0,
              "ticks": ""
             }
            },
            "type": "scatterpolar"
           }
          ],
          "scatterpolargl": [
           {
            "marker": {
             "colorbar": {
              "outlinewidth": 0,
              "ticks": ""
             }
            },
            "type": "scatterpolargl"
           }
          ],
          "scatterternary": [
           {
            "marker": {
             "colorbar": {
              "outlinewidth": 0,
              "ticks": ""
             }
            },
            "type": "scatterternary"
           }
          ],
          "surface": [
           {
            "colorbar": {
             "outlinewidth": 0,
             "ticks": ""
            },
            "colorscale": [
             [
              0,
              "#0d0887"
             ],
             [
              0.1111111111111111,
              "#46039f"
             ],
             [
              0.2222222222222222,
              "#7201a8"
             ],
             [
              0.3333333333333333,
              "#9c179e"
             ],
             [
              0.4444444444444444,
              "#bd3786"
             ],
             [
              0.5555555555555556,
              "#d8576b"
             ],
             [
              0.6666666666666666,
              "#ed7953"
             ],
             [
              0.7777777777777778,
              "#fb9f3a"
             ],
             [
              0.8888888888888888,
              "#fdca26"
             ],
             [
              1,
              "#f0f921"
             ]
            ],
            "type": "surface"
           }
          ],
          "table": [
           {
            "cells": {
             "fill": {
              "color": "#EBF0F8"
             },
             "line": {
              "color": "white"
             }
            },
            "header": {
             "fill": {
              "color": "#C8D4E3"
             },
             "line": {
              "color": "white"
             }
            },
            "type": "table"
           }
          ]
         },
         "layout": {
          "annotationdefaults": {
           "arrowcolor": "#2a3f5f",
           "arrowhead": 0,
           "arrowwidth": 1
          },
          "autotypenumbers": "strict",
          "coloraxis": {
           "colorbar": {
            "outlinewidth": 0,
            "ticks": ""
           }
          },
          "colorscale": {
           "diverging": [
            [
             0,
             "#8e0152"
            ],
            [
             0.1,
             "#c51b7d"
            ],
            [
             0.2,
             "#de77ae"
            ],
            [
             0.3,
             "#f1b6da"
            ],
            [
             0.4,
             "#fde0ef"
            ],
            [
             0.5,
             "#f7f7f7"
            ],
            [
             0.6,
             "#e6f5d0"
            ],
            [
             0.7,
             "#b8e186"
            ],
            [
             0.8,
             "#7fbc41"
            ],
            [
             0.9,
             "#4d9221"
            ],
            [
             1,
             "#276419"
            ]
           ],
           "sequential": [
            [
             0,
             "#0d0887"
            ],
            [
             0.1111111111111111,
             "#46039f"
            ],
            [
             0.2222222222222222,
             "#7201a8"
            ],
            [
             0.3333333333333333,
             "#9c179e"
            ],
            [
             0.4444444444444444,
             "#bd3786"
            ],
            [
             0.5555555555555556,
             "#d8576b"
            ],
            [
             0.6666666666666666,
             "#ed7953"
            ],
            [
             0.7777777777777778,
             "#fb9f3a"
            ],
            [
             0.8888888888888888,
             "#fdca26"
            ],
            [
             1,
             "#f0f921"
            ]
           ],
           "sequentialminus": [
            [
             0,
             "#0d0887"
            ],
            [
             0.1111111111111111,
             "#46039f"
            ],
            [
             0.2222222222222222,
             "#7201a8"
            ],
            [
             0.3333333333333333,
             "#9c179e"
            ],
            [
             0.4444444444444444,
             "#bd3786"
            ],
            [
             0.5555555555555556,
             "#d8576b"
            ],
            [
             0.6666666666666666,
             "#ed7953"
            ],
            [
             0.7777777777777778,
             "#fb9f3a"
            ],
            [
             0.8888888888888888,
             "#fdca26"
            ],
            [
             1,
             "#f0f921"
            ]
           ]
          },
          "colorway": [
           "#636efa",
           "#EF553B",
           "#00cc96",
           "#ab63fa",
           "#FFA15A",
           "#19d3f3",
           "#FF6692",
           "#B6E880",
           "#FF97FF",
           "#FECB52"
          ],
          "font": {
           "color": "#2a3f5f"
          },
          "geo": {
           "bgcolor": "white",
           "lakecolor": "white",
           "landcolor": "#E5ECF6",
           "showlakes": true,
           "showland": true,
           "subunitcolor": "white"
          },
          "hoverlabel": {
           "align": "left"
          },
          "hovermode": "closest",
          "mapbox": {
           "style": "light"
          },
          "paper_bgcolor": "white",
          "plot_bgcolor": "#E5ECF6",
          "polar": {
           "angularaxis": {
            "gridcolor": "white",
            "linecolor": "white",
            "ticks": ""
           },
           "bgcolor": "#E5ECF6",
           "radialaxis": {
            "gridcolor": "white",
            "linecolor": "white",
            "ticks": ""
           }
          },
          "scene": {
           "xaxis": {
            "backgroundcolor": "#E5ECF6",
            "gridcolor": "white",
            "gridwidth": 2,
            "linecolor": "white",
            "showbackground": true,
            "ticks": "",
            "zerolinecolor": "white"
           },
           "yaxis": {
            "backgroundcolor": "#E5ECF6",
            "gridcolor": "white",
            "gridwidth": 2,
            "linecolor": "white",
            "showbackground": true,
            "ticks": "",
            "zerolinecolor": "white"
           },
           "zaxis": {
            "backgroundcolor": "#E5ECF6",
            "gridcolor": "white",
            "gridwidth": 2,
            "linecolor": "white",
            "showbackground": true,
            "ticks": "",
            "zerolinecolor": "white"
           }
          },
          "shapedefaults": {
           "line": {
            "color": "#2a3f5f"
           }
          },
          "ternary": {
           "aaxis": {
            "gridcolor": "white",
            "linecolor": "white",
            "ticks": ""
           },
           "baxis": {
            "gridcolor": "white",
            "linecolor": "white",
            "ticks": ""
           },
           "bgcolor": "#E5ECF6",
           "caxis": {
            "gridcolor": "white",
            "linecolor": "white",
            "ticks": ""
           }
          },
          "title": {
           "x": 0.05
          },
          "xaxis": {
           "automargin": true,
           "gridcolor": "white",
           "linecolor": "white",
           "ticks": "",
           "title": {
            "standoff": 15
           },
           "zerolinecolor": "white",
           "zerolinewidth": 2
          },
          "yaxis": {
           "automargin": true,
           "gridcolor": "white",
           "linecolor": "white",
           "ticks": "",
           "title": {
            "standoff": 15
           },
           "zerolinecolor": "white",
           "zerolinewidth": 2
          }
         }
        },
        "title": {
         "text": "PACF (Partial Autocorrelation Function) - unemp_wins_diff"
        },
        "width": 700,
        "xaxis": {
         "title": {
          "text": "Lags"
         }
        },
        "yaxis": {
         "title": {
          "text": "PACF"
         }
        }
       }
      }
     },
     "metadata": {},
     "output_type": "display_data"
    }
   ],
   "source": [
    "unemp_diff_series = stat_model_df['unemp_wins_diff']\n",
    "\n",
    "acf_values = acf(unemp_diff_series, nlags=40)\n",
    "pacf_values = pacf(unemp_diff_series, nlags=40, method='ywm')\n",
    "\n",
    "acf_plot = go.Figure()\n",
    "acf_plot.add_trace(go.Bar(x=list(range(len(acf_values))), y=acf_values, name='ACF'))\n",
    "acf_plot.update_layout(\n",
    "    title='ACF (Autocorrelation Function) - unemp_wins',\n",
    "    xaxis_title='Lags',\n",
    "    yaxis_title='ACF',\n",
    "    width=700, height=400\n",
    ")\n",
    "\n",
    "pacf_plot = go.Figure()\n",
    "pacf_plot.add_trace(go.Bar(x=list(range(len(pacf_values))), y=pacf_values, name='PACF'))\n",
    "pacf_plot.update_layout(\n",
    "    title='PACF (Partial Autocorrelation Function) - unemp_wins_diff',\n",
    "    xaxis_title='Lags',\n",
    "    yaxis_title='PACF',\n",
    "    width=700, height=400\n",
    ")\n",
    "\n",
    "# Show plots\n",
    "acf_plot.show()\n",
    "pacf_plot.show()"
   ]
  },
  {
   "cell_type": "markdown",
   "id": "18bd07cc",
   "metadata": {},
   "source": [
    "Based on the cuttofs from the two plots, I will use q = 1 and p = 1 for the two orders. Also, the seasonal_order parameter is not necessary, based on the ACF, so there is no clear repeating pattern at regular intervals. I will set the order of differenciation to 1 (d = 1) because I've manually stationarized the unemp_wins variable"
   ]
  },
  {
   "cell_type": "code",
   "execution_count": 28,
   "id": "58bac0d0",
   "metadata": {},
   "outputs": [],
   "source": [
    "sarimax_model = sm.tsa.SARIMAX(\n",
    "    y_train_stat, \n",
    "    exog=X_train_stat, \n",
    "    order=(1, 0, 1), \n",
    "    enforce_stationarity=False, \n",
    "    enforce_invertibility=False\n",
    ")\n",
    "sarimax_result = sarimax_model.fit(disp=False)\n",
    "\n",
    "sarimax_forecast = sarimax_result.forecast(\n",
    "    steps=len(y_val_stat), \n",
    "    exog=X_val_stat\n",
    ")\n",
    "\n",
    "mae = mean_absolute_error(y_val_stat, sarimax_forecast)\n",
    "mse = mean_squared_error(y_val_stat, sarimax_forecast)\n",
    "rmse = np.sqrt(mse)\n",
    "\n",
    "sarimax_performance = pd.DataFrame({\n",
    "    'Model': ['SARIMAX(1, 0, 1)'],\n",
    "    'MAE': [mae],\n",
    "    'MSE': [mse],\n",
    "    'RMSE': [rmse]\n",
    "})"
   ]
  },
  {
   "cell_type": "code",
   "execution_count": 29,
   "id": "6878d782",
   "metadata": {},
   "outputs": [
    {
     "data": {
      "text/html": [
       "<div>\n",
       "<style scoped>\n",
       "    .dataframe tbody tr th:only-of-type {\n",
       "        vertical-align: middle;\n",
       "    }\n",
       "\n",
       "    .dataframe tbody tr th {\n",
       "        vertical-align: top;\n",
       "    }\n",
       "\n",
       "    .dataframe thead th {\n",
       "        text-align: right;\n",
       "    }\n",
       "</style>\n",
       "<table border=\"1\" class=\"dataframe\">\n",
       "  <thead>\n",
       "    <tr style=\"text-align: right;\">\n",
       "      <th></th>\n",
       "      <th>Model</th>\n",
       "      <th>MAE</th>\n",
       "      <th>MSE</th>\n",
       "      <th>RMSE</th>\n",
       "    </tr>\n",
       "  </thead>\n",
       "  <tbody>\n",
       "    <tr>\n",
       "      <th>0</th>\n",
       "      <td>SARIMAX(1, 0, 1)</td>\n",
       "      <td>0.268592</td>\n",
       "      <td>0.123494</td>\n",
       "      <td>0.351417</td>\n",
       "    </tr>\n",
       "  </tbody>\n",
       "</table>\n",
       "</div>"
      ],
      "text/plain": [
       "              Model       MAE       MSE      RMSE\n",
       "0  SARIMAX(1, 0, 1)  0.268592  0.123494  0.351417"
      ]
     },
     "execution_count": 29,
     "metadata": {},
     "output_type": "execute_result"
    }
   ],
   "source": [
    "sarimax_performance"
   ]
  },
  {
   "cell_type": "code",
   "execution_count": 30,
   "id": "8483cf7a",
   "metadata": {},
   "outputs": [
    {
     "data": {
      "application/vnd.plotly.v1+json": {
       "config": {
        "plotlyServerURL": "https://plot.ly"
       },
       "data": [
        {
         "mode": "lines",
         "name": "Training Data",
         "type": "scatter",
         "x": [
          "1960-01-01T00:00:00",
          "1960-04-01T00:00:00",
          "1960-07-01T00:00:00",
          "1960-10-01T00:00:00",
          "1961-01-01T00:00:00",
          "1961-04-01T00:00:00",
          "1961-07-01T00:00:00",
          "1961-10-01T00:00:00",
          "1962-01-01T00:00:00",
          "1962-04-01T00:00:00",
          "1962-07-01T00:00:00",
          "1962-10-01T00:00:00",
          "1963-01-01T00:00:00",
          "1963-04-01T00:00:00",
          "1963-07-01T00:00:00",
          "1963-10-01T00:00:00",
          "1964-01-01T00:00:00",
          "1964-04-01T00:00:00",
          "1964-07-01T00:00:00",
          "1964-10-01T00:00:00",
          "1965-01-01T00:00:00",
          "1965-04-01T00:00:00",
          "1965-07-01T00:00:00",
          "1965-10-01T00:00:00",
          "1966-01-01T00:00:00",
          "1966-04-01T00:00:00",
          "1966-07-01T00:00:00",
          "1966-10-01T00:00:00",
          "1967-01-01T00:00:00",
          "1967-04-01T00:00:00",
          "1967-07-01T00:00:00",
          "1967-10-01T00:00:00",
          "1968-01-01T00:00:00",
          "1968-04-01T00:00:00",
          "1968-07-01T00:00:00",
          "1968-10-01T00:00:00",
          "1969-01-01T00:00:00",
          "1969-04-01T00:00:00",
          "1969-07-01T00:00:00",
          "1969-10-01T00:00:00",
          "1970-01-01T00:00:00",
          "1970-04-01T00:00:00",
          "1970-07-01T00:00:00",
          "1970-10-01T00:00:00",
          "1971-01-01T00:00:00",
          "1971-04-01T00:00:00",
          "1971-07-01T00:00:00",
          "1971-10-01T00:00:00",
          "1972-01-01T00:00:00",
          "1972-04-01T00:00:00",
          "1972-07-01T00:00:00",
          "1972-10-01T00:00:00",
          "1973-01-01T00:00:00",
          "1973-04-01T00:00:00",
          "1973-07-01T00:00:00",
          "1973-10-01T00:00:00",
          "1974-01-01T00:00:00",
          "1974-04-01T00:00:00",
          "1974-07-01T00:00:00",
          "1974-10-01T00:00:00",
          "1975-01-01T00:00:00",
          "1975-04-01T00:00:00",
          "1975-07-01T00:00:00",
          "1975-10-01T00:00:00",
          "1976-01-01T00:00:00",
          "1976-04-01T00:00:00",
          "1976-07-01T00:00:00",
          "1976-10-01T00:00:00",
          "1977-01-01T00:00:00",
          "1977-04-01T00:00:00",
          "1977-07-01T00:00:00",
          "1977-10-01T00:00:00",
          "1978-01-01T00:00:00",
          "1978-04-01T00:00:00",
          "1978-07-01T00:00:00",
          "1978-10-01T00:00:00",
          "1979-01-01T00:00:00",
          "1979-04-01T00:00:00",
          "1979-07-01T00:00:00",
          "1979-10-01T00:00:00",
          "1980-01-01T00:00:00",
          "1980-04-01T00:00:00",
          "1980-07-01T00:00:00",
          "1980-10-01T00:00:00",
          "1981-01-01T00:00:00",
          "1981-04-01T00:00:00",
          "1981-07-01T00:00:00",
          "1981-10-01T00:00:00",
          "1982-01-01T00:00:00",
          "1982-04-01T00:00:00",
          "1982-07-01T00:00:00",
          "1982-10-01T00:00:00",
          "1983-01-01T00:00:00",
          "1983-04-01T00:00:00",
          "1983-07-01T00:00:00",
          "1983-10-01T00:00:00",
          "1984-01-01T00:00:00",
          "1984-04-01T00:00:00",
          "1984-07-01T00:00:00",
          "1984-10-01T00:00:00",
          "1985-01-01T00:00:00",
          "1985-04-01T00:00:00",
          "1985-07-01T00:00:00",
          "1985-10-01T00:00:00",
          "1986-01-01T00:00:00",
          "1986-04-01T00:00:00",
          "1986-07-01T00:00:00",
          "1986-10-01T00:00:00",
          "1987-01-01T00:00:00",
          "1987-04-01T00:00:00",
          "1987-07-01T00:00:00",
          "1987-10-01T00:00:00",
          "1988-01-01T00:00:00",
          "1988-04-01T00:00:00",
          "1988-07-01T00:00:00",
          "1988-10-01T00:00:00",
          "1989-01-01T00:00:00",
          "1989-04-01T00:00:00",
          "1989-07-01T00:00:00",
          "1989-10-01T00:00:00",
          "1990-01-01T00:00:00",
          "1990-04-01T00:00:00",
          "1990-07-01T00:00:00",
          "1990-10-01T00:00:00",
          "1991-01-01T00:00:00",
          "1991-04-01T00:00:00",
          "1991-07-01T00:00:00",
          "1991-10-01T00:00:00",
          "1992-01-01T00:00:00",
          "1992-04-01T00:00:00",
          "1992-07-01T00:00:00",
          "1992-10-01T00:00:00",
          "1993-01-01T00:00:00",
          "1993-04-01T00:00:00",
          "1993-07-01T00:00:00",
          "1993-10-01T00:00:00",
          "1994-01-01T00:00:00",
          "1994-04-01T00:00:00",
          "1994-07-01T00:00:00",
          "1994-10-01T00:00:00",
          "1995-01-01T00:00:00",
          "1995-04-01T00:00:00",
          "1995-07-01T00:00:00",
          "1995-10-01T00:00:00",
          "1996-01-01T00:00:00",
          "1996-04-01T00:00:00",
          "1996-07-01T00:00:00",
          "1996-10-01T00:00:00",
          "1997-01-01T00:00:00",
          "1997-04-01T00:00:00",
          "1997-07-01T00:00:00",
          "1997-10-01T00:00:00",
          "1998-01-01T00:00:00",
          "1998-04-01T00:00:00",
          "1998-07-01T00:00:00",
          "1998-10-01T00:00:00",
          "1999-01-01T00:00:00",
          "1999-04-01T00:00:00",
          "1999-07-01T00:00:00",
          "1999-10-01T00:00:00",
          "2000-01-01T00:00:00",
          "2000-04-01T00:00:00",
          "2000-07-01T00:00:00",
          "2000-10-01T00:00:00",
          "2001-01-01T00:00:00",
          "2001-04-01T00:00:00",
          "2001-07-01T00:00:00",
          "2001-10-01T00:00:00",
          "2002-01-01T00:00:00",
          "2002-04-01T00:00:00",
          "2002-07-01T00:00:00",
          "2002-10-01T00:00:00",
          "2003-01-01T00:00:00",
          "2003-04-01T00:00:00",
          "2003-07-01T00:00:00",
          "2003-10-01T00:00:00",
          "2004-01-01T00:00:00",
          "2004-04-01T00:00:00",
          "2004-07-01T00:00:00",
          "2004-10-01T00:00:00",
          "2005-01-01T00:00:00"
         ],
         "y": [
          5.8,
          5.1,
          5.3,
          5.6,
          5.2,
          5.2,
          5.6,
          6.3,
          6.8,
          7,
          6.8,
          6.2,
          5.6,
          5.5,
          5.6,
          5.5,
          5.8,
          5.7,
          5.5,
          5.6,
          5.5,
          5.2,
          5,
          5,
          4.9,
          4.7,
          4.4,
          4.1,
          3.9,
          3.8,
          3.8,
          3.8,
          3.8,
          3.8,
          3.8,
          3.9,
          3.8,
          3.8,
          3.8,
          8.9,
          3.8,
          3.8,
          3.8,
          3.8,
          4.2,
          4.8,
          5.2,
          5.8,
          5.9,
          5.9,
          6,
          6,
          5.8,
          5.7,
          5.6,
          5.3,
          5,
          4.9,
          4.8,
          4.8,
          5.1,
          5.2,
          5.6,
          6.6,
          8.2,
          8.9,
          8.5,
          8.3,
          7.7,
          7.6,
          7.7,
          7.8,
          7.5,
          7.1,
          6.9,
          6.6,
          6.3,
          6,
          6,
          5.9,
          5.9,
          5.7,
          5.9,
          5.9,
          6.3,
          7.3,
          7.7,
          7.4,
          7.4,
          7.4,
          7.4,
          8.2,
          8.8,
          8.9,
          8.9,
          8.9,
          8.9,
          8.9,
          8.9,
          8.5,
          7.9,
          7.5,
          7.4,
          7.3,
          7.3,
          7.3,
          7.2,
          7,
          7,
          7.2,
          7,
          6.8,
          6.6,
          6.3,
          6,
          5.9,
          5.7,
          5.5,
          5.5,
          5.3,
          5.2,
          5.2,
          5.3,
          5.4,
          5.3,
          5.3,
          5.7,
          6.1,
          6.6,
          6.8,
          6.9,
          7.1,
          7.4,
          7.6,
          7.6,
          7.4,
          7.2,
          7.1,
          6.8,
          6.6,
          6.6,
          6.2,
          6,
          5.6,
          5.5,
          5.7,
          5.7,
          5.6,
          5.5,
          5.5,
          5.3,
          8.9,
          5.2,
          5,
          4.9,
          4.7,
          4.6,
          4.4,
          4.5,
          4.4,
          4.3,
          4.3,
          4.2,
          4.1,
          4,
          3.9,
          4,
          3.9,
          4.2,
          4.4,
          4.8,
          5.5,
          5.7,
          5.8,
          5.7,
          5.8,
          5.9,
          6.2,
          6.1,
          5.8,
          5.7,
          5.6,
          5.4,
          5.4,
          5.3
         ]
        },
        {
         "mode": "lines",
         "name": "Validation Data",
         "type": "scatter",
         "x": [
          "2005-04-01T00:00:00",
          "2005-07-01T00:00:00",
          "2005-10-01T00:00:00",
          "2006-01-01T00:00:00",
          "2006-04-01T00:00:00",
          "2006-07-01T00:00:00",
          "2006-10-01T00:00:00",
          "2007-01-01T00:00:00",
          "2007-04-01T00:00:00",
          "2007-07-01T00:00:00",
          "2007-10-01T00:00:00",
          "2008-01-01T00:00:00",
          "2008-04-01T00:00:00",
          "2008-07-01T00:00:00",
          "2008-10-01T00:00:00",
          "2009-01-01T00:00:00",
          "2009-04-01T00:00:00",
          "2009-07-01T00:00:00"
         ],
         "y": [
          5.1,
          5,
          4.9,
          4.7,
          4.7,
          4.7,
          4.4,
          4.5,
          4.5,
          4.7,
          4.8,
          4.9,
          5.4,
          6,
          6.9,
          8.1,
          8.9,
          8.9
         ]
        },
        {
         "line": {
          "dash": "dot"
         },
         "mode": "lines",
         "name": "Predictions",
         "type": "scatter",
         "x": [
          "2005-04-01T00:00:00",
          "2005-07-01T00:00:00",
          "2005-10-01T00:00:00",
          "2006-01-01T00:00:00",
          "2006-04-01T00:00:00",
          "2006-07-01T00:00:00",
          "2006-10-01T00:00:00",
          "2007-01-01T00:00:00",
          "2007-04-01T00:00:00",
          "2007-07-01T00:00:00",
          "2007-10-01T00:00:00",
          "2008-01-01T00:00:00",
          "2008-04-01T00:00:00",
          "2008-07-01T00:00:00",
          "2008-10-01T00:00:00",
          "2009-01-01T00:00:00",
          "2009-04-01T00:00:00",
          "2009-07-01T00:00:00"
         ],
         "y": [
          5.060713618050929,
          4.95538093482447,
          4.9949632403496125,
          4.633835874876712,
          4.485016263847948,
          4.977897311003549,
          4.8554771699001344,
          4.698630042061533,
          4.501055357723184,
          4.17504106072873,
          4.113175091219997,
          4.2255014415627965,
          3.967785454852807,
          4.45928640741283,
          5.447447152269591,
          5.952541369053142,
          6.220630565361588,
          5.886401245367038
         ]
        }
       ],
       "layout": {
        "height": 400,
        "template": {
         "data": {
          "bar": [
           {
            "error_x": {
             "color": "#2a3f5f"
            },
            "error_y": {
             "color": "#2a3f5f"
            },
            "marker": {
             "line": {
              "color": "white",
              "width": 0.5
             },
             "pattern": {
              "fillmode": "overlay",
              "size": 10,
              "solidity": 0.2
             }
            },
            "type": "bar"
           }
          ],
          "barpolar": [
           {
            "marker": {
             "line": {
              "color": "white",
              "width": 0.5
             },
             "pattern": {
              "fillmode": "overlay",
              "size": 10,
              "solidity": 0.2
             }
            },
            "type": "barpolar"
           }
          ],
          "carpet": [
           {
            "aaxis": {
             "endlinecolor": "#2a3f5f",
             "gridcolor": "#C8D4E3",
             "linecolor": "#C8D4E3",
             "minorgridcolor": "#C8D4E3",
             "startlinecolor": "#2a3f5f"
            },
            "baxis": {
             "endlinecolor": "#2a3f5f",
             "gridcolor": "#C8D4E3",
             "linecolor": "#C8D4E3",
             "minorgridcolor": "#C8D4E3",
             "startlinecolor": "#2a3f5f"
            },
            "type": "carpet"
           }
          ],
          "choropleth": [
           {
            "colorbar": {
             "outlinewidth": 0,
             "ticks": ""
            },
            "type": "choropleth"
           }
          ],
          "contour": [
           {
            "colorbar": {
             "outlinewidth": 0,
             "ticks": ""
            },
            "colorscale": [
             [
              0,
              "#0d0887"
             ],
             [
              0.1111111111111111,
              "#46039f"
             ],
             [
              0.2222222222222222,
              "#7201a8"
             ],
             [
              0.3333333333333333,
              "#9c179e"
             ],
             [
              0.4444444444444444,
              "#bd3786"
             ],
             [
              0.5555555555555556,
              "#d8576b"
             ],
             [
              0.6666666666666666,
              "#ed7953"
             ],
             [
              0.7777777777777778,
              "#fb9f3a"
             ],
             [
              0.8888888888888888,
              "#fdca26"
             ],
             [
              1,
              "#f0f921"
             ]
            ],
            "type": "contour"
           }
          ],
          "contourcarpet": [
           {
            "colorbar": {
             "outlinewidth": 0,
             "ticks": ""
            },
            "type": "contourcarpet"
           }
          ],
          "heatmap": [
           {
            "colorbar": {
             "outlinewidth": 0,
             "ticks": ""
            },
            "colorscale": [
             [
              0,
              "#0d0887"
             ],
             [
              0.1111111111111111,
              "#46039f"
             ],
             [
              0.2222222222222222,
              "#7201a8"
             ],
             [
              0.3333333333333333,
              "#9c179e"
             ],
             [
              0.4444444444444444,
              "#bd3786"
             ],
             [
              0.5555555555555556,
              "#d8576b"
             ],
             [
              0.6666666666666666,
              "#ed7953"
             ],
             [
              0.7777777777777778,
              "#fb9f3a"
             ],
             [
              0.8888888888888888,
              "#fdca26"
             ],
             [
              1,
              "#f0f921"
             ]
            ],
            "type": "heatmap"
           }
          ],
          "heatmapgl": [
           {
            "colorbar": {
             "outlinewidth": 0,
             "ticks": ""
            },
            "colorscale": [
             [
              0,
              "#0d0887"
             ],
             [
              0.1111111111111111,
              "#46039f"
             ],
             [
              0.2222222222222222,
              "#7201a8"
             ],
             [
              0.3333333333333333,
              "#9c179e"
             ],
             [
              0.4444444444444444,
              "#bd3786"
             ],
             [
              0.5555555555555556,
              "#d8576b"
             ],
             [
              0.6666666666666666,
              "#ed7953"
             ],
             [
              0.7777777777777778,
              "#fb9f3a"
             ],
             [
              0.8888888888888888,
              "#fdca26"
             ],
             [
              1,
              "#f0f921"
             ]
            ],
            "type": "heatmapgl"
           }
          ],
          "histogram": [
           {
            "marker": {
             "pattern": {
              "fillmode": "overlay",
              "size": 10,
              "solidity": 0.2
             }
            },
            "type": "histogram"
           }
          ],
          "histogram2d": [
           {
            "colorbar": {
             "outlinewidth": 0,
             "ticks": ""
            },
            "colorscale": [
             [
              0,
              "#0d0887"
             ],
             [
              0.1111111111111111,
              "#46039f"
             ],
             [
              0.2222222222222222,
              "#7201a8"
             ],
             [
              0.3333333333333333,
              "#9c179e"
             ],
             [
              0.4444444444444444,
              "#bd3786"
             ],
             [
              0.5555555555555556,
              "#d8576b"
             ],
             [
              0.6666666666666666,
              "#ed7953"
             ],
             [
              0.7777777777777778,
              "#fb9f3a"
             ],
             [
              0.8888888888888888,
              "#fdca26"
             ],
             [
              1,
              "#f0f921"
             ]
            ],
            "type": "histogram2d"
           }
          ],
          "histogram2dcontour": [
           {
            "colorbar": {
             "outlinewidth": 0,
             "ticks": ""
            },
            "colorscale": [
             [
              0,
              "#0d0887"
             ],
             [
              0.1111111111111111,
              "#46039f"
             ],
             [
              0.2222222222222222,
              "#7201a8"
             ],
             [
              0.3333333333333333,
              "#9c179e"
             ],
             [
              0.4444444444444444,
              "#bd3786"
             ],
             [
              0.5555555555555556,
              "#d8576b"
             ],
             [
              0.6666666666666666,
              "#ed7953"
             ],
             [
              0.7777777777777778,
              "#fb9f3a"
             ],
             [
              0.8888888888888888,
              "#fdca26"
             ],
             [
              1,
              "#f0f921"
             ]
            ],
            "type": "histogram2dcontour"
           }
          ],
          "mesh3d": [
           {
            "colorbar": {
             "outlinewidth": 0,
             "ticks": ""
            },
            "type": "mesh3d"
           }
          ],
          "parcoords": [
           {
            "line": {
             "colorbar": {
              "outlinewidth": 0,
              "ticks": ""
             }
            },
            "type": "parcoords"
           }
          ],
          "pie": [
           {
            "automargin": true,
            "type": "pie"
           }
          ],
          "scatter": [
           {
            "fillpattern": {
             "fillmode": "overlay",
             "size": 10,
             "solidity": 0.2
            },
            "type": "scatter"
           }
          ],
          "scatter3d": [
           {
            "line": {
             "colorbar": {
              "outlinewidth": 0,
              "ticks": ""
             }
            },
            "marker": {
             "colorbar": {
              "outlinewidth": 0,
              "ticks": ""
             }
            },
            "type": "scatter3d"
           }
          ],
          "scattercarpet": [
           {
            "marker": {
             "colorbar": {
              "outlinewidth": 0,
              "ticks": ""
             }
            },
            "type": "scattercarpet"
           }
          ],
          "scattergeo": [
           {
            "marker": {
             "colorbar": {
              "outlinewidth": 0,
              "ticks": ""
             }
            },
            "type": "scattergeo"
           }
          ],
          "scattergl": [
           {
            "marker": {
             "colorbar": {
              "outlinewidth": 0,
              "ticks": ""
             }
            },
            "type": "scattergl"
           }
          ],
          "scattermapbox": [
           {
            "marker": {
             "colorbar": {
              "outlinewidth": 0,
              "ticks": ""
             }
            },
            "type": "scattermapbox"
           }
          ],
          "scatterpolar": [
           {
            "marker": {
             "colorbar": {
              "outlinewidth": 0,
              "ticks": ""
             }
            },
            "type": "scatterpolar"
           }
          ],
          "scatterpolargl": [
           {
            "marker": {
             "colorbar": {
              "outlinewidth": 0,
              "ticks": ""
             }
            },
            "type": "scatterpolargl"
           }
          ],
          "scatterternary": [
           {
            "marker": {
             "colorbar": {
              "outlinewidth": 0,
              "ticks": ""
             }
            },
            "type": "scatterternary"
           }
          ],
          "surface": [
           {
            "colorbar": {
             "outlinewidth": 0,
             "ticks": ""
            },
            "colorscale": [
             [
              0,
              "#0d0887"
             ],
             [
              0.1111111111111111,
              "#46039f"
             ],
             [
              0.2222222222222222,
              "#7201a8"
             ],
             [
              0.3333333333333333,
              "#9c179e"
             ],
             [
              0.4444444444444444,
              "#bd3786"
             ],
             [
              0.5555555555555556,
              "#d8576b"
             ],
             [
              0.6666666666666666,
              "#ed7953"
             ],
             [
              0.7777777777777778,
              "#fb9f3a"
             ],
             [
              0.8888888888888888,
              "#fdca26"
             ],
             [
              1,
              "#f0f921"
             ]
            ],
            "type": "surface"
           }
          ],
          "table": [
           {
            "cells": {
             "fill": {
              "color": "#EBF0F8"
             },
             "line": {
              "color": "white"
             }
            },
            "header": {
             "fill": {
              "color": "#C8D4E3"
             },
             "line": {
              "color": "white"
             }
            },
            "type": "table"
           }
          ]
         },
         "layout": {
          "annotationdefaults": {
           "arrowcolor": "#2a3f5f",
           "arrowhead": 0,
           "arrowwidth": 1
          },
          "autotypenumbers": "strict",
          "coloraxis": {
           "colorbar": {
            "outlinewidth": 0,
            "ticks": ""
           }
          },
          "colorscale": {
           "diverging": [
            [
             0,
             "#8e0152"
            ],
            [
             0.1,
             "#c51b7d"
            ],
            [
             0.2,
             "#de77ae"
            ],
            [
             0.3,
             "#f1b6da"
            ],
            [
             0.4,
             "#fde0ef"
            ],
            [
             0.5,
             "#f7f7f7"
            ],
            [
             0.6,
             "#e6f5d0"
            ],
            [
             0.7,
             "#b8e186"
            ],
            [
             0.8,
             "#7fbc41"
            ],
            [
             0.9,
             "#4d9221"
            ],
            [
             1,
             "#276419"
            ]
           ],
           "sequential": [
            [
             0,
             "#0d0887"
            ],
            [
             0.1111111111111111,
             "#46039f"
            ],
            [
             0.2222222222222222,
             "#7201a8"
            ],
            [
             0.3333333333333333,
             "#9c179e"
            ],
            [
             0.4444444444444444,
             "#bd3786"
            ],
            [
             0.5555555555555556,
             "#d8576b"
            ],
            [
             0.6666666666666666,
             "#ed7953"
            ],
            [
             0.7777777777777778,
             "#fb9f3a"
            ],
            [
             0.8888888888888888,
             "#fdca26"
            ],
            [
             1,
             "#f0f921"
            ]
           ],
           "sequentialminus": [
            [
             0,
             "#0d0887"
            ],
            [
             0.1111111111111111,
             "#46039f"
            ],
            [
             0.2222222222222222,
             "#7201a8"
            ],
            [
             0.3333333333333333,
             "#9c179e"
            ],
            [
             0.4444444444444444,
             "#bd3786"
            ],
            [
             0.5555555555555556,
             "#d8576b"
            ],
            [
             0.6666666666666666,
             "#ed7953"
            ],
            [
             0.7777777777777778,
             "#fb9f3a"
            ],
            [
             0.8888888888888888,
             "#fdca26"
            ],
            [
             1,
             "#f0f921"
            ]
           ]
          },
          "colorway": [
           "#636efa",
           "#EF553B",
           "#00cc96",
           "#ab63fa",
           "#FFA15A",
           "#19d3f3",
           "#FF6692",
           "#B6E880",
           "#FF97FF",
           "#FECB52"
          ],
          "font": {
           "color": "#2a3f5f"
          },
          "geo": {
           "bgcolor": "white",
           "lakecolor": "white",
           "landcolor": "white",
           "showlakes": true,
           "showland": true,
           "subunitcolor": "#C8D4E3"
          },
          "hoverlabel": {
           "align": "left"
          },
          "hovermode": "closest",
          "mapbox": {
           "style": "light"
          },
          "paper_bgcolor": "white",
          "plot_bgcolor": "white",
          "polar": {
           "angularaxis": {
            "gridcolor": "#EBF0F8",
            "linecolor": "#EBF0F8",
            "ticks": ""
           },
           "bgcolor": "white",
           "radialaxis": {
            "gridcolor": "#EBF0F8",
            "linecolor": "#EBF0F8",
            "ticks": ""
           }
          },
          "scene": {
           "xaxis": {
            "backgroundcolor": "white",
            "gridcolor": "#DFE8F3",
            "gridwidth": 2,
            "linecolor": "#EBF0F8",
            "showbackground": true,
            "ticks": "",
            "zerolinecolor": "#EBF0F8"
           },
           "yaxis": {
            "backgroundcolor": "white",
            "gridcolor": "#DFE8F3",
            "gridwidth": 2,
            "linecolor": "#EBF0F8",
            "showbackground": true,
            "ticks": "",
            "zerolinecolor": "#EBF0F8"
           },
           "zaxis": {
            "backgroundcolor": "white",
            "gridcolor": "#DFE8F3",
            "gridwidth": 2,
            "linecolor": "#EBF0F8",
            "showbackground": true,
            "ticks": "",
            "zerolinecolor": "#EBF0F8"
           }
          },
          "shapedefaults": {
           "line": {
            "color": "#2a3f5f"
           }
          },
          "ternary": {
           "aaxis": {
            "gridcolor": "#DFE8F3",
            "linecolor": "#A2B1C6",
            "ticks": ""
           },
           "baxis": {
            "gridcolor": "#DFE8F3",
            "linecolor": "#A2B1C6",
            "ticks": ""
           },
           "bgcolor": "white",
           "caxis": {
            "gridcolor": "#DFE8F3",
            "linecolor": "#A2B1C6",
            "ticks": ""
           }
          },
          "title": {
           "x": 0.05
          },
          "xaxis": {
           "automargin": true,
           "gridcolor": "#EBF0F8",
           "linecolor": "#EBF0F8",
           "ticks": "",
           "title": {
            "standoff": 15
           },
           "zerolinecolor": "#EBF0F8",
           "zerolinewidth": 2
          },
          "yaxis": {
           "automargin": true,
           "gridcolor": "#EBF0F8",
           "linecolor": "#EBF0F8",
           "ticks": "",
           "title": {
            "standoff": 15
           },
           "zerolinecolor": "#EBF0F8",
           "zerolinewidth": 2
          }
         }
        },
        "title": {
         "text": "Unemployment rate forecasting: training, validation, and predictions"
        },
        "width": 1200,
        "xaxis": {
         "title": {
          "text": "Time"
         }
        },
        "yaxis": {
         "title": {
          "text": "Unemployment rate (%)"
         }
        }
       }
      }
     },
     "metadata": {},
     "output_type": "display_data"
    }
   ],
   "source": [
    "last_unemp_value = y_train_orig.iloc[-1]\n",
    "sarimax_pred_original = last_unemp_value + sarimax_forecast.cumsum()\n",
    "\n",
    "fig = go.Figure()\n",
    "fig.add_trace(go.Scatter(x=train_stat.index, y=data_train['unemp_wins'], \n",
    "                         mode='lines', name='Training Data'))\n",
    "\n",
    "fig.add_trace(go.Scatter(x=val_stat.index, y=data_val['unemp_wins'], \n",
    "                         mode='lines', name='Validation Data'))\n",
    "\n",
    "fig.add_trace(go.Scatter(x=val_stat.index, y=sarimax_pred_original, \n",
    "                         mode='lines', name='Predictions', \n",
    "                         line=dict(dash='dot')))\n",
    "fig.update_layout(\n",
    "    title='Unemployment rate forecasting: training, validation, and predictions',\n",
    "    xaxis_title='Time',\n",
    "    yaxis_title='Unemployment rate (%)',\n",
    "    template='plotly_white',\n",
    "    width=1200,\n",
    "    height=400\n",
    ")\n",
    "\n",
    "fig.show()\n"
   ]
  },
  {
   "cell_type": "markdown",
   "id": "1ee85584",
   "metadata": {},
   "source": [
    "Is clear that the SARIMAX model performed better than the LR benchmark I'm using to compare the results (all 3 indicators improved)"
   ]
  },
  {
   "cell_type": "markdown",
   "id": "e7e9ae12",
   "metadata": {},
   "source": [
    "b) Choosing another statistical model. Johansen cointegration test"
   ]
  },
  {
   "cell_type": "markdown",
   "id": "3dcfaca6",
   "metadata": {},
   "source": [
    "Variable 'pop_diff_lag_1' introduces some problems inside our data, making the computational matrix inside the Johansen cointegration test not positive definite. So I chose a subset of this data in order to perform the cointegration test."
   ]
  },
  {
   "cell_type": "code",
   "execution_count": 31,
   "id": "c9da6628",
   "metadata": {},
   "outputs": [],
   "source": [
    "johansen_test = coint_johansen(stat_model_df[['unemp_wins_diff', 'infl', 'pop_diff', 'realgdp_diff', 'infl_rolling_mean_diff']], det_order=0, k_ar_diff=1)\n",
    "\n",
    "johansen_results = pd.DataFrame({\n",
    "    'Eigenvalue': johansen_test.eig,\n",
    "    'Trace Statistic': johansen_test.lr1,\n",
    "    'Critical Value (90%)': johansen_test.cvt[:, 0],\n",
    "    'Critical Value (95%)': johansen_test.cvt[:, 1],\n",
    "    'Critical Value (99%)': johansen_test.cvt[:, 2],\n",
    "    'Max-Eigen Statistic': johansen_test.lr2,\n",
    "    'Max-Eigen Critical Value (95%)': johansen_test.cvm[:, 1]\n",
    "})"
   ]
  },
  {
   "cell_type": "code",
   "execution_count": 32,
   "id": "16533085",
   "metadata": {},
   "outputs": [
    {
     "data": {
      "text/html": [
       "<div>\n",
       "<style scoped>\n",
       "    .dataframe tbody tr th:only-of-type {\n",
       "        vertical-align: middle;\n",
       "    }\n",
       "\n",
       "    .dataframe tbody tr th {\n",
       "        vertical-align: top;\n",
       "    }\n",
       "\n",
       "    .dataframe thead th {\n",
       "        text-align: right;\n",
       "    }\n",
       "</style>\n",
       "<table border=\"1\" class=\"dataframe\">\n",
       "  <thead>\n",
       "    <tr style=\"text-align: right;\">\n",
       "      <th></th>\n",
       "      <th>Eigenvalue</th>\n",
       "      <th>Trace Statistic</th>\n",
       "      <th>Critical Value (90%)</th>\n",
       "      <th>Critical Value (95%)</th>\n",
       "      <th>Critical Value (99%)</th>\n",
       "      <th>Max-Eigen Statistic</th>\n",
       "      <th>Max-Eigen Critical Value (95%)</th>\n",
       "    </tr>\n",
       "  </thead>\n",
       "  <tbody>\n",
       "    <tr>\n",
       "      <th>0</th>\n",
       "      <td>0.867040</td>\n",
       "      <td>649.879368</td>\n",
       "      <td>65.8202</td>\n",
       "      <td>69.8189</td>\n",
       "      <td>77.8202</td>\n",
       "      <td>397.487910</td>\n",
       "      <td>33.8777</td>\n",
       "    </tr>\n",
       "    <tr>\n",
       "      <th>1</th>\n",
       "      <td>0.486617</td>\n",
       "      <td>252.391457</td>\n",
       "      <td>44.4929</td>\n",
       "      <td>47.8545</td>\n",
       "      <td>54.6815</td>\n",
       "      <td>131.346526</td>\n",
       "      <td>27.5858</td>\n",
       "    </tr>\n",
       "    <tr>\n",
       "      <th>2</th>\n",
       "      <td>0.295059</td>\n",
       "      <td>121.044932</td>\n",
       "      <td>27.0669</td>\n",
       "      <td>29.7961</td>\n",
       "      <td>35.4628</td>\n",
       "      <td>68.879279</td>\n",
       "      <td>21.1314</td>\n",
       "    </tr>\n",
       "    <tr>\n",
       "      <th>3</th>\n",
       "      <td>0.195461</td>\n",
       "      <td>52.165653</td>\n",
       "      <td>13.4294</td>\n",
       "      <td>15.4943</td>\n",
       "      <td>19.9349</td>\n",
       "      <td>42.844811</td>\n",
       "      <td>14.2639</td>\n",
       "    </tr>\n",
       "    <tr>\n",
       "      <th>4</th>\n",
       "      <td>0.046212</td>\n",
       "      <td>9.320841</td>\n",
       "      <td>2.7055</td>\n",
       "      <td>3.8415</td>\n",
       "      <td>6.6349</td>\n",
       "      <td>9.320841</td>\n",
       "      <td>3.8415</td>\n",
       "    </tr>\n",
       "  </tbody>\n",
       "</table>\n",
       "</div>"
      ],
      "text/plain": [
       "   Eigenvalue  Trace Statistic  Critical Value (90%)  Critical Value (95%)  \\\n",
       "0    0.867040       649.879368               65.8202               69.8189   \n",
       "1    0.486617       252.391457               44.4929               47.8545   \n",
       "2    0.295059       121.044932               27.0669               29.7961   \n",
       "3    0.195461        52.165653               13.4294               15.4943   \n",
       "4    0.046212         9.320841                2.7055                3.8415   \n",
       "\n",
       "   Critical Value (99%)  Max-Eigen Statistic  Max-Eigen Critical Value (95%)  \n",
       "0               77.8202           397.487910                         33.8777  \n",
       "1               54.6815           131.346526                         27.5858  \n",
       "2               35.4628            68.879279                         21.1314  \n",
       "3               19.9349            42.844811                         14.2639  \n",
       "4                6.6349             9.320841                          3.8415  "
      ]
     },
     "execution_count": 32,
     "metadata": {},
     "output_type": "execute_result"
    }
   ],
   "source": [
    "johansen_results"
   ]
  },
  {
   "cell_type": "markdown",
   "id": "a8de0ad1",
   "metadata": {},
   "source": [
    "The hypotheses of the  Johansen cointegration test are defined as follows:\n",
    "- H0: there are at most r cointegrating relationships\n",
    "- H1: there are more than r cointegrating relationships\n",
    "\n",
    "using both the trasce statistic and the max-eigen statistic , and comparing them with all the critical values accordingly, the conclusion is that there are 4 cointegrating relationship at the 95% confidence level. This means that the variables share a long-term equilibrium relationship despite short-term fluctuations. Based on this conclusion, I will use a Vector Error Correction Model (VECM) model to forecast on our validation data. "
   ]
  },
  {
   "cell_type": "code",
   "execution_count": 33,
   "id": "9dbf60cf",
   "metadata": {},
   "outputs": [],
   "source": [
    "stat_model_df_subset = stat_model_df[['unemp_wins_diff', 'infl', 'pop_diff', 'realgdp_diff', 'infl_rolling_mean_diff']].copy()\n",
    "\n",
    "train_stat_subset = stat_model_df_subset.loc[train_start:train_end]\n",
    "val_stat_subset = stat_model_df_subset.loc[val_start:val_end]\n",
    "X_train_vecm = train_stat_subset.drop(columns=['unemp_wins_diff'])\n",
    "y_train_vecm = train_stat_subset['unemp_wins_diff']\n",
    "X_val_vecm = val_stat_subset.drop(columns=['unemp_wins_diff'])\n",
    "y_val_vecm = val_stat_subset['unemp_wins_diff']"
   ]
  },
  {
   "cell_type": "code",
   "execution_count": 34,
   "id": "04edc1f1",
   "metadata": {},
   "outputs": [],
   "source": [
    "train_vecm = pd.concat([y_train_vecm, X_train_vecm], axis=1)\n",
    "val_vecm = pd.concat([y_val_vecm, X_val_vecm], axis=1)"
   ]
  },
  {
   "cell_type": "markdown",
   "id": "7afaf43a",
   "metadata": {},
   "source": [
    "For the VECM model, I will choose the parameter k_ar_diff = 1 since I already have the variables differenced, so the short-term dynamics can be properly captured through a single lag in the data avoiding overfitting. Also, based on the Johansen cointegration test, the coint_rank will be set to 4."
   ]
  },
  {
   "cell_type": "code",
   "execution_count": 35,
   "id": "ce7fedd6",
   "metadata": {},
   "outputs": [],
   "source": [
    "vecm_model = VECM(train_vecm, k_ar_diff=1, coint_rank=4)\n",
    "vecm_result = vecm_model.fit()\n",
    "\n",
    "forecast_steps = len(val_vecm)\n",
    "vecm_forecast = vecm_result.predict(steps=forecast_steps)\n",
    "\n",
    "vecm_forecast_df = pd.DataFrame(\n",
    "    vecm_forecast, \n",
    "    columns=train_vecm.columns, \n",
    "    index=val_vecm.index\n",
    ")\n",
    "\n",
    "mae = mean_absolute_error(y_val_vecm, vecm_forecast_df['unemp_wins_diff'])\n",
    "mse = mean_squared_error(y_val_vecm, vecm_forecast_df['unemp_wins_diff'])\n",
    "rmse = np.sqrt(mse)\n",
    "\n",
    "# Display results\n",
    "vecm_performance = pd.DataFrame({\n",
    "    'Model': ['VECM'],\n",
    "    'MAE': [mae],\n",
    "    'MSE': [mse],\n",
    "    'RMSE': [rmse]\n",
    "})"
   ]
  },
  {
   "cell_type": "code",
   "execution_count": 36,
   "id": "8a48123d",
   "metadata": {},
   "outputs": [
    {
     "data": {
      "text/html": [
       "<div>\n",
       "<style scoped>\n",
       "    .dataframe tbody tr th:only-of-type {\n",
       "        vertical-align: middle;\n",
       "    }\n",
       "\n",
       "    .dataframe tbody tr th {\n",
       "        vertical-align: top;\n",
       "    }\n",
       "\n",
       "    .dataframe thead th {\n",
       "        text-align: right;\n",
       "    }\n",
       "</style>\n",
       "<table border=\"1\" class=\"dataframe\">\n",
       "  <thead>\n",
       "    <tr style=\"text-align: right;\">\n",
       "      <th></th>\n",
       "      <th>Model</th>\n",
       "      <th>MAE</th>\n",
       "      <th>MSE</th>\n",
       "      <th>RMSE</th>\n",
       "    </tr>\n",
       "  </thead>\n",
       "  <tbody>\n",
       "    <tr>\n",
       "      <th>0</th>\n",
       "      <td>VECM</td>\n",
       "      <td>0.308663</td>\n",
       "      <td>0.205292</td>\n",
       "      <td>0.453092</td>\n",
       "    </tr>\n",
       "  </tbody>\n",
       "</table>\n",
       "</div>"
      ],
      "text/plain": [
       "  Model       MAE       MSE      RMSE\n",
       "0  VECM  0.308663  0.205292  0.453092"
      ]
     },
     "execution_count": 36,
     "metadata": {},
     "output_type": "execute_result"
    }
   ],
   "source": [
    "vecm_performance"
   ]
  },
  {
   "cell_type": "markdown",
   "id": "5741b07f",
   "metadata": {},
   "source": [
    "As we can see, the VECM performs better than the benchmark LR, but it is behind the SARIMAX model based on the indicators we have calculated"
   ]
  },
  {
   "cell_type": "code",
   "execution_count": 37,
   "id": "227b8ea2",
   "metadata": {},
   "outputs": [
    {
     "data": {
      "application/vnd.plotly.v1+json": {
       "config": {
        "plotlyServerURL": "https://plot.ly"
       },
       "data": [
        {
         "mode": "lines",
         "name": "Training data",
         "type": "scatter",
         "x": [
          "1960-01-01T00:00:00",
          "1960-04-01T00:00:00",
          "1960-07-01T00:00:00",
          "1960-10-01T00:00:00",
          "1961-01-01T00:00:00",
          "1961-04-01T00:00:00",
          "1961-07-01T00:00:00",
          "1961-10-01T00:00:00",
          "1962-01-01T00:00:00",
          "1962-04-01T00:00:00",
          "1962-07-01T00:00:00",
          "1962-10-01T00:00:00",
          "1963-01-01T00:00:00",
          "1963-04-01T00:00:00",
          "1963-07-01T00:00:00",
          "1963-10-01T00:00:00",
          "1964-01-01T00:00:00",
          "1964-04-01T00:00:00",
          "1964-07-01T00:00:00",
          "1964-10-01T00:00:00",
          "1965-01-01T00:00:00",
          "1965-04-01T00:00:00",
          "1965-07-01T00:00:00",
          "1965-10-01T00:00:00",
          "1966-01-01T00:00:00",
          "1966-04-01T00:00:00",
          "1966-07-01T00:00:00",
          "1966-10-01T00:00:00",
          "1967-01-01T00:00:00",
          "1967-04-01T00:00:00",
          "1967-07-01T00:00:00",
          "1967-10-01T00:00:00",
          "1968-01-01T00:00:00",
          "1968-04-01T00:00:00",
          "1968-07-01T00:00:00",
          "1968-10-01T00:00:00",
          "1969-01-01T00:00:00",
          "1969-04-01T00:00:00",
          "1969-07-01T00:00:00",
          "1969-10-01T00:00:00",
          "1970-01-01T00:00:00",
          "1970-04-01T00:00:00",
          "1970-07-01T00:00:00",
          "1970-10-01T00:00:00",
          "1971-01-01T00:00:00",
          "1971-04-01T00:00:00",
          "1971-07-01T00:00:00",
          "1971-10-01T00:00:00",
          "1972-01-01T00:00:00",
          "1972-04-01T00:00:00",
          "1972-07-01T00:00:00",
          "1972-10-01T00:00:00",
          "1973-01-01T00:00:00",
          "1973-04-01T00:00:00",
          "1973-07-01T00:00:00",
          "1973-10-01T00:00:00",
          "1974-01-01T00:00:00",
          "1974-04-01T00:00:00",
          "1974-07-01T00:00:00",
          "1974-10-01T00:00:00",
          "1975-01-01T00:00:00",
          "1975-04-01T00:00:00",
          "1975-07-01T00:00:00",
          "1975-10-01T00:00:00",
          "1976-01-01T00:00:00",
          "1976-04-01T00:00:00",
          "1976-07-01T00:00:00",
          "1976-10-01T00:00:00",
          "1977-01-01T00:00:00",
          "1977-04-01T00:00:00",
          "1977-07-01T00:00:00",
          "1977-10-01T00:00:00",
          "1978-01-01T00:00:00",
          "1978-04-01T00:00:00",
          "1978-07-01T00:00:00",
          "1978-10-01T00:00:00",
          "1979-01-01T00:00:00",
          "1979-04-01T00:00:00",
          "1979-07-01T00:00:00",
          "1979-10-01T00:00:00",
          "1980-01-01T00:00:00",
          "1980-04-01T00:00:00",
          "1980-07-01T00:00:00",
          "1980-10-01T00:00:00",
          "1981-01-01T00:00:00",
          "1981-04-01T00:00:00",
          "1981-07-01T00:00:00",
          "1981-10-01T00:00:00",
          "1982-01-01T00:00:00",
          "1982-04-01T00:00:00",
          "1982-07-01T00:00:00",
          "1982-10-01T00:00:00",
          "1983-01-01T00:00:00",
          "1983-04-01T00:00:00",
          "1983-07-01T00:00:00",
          "1983-10-01T00:00:00",
          "1984-01-01T00:00:00",
          "1984-04-01T00:00:00",
          "1984-07-01T00:00:00",
          "1984-10-01T00:00:00",
          "1985-01-01T00:00:00",
          "1985-04-01T00:00:00",
          "1985-07-01T00:00:00",
          "1985-10-01T00:00:00",
          "1986-01-01T00:00:00",
          "1986-04-01T00:00:00",
          "1986-07-01T00:00:00",
          "1986-10-01T00:00:00",
          "1987-01-01T00:00:00",
          "1987-04-01T00:00:00",
          "1987-07-01T00:00:00",
          "1987-10-01T00:00:00",
          "1988-01-01T00:00:00",
          "1988-04-01T00:00:00",
          "1988-07-01T00:00:00",
          "1988-10-01T00:00:00",
          "1989-01-01T00:00:00",
          "1989-04-01T00:00:00",
          "1989-07-01T00:00:00",
          "1989-10-01T00:00:00",
          "1990-01-01T00:00:00",
          "1990-04-01T00:00:00",
          "1990-07-01T00:00:00",
          "1990-10-01T00:00:00",
          "1991-01-01T00:00:00",
          "1991-04-01T00:00:00",
          "1991-07-01T00:00:00",
          "1991-10-01T00:00:00",
          "1992-01-01T00:00:00",
          "1992-04-01T00:00:00",
          "1992-07-01T00:00:00",
          "1992-10-01T00:00:00",
          "1993-01-01T00:00:00",
          "1993-04-01T00:00:00",
          "1993-07-01T00:00:00",
          "1993-10-01T00:00:00",
          "1994-01-01T00:00:00",
          "1994-04-01T00:00:00",
          "1994-07-01T00:00:00",
          "1994-10-01T00:00:00",
          "1995-01-01T00:00:00",
          "1995-04-01T00:00:00",
          "1995-07-01T00:00:00",
          "1995-10-01T00:00:00",
          "1996-01-01T00:00:00",
          "1996-04-01T00:00:00",
          "1996-07-01T00:00:00",
          "1996-10-01T00:00:00",
          "1997-01-01T00:00:00",
          "1997-04-01T00:00:00",
          "1997-07-01T00:00:00",
          "1997-10-01T00:00:00",
          "1998-01-01T00:00:00",
          "1998-04-01T00:00:00",
          "1998-07-01T00:00:00",
          "1998-10-01T00:00:00",
          "1999-01-01T00:00:00",
          "1999-04-01T00:00:00",
          "1999-07-01T00:00:00",
          "1999-10-01T00:00:00",
          "2000-01-01T00:00:00",
          "2000-04-01T00:00:00",
          "2000-07-01T00:00:00",
          "2000-10-01T00:00:00",
          "2001-01-01T00:00:00",
          "2001-04-01T00:00:00",
          "2001-07-01T00:00:00",
          "2001-10-01T00:00:00",
          "2002-01-01T00:00:00",
          "2002-04-01T00:00:00",
          "2002-07-01T00:00:00",
          "2002-10-01T00:00:00",
          "2003-01-01T00:00:00",
          "2003-04-01T00:00:00",
          "2003-07-01T00:00:00",
          "2003-10-01T00:00:00",
          "2004-01-01T00:00:00",
          "2004-04-01T00:00:00",
          "2004-07-01T00:00:00",
          "2004-10-01T00:00:00",
          "2005-01-01T00:00:00"
         ],
         "y": [
          5.8,
          5.1,
          5.3,
          5.6,
          5.2,
          5.2,
          5.6,
          6.3,
          6.8,
          7,
          6.8,
          6.2,
          5.6,
          5.5,
          5.6,
          5.5,
          5.8,
          5.7,
          5.5,
          5.6,
          5.5,
          5.2,
          5,
          5,
          4.9,
          4.7,
          4.4,
          4.1,
          3.9,
          3.8,
          3.8,
          3.8,
          3.8,
          3.8,
          3.8,
          3.9,
          3.8,
          3.8,
          3.8,
          8.9,
          3.8,
          3.8,
          3.8,
          3.8,
          4.2,
          4.8,
          5.2,
          5.8,
          5.9,
          5.9,
          6,
          6,
          5.8,
          5.7,
          5.6,
          5.3,
          5,
          4.9,
          4.8,
          4.8,
          5.1,
          5.2,
          5.6,
          6.6,
          8.2,
          8.9,
          8.5,
          8.3,
          7.7,
          7.6,
          7.7,
          7.8,
          7.5,
          7.1,
          6.9,
          6.6,
          6.3,
          6,
          6,
          5.9,
          5.9,
          5.7,
          5.9,
          5.9,
          6.3,
          7.3,
          7.7,
          7.4,
          7.4,
          7.4,
          7.4,
          8.2,
          8.8,
          8.9,
          8.9,
          8.9,
          8.9,
          8.9,
          8.9,
          8.5,
          7.9,
          7.5,
          7.4,
          7.3,
          7.3,
          7.3,
          7.2,
          7,
          7,
          7.2,
          7,
          6.8,
          6.6,
          6.3,
          6,
          5.9,
          5.7,
          5.5,
          5.5,
          5.3,
          5.2,
          5.2,
          5.3,
          5.4,
          5.3,
          5.3,
          5.7,
          6.1,
          6.6,
          6.8,
          6.9,
          7.1,
          7.4,
          7.6,
          7.6,
          7.4,
          7.2,
          7.1,
          6.8,
          6.6,
          6.6,
          6.2,
          6,
          5.6,
          5.5,
          5.7,
          5.7,
          5.6,
          5.5,
          5.5,
          5.3,
          8.9,
          5.2,
          5,
          4.9,
          4.7,
          4.6,
          4.4,
          4.5,
          4.4,
          4.3,
          4.3,
          4.2,
          4.1,
          4,
          3.9,
          4,
          3.9,
          4.2,
          4.4,
          4.8,
          5.5,
          5.7,
          5.8,
          5.7,
          5.8,
          5.9,
          6.2,
          6.1,
          5.8,
          5.7,
          5.6,
          5.4,
          5.4,
          5.3
         ]
        },
        {
         "mode": "lines",
         "name": "Validation data",
         "type": "scatter",
         "x": [
          "2005-04-01T00:00:00",
          "2005-07-01T00:00:00",
          "2005-10-01T00:00:00",
          "2006-01-01T00:00:00",
          "2006-04-01T00:00:00",
          "2006-07-01T00:00:00",
          "2006-10-01T00:00:00",
          "2007-01-01T00:00:00",
          "2007-04-01T00:00:00",
          "2007-07-01T00:00:00",
          "2007-10-01T00:00:00",
          "2008-01-01T00:00:00",
          "2008-04-01T00:00:00",
          "2008-07-01T00:00:00",
          "2008-10-01T00:00:00",
          "2009-01-01T00:00:00",
          "2009-04-01T00:00:00",
          "2009-07-01T00:00:00"
         ],
         "y": [
          5.1,
          5,
          4.9,
          4.7,
          4.7,
          4.7,
          4.4,
          4.5,
          4.5,
          4.7,
          4.8,
          4.9,
          5.4,
          6,
          6.9,
          8.1,
          8.9,
          8.9
         ]
        },
        {
         "line": {
          "dash": "dot"
         },
         "mode": "lines",
         "name": "Predictions",
         "type": "scatter",
         "x": [
          "2005-04-01T00:00:00",
          "2005-07-01T00:00:00",
          "2005-10-01T00:00:00",
          "2006-01-01T00:00:00",
          "2006-04-01T00:00:00",
          "2006-07-01T00:00:00",
          "2006-10-01T00:00:00",
          "2007-01-01T00:00:00",
          "2007-04-01T00:00:00",
          "2007-07-01T00:00:00",
          "2007-10-01T00:00:00",
          "2008-01-01T00:00:00",
          "2008-04-01T00:00:00",
          "2008-07-01T00:00:00",
          "2008-10-01T00:00:00",
          "2009-01-01T00:00:00",
          "2009-04-01T00:00:00",
          "2009-07-01T00:00:00"
         ],
         "y": [
          4.799750960647618,
          4.799569284429842,
          4.799039829264509,
          4.680664655356781,
          4.5504581343657415,
          4.589532669784457,
          4.660789582682576,
          4.614357273388892,
          4.569057977686667,
          4.6374283720461715,
          4.704411315318175,
          4.6820144569565345,
          4.671642608930527,
          4.738072434495785,
          4.789552281328197,
          4.778209844856818,
          4.7848145727013325,
          4.843066535159648
         ]
        }
       ],
       "layout": {
        "height": 400,
        "template": {
         "data": {
          "bar": [
           {
            "error_x": {
             "color": "#2a3f5f"
            },
            "error_y": {
             "color": "#2a3f5f"
            },
            "marker": {
             "line": {
              "color": "white",
              "width": 0.5
             },
             "pattern": {
              "fillmode": "overlay",
              "size": 10,
              "solidity": 0.2
             }
            },
            "type": "bar"
           }
          ],
          "barpolar": [
           {
            "marker": {
             "line": {
              "color": "white",
              "width": 0.5
             },
             "pattern": {
              "fillmode": "overlay",
              "size": 10,
              "solidity": 0.2
             }
            },
            "type": "barpolar"
           }
          ],
          "carpet": [
           {
            "aaxis": {
             "endlinecolor": "#2a3f5f",
             "gridcolor": "#C8D4E3",
             "linecolor": "#C8D4E3",
             "minorgridcolor": "#C8D4E3",
             "startlinecolor": "#2a3f5f"
            },
            "baxis": {
             "endlinecolor": "#2a3f5f",
             "gridcolor": "#C8D4E3",
             "linecolor": "#C8D4E3",
             "minorgridcolor": "#C8D4E3",
             "startlinecolor": "#2a3f5f"
            },
            "type": "carpet"
           }
          ],
          "choropleth": [
           {
            "colorbar": {
             "outlinewidth": 0,
             "ticks": ""
            },
            "type": "choropleth"
           }
          ],
          "contour": [
           {
            "colorbar": {
             "outlinewidth": 0,
             "ticks": ""
            },
            "colorscale": [
             [
              0,
              "#0d0887"
             ],
             [
              0.1111111111111111,
              "#46039f"
             ],
             [
              0.2222222222222222,
              "#7201a8"
             ],
             [
              0.3333333333333333,
              "#9c179e"
             ],
             [
              0.4444444444444444,
              "#bd3786"
             ],
             [
              0.5555555555555556,
              "#d8576b"
             ],
             [
              0.6666666666666666,
              "#ed7953"
             ],
             [
              0.7777777777777778,
              "#fb9f3a"
             ],
             [
              0.8888888888888888,
              "#fdca26"
             ],
             [
              1,
              "#f0f921"
             ]
            ],
            "type": "contour"
           }
          ],
          "contourcarpet": [
           {
            "colorbar": {
             "outlinewidth": 0,
             "ticks": ""
            },
            "type": "contourcarpet"
           }
          ],
          "heatmap": [
           {
            "colorbar": {
             "outlinewidth": 0,
             "ticks": ""
            },
            "colorscale": [
             [
              0,
              "#0d0887"
             ],
             [
              0.1111111111111111,
              "#46039f"
             ],
             [
              0.2222222222222222,
              "#7201a8"
             ],
             [
              0.3333333333333333,
              "#9c179e"
             ],
             [
              0.4444444444444444,
              "#bd3786"
             ],
             [
              0.5555555555555556,
              "#d8576b"
             ],
             [
              0.6666666666666666,
              "#ed7953"
             ],
             [
              0.7777777777777778,
              "#fb9f3a"
             ],
             [
              0.8888888888888888,
              "#fdca26"
             ],
             [
              1,
              "#f0f921"
             ]
            ],
            "type": "heatmap"
           }
          ],
          "heatmapgl": [
           {
            "colorbar": {
             "outlinewidth": 0,
             "ticks": ""
            },
            "colorscale": [
             [
              0,
              "#0d0887"
             ],
             [
              0.1111111111111111,
              "#46039f"
             ],
             [
              0.2222222222222222,
              "#7201a8"
             ],
             [
              0.3333333333333333,
              "#9c179e"
             ],
             [
              0.4444444444444444,
              "#bd3786"
             ],
             [
              0.5555555555555556,
              "#d8576b"
             ],
             [
              0.6666666666666666,
              "#ed7953"
             ],
             [
              0.7777777777777778,
              "#fb9f3a"
             ],
             [
              0.8888888888888888,
              "#fdca26"
             ],
             [
              1,
              "#f0f921"
             ]
            ],
            "type": "heatmapgl"
           }
          ],
          "histogram": [
           {
            "marker": {
             "pattern": {
              "fillmode": "overlay",
              "size": 10,
              "solidity": 0.2
             }
            },
            "type": "histogram"
           }
          ],
          "histogram2d": [
           {
            "colorbar": {
             "outlinewidth": 0,
             "ticks": ""
            },
            "colorscale": [
             [
              0,
              "#0d0887"
             ],
             [
              0.1111111111111111,
              "#46039f"
             ],
             [
              0.2222222222222222,
              "#7201a8"
             ],
             [
              0.3333333333333333,
              "#9c179e"
             ],
             [
              0.4444444444444444,
              "#bd3786"
             ],
             [
              0.5555555555555556,
              "#d8576b"
             ],
             [
              0.6666666666666666,
              "#ed7953"
             ],
             [
              0.7777777777777778,
              "#fb9f3a"
             ],
             [
              0.8888888888888888,
              "#fdca26"
             ],
             [
              1,
              "#f0f921"
             ]
            ],
            "type": "histogram2d"
           }
          ],
          "histogram2dcontour": [
           {
            "colorbar": {
             "outlinewidth": 0,
             "ticks": ""
            },
            "colorscale": [
             [
              0,
              "#0d0887"
             ],
             [
              0.1111111111111111,
              "#46039f"
             ],
             [
              0.2222222222222222,
              "#7201a8"
             ],
             [
              0.3333333333333333,
              "#9c179e"
             ],
             [
              0.4444444444444444,
              "#bd3786"
             ],
             [
              0.5555555555555556,
              "#d8576b"
             ],
             [
              0.6666666666666666,
              "#ed7953"
             ],
             [
              0.7777777777777778,
              "#fb9f3a"
             ],
             [
              0.8888888888888888,
              "#fdca26"
             ],
             [
              1,
              "#f0f921"
             ]
            ],
            "type": "histogram2dcontour"
           }
          ],
          "mesh3d": [
           {
            "colorbar": {
             "outlinewidth": 0,
             "ticks": ""
            },
            "type": "mesh3d"
           }
          ],
          "parcoords": [
           {
            "line": {
             "colorbar": {
              "outlinewidth": 0,
              "ticks": ""
             }
            },
            "type": "parcoords"
           }
          ],
          "pie": [
           {
            "automargin": true,
            "type": "pie"
           }
          ],
          "scatter": [
           {
            "fillpattern": {
             "fillmode": "overlay",
             "size": 10,
             "solidity": 0.2
            },
            "type": "scatter"
           }
          ],
          "scatter3d": [
           {
            "line": {
             "colorbar": {
              "outlinewidth": 0,
              "ticks": ""
             }
            },
            "marker": {
             "colorbar": {
              "outlinewidth": 0,
              "ticks": ""
             }
            },
            "type": "scatter3d"
           }
          ],
          "scattercarpet": [
           {
            "marker": {
             "colorbar": {
              "outlinewidth": 0,
              "ticks": ""
             }
            },
            "type": "scattercarpet"
           }
          ],
          "scattergeo": [
           {
            "marker": {
             "colorbar": {
              "outlinewidth": 0,
              "ticks": ""
             }
            },
            "type": "scattergeo"
           }
          ],
          "scattergl": [
           {
            "marker": {
             "colorbar": {
              "outlinewidth": 0,
              "ticks": ""
             }
            },
            "type": "scattergl"
           }
          ],
          "scattermapbox": [
           {
            "marker": {
             "colorbar": {
              "outlinewidth": 0,
              "ticks": ""
             }
            },
            "type": "scattermapbox"
           }
          ],
          "scatterpolar": [
           {
            "marker": {
             "colorbar": {
              "outlinewidth": 0,
              "ticks": ""
             }
            },
            "type": "scatterpolar"
           }
          ],
          "scatterpolargl": [
           {
            "marker": {
             "colorbar": {
              "outlinewidth": 0,
              "ticks": ""
             }
            },
            "type": "scatterpolargl"
           }
          ],
          "scatterternary": [
           {
            "marker": {
             "colorbar": {
              "outlinewidth": 0,
              "ticks": ""
             }
            },
            "type": "scatterternary"
           }
          ],
          "surface": [
           {
            "colorbar": {
             "outlinewidth": 0,
             "ticks": ""
            },
            "colorscale": [
             [
              0,
              "#0d0887"
             ],
             [
              0.1111111111111111,
              "#46039f"
             ],
             [
              0.2222222222222222,
              "#7201a8"
             ],
             [
              0.3333333333333333,
              "#9c179e"
             ],
             [
              0.4444444444444444,
              "#bd3786"
             ],
             [
              0.5555555555555556,
              "#d8576b"
             ],
             [
              0.6666666666666666,
              "#ed7953"
             ],
             [
              0.7777777777777778,
              "#fb9f3a"
             ],
             [
              0.8888888888888888,
              "#fdca26"
             ],
             [
              1,
              "#f0f921"
             ]
            ],
            "type": "surface"
           }
          ],
          "table": [
           {
            "cells": {
             "fill": {
              "color": "#EBF0F8"
             },
             "line": {
              "color": "white"
             }
            },
            "header": {
             "fill": {
              "color": "#C8D4E3"
             },
             "line": {
              "color": "white"
             }
            },
            "type": "table"
           }
          ]
         },
         "layout": {
          "annotationdefaults": {
           "arrowcolor": "#2a3f5f",
           "arrowhead": 0,
           "arrowwidth": 1
          },
          "autotypenumbers": "strict",
          "coloraxis": {
           "colorbar": {
            "outlinewidth": 0,
            "ticks": ""
           }
          },
          "colorscale": {
           "diverging": [
            [
             0,
             "#8e0152"
            ],
            [
             0.1,
             "#c51b7d"
            ],
            [
             0.2,
             "#de77ae"
            ],
            [
             0.3,
             "#f1b6da"
            ],
            [
             0.4,
             "#fde0ef"
            ],
            [
             0.5,
             "#f7f7f7"
            ],
            [
             0.6,
             "#e6f5d0"
            ],
            [
             0.7,
             "#b8e186"
            ],
            [
             0.8,
             "#7fbc41"
            ],
            [
             0.9,
             "#4d9221"
            ],
            [
             1,
             "#276419"
            ]
           ],
           "sequential": [
            [
             0,
             "#0d0887"
            ],
            [
             0.1111111111111111,
             "#46039f"
            ],
            [
             0.2222222222222222,
             "#7201a8"
            ],
            [
             0.3333333333333333,
             "#9c179e"
            ],
            [
             0.4444444444444444,
             "#bd3786"
            ],
            [
             0.5555555555555556,
             "#d8576b"
            ],
            [
             0.6666666666666666,
             "#ed7953"
            ],
            [
             0.7777777777777778,
             "#fb9f3a"
            ],
            [
             0.8888888888888888,
             "#fdca26"
            ],
            [
             1,
             "#f0f921"
            ]
           ],
           "sequentialminus": [
            [
             0,
             "#0d0887"
            ],
            [
             0.1111111111111111,
             "#46039f"
            ],
            [
             0.2222222222222222,
             "#7201a8"
            ],
            [
             0.3333333333333333,
             "#9c179e"
            ],
            [
             0.4444444444444444,
             "#bd3786"
            ],
            [
             0.5555555555555556,
             "#d8576b"
            ],
            [
             0.6666666666666666,
             "#ed7953"
            ],
            [
             0.7777777777777778,
             "#fb9f3a"
            ],
            [
             0.8888888888888888,
             "#fdca26"
            ],
            [
             1,
             "#f0f921"
            ]
           ]
          },
          "colorway": [
           "#636efa",
           "#EF553B",
           "#00cc96",
           "#ab63fa",
           "#FFA15A",
           "#19d3f3",
           "#FF6692",
           "#B6E880",
           "#FF97FF",
           "#FECB52"
          ],
          "font": {
           "color": "#2a3f5f"
          },
          "geo": {
           "bgcolor": "white",
           "lakecolor": "white",
           "landcolor": "white",
           "showlakes": true,
           "showland": true,
           "subunitcolor": "#C8D4E3"
          },
          "hoverlabel": {
           "align": "left"
          },
          "hovermode": "closest",
          "mapbox": {
           "style": "light"
          },
          "paper_bgcolor": "white",
          "plot_bgcolor": "white",
          "polar": {
           "angularaxis": {
            "gridcolor": "#EBF0F8",
            "linecolor": "#EBF0F8",
            "ticks": ""
           },
           "bgcolor": "white",
           "radialaxis": {
            "gridcolor": "#EBF0F8",
            "linecolor": "#EBF0F8",
            "ticks": ""
           }
          },
          "scene": {
           "xaxis": {
            "backgroundcolor": "white",
            "gridcolor": "#DFE8F3",
            "gridwidth": 2,
            "linecolor": "#EBF0F8",
            "showbackground": true,
            "ticks": "",
            "zerolinecolor": "#EBF0F8"
           },
           "yaxis": {
            "backgroundcolor": "white",
            "gridcolor": "#DFE8F3",
            "gridwidth": 2,
            "linecolor": "#EBF0F8",
            "showbackground": true,
            "ticks": "",
            "zerolinecolor": "#EBF0F8"
           },
           "zaxis": {
            "backgroundcolor": "white",
            "gridcolor": "#DFE8F3",
            "gridwidth": 2,
            "linecolor": "#EBF0F8",
            "showbackground": true,
            "ticks": "",
            "zerolinecolor": "#EBF0F8"
           }
          },
          "shapedefaults": {
           "line": {
            "color": "#2a3f5f"
           }
          },
          "ternary": {
           "aaxis": {
            "gridcolor": "#DFE8F3",
            "linecolor": "#A2B1C6",
            "ticks": ""
           },
           "baxis": {
            "gridcolor": "#DFE8F3",
            "linecolor": "#A2B1C6",
            "ticks": ""
           },
           "bgcolor": "white",
           "caxis": {
            "gridcolor": "#DFE8F3",
            "linecolor": "#A2B1C6",
            "ticks": ""
           }
          },
          "title": {
           "x": 0.05
          },
          "xaxis": {
           "automargin": true,
           "gridcolor": "#EBF0F8",
           "linecolor": "#EBF0F8",
           "ticks": "",
           "title": {
            "standoff": 15
           },
           "zerolinecolor": "#EBF0F8",
           "zerolinewidth": 2
          },
          "yaxis": {
           "automargin": true,
           "gridcolor": "#EBF0F8",
           "linecolor": "#EBF0F8",
           "ticks": "",
           "title": {
            "standoff": 15
           },
           "zerolinecolor": "#EBF0F8",
           "zerolinewidth": 2
          }
         }
        },
        "title": {
         "text": "Unemployment rate forecasting: VECM vs. Actual (winsorized)"
        },
        "width": 1200,
        "xaxis": {
         "title": {
          "text": "Time"
         }
        },
        "yaxis": {
         "title": {
          "text": "Unemployment rate (%)"
         }
        }
       }
      }
     },
     "metadata": {},
     "output_type": "display_data"
    }
   ],
   "source": [
    "last_unemp_value = y_train_orig.iloc[-1]\n",
    "vecm_unemp_forecast = last_unemp_value + vecm_forecast_df['unemp_wins_diff'].cumsum()\n",
    "\n",
    "fig = go.Figure()\n",
    "\n",
    "fig.add_trace(go.Scatter(x=train_stat.index, y=data_train['unemp_wins'], \n",
    "                         mode='lines', name='Training data'))\n",
    "\n",
    "fig.add_trace(go.Scatter(x=val_stat.index, y=data_val['unemp_wins'], \n",
    "                         mode='lines', name='Validation data'))\n",
    "\n",
    "fig.add_trace(go.Scatter(x=val_stat.index, y=vecm_unemp_forecast, \n",
    "                         mode='lines', name='Predictions', \n",
    "                         line=dict(dash='dot')))\n",
    "\n",
    "fig.update_layout(\n",
    "    title='Unemployment rate forecasting: VECM vs. Actual (winsorized)',\n",
    "    xaxis_title='Time',\n",
    "    yaxis_title='Unemployment rate (%)',\n",
    "    template='plotly_white',\n",
    "    width=1200,\n",
    "    height=400\n",
    ")\n",
    "\n",
    "fig.show()"
   ]
  },
  {
   "cell_type": "code",
   "execution_count": 38,
   "id": "b172bce9",
   "metadata": {},
   "outputs": [
    {
     "data": {
      "text/html": [
       "<div>\n",
       "<style scoped>\n",
       "    .dataframe tbody tr th:only-of-type {\n",
       "        vertical-align: middle;\n",
       "    }\n",
       "\n",
       "    .dataframe tbody tr th {\n",
       "        vertical-align: top;\n",
       "    }\n",
       "\n",
       "    .dataframe thead th {\n",
       "        text-align: right;\n",
       "    }\n",
       "</style>\n",
       "<table border=\"1\" class=\"dataframe\">\n",
       "  <thead>\n",
       "    <tr style=\"text-align: right;\">\n",
       "      <th></th>\n",
       "      <th>Model</th>\n",
       "      <th>MAE</th>\n",
       "      <th>MSE</th>\n",
       "      <th>RMSE</th>\n",
       "    </tr>\n",
       "  </thead>\n",
       "  <tbody>\n",
       "    <tr>\n",
       "      <th>1</th>\n",
       "      <td>SARIMAX(1, 0, 1)</td>\n",
       "      <td>0.268592</td>\n",
       "      <td>0.123494</td>\n",
       "      <td>0.351417</td>\n",
       "    </tr>\n",
       "    <tr>\n",
       "      <th>2</th>\n",
       "      <td>VECM</td>\n",
       "      <td>0.308663</td>\n",
       "      <td>0.205292</td>\n",
       "      <td>0.453092</td>\n",
       "    </tr>\n",
       "    <tr>\n",
       "      <th>0</th>\n",
       "      <td>Linear regression (Benchmark)</td>\n",
       "      <td>1.956603</td>\n",
       "      <td>4.697423</td>\n",
       "      <td>2.167354</td>\n",
       "    </tr>\n",
       "  </tbody>\n",
       "</table>\n",
       "</div>"
      ],
      "text/plain": [
       "                           Model       MAE       MSE      RMSE\n",
       "1               SARIMAX(1, 0, 1)  0.268592  0.123494  0.351417\n",
       "2                           VECM  0.308663  0.205292  0.453092\n",
       "0  Linear regression (Benchmark)  1.956603  4.697423  2.167354"
      ]
     },
     "execution_count": 38,
     "metadata": {},
     "output_type": "execute_result"
    }
   ],
   "source": [
    "final_stat_df = pd.concat([benchmark_results, sarimax_performance, vecm_performance], ignore_index=True)\n",
    "final_stat_df.sort_values(by='RMSE')"
   ]
  },
  {
   "cell_type": "markdown",
   "id": "31781459",
   "metadata": {},
   "source": [
    "For the OOS data I will use an ARIMA model (tuned for each time series) to create the missing data for the quarters needed to forecast in future. I will use the original data (taking into account the fact that not all variables are stationary) then proceed with the predictions using the SARIMAX model (being the best at trainig-test time). This OOS dataset will be used also for the ML models"
   ]
  },
  {
   "cell_type": "code",
   "execution_count": 39,
   "id": "83603436",
   "metadata": {},
   "outputs": [],
   "source": [
    "oos_dates = pd.date_range(start='2009Q4', periods=17, freq='Q')\n",
    "forecast_steps = len(oos_dates)\n",
    "\n",
    "def find_best_arima_order(series, max_p=4, max_q=4, d = 0):\n",
    "    best_aic = np.inf\n",
    "    best_order = None\n",
    "    for p in range(max_p+1):\n",
    "        for q in range(max_q+1):\n",
    "            try:\n",
    "                model = ARIMA(series, order=(p, d, q))\n",
    "                results = model.fit()\n",
    "                if results.aic < best_aic:\n",
    "                    best_aic = results.aic\n",
    "                    best_order = (p, d, q)\n",
    "            except:\n",
    "                continue\n",
    "    return best_order\n",
    "\n",
    "def forecast_arima(series, steps, d):\n",
    "    order = find_best_arima_order(series, d = d)\n",
    "    model = ARIMA(series, order=order)\n",
    "    result = model.fit()\n",
    "    forecast = result.forecast(steps=steps)\n",
    "    return forecast\n",
    "\n",
    "infl_forecast = forecast_arima(data['infl'], forecast_steps, d = 0)\n",
    "pop_forecast = forecast_arima(data['pop'], forecast_steps, d = 2)\n",
    "realgdp_forecast = forecast_arima(data['realgdp'], forecast_steps, d = 1)\n",
    "\n",
    "X_oos_stat = pd.DataFrame({\n",
    "    'infl': infl_forecast,\n",
    "    'pop': pop_forecast,\n",
    "    'realgdp': realgdp_forecast,\n",
    "})"
   ]
  },
  {
   "cell_type": "code",
   "execution_count": 40,
   "id": "847d931a",
   "metadata": {},
   "outputs": [],
   "source": [
    "X_oos_stat = pd.concat([data[['infl', 'realgdp', 'pop']], X_oos_stat])\n",
    "general_df = pd.concat([data[['infl', 'realgdp', 'pop']], X_oos_stat])"
   ]
  },
  {
   "cell_type": "code",
   "execution_count": 41,
   "id": "bb665690",
   "metadata": {},
   "outputs": [
    {
     "name": "stdout",
     "output_type": "stream",
     "text": [
      "Order 0: ADF statistic=1.6573072994825266, p-value=0.9980197126495454\n",
      "Order 1: ADF statistic=-1.6856382395720129, p-value=0.43852686430062193\n",
      "Order 2: ADF statistic=-4.603428001012049, p-value=0.0001273033895681538\n",
      "Series is stationary after 2 diffs\n",
      "Order 0: ADF statistic=0.8338025645073387, p-value=0.9921626679388044\n",
      "Order 1: ADF statistic=-6.58141625743653, p-value=7.497798441990038e-09\n",
      "Series is stationary after 1 diffs\n"
     ]
    }
   ],
   "source": [
    "for col in ['pop', 'realgdp']:\n",
    "    X_oos_stat[col + '_diff'] = make_stationary(X_oos_stat[col])"
   ]
  },
  {
   "cell_type": "code",
   "execution_count": 42,
   "id": "51e6a767",
   "metadata": {},
   "outputs": [],
   "source": [
    "X_oos_stat['infl_rolling_mean'] = X_oos_stat['infl'].rolling(window=4).mean()\n",
    "X_oos_stat['pop_diff_lag_1'] = X_oos_stat['pop_diff'].shift(1)"
   ]
  },
  {
   "cell_type": "code",
   "execution_count": 43,
   "id": "f08519fe",
   "metadata": {},
   "outputs": [],
   "source": [
    "X_oos_stat[-17:].drop(['pop_diff','realgdp_diff'], axis = 1).to_csv('X_future_ml.csv') # I saved this dataset for having the future data for the next predictions"
   ]
  },
  {
   "cell_type": "code",
   "execution_count": 44,
   "id": "5d29d601",
   "metadata": {},
   "outputs": [
    {
     "name": "stdout",
     "output_type": "stream",
     "text": [
      "Order 0: ADF statistic=-1.865126509580742, p-value=0.3486402650305513\n",
      "Order 1: ADF statistic=-6.601227218913808, p-value=6.728005711362828e-09\n",
      "Series is stationary after 1 diffs\n"
     ]
    }
   ],
   "source": [
    "X_oos_stat.dropna(inplace=True)\n",
    "X_oos_stat['infl_rolling_mean_diff'] = make_stationary(X_oos_stat['infl_rolling_mean'])"
   ]
  },
  {
   "cell_type": "code",
   "execution_count": 45,
   "id": "ee280a27",
   "metadata": {},
   "outputs": [],
   "source": [
    "X_oos_stat = X_oos_stat[-17:][['infl', 'pop_diff', 'realgdp_diff', 'pop_diff_lag_1', 'infl_rolling_mean_diff']].copy()"
   ]
  },
  {
   "cell_type": "markdown",
   "id": "f36e3df1",
   "metadata": {},
   "source": [
    "Now I will build the SARIMAX model using all the data available, then perform the forecasting on the OOS data I created before"
   ]
  },
  {
   "cell_type": "code",
   "execution_count": 65,
   "id": "e4e51d28",
   "metadata": {},
   "outputs": [
    {
     "data": {
      "application/vnd.plotly.v1+json": {
       "config": {
        "plotlyServerURL": "https://plot.ly"
       },
       "data": [
        {
         "line": {
          "color": "blue"
         },
         "mode": "lines",
         "name": "Historical Unemployment Rate",
         "type": "scatter",
         "x": [
          "1959-01-01T00:00:00",
          "1959-04-01T00:00:00",
          "1959-07-01T00:00:00",
          "1959-10-01T00:00:00",
          "1960-01-01T00:00:00",
          "1960-04-01T00:00:00",
          "1960-07-01T00:00:00",
          "1960-10-01T00:00:00",
          "1961-01-01T00:00:00",
          "1961-04-01T00:00:00",
          "1961-07-01T00:00:00",
          "1961-10-01T00:00:00",
          "1962-01-01T00:00:00",
          "1962-04-01T00:00:00",
          "1962-07-01T00:00:00",
          "1962-10-01T00:00:00",
          "1963-01-01T00:00:00",
          "1963-04-01T00:00:00",
          "1963-07-01T00:00:00",
          "1963-10-01T00:00:00",
          "1964-01-01T00:00:00",
          "1964-04-01T00:00:00",
          "1964-07-01T00:00:00",
          "1964-10-01T00:00:00",
          "1965-01-01T00:00:00",
          "1965-04-01T00:00:00",
          "1965-07-01T00:00:00",
          "1965-10-01T00:00:00",
          "1966-01-01T00:00:00",
          "1966-04-01T00:00:00",
          "1966-07-01T00:00:00",
          "1966-10-01T00:00:00",
          "1967-01-01T00:00:00",
          "1967-04-01T00:00:00",
          "1967-07-01T00:00:00",
          "1967-10-01T00:00:00",
          "1968-01-01T00:00:00",
          "1968-04-01T00:00:00",
          "1968-07-01T00:00:00",
          "1968-10-01T00:00:00",
          "1969-01-01T00:00:00",
          "1969-04-01T00:00:00",
          "1969-07-01T00:00:00",
          "1969-10-01T00:00:00",
          "1970-01-01T00:00:00",
          "1970-04-01T00:00:00",
          "1970-07-01T00:00:00",
          "1970-10-01T00:00:00",
          "1971-01-01T00:00:00",
          "1971-04-01T00:00:00",
          "1971-07-01T00:00:00",
          "1971-10-01T00:00:00",
          "1972-01-01T00:00:00",
          "1972-04-01T00:00:00",
          "1972-07-01T00:00:00",
          "1972-10-01T00:00:00",
          "1973-01-01T00:00:00",
          "1973-04-01T00:00:00",
          "1973-07-01T00:00:00",
          "1973-10-01T00:00:00",
          "1974-01-01T00:00:00",
          "1974-04-01T00:00:00",
          "1974-07-01T00:00:00",
          "1974-10-01T00:00:00",
          "1975-01-01T00:00:00",
          "1975-04-01T00:00:00",
          "1975-07-01T00:00:00",
          "1975-10-01T00:00:00",
          "1976-01-01T00:00:00",
          "1976-04-01T00:00:00",
          "1976-07-01T00:00:00",
          "1976-10-01T00:00:00",
          "1977-01-01T00:00:00",
          "1977-04-01T00:00:00",
          "1977-07-01T00:00:00",
          "1977-10-01T00:00:00",
          "1978-01-01T00:00:00",
          "1978-04-01T00:00:00",
          "1978-07-01T00:00:00",
          "1978-10-01T00:00:00",
          "1979-01-01T00:00:00",
          "1979-04-01T00:00:00",
          "1979-07-01T00:00:00",
          "1979-10-01T00:00:00",
          "1980-01-01T00:00:00",
          "1980-04-01T00:00:00",
          "1980-07-01T00:00:00",
          "1980-10-01T00:00:00",
          "1981-01-01T00:00:00",
          "1981-04-01T00:00:00",
          "1981-07-01T00:00:00",
          "1981-10-01T00:00:00",
          "1982-01-01T00:00:00",
          "1982-04-01T00:00:00",
          "1982-07-01T00:00:00",
          "1982-10-01T00:00:00",
          "1983-01-01T00:00:00",
          "1983-04-01T00:00:00",
          "1983-07-01T00:00:00",
          "1983-10-01T00:00:00",
          "1984-01-01T00:00:00",
          "1984-04-01T00:00:00",
          "1984-07-01T00:00:00",
          "1984-10-01T00:00:00",
          "1985-01-01T00:00:00",
          "1985-04-01T00:00:00",
          "1985-07-01T00:00:00",
          "1985-10-01T00:00:00",
          "1986-01-01T00:00:00",
          "1986-04-01T00:00:00",
          "1986-07-01T00:00:00",
          "1986-10-01T00:00:00",
          "1987-01-01T00:00:00",
          "1987-04-01T00:00:00",
          "1987-07-01T00:00:00",
          "1987-10-01T00:00:00",
          "1988-01-01T00:00:00",
          "1988-04-01T00:00:00",
          "1988-07-01T00:00:00",
          "1988-10-01T00:00:00",
          "1989-01-01T00:00:00",
          "1989-04-01T00:00:00",
          "1989-07-01T00:00:00",
          "1989-10-01T00:00:00",
          "1990-01-01T00:00:00",
          "1990-04-01T00:00:00",
          "1990-07-01T00:00:00",
          "1990-10-01T00:00:00",
          "1991-01-01T00:00:00",
          "1991-04-01T00:00:00",
          "1991-07-01T00:00:00",
          "1991-10-01T00:00:00",
          "1992-01-01T00:00:00",
          "1992-04-01T00:00:00",
          "1992-07-01T00:00:00",
          "1992-10-01T00:00:00",
          "1993-01-01T00:00:00",
          "1993-04-01T00:00:00",
          "1993-07-01T00:00:00",
          "1993-10-01T00:00:00",
          "1994-01-01T00:00:00",
          "1994-04-01T00:00:00",
          "1994-07-01T00:00:00",
          "1994-10-01T00:00:00",
          "1995-01-01T00:00:00",
          "1995-04-01T00:00:00",
          "1995-07-01T00:00:00",
          "1995-10-01T00:00:00",
          "1996-01-01T00:00:00",
          "1996-04-01T00:00:00",
          "1996-07-01T00:00:00",
          "1996-10-01T00:00:00",
          "1997-01-01T00:00:00",
          "1997-04-01T00:00:00",
          "1997-07-01T00:00:00",
          "1997-10-01T00:00:00",
          "1998-01-01T00:00:00",
          "1998-04-01T00:00:00",
          "1998-07-01T00:00:00",
          "1998-10-01T00:00:00",
          "1999-01-01T00:00:00",
          "1999-04-01T00:00:00",
          "1999-07-01T00:00:00",
          "1999-10-01T00:00:00",
          "2000-01-01T00:00:00",
          "2000-04-01T00:00:00",
          "2000-07-01T00:00:00",
          "2000-10-01T00:00:00",
          "2001-01-01T00:00:00",
          "2001-04-01T00:00:00",
          "2001-07-01T00:00:00",
          "2001-10-01T00:00:00",
          "2002-01-01T00:00:00",
          "2002-04-01T00:00:00",
          "2002-07-01T00:00:00",
          "2002-10-01T00:00:00",
          "2003-01-01T00:00:00",
          "2003-04-01T00:00:00",
          "2003-07-01T00:00:00",
          "2003-10-01T00:00:00",
          "2004-01-01T00:00:00",
          "2004-04-01T00:00:00",
          "2004-07-01T00:00:00",
          "2004-10-01T00:00:00",
          "2005-01-01T00:00:00",
          "2005-04-01T00:00:00",
          "2005-07-01T00:00:00",
          "2005-10-01T00:00:00",
          "2006-01-01T00:00:00",
          "2006-04-01T00:00:00",
          "2006-07-01T00:00:00",
          "2006-10-01T00:00:00",
          "2007-01-01T00:00:00",
          "2007-04-01T00:00:00",
          "2007-07-01T00:00:00",
          "2007-10-01T00:00:00",
          "2008-01-01T00:00:00",
          "2008-04-01T00:00:00",
          "2008-07-01T00:00:00",
          "2008-10-01T00:00:00",
          "2009-01-01T00:00:00",
          "2009-04-01T00:00:00",
          "2009-07-01T00:00:00"
         ],
         "y": [
          5.8,
          5.1,
          5.3,
          5.6,
          5.2,
          5.2,
          5.6,
          6.3,
          6.8,
          7,
          6.8,
          6.2,
          5.6,
          5.5,
          5.6,
          5.5,
          5.8,
          5.7,
          5.5,
          5.6,
          5.5,
          5.2,
          5,
          5,
          4.9,
          4.7,
          4.4,
          4.1,
          3.9,
          3.8,
          3.8,
          3.8,
          3.8,
          3.8,
          3.8,
          3.9,
          3.8,
          3.8,
          3.8,
          8.9,
          3.8,
          3.8,
          3.8,
          3.8,
          4.2,
          4.8,
          5.2,
          5.8,
          5.9,
          5.9,
          6,
          6,
          5.8,
          5.7,
          5.6,
          5.3,
          5,
          4.9,
          4.8,
          4.8,
          5.1,
          5.2,
          5.6,
          6.6,
          8.2,
          8.9,
          8.5,
          8.3,
          7.7,
          7.6,
          7.7,
          7.8,
          7.5,
          7.1,
          6.9,
          6.6,
          6.3,
          6,
          6,
          5.9,
          5.9,
          5.7,
          5.9,
          5.9,
          6.3,
          7.3,
          7.7,
          7.4,
          7.4,
          7.4,
          7.4,
          8.2,
          8.8,
          8.9,
          8.9,
          8.9,
          8.9,
          8.9,
          8.9,
          8.5,
          7.9,
          7.5,
          7.4,
          7.3,
          7.3,
          7.3,
          7.2,
          7,
          7,
          7.2,
          7,
          6.8,
          6.6,
          6.3,
          6,
          5.9,
          5.7,
          5.5,
          5.5,
          5.3,
          5.2,
          5.2,
          5.3,
          5.4,
          5.3,
          5.3,
          5.7,
          6.1,
          6.6,
          6.8,
          6.9,
          7.1,
          7.4,
          7.6,
          7.6,
          7.4,
          7.2,
          7.1,
          6.8,
          6.6,
          6.6,
          6.2,
          6,
          5.6,
          5.5,
          5.7,
          5.7,
          5.6,
          5.5,
          5.5,
          5.3,
          8.9,
          5.2,
          5,
          4.9,
          4.7,
          4.6,
          4.4,
          4.5,
          4.4,
          4.3,
          4.3,
          4.2,
          4.1,
          4,
          3.9,
          4,
          3.9,
          4.2,
          4.4,
          4.8,
          5.5,
          5.7,
          5.8,
          5.7,
          5.8,
          5.9,
          6.2,
          6.1,
          5.8,
          5.7,
          5.6,
          5.4,
          5.4,
          5.3,
          5.1,
          5,
          4.9,
          4.7,
          4.7,
          4.7,
          4.4,
          4.5,
          4.5,
          4.7,
          4.8,
          4.9,
          5.4,
          6,
          6.9,
          8.1,
          8.9,
          8.9
         ]
        },
        {
         "line": {
          "color": "green",
          "dash": "dot"
         },
         "mode": "lines",
         "name": "Forecast (SARIMAX)",
         "type": "scatter",
         "x": [
          "2009-10-01T00:00:00",
          "2010-01-01T00:00:00",
          "2010-04-01T00:00:00",
          "2010-07-01T00:00:00",
          "2010-10-01T00:00:00",
          "2011-01-01T00:00:00",
          "2011-04-01T00:00:00",
          "2011-07-01T00:00:00",
          "2011-10-01T00:00:00",
          "2012-01-01T00:00:00",
          "2012-04-01T00:00:00",
          "2012-07-01T00:00:00",
          "2012-10-01T00:00:00",
          "2013-01-01T00:00:00",
          "2013-04-01T00:00:00",
          "2013-07-01T00:00:00",
          "2013-10-01T00:00:00"
         ],
         "y": [
          8.203384604257929,
          8.02003854051288,
          7.909745215748297,
          7.973168113945627,
          8.022611590769538,
          7.900091016921978,
          7.801930297336602,
          7.846001605199847,
          7.915525936374497,
          7.8014372085295545,
          7.700709916268895,
          7.75862915331105,
          7.827639266832507,
          7.720604065858363,
          7.624002470898192,
          7.685600194628986,
          7.759064858144144
         ]
        },
        {
         "fill": "toself",
         "fillcolor": "rgba(0,128,0,0.2)",
         "line": {
          "color": "rgba(255,255,255,0)"
         },
         "name": "95% Confidence Interval",
         "type": "scatter",
         "x": [
          "2009-10-01T00:00:00",
          "2010-01-01T00:00:00",
          "2010-04-01T00:00:00",
          "2010-07-01T00:00:00",
          "2010-10-01T00:00:00",
          "2011-01-01T00:00:00",
          "2011-04-01T00:00:00",
          "2011-07-01T00:00:00",
          "2011-10-01T00:00:00",
          "2012-01-01T00:00:00",
          "2012-04-01T00:00:00",
          "2012-07-01T00:00:00",
          "2012-10-01T00:00:00",
          "2013-01-01T00:00:00",
          "2013-04-01T00:00:00",
          "2013-07-01T00:00:00",
          "2013-10-01T00:00:00",
          "2013-10-01T00:00:00",
          "2013-07-01T00:00:00",
          "2013-04-01T00:00:00",
          "2013-01-01T00:00:00",
          "2012-10-01T00:00:00",
          "2012-07-01T00:00:00",
          "2012-04-01T00:00:00",
          "2012-01-01T00:00:00",
          "2011-10-01T00:00:00",
          "2011-07-01T00:00:00",
          "2011-04-01T00:00:00",
          "2011-01-01T00:00:00",
          "2010-10-01T00:00:00",
          "2010-07-01T00:00:00",
          "2010-04-01T00:00:00",
          "2010-01-01T00:00:00",
          "2009-10-01T00:00:00"
         ],
         "y": [
          7.007262358736959,
          5.521080351029449,
          4.106425279227595,
          2.86546368287585,
          1.6105223258198365,
          0.18361691303041816,
          -1.218928645572328,
          -2.4792421767275794,
          -3.7141026845714418,
          -5.132576251434898,
          -6.5376883827140695,
          -7.784153984690429,
          -9.019528710187485,
          -10.430948750180141,
          -11.831935184158825,
          -13.074722299446547,
          -14.3056424749499,
          29.82377219123819,
          28.44592268870452,
          27.07994012595521,
          25.87215688189687,
          24.6748072438525,
          23.30141229131253,
          21.939108215251863,
          20.735450668494007,
          19.545154557320437,
          18.17124538712727,
          16.822789240245534,
          15.616565120813538,
          14.434700855719239,
          13.080872545015405,
          11.713065152268998,
          10.51899672999631,
          9.3995068497789
         ]
        }
       ],
       "layout": {
        "height": 500,
        "legend": {
         "title": {
          "text": "Legend"
         }
        },
        "template": {
         "data": {
          "bar": [
           {
            "error_x": {
             "color": "#2a3f5f"
            },
            "error_y": {
             "color": "#2a3f5f"
            },
            "marker": {
             "line": {
              "color": "white",
              "width": 0.5
             },
             "pattern": {
              "fillmode": "overlay",
              "size": 10,
              "solidity": 0.2
             }
            },
            "type": "bar"
           }
          ],
          "barpolar": [
           {
            "marker": {
             "line": {
              "color": "white",
              "width": 0.5
             },
             "pattern": {
              "fillmode": "overlay",
              "size": 10,
              "solidity": 0.2
             }
            },
            "type": "barpolar"
           }
          ],
          "carpet": [
           {
            "aaxis": {
             "endlinecolor": "#2a3f5f",
             "gridcolor": "#C8D4E3",
             "linecolor": "#C8D4E3",
             "minorgridcolor": "#C8D4E3",
             "startlinecolor": "#2a3f5f"
            },
            "baxis": {
             "endlinecolor": "#2a3f5f",
             "gridcolor": "#C8D4E3",
             "linecolor": "#C8D4E3",
             "minorgridcolor": "#C8D4E3",
             "startlinecolor": "#2a3f5f"
            },
            "type": "carpet"
           }
          ],
          "choropleth": [
           {
            "colorbar": {
             "outlinewidth": 0,
             "ticks": ""
            },
            "type": "choropleth"
           }
          ],
          "contour": [
           {
            "colorbar": {
             "outlinewidth": 0,
             "ticks": ""
            },
            "colorscale": [
             [
              0,
              "#0d0887"
             ],
             [
              0.1111111111111111,
              "#46039f"
             ],
             [
              0.2222222222222222,
              "#7201a8"
             ],
             [
              0.3333333333333333,
              "#9c179e"
             ],
             [
              0.4444444444444444,
              "#bd3786"
             ],
             [
              0.5555555555555556,
              "#d8576b"
             ],
             [
              0.6666666666666666,
              "#ed7953"
             ],
             [
              0.7777777777777778,
              "#fb9f3a"
             ],
             [
              0.8888888888888888,
              "#fdca26"
             ],
             [
              1,
              "#f0f921"
             ]
            ],
            "type": "contour"
           }
          ],
          "contourcarpet": [
           {
            "colorbar": {
             "outlinewidth": 0,
             "ticks": ""
            },
            "type": "contourcarpet"
           }
          ],
          "heatmap": [
           {
            "colorbar": {
             "outlinewidth": 0,
             "ticks": ""
            },
            "colorscale": [
             [
              0,
              "#0d0887"
             ],
             [
              0.1111111111111111,
              "#46039f"
             ],
             [
              0.2222222222222222,
              "#7201a8"
             ],
             [
              0.3333333333333333,
              "#9c179e"
             ],
             [
              0.4444444444444444,
              "#bd3786"
             ],
             [
              0.5555555555555556,
              "#d8576b"
             ],
             [
              0.6666666666666666,
              "#ed7953"
             ],
             [
              0.7777777777777778,
              "#fb9f3a"
             ],
             [
              0.8888888888888888,
              "#fdca26"
             ],
             [
              1,
              "#f0f921"
             ]
            ],
            "type": "heatmap"
           }
          ],
          "heatmapgl": [
           {
            "colorbar": {
             "outlinewidth": 0,
             "ticks": ""
            },
            "colorscale": [
             [
              0,
              "#0d0887"
             ],
             [
              0.1111111111111111,
              "#46039f"
             ],
             [
              0.2222222222222222,
              "#7201a8"
             ],
             [
              0.3333333333333333,
              "#9c179e"
             ],
             [
              0.4444444444444444,
              "#bd3786"
             ],
             [
              0.5555555555555556,
              "#d8576b"
             ],
             [
              0.6666666666666666,
              "#ed7953"
             ],
             [
              0.7777777777777778,
              "#fb9f3a"
             ],
             [
              0.8888888888888888,
              "#fdca26"
             ],
             [
              1,
              "#f0f921"
             ]
            ],
            "type": "heatmapgl"
           }
          ],
          "histogram": [
           {
            "marker": {
             "pattern": {
              "fillmode": "overlay",
              "size": 10,
              "solidity": 0.2
             }
            },
            "type": "histogram"
           }
          ],
          "histogram2d": [
           {
            "colorbar": {
             "outlinewidth": 0,
             "ticks": ""
            },
            "colorscale": [
             [
              0,
              "#0d0887"
             ],
             [
              0.1111111111111111,
              "#46039f"
             ],
             [
              0.2222222222222222,
              "#7201a8"
             ],
             [
              0.3333333333333333,
              "#9c179e"
             ],
             [
              0.4444444444444444,
              "#bd3786"
             ],
             [
              0.5555555555555556,
              "#d8576b"
             ],
             [
              0.6666666666666666,
              "#ed7953"
             ],
             [
              0.7777777777777778,
              "#fb9f3a"
             ],
             [
              0.8888888888888888,
              "#fdca26"
             ],
             [
              1,
              "#f0f921"
             ]
            ],
            "type": "histogram2d"
           }
          ],
          "histogram2dcontour": [
           {
            "colorbar": {
             "outlinewidth": 0,
             "ticks": ""
            },
            "colorscale": [
             [
              0,
              "#0d0887"
             ],
             [
              0.1111111111111111,
              "#46039f"
             ],
             [
              0.2222222222222222,
              "#7201a8"
             ],
             [
              0.3333333333333333,
              "#9c179e"
             ],
             [
              0.4444444444444444,
              "#bd3786"
             ],
             [
              0.5555555555555556,
              "#d8576b"
             ],
             [
              0.6666666666666666,
              "#ed7953"
             ],
             [
              0.7777777777777778,
              "#fb9f3a"
             ],
             [
              0.8888888888888888,
              "#fdca26"
             ],
             [
              1,
              "#f0f921"
             ]
            ],
            "type": "histogram2dcontour"
           }
          ],
          "mesh3d": [
           {
            "colorbar": {
             "outlinewidth": 0,
             "ticks": ""
            },
            "type": "mesh3d"
           }
          ],
          "parcoords": [
           {
            "line": {
             "colorbar": {
              "outlinewidth": 0,
              "ticks": ""
             }
            },
            "type": "parcoords"
           }
          ],
          "pie": [
           {
            "automargin": true,
            "type": "pie"
           }
          ],
          "scatter": [
           {
            "fillpattern": {
             "fillmode": "overlay",
             "size": 10,
             "solidity": 0.2
            },
            "type": "scatter"
           }
          ],
          "scatter3d": [
           {
            "line": {
             "colorbar": {
              "outlinewidth": 0,
              "ticks": ""
             }
            },
            "marker": {
             "colorbar": {
              "outlinewidth": 0,
              "ticks": ""
             }
            },
            "type": "scatter3d"
           }
          ],
          "scattercarpet": [
           {
            "marker": {
             "colorbar": {
              "outlinewidth": 0,
              "ticks": ""
             }
            },
            "type": "scattercarpet"
           }
          ],
          "scattergeo": [
           {
            "marker": {
             "colorbar": {
              "outlinewidth": 0,
              "ticks": ""
             }
            },
            "type": "scattergeo"
           }
          ],
          "scattergl": [
           {
            "marker": {
             "colorbar": {
              "outlinewidth": 0,
              "ticks": ""
             }
            },
            "type": "scattergl"
           }
          ],
          "scattermapbox": [
           {
            "marker": {
             "colorbar": {
              "outlinewidth": 0,
              "ticks": ""
             }
            },
            "type": "scattermapbox"
           }
          ],
          "scatterpolar": [
           {
            "marker": {
             "colorbar": {
              "outlinewidth": 0,
              "ticks": ""
             }
            },
            "type": "scatterpolar"
           }
          ],
          "scatterpolargl": [
           {
            "marker": {
             "colorbar": {
              "outlinewidth": 0,
              "ticks": ""
             }
            },
            "type": "scatterpolargl"
           }
          ],
          "scatterternary": [
           {
            "marker": {
             "colorbar": {
              "outlinewidth": 0,
              "ticks": ""
             }
            },
            "type": "scatterternary"
           }
          ],
          "surface": [
           {
            "colorbar": {
             "outlinewidth": 0,
             "ticks": ""
            },
            "colorscale": [
             [
              0,
              "#0d0887"
             ],
             [
              0.1111111111111111,
              "#46039f"
             ],
             [
              0.2222222222222222,
              "#7201a8"
             ],
             [
              0.3333333333333333,
              "#9c179e"
             ],
             [
              0.4444444444444444,
              "#bd3786"
             ],
             [
              0.5555555555555556,
              "#d8576b"
             ],
             [
              0.6666666666666666,
              "#ed7953"
             ],
             [
              0.7777777777777778,
              "#fb9f3a"
             ],
             [
              0.8888888888888888,
              "#fdca26"
             ],
             [
              1,
              "#f0f921"
             ]
            ],
            "type": "surface"
           }
          ],
          "table": [
           {
            "cells": {
             "fill": {
              "color": "#EBF0F8"
             },
             "line": {
              "color": "white"
             }
            },
            "header": {
             "fill": {
              "color": "#C8D4E3"
             },
             "line": {
              "color": "white"
             }
            },
            "type": "table"
           }
          ]
         },
         "layout": {
          "annotationdefaults": {
           "arrowcolor": "#2a3f5f",
           "arrowhead": 0,
           "arrowwidth": 1
          },
          "autotypenumbers": "strict",
          "coloraxis": {
           "colorbar": {
            "outlinewidth": 0,
            "ticks": ""
           }
          },
          "colorscale": {
           "diverging": [
            [
             0,
             "#8e0152"
            ],
            [
             0.1,
             "#c51b7d"
            ],
            [
             0.2,
             "#de77ae"
            ],
            [
             0.3,
             "#f1b6da"
            ],
            [
             0.4,
             "#fde0ef"
            ],
            [
             0.5,
             "#f7f7f7"
            ],
            [
             0.6,
             "#e6f5d0"
            ],
            [
             0.7,
             "#b8e186"
            ],
            [
             0.8,
             "#7fbc41"
            ],
            [
             0.9,
             "#4d9221"
            ],
            [
             1,
             "#276419"
            ]
           ],
           "sequential": [
            [
             0,
             "#0d0887"
            ],
            [
             0.1111111111111111,
             "#46039f"
            ],
            [
             0.2222222222222222,
             "#7201a8"
            ],
            [
             0.3333333333333333,
             "#9c179e"
            ],
            [
             0.4444444444444444,
             "#bd3786"
            ],
            [
             0.5555555555555556,
             "#d8576b"
            ],
            [
             0.6666666666666666,
             "#ed7953"
            ],
            [
             0.7777777777777778,
             "#fb9f3a"
            ],
            [
             0.8888888888888888,
             "#fdca26"
            ],
            [
             1,
             "#f0f921"
            ]
           ],
           "sequentialminus": [
            [
             0,
             "#0d0887"
            ],
            [
             0.1111111111111111,
             "#46039f"
            ],
            [
             0.2222222222222222,
             "#7201a8"
            ],
            [
             0.3333333333333333,
             "#9c179e"
            ],
            [
             0.4444444444444444,
             "#bd3786"
            ],
            [
             0.5555555555555556,
             "#d8576b"
            ],
            [
             0.6666666666666666,
             "#ed7953"
            ],
            [
             0.7777777777777778,
             "#fb9f3a"
            ],
            [
             0.8888888888888888,
             "#fdca26"
            ],
            [
             1,
             "#f0f921"
            ]
           ]
          },
          "colorway": [
           "#636efa",
           "#EF553B",
           "#00cc96",
           "#ab63fa",
           "#FFA15A",
           "#19d3f3",
           "#FF6692",
           "#B6E880",
           "#FF97FF",
           "#FECB52"
          ],
          "font": {
           "color": "#2a3f5f"
          },
          "geo": {
           "bgcolor": "white",
           "lakecolor": "white",
           "landcolor": "white",
           "showlakes": true,
           "showland": true,
           "subunitcolor": "#C8D4E3"
          },
          "hoverlabel": {
           "align": "left"
          },
          "hovermode": "closest",
          "mapbox": {
           "style": "light"
          },
          "paper_bgcolor": "white",
          "plot_bgcolor": "white",
          "polar": {
           "angularaxis": {
            "gridcolor": "#EBF0F8",
            "linecolor": "#EBF0F8",
            "ticks": ""
           },
           "bgcolor": "white",
           "radialaxis": {
            "gridcolor": "#EBF0F8",
            "linecolor": "#EBF0F8",
            "ticks": ""
           }
          },
          "scene": {
           "xaxis": {
            "backgroundcolor": "white",
            "gridcolor": "#DFE8F3",
            "gridwidth": 2,
            "linecolor": "#EBF0F8",
            "showbackground": true,
            "ticks": "",
            "zerolinecolor": "#EBF0F8"
           },
           "yaxis": {
            "backgroundcolor": "white",
            "gridcolor": "#DFE8F3",
            "gridwidth": 2,
            "linecolor": "#EBF0F8",
            "showbackground": true,
            "ticks": "",
            "zerolinecolor": "#EBF0F8"
           },
           "zaxis": {
            "backgroundcolor": "white",
            "gridcolor": "#DFE8F3",
            "gridwidth": 2,
            "linecolor": "#EBF0F8",
            "showbackground": true,
            "ticks": "",
            "zerolinecolor": "#EBF0F8"
           }
          },
          "shapedefaults": {
           "line": {
            "color": "#2a3f5f"
           }
          },
          "ternary": {
           "aaxis": {
            "gridcolor": "#DFE8F3",
            "linecolor": "#A2B1C6",
            "ticks": ""
           },
           "baxis": {
            "gridcolor": "#DFE8F3",
            "linecolor": "#A2B1C6",
            "ticks": ""
           },
           "bgcolor": "white",
           "caxis": {
            "gridcolor": "#DFE8F3",
            "linecolor": "#A2B1C6",
            "ticks": ""
           }
          },
          "title": {
           "x": 0.05
          },
          "xaxis": {
           "automargin": true,
           "gridcolor": "#EBF0F8",
           "linecolor": "#EBF0F8",
           "ticks": "",
           "title": {
            "standoff": 15
           },
           "zerolinecolor": "#EBF0F8",
           "zerolinewidth": 2
          },
          "yaxis": {
           "automargin": true,
           "gridcolor": "#EBF0F8",
           "linecolor": "#EBF0F8",
           "ticks": "",
           "title": {
            "standoff": 15
           },
           "zerolinecolor": "#EBF0F8",
           "zerolinewidth": 2
          }
         }
        },
        "title": {
         "text": "Unemployment rate forecast (SARIMAX)"
        },
        "width": 900,
        "xaxis": {
         "title": {
          "text": "Time"
         }
        },
        "yaxis": {
         "title": {
          "text": "Unemployment Rate (%)"
         }
        }
       }
      }
     },
     "metadata": {},
     "output_type": "display_data"
    }
   ],
   "source": [
    "\n",
    "sarimax_model = sm.tsa.SARIMAX(\n",
    "    pd.concat([y_train_stat, y_val_stat]), \n",
    "    exog=pd.concat([X_train_stat, X_val_stat]), \n",
    "    order=(1, 0, 1),\n",
    "    enforce_stationarity=False,\n",
    "    enforce_invertibility=False\n",
    ")\n",
    "\n",
    "sarimax_result = sarimax_model.fit(disp=False)\n",
    "\n",
    "forecast_result = sarimax_result.get_forecast(\n",
    "    steps=len(X_oos_stat),\n",
    "    exog=X_oos_stat\n",
    ")\n",
    "\n",
    "forecast_diff = forecast_result.predicted_mean\n",
    "forecast_conf_int = forecast_result.conf_int(alpha=0.05)\n",
    "\n",
    "last_unemp_value = data['unemp_wins'].iloc[-1]\n",
    "\n",
    "forecast_unemp = last_unemp_value + forecast_diff.cumsum()\n",
    "forecast_lower = last_unemp_value + forecast_conf_int.iloc[:, 0].cumsum()\n",
    "forecast_upper = last_unemp_value + forecast_conf_int.iloc[:, 1].cumsum()\n",
    "\n",
    "fig = go.Figure()\n",
    "\n",
    "fig.add_trace(go.Scatter(\n",
    "    x=data.index, \n",
    "    y=data['unemp_wins'],\n",
    "    mode='lines',\n",
    "    name='Historical Unemployment Rate',\n",
    "    line=dict(color='blue')\n",
    "))\n",
    "\n",
    "fig.add_trace(go.Scatter(\n",
    "    x=forecast_unemp.index,\n",
    "    y=forecast_unemp,\n",
    "    mode='lines',\n",
    "    name='Forecast (SARIMAX)',\n",
    "    line=dict(color='green', dash='dot')\n",
    "))\n",
    "\n",
    "fig.add_trace(go.Scatter(\n",
    "    x=list(forecast_lower.index) + list(forecast_upper.index[::-1]),\n",
    "    y=list(forecast_lower) + list(forecast_upper[::-1]),\n",
    "    fill='toself',\n",
    "    fillcolor='rgba(0,128,0,0.2)',\n",
    "    line_color='rgba(255,255,255,0)',\n",
    "    name='95% Confidence Interval'\n",
    "))\n",
    "\n",
    "fig.update_layout(\n",
    "    title=\"Unemployment rate forecast (SARIMAX)\",\n",
    "    xaxis_title=\"Time\",\n",
    "    yaxis_title=\"Unemployment Rate (%)\",\n",
    "    legend_title=\"Legend\",\n",
    "    template=\"plotly_white\",\n",
    "    width=900,\n",
    "    height=500\n",
    ")\n",
    "\n",
    "fig.show()"
   ]
  },
  {
   "cell_type": "code",
   "execution_count": 66,
   "id": "7b6fadfd",
   "metadata": {},
   "outputs": [],
   "source": [
    "unemp_2013 = forecast_unemp.iloc[-4:]\n",
    "pop_df = general_df['pop'].iloc[-4:]\n",
    "pop_forecast_df = pd.concat([unemp_2013, pop_df], axis = 1)"
   ]
  },
  {
   "cell_type": "code",
   "execution_count": 67,
   "id": "dfa53101",
   "metadata": {},
   "outputs": [
    {
     "data": {
      "text/html": [
       "<div>\n",
       "<style scoped>\n",
       "    .dataframe tbody tr th:only-of-type {\n",
       "        vertical-align: middle;\n",
       "    }\n",
       "\n",
       "    .dataframe tbody tr th {\n",
       "        vertical-align: top;\n",
       "    }\n",
       "\n",
       "    .dataframe thead th {\n",
       "        text-align: right;\n",
       "    }\n",
       "</style>\n",
       "<table border=\"1\" class=\"dataframe\">\n",
       "  <thead>\n",
       "    <tr style=\"text-align: right;\">\n",
       "      <th></th>\n",
       "      <th>predicted_mean</th>\n",
       "      <th>pop</th>\n",
       "    </tr>\n",
       "  </thead>\n",
       "  <tbody>\n",
       "    <tr>\n",
       "      <th>2013-01-01</th>\n",
       "      <td>7.720604</td>\n",
       "      <td>317.587459</td>\n",
       "    </tr>\n",
       "    <tr>\n",
       "      <th>2013-04-01</th>\n",
       "      <td>7.624002</td>\n",
       "      <td>318.284213</td>\n",
       "    </tr>\n",
       "    <tr>\n",
       "      <th>2013-07-01</th>\n",
       "      <td>7.685600</td>\n",
       "      <td>319.068720</td>\n",
       "    </tr>\n",
       "    <tr>\n",
       "      <th>2013-10-01</th>\n",
       "      <td>7.759065</td>\n",
       "      <td>319.749127</td>\n",
       "    </tr>\n",
       "  </tbody>\n",
       "</table>\n",
       "</div>"
      ],
      "text/plain": [
       "            predicted_mean         pop\n",
       "2013-01-01        7.720604  317.587459\n",
       "2013-04-01        7.624002  318.284213\n",
       "2013-07-01        7.685600  319.068720\n",
       "2013-10-01        7.759065  319.749127"
      ]
     },
     "execution_count": 67,
     "metadata": {},
     "output_type": "execute_result"
    }
   ],
   "source": [
    "pop_forecast_df"
   ]
  },
  {
   "cell_type": "code",
   "execution_count": 68,
   "id": "cb8e9aa4",
   "metadata": {},
   "outputs": [
    {
     "data": {
      "text/html": [
       "<div>\n",
       "<style scoped>\n",
       "    .dataframe tbody tr th:only-of-type {\n",
       "        vertical-align: middle;\n",
       "    }\n",
       "\n",
       "    .dataframe tbody tr th {\n",
       "        vertical-align: top;\n",
       "    }\n",
       "\n",
       "    .dataframe thead th {\n",
       "        text-align: right;\n",
       "    }\n",
       "</style>\n",
       "<table border=\"1\" class=\"dataframe\">\n",
       "  <thead>\n",
       "    <tr style=\"text-align: right;\">\n",
       "      <th></th>\n",
       "      <th>predicted_mean</th>\n",
       "      <th>pop</th>\n",
       "      <th>labor</th>\n",
       "      <th>unemployed</th>\n",
       "    </tr>\n",
       "  </thead>\n",
       "  <tbody>\n",
       "    <tr>\n",
       "      <th>2013-01-01</th>\n",
       "      <td>7.720604</td>\n",
       "      <td>317.587459</td>\n",
       "      <td>206.431848</td>\n",
       "      <td>15.937786</td>\n",
       "    </tr>\n",
       "    <tr>\n",
       "      <th>2013-04-01</th>\n",
       "      <td>7.624002</td>\n",
       "      <td>318.284213</td>\n",
       "      <td>206.884738</td>\n",
       "      <td>15.772898</td>\n",
       "    </tr>\n",
       "    <tr>\n",
       "      <th>2013-07-01</th>\n",
       "      <td>7.685600</td>\n",
       "      <td>319.068720</td>\n",
       "      <td>207.394668</td>\n",
       "      <td>15.939525</td>\n",
       "    </tr>\n",
       "    <tr>\n",
       "      <th>2013-10-01</th>\n",
       "      <td>7.759065</td>\n",
       "      <td>319.749127</td>\n",
       "      <td>207.836933</td>\n",
       "      <td>16.126202</td>\n",
       "    </tr>\n",
       "  </tbody>\n",
       "</table>\n",
       "</div>"
      ],
      "text/plain": [
       "            predicted_mean         pop       labor  unemployed\n",
       "2013-01-01        7.720604  317.587459  206.431848   15.937786\n",
       "2013-04-01        7.624002  318.284213  206.884738   15.772898\n",
       "2013-07-01        7.685600  319.068720  207.394668   15.939525\n",
       "2013-10-01        7.759065  319.749127  207.836933   16.126202"
      ]
     },
     "execution_count": 68,
     "metadata": {},
     "output_type": "execute_result"
    }
   ],
   "source": [
    "pop_forecast_df['labor'] = pop_forecast_df['pop'] * 0.65\n",
    "pop_forecast_df['unemployed'] = (pop_forecast_df['predicted_mean'] / 100) * pop_forecast_df['labor']\n",
    "pop_forecast_df"
   ]
  },
  {
   "cell_type": "code",
   "execution_count": 69,
   "id": "501ab872",
   "metadata": {},
   "outputs": [
    {
     "data": {
      "text/plain": [
       "15.94"
      ]
     },
     "execution_count": 69,
     "metadata": {},
     "output_type": "execute_result"
    }
   ],
   "source": [
    "total_unemployed_2013 = pop_forecast_df['unemployed'].mean()\n",
    "np.round(total_unemployed_2013, 2)"
   ]
  },
  {
   "cell_type": "markdown",
   "id": "4204b691",
   "metadata": {},
   "source": [
    "Based on our forecasting using the SARIMAX model for the unemp rate, approximately 15.94 million people (on average) are expected to be unemployed through 2013. "
   ]
  },
  {
   "cell_type": "markdown",
   "id": "747dc52f",
   "metadata": {},
   "source": [
    "I will follow the same process for the VECM model"
   ]
  },
  {
   "cell_type": "code",
   "execution_count": 70,
   "id": "b1be0d98",
   "metadata": {},
   "outputs": [
    {
     "data": {
      "application/vnd.plotly.v1+json": {
       "config": {
        "plotlyServerURL": "https://plot.ly"
       },
       "data": [
        {
         "line": {
          "color": "blue"
         },
         "mode": "lines",
         "name": "Historical unemployment rate",
         "type": "scatter",
         "x": [
          "1959-01-01T00:00:00",
          "1959-04-01T00:00:00",
          "1959-07-01T00:00:00",
          "1959-10-01T00:00:00",
          "1960-01-01T00:00:00",
          "1960-04-01T00:00:00",
          "1960-07-01T00:00:00",
          "1960-10-01T00:00:00",
          "1961-01-01T00:00:00",
          "1961-04-01T00:00:00",
          "1961-07-01T00:00:00",
          "1961-10-01T00:00:00",
          "1962-01-01T00:00:00",
          "1962-04-01T00:00:00",
          "1962-07-01T00:00:00",
          "1962-10-01T00:00:00",
          "1963-01-01T00:00:00",
          "1963-04-01T00:00:00",
          "1963-07-01T00:00:00",
          "1963-10-01T00:00:00",
          "1964-01-01T00:00:00",
          "1964-04-01T00:00:00",
          "1964-07-01T00:00:00",
          "1964-10-01T00:00:00",
          "1965-01-01T00:00:00",
          "1965-04-01T00:00:00",
          "1965-07-01T00:00:00",
          "1965-10-01T00:00:00",
          "1966-01-01T00:00:00",
          "1966-04-01T00:00:00",
          "1966-07-01T00:00:00",
          "1966-10-01T00:00:00",
          "1967-01-01T00:00:00",
          "1967-04-01T00:00:00",
          "1967-07-01T00:00:00",
          "1967-10-01T00:00:00",
          "1968-01-01T00:00:00",
          "1968-04-01T00:00:00",
          "1968-07-01T00:00:00",
          "1968-10-01T00:00:00",
          "1969-01-01T00:00:00",
          "1969-04-01T00:00:00",
          "1969-07-01T00:00:00",
          "1969-10-01T00:00:00",
          "1970-01-01T00:00:00",
          "1970-04-01T00:00:00",
          "1970-07-01T00:00:00",
          "1970-10-01T00:00:00",
          "1971-01-01T00:00:00",
          "1971-04-01T00:00:00",
          "1971-07-01T00:00:00",
          "1971-10-01T00:00:00",
          "1972-01-01T00:00:00",
          "1972-04-01T00:00:00",
          "1972-07-01T00:00:00",
          "1972-10-01T00:00:00",
          "1973-01-01T00:00:00",
          "1973-04-01T00:00:00",
          "1973-07-01T00:00:00",
          "1973-10-01T00:00:00",
          "1974-01-01T00:00:00",
          "1974-04-01T00:00:00",
          "1974-07-01T00:00:00",
          "1974-10-01T00:00:00",
          "1975-01-01T00:00:00",
          "1975-04-01T00:00:00",
          "1975-07-01T00:00:00",
          "1975-10-01T00:00:00",
          "1976-01-01T00:00:00",
          "1976-04-01T00:00:00",
          "1976-07-01T00:00:00",
          "1976-10-01T00:00:00",
          "1977-01-01T00:00:00",
          "1977-04-01T00:00:00",
          "1977-07-01T00:00:00",
          "1977-10-01T00:00:00",
          "1978-01-01T00:00:00",
          "1978-04-01T00:00:00",
          "1978-07-01T00:00:00",
          "1978-10-01T00:00:00",
          "1979-01-01T00:00:00",
          "1979-04-01T00:00:00",
          "1979-07-01T00:00:00",
          "1979-10-01T00:00:00",
          "1980-01-01T00:00:00",
          "1980-04-01T00:00:00",
          "1980-07-01T00:00:00",
          "1980-10-01T00:00:00",
          "1981-01-01T00:00:00",
          "1981-04-01T00:00:00",
          "1981-07-01T00:00:00",
          "1981-10-01T00:00:00",
          "1982-01-01T00:00:00",
          "1982-04-01T00:00:00",
          "1982-07-01T00:00:00",
          "1982-10-01T00:00:00",
          "1983-01-01T00:00:00",
          "1983-04-01T00:00:00",
          "1983-07-01T00:00:00",
          "1983-10-01T00:00:00",
          "1984-01-01T00:00:00",
          "1984-04-01T00:00:00",
          "1984-07-01T00:00:00",
          "1984-10-01T00:00:00",
          "1985-01-01T00:00:00",
          "1985-04-01T00:00:00",
          "1985-07-01T00:00:00",
          "1985-10-01T00:00:00",
          "1986-01-01T00:00:00",
          "1986-04-01T00:00:00",
          "1986-07-01T00:00:00",
          "1986-10-01T00:00:00",
          "1987-01-01T00:00:00",
          "1987-04-01T00:00:00",
          "1987-07-01T00:00:00",
          "1987-10-01T00:00:00",
          "1988-01-01T00:00:00",
          "1988-04-01T00:00:00",
          "1988-07-01T00:00:00",
          "1988-10-01T00:00:00",
          "1989-01-01T00:00:00",
          "1989-04-01T00:00:00",
          "1989-07-01T00:00:00",
          "1989-10-01T00:00:00",
          "1990-01-01T00:00:00",
          "1990-04-01T00:00:00",
          "1990-07-01T00:00:00",
          "1990-10-01T00:00:00",
          "1991-01-01T00:00:00",
          "1991-04-01T00:00:00",
          "1991-07-01T00:00:00",
          "1991-10-01T00:00:00",
          "1992-01-01T00:00:00",
          "1992-04-01T00:00:00",
          "1992-07-01T00:00:00",
          "1992-10-01T00:00:00",
          "1993-01-01T00:00:00",
          "1993-04-01T00:00:00",
          "1993-07-01T00:00:00",
          "1993-10-01T00:00:00",
          "1994-01-01T00:00:00",
          "1994-04-01T00:00:00",
          "1994-07-01T00:00:00",
          "1994-10-01T00:00:00",
          "1995-01-01T00:00:00",
          "1995-04-01T00:00:00",
          "1995-07-01T00:00:00",
          "1995-10-01T00:00:00",
          "1996-01-01T00:00:00",
          "1996-04-01T00:00:00",
          "1996-07-01T00:00:00",
          "1996-10-01T00:00:00",
          "1997-01-01T00:00:00",
          "1997-04-01T00:00:00",
          "1997-07-01T00:00:00",
          "1997-10-01T00:00:00",
          "1998-01-01T00:00:00",
          "1998-04-01T00:00:00",
          "1998-07-01T00:00:00",
          "1998-10-01T00:00:00",
          "1999-01-01T00:00:00",
          "1999-04-01T00:00:00",
          "1999-07-01T00:00:00",
          "1999-10-01T00:00:00",
          "2000-01-01T00:00:00",
          "2000-04-01T00:00:00",
          "2000-07-01T00:00:00",
          "2000-10-01T00:00:00",
          "2001-01-01T00:00:00",
          "2001-04-01T00:00:00",
          "2001-07-01T00:00:00",
          "2001-10-01T00:00:00",
          "2002-01-01T00:00:00",
          "2002-04-01T00:00:00",
          "2002-07-01T00:00:00",
          "2002-10-01T00:00:00",
          "2003-01-01T00:00:00",
          "2003-04-01T00:00:00",
          "2003-07-01T00:00:00",
          "2003-10-01T00:00:00",
          "2004-01-01T00:00:00",
          "2004-04-01T00:00:00",
          "2004-07-01T00:00:00",
          "2004-10-01T00:00:00",
          "2005-01-01T00:00:00",
          "2005-04-01T00:00:00",
          "2005-07-01T00:00:00",
          "2005-10-01T00:00:00",
          "2006-01-01T00:00:00",
          "2006-04-01T00:00:00",
          "2006-07-01T00:00:00",
          "2006-10-01T00:00:00",
          "2007-01-01T00:00:00",
          "2007-04-01T00:00:00",
          "2007-07-01T00:00:00",
          "2007-10-01T00:00:00",
          "2008-01-01T00:00:00",
          "2008-04-01T00:00:00",
          "2008-07-01T00:00:00",
          "2008-10-01T00:00:00",
          "2009-01-01T00:00:00",
          "2009-04-01T00:00:00",
          "2009-07-01T00:00:00"
         ],
         "y": [
          5.8,
          5.1,
          5.3,
          5.6,
          5.2,
          5.2,
          5.6,
          6.3,
          6.8,
          7,
          6.8,
          6.2,
          5.6,
          5.5,
          5.6,
          5.5,
          5.8,
          5.7,
          5.5,
          5.6,
          5.5,
          5.2,
          5,
          5,
          4.9,
          4.7,
          4.4,
          4.1,
          3.9,
          3.8,
          3.8,
          3.8,
          3.8,
          3.8,
          3.8,
          3.9,
          3.8,
          3.8,
          3.8,
          8.9,
          3.8,
          3.8,
          3.8,
          3.8,
          4.2,
          4.8,
          5.2,
          5.8,
          5.9,
          5.9,
          6,
          6,
          5.8,
          5.7,
          5.6,
          5.3,
          5,
          4.9,
          4.8,
          4.8,
          5.1,
          5.2,
          5.6,
          6.6,
          8.2,
          8.9,
          8.5,
          8.3,
          7.7,
          7.6,
          7.7,
          7.8,
          7.5,
          7.1,
          6.9,
          6.6,
          6.3,
          6,
          6,
          5.9,
          5.9,
          5.7,
          5.9,
          5.9,
          6.3,
          7.3,
          7.7,
          7.4,
          7.4,
          7.4,
          7.4,
          8.2,
          8.8,
          8.9,
          8.9,
          8.9,
          8.9,
          8.9,
          8.9,
          8.5,
          7.9,
          7.5,
          7.4,
          7.3,
          7.3,
          7.3,
          7.2,
          7,
          7,
          7.2,
          7,
          6.8,
          6.6,
          6.3,
          6,
          5.9,
          5.7,
          5.5,
          5.5,
          5.3,
          5.2,
          5.2,
          5.3,
          5.4,
          5.3,
          5.3,
          5.7,
          6.1,
          6.6,
          6.8,
          6.9,
          7.1,
          7.4,
          7.6,
          7.6,
          7.4,
          7.2,
          7.1,
          6.8,
          6.6,
          6.6,
          6.2,
          6,
          5.6,
          5.5,
          5.7,
          5.7,
          5.6,
          5.5,
          5.5,
          5.3,
          8.9,
          5.2,
          5,
          4.9,
          4.7,
          4.6,
          4.4,
          4.5,
          4.4,
          4.3,
          4.3,
          4.2,
          4.1,
          4,
          3.9,
          4,
          3.9,
          4.2,
          4.4,
          4.8,
          5.5,
          5.7,
          5.8,
          5.7,
          5.8,
          5.9,
          6.2,
          6.1,
          5.8,
          5.7,
          5.6,
          5.4,
          5.4,
          5.3,
          5.1,
          5,
          4.9,
          4.7,
          4.7,
          4.7,
          4.4,
          4.5,
          4.5,
          4.7,
          4.8,
          4.9,
          5.4,
          6,
          6.9,
          8.1,
          8.9,
          8.9
         ]
        },
        {
         "line": {
          "color": "green",
          "dash": "dot"
         },
         "mode": "lines",
         "name": "Forecast (SARIMAX)",
         "type": "scatter",
         "x": [
          "2009-10-01T00:00:00",
          "2010-01-01T00:00:00",
          "2010-04-01T00:00:00",
          "2010-07-01T00:00:00",
          "2010-10-01T00:00:00",
          "2011-01-01T00:00:00",
          "2011-04-01T00:00:00",
          "2011-07-01T00:00:00",
          "2011-10-01T00:00:00",
          "2012-01-01T00:00:00",
          "2012-04-01T00:00:00",
          "2012-07-01T00:00:00",
          "2012-10-01T00:00:00",
          "2013-01-01T00:00:00",
          "2013-04-01T00:00:00",
          "2013-07-01T00:00:00",
          "2013-10-01T00:00:00"
         ],
         "y": [
          8.831082877503038,
          8.784094108405919,
          8.722040292895645,
          8.748231589868322,
          8.865051288712223,
          8.82930455634854,
          8.78581531623737,
          8.848913577235653,
          8.92441124259417,
          8.903177194713711,
          8.882195241449422,
          8.941970684898507,
          8.996650453393743,
          8.982569125917754,
          8.978299891820576,
          9.031672153385097,
          9.07251223250079
         ]
        },
        {
         "fill": "toself",
         "fillcolor": "rgba(0,128,0,0.2)",
         "line": {
          "color": "rgba(255,255,255,0)"
         },
         "name": "95% confidence iterval",
         "type": "scatter",
         "x": [
          "2009-10-01T00:00:00",
          "2010-01-01T00:00:00",
          "2010-04-01T00:00:00",
          "2010-07-01T00:00:00",
          "2010-10-01T00:00:00",
          "2011-01-01T00:00:00",
          "2011-04-01T00:00:00",
          "2011-07-01T00:00:00",
          "2011-10-01T00:00:00",
          "2012-01-01T00:00:00",
          "2012-04-01T00:00:00",
          "2012-07-01T00:00:00",
          "2012-10-01T00:00:00",
          "2013-01-01T00:00:00",
          "2013-04-01T00:00:00",
          "2013-07-01T00:00:00",
          "2013-10-01T00:00:00",
          "2013-10-01T00:00:00",
          "2013-07-01T00:00:00",
          "2013-04-01T00:00:00",
          "2013-01-01T00:00:00",
          "2012-10-01T00:00:00",
          "2012-07-01T00:00:00",
          "2012-04-01T00:00:00",
          "2012-01-01T00:00:00",
          "2011-10-01T00:00:00",
          "2011-07-01T00:00:00",
          "2011-04-01T00:00:00",
          "2011-01-01T00:00:00",
          "2010-10-01T00:00:00",
          "2010-07-01T00:00:00",
          "2010-04-01T00:00:00",
          "2010-01-01T00:00:00",
          "2009-10-01T00:00:00"
         ],
         "y": [
          7.007262358736959,
          5.521080351029449,
          4.106425279227595,
          2.86546368287585,
          1.6105223258198365,
          0.18361691303041816,
          -1.218928645572328,
          -2.4792421767275794,
          -3.7141026845714418,
          -5.132576251434898,
          -6.5376883827140695,
          -7.784153984690429,
          -9.019528710187485,
          -10.430948750180141,
          -11.831935184158825,
          -13.074722299446547,
          -14.3056424749499,
          29.82377219123819,
          28.44592268870452,
          27.07994012595521,
          25.87215688189687,
          24.6748072438525,
          23.30141229131253,
          21.939108215251863,
          20.735450668494007,
          19.545154557320437,
          18.17124538712727,
          16.822789240245534,
          15.616565120813538,
          14.434700855719239,
          13.080872545015405,
          11.713065152268998,
          10.51899672999631,
          9.3995068497789
         ]
        }
       ],
       "layout": {
        "height": 500,
        "legend": {
         "title": {
          "text": "Legend"
         }
        },
        "template": {
         "data": {
          "bar": [
           {
            "error_x": {
             "color": "#2a3f5f"
            },
            "error_y": {
             "color": "#2a3f5f"
            },
            "marker": {
             "line": {
              "color": "white",
              "width": 0.5
             },
             "pattern": {
              "fillmode": "overlay",
              "size": 10,
              "solidity": 0.2
             }
            },
            "type": "bar"
           }
          ],
          "barpolar": [
           {
            "marker": {
             "line": {
              "color": "white",
              "width": 0.5
             },
             "pattern": {
              "fillmode": "overlay",
              "size": 10,
              "solidity": 0.2
             }
            },
            "type": "barpolar"
           }
          ],
          "carpet": [
           {
            "aaxis": {
             "endlinecolor": "#2a3f5f",
             "gridcolor": "#C8D4E3",
             "linecolor": "#C8D4E3",
             "minorgridcolor": "#C8D4E3",
             "startlinecolor": "#2a3f5f"
            },
            "baxis": {
             "endlinecolor": "#2a3f5f",
             "gridcolor": "#C8D4E3",
             "linecolor": "#C8D4E3",
             "minorgridcolor": "#C8D4E3",
             "startlinecolor": "#2a3f5f"
            },
            "type": "carpet"
           }
          ],
          "choropleth": [
           {
            "colorbar": {
             "outlinewidth": 0,
             "ticks": ""
            },
            "type": "choropleth"
           }
          ],
          "contour": [
           {
            "colorbar": {
             "outlinewidth": 0,
             "ticks": ""
            },
            "colorscale": [
             [
              0,
              "#0d0887"
             ],
             [
              0.1111111111111111,
              "#46039f"
             ],
             [
              0.2222222222222222,
              "#7201a8"
             ],
             [
              0.3333333333333333,
              "#9c179e"
             ],
             [
              0.4444444444444444,
              "#bd3786"
             ],
             [
              0.5555555555555556,
              "#d8576b"
             ],
             [
              0.6666666666666666,
              "#ed7953"
             ],
             [
              0.7777777777777778,
              "#fb9f3a"
             ],
             [
              0.8888888888888888,
              "#fdca26"
             ],
             [
              1,
              "#f0f921"
             ]
            ],
            "type": "contour"
           }
          ],
          "contourcarpet": [
           {
            "colorbar": {
             "outlinewidth": 0,
             "ticks": ""
            },
            "type": "contourcarpet"
           }
          ],
          "heatmap": [
           {
            "colorbar": {
             "outlinewidth": 0,
             "ticks": ""
            },
            "colorscale": [
             [
              0,
              "#0d0887"
             ],
             [
              0.1111111111111111,
              "#46039f"
             ],
             [
              0.2222222222222222,
              "#7201a8"
             ],
             [
              0.3333333333333333,
              "#9c179e"
             ],
             [
              0.4444444444444444,
              "#bd3786"
             ],
             [
              0.5555555555555556,
              "#d8576b"
             ],
             [
              0.6666666666666666,
              "#ed7953"
             ],
             [
              0.7777777777777778,
              "#fb9f3a"
             ],
             [
              0.8888888888888888,
              "#fdca26"
             ],
             [
              1,
              "#f0f921"
             ]
            ],
            "type": "heatmap"
           }
          ],
          "heatmapgl": [
           {
            "colorbar": {
             "outlinewidth": 0,
             "ticks": ""
            },
            "colorscale": [
             [
              0,
              "#0d0887"
             ],
             [
              0.1111111111111111,
              "#46039f"
             ],
             [
              0.2222222222222222,
              "#7201a8"
             ],
             [
              0.3333333333333333,
              "#9c179e"
             ],
             [
              0.4444444444444444,
              "#bd3786"
             ],
             [
              0.5555555555555556,
              "#d8576b"
             ],
             [
              0.6666666666666666,
              "#ed7953"
             ],
             [
              0.7777777777777778,
              "#fb9f3a"
             ],
             [
              0.8888888888888888,
              "#fdca26"
             ],
             [
              1,
              "#f0f921"
             ]
            ],
            "type": "heatmapgl"
           }
          ],
          "histogram": [
           {
            "marker": {
             "pattern": {
              "fillmode": "overlay",
              "size": 10,
              "solidity": 0.2
             }
            },
            "type": "histogram"
           }
          ],
          "histogram2d": [
           {
            "colorbar": {
             "outlinewidth": 0,
             "ticks": ""
            },
            "colorscale": [
             [
              0,
              "#0d0887"
             ],
             [
              0.1111111111111111,
              "#46039f"
             ],
             [
              0.2222222222222222,
              "#7201a8"
             ],
             [
              0.3333333333333333,
              "#9c179e"
             ],
             [
              0.4444444444444444,
              "#bd3786"
             ],
             [
              0.5555555555555556,
              "#d8576b"
             ],
             [
              0.6666666666666666,
              "#ed7953"
             ],
             [
              0.7777777777777778,
              "#fb9f3a"
             ],
             [
              0.8888888888888888,
              "#fdca26"
             ],
             [
              1,
              "#f0f921"
             ]
            ],
            "type": "histogram2d"
           }
          ],
          "histogram2dcontour": [
           {
            "colorbar": {
             "outlinewidth": 0,
             "ticks": ""
            },
            "colorscale": [
             [
              0,
              "#0d0887"
             ],
             [
              0.1111111111111111,
              "#46039f"
             ],
             [
              0.2222222222222222,
              "#7201a8"
             ],
             [
              0.3333333333333333,
              "#9c179e"
             ],
             [
              0.4444444444444444,
              "#bd3786"
             ],
             [
              0.5555555555555556,
              "#d8576b"
             ],
             [
              0.6666666666666666,
              "#ed7953"
             ],
             [
              0.7777777777777778,
              "#fb9f3a"
             ],
             [
              0.8888888888888888,
              "#fdca26"
             ],
             [
              1,
              "#f0f921"
             ]
            ],
            "type": "histogram2dcontour"
           }
          ],
          "mesh3d": [
           {
            "colorbar": {
             "outlinewidth": 0,
             "ticks": ""
            },
            "type": "mesh3d"
           }
          ],
          "parcoords": [
           {
            "line": {
             "colorbar": {
              "outlinewidth": 0,
              "ticks": ""
             }
            },
            "type": "parcoords"
           }
          ],
          "pie": [
           {
            "automargin": true,
            "type": "pie"
           }
          ],
          "scatter": [
           {
            "fillpattern": {
             "fillmode": "overlay",
             "size": 10,
             "solidity": 0.2
            },
            "type": "scatter"
           }
          ],
          "scatter3d": [
           {
            "line": {
             "colorbar": {
              "outlinewidth": 0,
              "ticks": ""
             }
            },
            "marker": {
             "colorbar": {
              "outlinewidth": 0,
              "ticks": ""
             }
            },
            "type": "scatter3d"
           }
          ],
          "scattercarpet": [
           {
            "marker": {
             "colorbar": {
              "outlinewidth": 0,
              "ticks": ""
             }
            },
            "type": "scattercarpet"
           }
          ],
          "scattergeo": [
           {
            "marker": {
             "colorbar": {
              "outlinewidth": 0,
              "ticks": ""
             }
            },
            "type": "scattergeo"
           }
          ],
          "scattergl": [
           {
            "marker": {
             "colorbar": {
              "outlinewidth": 0,
              "ticks": ""
             }
            },
            "type": "scattergl"
           }
          ],
          "scattermapbox": [
           {
            "marker": {
             "colorbar": {
              "outlinewidth": 0,
              "ticks": ""
             }
            },
            "type": "scattermapbox"
           }
          ],
          "scatterpolar": [
           {
            "marker": {
             "colorbar": {
              "outlinewidth": 0,
              "ticks": ""
             }
            },
            "type": "scatterpolar"
           }
          ],
          "scatterpolargl": [
           {
            "marker": {
             "colorbar": {
              "outlinewidth": 0,
              "ticks": ""
             }
            },
            "type": "scatterpolargl"
           }
          ],
          "scatterternary": [
           {
            "marker": {
             "colorbar": {
              "outlinewidth": 0,
              "ticks": ""
             }
            },
            "type": "scatterternary"
           }
          ],
          "surface": [
           {
            "colorbar": {
             "outlinewidth": 0,
             "ticks": ""
            },
            "colorscale": [
             [
              0,
              "#0d0887"
             ],
             [
              0.1111111111111111,
              "#46039f"
             ],
             [
              0.2222222222222222,
              "#7201a8"
             ],
             [
              0.3333333333333333,
              "#9c179e"
             ],
             [
              0.4444444444444444,
              "#bd3786"
             ],
             [
              0.5555555555555556,
              "#d8576b"
             ],
             [
              0.6666666666666666,
              "#ed7953"
             ],
             [
              0.7777777777777778,
              "#fb9f3a"
             ],
             [
              0.8888888888888888,
              "#fdca26"
             ],
             [
              1,
              "#f0f921"
             ]
            ],
            "type": "surface"
           }
          ],
          "table": [
           {
            "cells": {
             "fill": {
              "color": "#EBF0F8"
             },
             "line": {
              "color": "white"
             }
            },
            "header": {
             "fill": {
              "color": "#C8D4E3"
             },
             "line": {
              "color": "white"
             }
            },
            "type": "table"
           }
          ]
         },
         "layout": {
          "annotationdefaults": {
           "arrowcolor": "#2a3f5f",
           "arrowhead": 0,
           "arrowwidth": 1
          },
          "autotypenumbers": "strict",
          "coloraxis": {
           "colorbar": {
            "outlinewidth": 0,
            "ticks": ""
           }
          },
          "colorscale": {
           "diverging": [
            [
             0,
             "#8e0152"
            ],
            [
             0.1,
             "#c51b7d"
            ],
            [
             0.2,
             "#de77ae"
            ],
            [
             0.3,
             "#f1b6da"
            ],
            [
             0.4,
             "#fde0ef"
            ],
            [
             0.5,
             "#f7f7f7"
            ],
            [
             0.6,
             "#e6f5d0"
            ],
            [
             0.7,
             "#b8e186"
            ],
            [
             0.8,
             "#7fbc41"
            ],
            [
             0.9,
             "#4d9221"
            ],
            [
             1,
             "#276419"
            ]
           ],
           "sequential": [
            [
             0,
             "#0d0887"
            ],
            [
             0.1111111111111111,
             "#46039f"
            ],
            [
             0.2222222222222222,
             "#7201a8"
            ],
            [
             0.3333333333333333,
             "#9c179e"
            ],
            [
             0.4444444444444444,
             "#bd3786"
            ],
            [
             0.5555555555555556,
             "#d8576b"
            ],
            [
             0.6666666666666666,
             "#ed7953"
            ],
            [
             0.7777777777777778,
             "#fb9f3a"
            ],
            [
             0.8888888888888888,
             "#fdca26"
            ],
            [
             1,
             "#f0f921"
            ]
           ],
           "sequentialminus": [
            [
             0,
             "#0d0887"
            ],
            [
             0.1111111111111111,
             "#46039f"
            ],
            [
             0.2222222222222222,
             "#7201a8"
            ],
            [
             0.3333333333333333,
             "#9c179e"
            ],
            [
             0.4444444444444444,
             "#bd3786"
            ],
            [
             0.5555555555555556,
             "#d8576b"
            ],
            [
             0.6666666666666666,
             "#ed7953"
            ],
            [
             0.7777777777777778,
             "#fb9f3a"
            ],
            [
             0.8888888888888888,
             "#fdca26"
            ],
            [
             1,
             "#f0f921"
            ]
           ]
          },
          "colorway": [
           "#636efa",
           "#EF553B",
           "#00cc96",
           "#ab63fa",
           "#FFA15A",
           "#19d3f3",
           "#FF6692",
           "#B6E880",
           "#FF97FF",
           "#FECB52"
          ],
          "font": {
           "color": "#2a3f5f"
          },
          "geo": {
           "bgcolor": "white",
           "lakecolor": "white",
           "landcolor": "white",
           "showlakes": true,
           "showland": true,
           "subunitcolor": "#C8D4E3"
          },
          "hoverlabel": {
           "align": "left"
          },
          "hovermode": "closest",
          "mapbox": {
           "style": "light"
          },
          "paper_bgcolor": "white",
          "plot_bgcolor": "white",
          "polar": {
           "angularaxis": {
            "gridcolor": "#EBF0F8",
            "linecolor": "#EBF0F8",
            "ticks": ""
           },
           "bgcolor": "white",
           "radialaxis": {
            "gridcolor": "#EBF0F8",
            "linecolor": "#EBF0F8",
            "ticks": ""
           }
          },
          "scene": {
           "xaxis": {
            "backgroundcolor": "white",
            "gridcolor": "#DFE8F3",
            "gridwidth": 2,
            "linecolor": "#EBF0F8",
            "showbackground": true,
            "ticks": "",
            "zerolinecolor": "#EBF0F8"
           },
           "yaxis": {
            "backgroundcolor": "white",
            "gridcolor": "#DFE8F3",
            "gridwidth": 2,
            "linecolor": "#EBF0F8",
            "showbackground": true,
            "ticks": "",
            "zerolinecolor": "#EBF0F8"
           },
           "zaxis": {
            "backgroundcolor": "white",
            "gridcolor": "#DFE8F3",
            "gridwidth": 2,
            "linecolor": "#EBF0F8",
            "showbackground": true,
            "ticks": "",
            "zerolinecolor": "#EBF0F8"
           }
          },
          "shapedefaults": {
           "line": {
            "color": "#2a3f5f"
           }
          },
          "ternary": {
           "aaxis": {
            "gridcolor": "#DFE8F3",
            "linecolor": "#A2B1C6",
            "ticks": ""
           },
           "baxis": {
            "gridcolor": "#DFE8F3",
            "linecolor": "#A2B1C6",
            "ticks": ""
           },
           "bgcolor": "white",
           "caxis": {
            "gridcolor": "#DFE8F3",
            "linecolor": "#A2B1C6",
            "ticks": ""
           }
          },
          "title": {
           "x": 0.05
          },
          "xaxis": {
           "automargin": true,
           "gridcolor": "#EBF0F8",
           "linecolor": "#EBF0F8",
           "ticks": "",
           "title": {
            "standoff": 15
           },
           "zerolinecolor": "#EBF0F8",
           "zerolinewidth": 2
          },
          "yaxis": {
           "automargin": true,
           "gridcolor": "#EBF0F8",
           "linecolor": "#EBF0F8",
           "ticks": "",
           "title": {
            "standoff": 15
           },
           "zerolinecolor": "#EBF0F8",
           "zerolinewidth": 2
          }
         }
        },
        "title": {
         "text": "Unemployment rate forecast (SARIMAX) with 95% CI"
        },
        "width": 1200,
        "xaxis": {
         "title": {
          "text": "Time"
         }
        },
        "yaxis": {
         "title": {
          "text": "Unemployment rate (%)"
         }
        }
       }
      }
     },
     "metadata": {},
     "output_type": "display_data"
    }
   ],
   "source": [
    "full_train_vecm = pd.concat([train_vecm, val_vecm])\n",
    "vecm_model = VECM(full_train_vecm, k_ar_diff=1, coint_rank=4)\n",
    "vecm_result = vecm_model.fit()\n",
    "\n",
    "X_oos_vecm = X_oos_stat.drop('pop_diff_lag_1', axis = 1)\n",
    "# Step 2: Forecast using VECM on X_oos_stat\n",
    "forecast_steps = len(X_oos_vecm)\n",
    "vecm_forecast = vecm_result.predict(steps=forecast_steps)\n",
    "\n",
    "# Step 3: Convert Forecast to DataFrame\n",
    "vecm_forecast_df = pd.DataFrame(\n",
    "    vecm_forecast,\n",
    "    columns=full_train_vecm.columns,\n",
    "    index=X_oos_vecm.index\n",
    ")\n",
    "\n",
    "last_unemp_value = data['unemp_wins'].iloc[-1]\n",
    "forecast_unemp_vecm = last_unemp_value + vecm_forecast_df['unemp_wins_diff'].cumsum()\n",
    "\n",
    "np.random.seed(42)\n",
    "bootstrap_samples = np.array([\n",
    "    vecm_forecast_df['unemp_wins_diff'] + np.random.normal(\n",
    "        0, \n",
    "        np.sqrt(vecm_result.sigma_u[0, 0]), \n",
    "        len(vecm_forecast_df)\n",
    "    )\n",
    "    for _ in range(100)\n",
    "])\n",
    "\n",
    "lower_bound = last_unemp_value + np.percentile(bootstrap_samples, 2.5, axis=0).cumsum()\n",
    "upper_bound = last_unemp_value + np.percentile(bootstrap_samples, 97.5, axis=0).cumsum()\n",
    "\n",
    "fig = go.Figure()\n",
    "\n",
    "fig.add_trace(go.Scatter(\n",
    "    x=data.index, \n",
    "    y=data['unemp_wins'],\n",
    "    mode='lines',\n",
    "    name='Historical unemployment rate',\n",
    "    line=dict(color='blue')\n",
    "))\n",
    "\n",
    "fig.add_trace(go.Scatter(\n",
    "    x=forecast_unemp_vecm.index,\n",
    "    y=forecast_unemp_vecm,\n",
    "    mode='lines',\n",
    "    name='Forecast (SARIMAX)',\n",
    "    line=dict(color='green', dash='dot')\n",
    "))\n",
    "\n",
    "fig.add_trace(go.Scatter(\n",
    "    x=list(forecast_lower.index) + list(forecast_upper.index[::-1]),\n",
    "    y=list(forecast_lower) + list(forecast_upper[::-1]),\n",
    "    fill='toself',\n",
    "    fillcolor='rgba(0,128,0,0.2)',\n",
    "    line_color='rgba(255,255,255,0)',\n",
    "    name='95% confidence iterval'\n",
    "))\n",
    "\n",
    "fig.update_layout(\n",
    "    title=\"Unemployment rate forecast (SARIMAX) with 95% CI\",\n",
    "    xaxis_title=\"Time\",\n",
    "    yaxis_title=\"Unemployment rate (%)\",\n",
    "    legend_title=\"Legend\",\n",
    "    template=\"plotly_white\",\n",
    "    width=1200,\n",
    "    height=500\n",
    ")"
   ]
  },
  {
   "cell_type": "code",
   "execution_count": 71,
   "id": "d3d85fff",
   "metadata": {},
   "outputs": [
    {
     "data": {
      "text/html": [
       "<div>\n",
       "<style scoped>\n",
       "    .dataframe tbody tr th:only-of-type {\n",
       "        vertical-align: middle;\n",
       "    }\n",
       "\n",
       "    .dataframe tbody tr th {\n",
       "        vertical-align: top;\n",
       "    }\n",
       "\n",
       "    .dataframe thead th {\n",
       "        text-align: right;\n",
       "    }\n",
       "</style>\n",
       "<table border=\"1\" class=\"dataframe\">\n",
       "  <thead>\n",
       "    <tr style=\"text-align: right;\">\n",
       "      <th></th>\n",
       "      <th>unemp_wins_diff</th>\n",
       "      <th>pop</th>\n",
       "    </tr>\n",
       "  </thead>\n",
       "  <tbody>\n",
       "    <tr>\n",
       "      <th>2013-01-01</th>\n",
       "      <td>8.982569</td>\n",
       "      <td>317.587459</td>\n",
       "    </tr>\n",
       "    <tr>\n",
       "      <th>2013-04-01</th>\n",
       "      <td>8.978300</td>\n",
       "      <td>318.284213</td>\n",
       "    </tr>\n",
       "    <tr>\n",
       "      <th>2013-07-01</th>\n",
       "      <td>9.031672</td>\n",
       "      <td>319.068720</td>\n",
       "    </tr>\n",
       "    <tr>\n",
       "      <th>2013-10-01</th>\n",
       "      <td>9.072512</td>\n",
       "      <td>319.749127</td>\n",
       "    </tr>\n",
       "  </tbody>\n",
       "</table>\n",
       "</div>"
      ],
      "text/plain": [
       "            unemp_wins_diff         pop\n",
       "2013-01-01         8.982569  317.587459\n",
       "2013-04-01         8.978300  318.284213\n",
       "2013-07-01         9.031672  319.068720\n",
       "2013-10-01         9.072512  319.749127"
      ]
     },
     "execution_count": 71,
     "metadata": {},
     "output_type": "execute_result"
    }
   ],
   "source": [
    "unemp_2013_vecm = forecast_unemp_vecm.iloc[-4:]\n",
    "pop_df = general_df['pop'].iloc[-4:]\n",
    "pop_forecast_df_vecm = pd.concat([unemp_2013_vecm, pop_df], axis = 1)\n",
    "pop_forecast_df_vecm"
   ]
  },
  {
   "cell_type": "code",
   "execution_count": 72,
   "id": "4e0914cf",
   "metadata": {},
   "outputs": [
    {
     "data": {
      "text/html": [
       "<div>\n",
       "<style scoped>\n",
       "    .dataframe tbody tr th:only-of-type {\n",
       "        vertical-align: middle;\n",
       "    }\n",
       "\n",
       "    .dataframe tbody tr th {\n",
       "        vertical-align: top;\n",
       "    }\n",
       "\n",
       "    .dataframe thead th {\n",
       "        text-align: right;\n",
       "    }\n",
       "</style>\n",
       "<table border=\"1\" class=\"dataframe\">\n",
       "  <thead>\n",
       "    <tr style=\"text-align: right;\">\n",
       "      <th></th>\n",
       "      <th>unemp_wins_diff</th>\n",
       "      <th>pop</th>\n",
       "      <th>labor</th>\n",
       "      <th>unemployed</th>\n",
       "    </tr>\n",
       "  </thead>\n",
       "  <tbody>\n",
       "    <tr>\n",
       "      <th>2013-01-01</th>\n",
       "      <td>8.982569</td>\n",
       "      <td>317.587459</td>\n",
       "      <td>206.431848</td>\n",
       "      <td>18.542883</td>\n",
       "    </tr>\n",
       "    <tr>\n",
       "      <th>2013-04-01</th>\n",
       "      <td>8.978300</td>\n",
       "      <td>318.284213</td>\n",
       "      <td>206.884738</td>\n",
       "      <td>18.574732</td>\n",
       "    </tr>\n",
       "    <tr>\n",
       "      <th>2013-07-01</th>\n",
       "      <td>9.031672</td>\n",
       "      <td>319.068720</td>\n",
       "      <td>207.394668</td>\n",
       "      <td>18.731206</td>\n",
       "    </tr>\n",
       "    <tr>\n",
       "      <th>2013-10-01</th>\n",
       "      <td>9.072512</td>\n",
       "      <td>319.749127</td>\n",
       "      <td>207.836933</td>\n",
       "      <td>18.856031</td>\n",
       "    </tr>\n",
       "  </tbody>\n",
       "</table>\n",
       "</div>"
      ],
      "text/plain": [
       "            unemp_wins_diff         pop       labor  unemployed\n",
       "2013-01-01         8.982569  317.587459  206.431848   18.542883\n",
       "2013-04-01         8.978300  318.284213  206.884738   18.574732\n",
       "2013-07-01         9.031672  319.068720  207.394668   18.731206\n",
       "2013-10-01         9.072512  319.749127  207.836933   18.856031"
      ]
     },
     "execution_count": 72,
     "metadata": {},
     "output_type": "execute_result"
    }
   ],
   "source": [
    "pop_forecast_df_vecm['labor'] = pop_forecast_df_vecm['pop'] * 0.65\n",
    "pop_forecast_df_vecm['unemployed'] = (pop_forecast_df_vecm['unemp_wins_diff'] / 100) * pop_forecast_df_vecm['labor']\n",
    "pop_forecast_df_vecm"
   ]
  },
  {
   "cell_type": "code",
   "execution_count": 73,
   "id": "6db1c2d1",
   "metadata": {},
   "outputs": [
    {
     "data": {
      "text/plain": [
       "18.68"
      ]
     },
     "execution_count": 73,
     "metadata": {},
     "output_type": "execute_result"
    }
   ],
   "source": [
    "total_unemployed_2013_vecm = pop_forecast_df_vecm['unemployed'].mean()\n",
    "np.round(total_unemployed_2013_vecm, 2)"
   ]
  },
  {
   "cell_type": "markdown",
   "id": "48c5cea3",
   "metadata": {},
   "source": [
    "Based on our forecasting using the VECM model for the unemp rate, approximately 18.68 million people (on average) are expected to be unemployed through 2013. It seems that the VECM model uplifts the predictions, increasing the unemp rate in the OOS data, while the SARIMAX model slowly decreases it."
   ]
  },
  {
   "cell_type": "markdown",
   "id": "8143526d",
   "metadata": {},
   "source": [
    "#### Ensemble model forecast. Combining the predictions from the two models available"
   ]
  },
  {
   "cell_type": "code",
   "execution_count": 78,
   "id": "15d39734",
   "metadata": {},
   "outputs": [
    {
     "data": {
      "text/plain": [
       "2009-10-01    8.517234\n",
       "2010-01-01    8.402066\n",
       "2010-04-01    8.315893\n",
       "2010-07-01    8.360700\n",
       "2010-10-01    8.443831\n",
       "2011-01-01    8.364698\n",
       "2011-04-01    8.293873\n",
       "2011-07-01    8.347458\n",
       "2011-10-01    8.419969\n",
       "2012-01-01    8.352307\n",
       "2012-04-01    8.291453\n",
       "2012-07-01    8.350300\n",
       "2012-10-01    8.412145\n",
       "2013-01-01    8.351587\n",
       "2013-04-01    8.301151\n",
       "2013-07-01    8.358636\n",
       "2013-10-01    8.415789\n",
       "Freq: QS-OCT, dtype: float64"
      ]
     },
     "execution_count": 78,
     "metadata": {},
     "output_type": "execute_result"
    }
   ],
   "source": [
    "ensemble_forecast = (forecast_unemp + forecast_unemp_vecm) / 2\n",
    "ensemble_forecast"
   ]
  },
  {
   "cell_type": "code",
   "execution_count": 80,
   "id": "775c2506",
   "metadata": {},
   "outputs": [
    {
     "data": {
      "application/vnd.plotly.v1+json": {
       "config": {
        "plotlyServerURL": "https://plot.ly"
       },
       "data": [
        {
         "line": {
          "color": "blue"
         },
         "mode": "lines",
         "name": "Historical unemployment rate",
         "type": "scatter",
         "x": [
          "1959-01-01T00:00:00",
          "1959-04-01T00:00:00",
          "1959-07-01T00:00:00",
          "1959-10-01T00:00:00",
          "1960-01-01T00:00:00",
          "1960-04-01T00:00:00",
          "1960-07-01T00:00:00",
          "1960-10-01T00:00:00",
          "1961-01-01T00:00:00",
          "1961-04-01T00:00:00",
          "1961-07-01T00:00:00",
          "1961-10-01T00:00:00",
          "1962-01-01T00:00:00",
          "1962-04-01T00:00:00",
          "1962-07-01T00:00:00",
          "1962-10-01T00:00:00",
          "1963-01-01T00:00:00",
          "1963-04-01T00:00:00",
          "1963-07-01T00:00:00",
          "1963-10-01T00:00:00",
          "1964-01-01T00:00:00",
          "1964-04-01T00:00:00",
          "1964-07-01T00:00:00",
          "1964-10-01T00:00:00",
          "1965-01-01T00:00:00",
          "1965-04-01T00:00:00",
          "1965-07-01T00:00:00",
          "1965-10-01T00:00:00",
          "1966-01-01T00:00:00",
          "1966-04-01T00:00:00",
          "1966-07-01T00:00:00",
          "1966-10-01T00:00:00",
          "1967-01-01T00:00:00",
          "1967-04-01T00:00:00",
          "1967-07-01T00:00:00",
          "1967-10-01T00:00:00",
          "1968-01-01T00:00:00",
          "1968-04-01T00:00:00",
          "1968-07-01T00:00:00",
          "1968-10-01T00:00:00",
          "1969-01-01T00:00:00",
          "1969-04-01T00:00:00",
          "1969-07-01T00:00:00",
          "1969-10-01T00:00:00",
          "1970-01-01T00:00:00",
          "1970-04-01T00:00:00",
          "1970-07-01T00:00:00",
          "1970-10-01T00:00:00",
          "1971-01-01T00:00:00",
          "1971-04-01T00:00:00",
          "1971-07-01T00:00:00",
          "1971-10-01T00:00:00",
          "1972-01-01T00:00:00",
          "1972-04-01T00:00:00",
          "1972-07-01T00:00:00",
          "1972-10-01T00:00:00",
          "1973-01-01T00:00:00",
          "1973-04-01T00:00:00",
          "1973-07-01T00:00:00",
          "1973-10-01T00:00:00",
          "1974-01-01T00:00:00",
          "1974-04-01T00:00:00",
          "1974-07-01T00:00:00",
          "1974-10-01T00:00:00",
          "1975-01-01T00:00:00",
          "1975-04-01T00:00:00",
          "1975-07-01T00:00:00",
          "1975-10-01T00:00:00",
          "1976-01-01T00:00:00",
          "1976-04-01T00:00:00",
          "1976-07-01T00:00:00",
          "1976-10-01T00:00:00",
          "1977-01-01T00:00:00",
          "1977-04-01T00:00:00",
          "1977-07-01T00:00:00",
          "1977-10-01T00:00:00",
          "1978-01-01T00:00:00",
          "1978-04-01T00:00:00",
          "1978-07-01T00:00:00",
          "1978-10-01T00:00:00",
          "1979-01-01T00:00:00",
          "1979-04-01T00:00:00",
          "1979-07-01T00:00:00",
          "1979-10-01T00:00:00",
          "1980-01-01T00:00:00",
          "1980-04-01T00:00:00",
          "1980-07-01T00:00:00",
          "1980-10-01T00:00:00",
          "1981-01-01T00:00:00",
          "1981-04-01T00:00:00",
          "1981-07-01T00:00:00",
          "1981-10-01T00:00:00",
          "1982-01-01T00:00:00",
          "1982-04-01T00:00:00",
          "1982-07-01T00:00:00",
          "1982-10-01T00:00:00",
          "1983-01-01T00:00:00",
          "1983-04-01T00:00:00",
          "1983-07-01T00:00:00",
          "1983-10-01T00:00:00",
          "1984-01-01T00:00:00",
          "1984-04-01T00:00:00",
          "1984-07-01T00:00:00",
          "1984-10-01T00:00:00",
          "1985-01-01T00:00:00",
          "1985-04-01T00:00:00",
          "1985-07-01T00:00:00",
          "1985-10-01T00:00:00",
          "1986-01-01T00:00:00",
          "1986-04-01T00:00:00",
          "1986-07-01T00:00:00",
          "1986-10-01T00:00:00",
          "1987-01-01T00:00:00",
          "1987-04-01T00:00:00",
          "1987-07-01T00:00:00",
          "1987-10-01T00:00:00",
          "1988-01-01T00:00:00",
          "1988-04-01T00:00:00",
          "1988-07-01T00:00:00",
          "1988-10-01T00:00:00",
          "1989-01-01T00:00:00",
          "1989-04-01T00:00:00",
          "1989-07-01T00:00:00",
          "1989-10-01T00:00:00",
          "1990-01-01T00:00:00",
          "1990-04-01T00:00:00",
          "1990-07-01T00:00:00",
          "1990-10-01T00:00:00",
          "1991-01-01T00:00:00",
          "1991-04-01T00:00:00",
          "1991-07-01T00:00:00",
          "1991-10-01T00:00:00",
          "1992-01-01T00:00:00",
          "1992-04-01T00:00:00",
          "1992-07-01T00:00:00",
          "1992-10-01T00:00:00",
          "1993-01-01T00:00:00",
          "1993-04-01T00:00:00",
          "1993-07-01T00:00:00",
          "1993-10-01T00:00:00",
          "1994-01-01T00:00:00",
          "1994-04-01T00:00:00",
          "1994-07-01T00:00:00",
          "1994-10-01T00:00:00",
          "1995-01-01T00:00:00",
          "1995-04-01T00:00:00",
          "1995-07-01T00:00:00",
          "1995-10-01T00:00:00",
          "1996-01-01T00:00:00",
          "1996-04-01T00:00:00",
          "1996-07-01T00:00:00",
          "1996-10-01T00:00:00",
          "1997-01-01T00:00:00",
          "1997-04-01T00:00:00",
          "1997-07-01T00:00:00",
          "1997-10-01T00:00:00",
          "1998-01-01T00:00:00",
          "1998-04-01T00:00:00",
          "1998-07-01T00:00:00",
          "1998-10-01T00:00:00",
          "1999-01-01T00:00:00",
          "1999-04-01T00:00:00",
          "1999-07-01T00:00:00",
          "1999-10-01T00:00:00",
          "2000-01-01T00:00:00",
          "2000-04-01T00:00:00",
          "2000-07-01T00:00:00",
          "2000-10-01T00:00:00",
          "2001-01-01T00:00:00",
          "2001-04-01T00:00:00",
          "2001-07-01T00:00:00",
          "2001-10-01T00:00:00",
          "2002-01-01T00:00:00",
          "2002-04-01T00:00:00",
          "2002-07-01T00:00:00",
          "2002-10-01T00:00:00",
          "2003-01-01T00:00:00",
          "2003-04-01T00:00:00",
          "2003-07-01T00:00:00",
          "2003-10-01T00:00:00",
          "2004-01-01T00:00:00",
          "2004-04-01T00:00:00",
          "2004-07-01T00:00:00",
          "2004-10-01T00:00:00",
          "2005-01-01T00:00:00",
          "2005-04-01T00:00:00",
          "2005-07-01T00:00:00",
          "2005-10-01T00:00:00",
          "2006-01-01T00:00:00",
          "2006-04-01T00:00:00",
          "2006-07-01T00:00:00",
          "2006-10-01T00:00:00",
          "2007-01-01T00:00:00",
          "2007-04-01T00:00:00",
          "2007-07-01T00:00:00",
          "2007-10-01T00:00:00",
          "2008-01-01T00:00:00",
          "2008-04-01T00:00:00",
          "2008-07-01T00:00:00",
          "2008-10-01T00:00:00",
          "2009-01-01T00:00:00",
          "2009-04-01T00:00:00",
          "2009-07-01T00:00:00"
         ],
         "y": [
          5.8,
          5.1,
          5.3,
          5.6,
          5.2,
          5.2,
          5.6,
          6.3,
          6.8,
          7,
          6.8,
          6.2,
          5.6,
          5.5,
          5.6,
          5.5,
          5.8,
          5.7,
          5.5,
          5.6,
          5.5,
          5.2,
          5,
          5,
          4.9,
          4.7,
          4.4,
          4.1,
          3.9,
          3.8,
          3.8,
          3.8,
          3.8,
          3.8,
          3.8,
          3.9,
          3.8,
          3.8,
          3.8,
          8.9,
          3.8,
          3.8,
          3.8,
          3.8,
          4.2,
          4.8,
          5.2,
          5.8,
          5.9,
          5.9,
          6,
          6,
          5.8,
          5.7,
          5.6,
          5.3,
          5,
          4.9,
          4.8,
          4.8,
          5.1,
          5.2,
          5.6,
          6.6,
          8.2,
          8.9,
          8.5,
          8.3,
          7.7,
          7.6,
          7.7,
          7.8,
          7.5,
          7.1,
          6.9,
          6.6,
          6.3,
          6,
          6,
          5.9,
          5.9,
          5.7,
          5.9,
          5.9,
          6.3,
          7.3,
          7.7,
          7.4,
          7.4,
          7.4,
          7.4,
          8.2,
          8.8,
          8.9,
          8.9,
          8.9,
          8.9,
          8.9,
          8.9,
          8.5,
          7.9,
          7.5,
          7.4,
          7.3,
          7.3,
          7.3,
          7.2,
          7,
          7,
          7.2,
          7,
          6.8,
          6.6,
          6.3,
          6,
          5.9,
          5.7,
          5.5,
          5.5,
          5.3,
          5.2,
          5.2,
          5.3,
          5.4,
          5.3,
          5.3,
          5.7,
          6.1,
          6.6,
          6.8,
          6.9,
          7.1,
          7.4,
          7.6,
          7.6,
          7.4,
          7.2,
          7.1,
          6.8,
          6.6,
          6.6,
          6.2,
          6,
          5.6,
          5.5,
          5.7,
          5.7,
          5.6,
          5.5,
          5.5,
          5.3,
          8.9,
          5.2,
          5,
          4.9,
          4.7,
          4.6,
          4.4,
          4.5,
          4.4,
          4.3,
          4.3,
          4.2,
          4.1,
          4,
          3.9,
          4,
          3.9,
          4.2,
          4.4,
          4.8,
          5.5,
          5.7,
          5.8,
          5.7,
          5.8,
          5.9,
          6.2,
          6.1,
          5.8,
          5.7,
          5.6,
          5.4,
          5.4,
          5.3,
          5.1,
          5,
          4.9,
          4.7,
          4.7,
          4.7,
          4.4,
          4.5,
          4.5,
          4.7,
          4.8,
          4.9,
          5.4,
          6,
          6.9,
          8.1,
          8.9,
          8.9
         ]
        },
        {
         "line": {
          "color": "green",
          "dash": "dot"
         },
         "mode": "lines",
         "name": "Forecast (ensemble)",
         "type": "scatter",
         "x": [
          "2009-10-01T00:00:00",
          "2010-01-01T00:00:00",
          "2010-04-01T00:00:00",
          "2010-07-01T00:00:00",
          "2010-10-01T00:00:00",
          "2011-01-01T00:00:00",
          "2011-04-01T00:00:00",
          "2011-07-01T00:00:00",
          "2011-10-01T00:00:00",
          "2012-01-01T00:00:00",
          "2012-04-01T00:00:00",
          "2012-07-01T00:00:00",
          "2012-10-01T00:00:00",
          "2013-01-01T00:00:00",
          "2013-04-01T00:00:00",
          "2013-07-01T00:00:00",
          "2013-10-01T00:00:00"
         ],
         "y": [
          8.517233740880483,
          8.4020663244594,
          8.315892754321972,
          8.360699851906976,
          8.44383143974088,
          8.364697786635258,
          8.293872806786986,
          8.34745759121775,
          8.419968589484334,
          8.352307201621633,
          8.291452578859158,
          8.350299919104778,
          8.412144860113125,
          8.351586595888058,
          8.301151181359383,
          8.358636174007042,
          8.415788545322467
         ]
        },
        {
         "fill": "toself",
         "fillcolor": "rgba(0,128,0,0.2)",
         "line": {
          "color": "rgba(255,255,255,0)"
         },
         "name": "95% confidence iterval",
         "type": "scatter",
         "x": [
          "2009-10-01T00:00:00",
          "2010-01-01T00:00:00",
          "2010-04-01T00:00:00",
          "2010-07-01T00:00:00",
          "2010-10-01T00:00:00",
          "2011-01-01T00:00:00",
          "2011-04-01T00:00:00",
          "2011-07-01T00:00:00",
          "2011-10-01T00:00:00",
          "2012-01-01T00:00:00",
          "2012-04-01T00:00:00",
          "2012-07-01T00:00:00",
          "2012-10-01T00:00:00",
          "2013-01-01T00:00:00",
          "2013-04-01T00:00:00",
          "2013-07-01T00:00:00",
          "2013-10-01T00:00:00",
          "2013-10-01T00:00:00",
          "2013-07-01T00:00:00",
          "2013-04-01T00:00:00",
          "2013-01-01T00:00:00",
          "2012-10-01T00:00:00",
          "2012-07-01T00:00:00",
          "2012-04-01T00:00:00",
          "2012-01-01T00:00:00",
          "2011-10-01T00:00:00",
          "2011-07-01T00:00:00",
          "2011-04-01T00:00:00",
          "2011-01-01T00:00:00",
          "2010-10-01T00:00:00",
          "2010-07-01T00:00:00",
          "2010-04-01T00:00:00",
          "2010-01-01T00:00:00",
          "2009-10-01T00:00:00"
         ],
         "y": [
          7.007262358736959,
          5.521080351029449,
          4.106425279227595,
          2.86546368287585,
          1.6105223258198365,
          0.18361691303041816,
          -1.218928645572328,
          -2.4792421767275794,
          -3.7141026845714418,
          -5.132576251434898,
          -6.5376883827140695,
          -7.784153984690429,
          -9.019528710187485,
          -10.430948750180141,
          -11.831935184158825,
          -13.074722299446547,
          -14.3056424749499,
          29.82377219123819,
          28.44592268870452,
          27.07994012595521,
          25.87215688189687,
          24.6748072438525,
          23.30141229131253,
          21.939108215251863,
          20.735450668494007,
          19.545154557320437,
          18.17124538712727,
          16.822789240245534,
          15.616565120813538,
          14.434700855719239,
          13.080872545015405,
          11.713065152268998,
          10.51899672999631,
          9.3995068497789
         ]
        }
       ],
       "layout": {
        "height": 500,
        "legend": {
         "title": {
          "text": "Legend"
         }
        },
        "template": {
         "data": {
          "bar": [
           {
            "error_x": {
             "color": "#2a3f5f"
            },
            "error_y": {
             "color": "#2a3f5f"
            },
            "marker": {
             "line": {
              "color": "white",
              "width": 0.5
             },
             "pattern": {
              "fillmode": "overlay",
              "size": 10,
              "solidity": 0.2
             }
            },
            "type": "bar"
           }
          ],
          "barpolar": [
           {
            "marker": {
             "line": {
              "color": "white",
              "width": 0.5
             },
             "pattern": {
              "fillmode": "overlay",
              "size": 10,
              "solidity": 0.2
             }
            },
            "type": "barpolar"
           }
          ],
          "carpet": [
           {
            "aaxis": {
             "endlinecolor": "#2a3f5f",
             "gridcolor": "#C8D4E3",
             "linecolor": "#C8D4E3",
             "minorgridcolor": "#C8D4E3",
             "startlinecolor": "#2a3f5f"
            },
            "baxis": {
             "endlinecolor": "#2a3f5f",
             "gridcolor": "#C8D4E3",
             "linecolor": "#C8D4E3",
             "minorgridcolor": "#C8D4E3",
             "startlinecolor": "#2a3f5f"
            },
            "type": "carpet"
           }
          ],
          "choropleth": [
           {
            "colorbar": {
             "outlinewidth": 0,
             "ticks": ""
            },
            "type": "choropleth"
           }
          ],
          "contour": [
           {
            "colorbar": {
             "outlinewidth": 0,
             "ticks": ""
            },
            "colorscale": [
             [
              0,
              "#0d0887"
             ],
             [
              0.1111111111111111,
              "#46039f"
             ],
             [
              0.2222222222222222,
              "#7201a8"
             ],
             [
              0.3333333333333333,
              "#9c179e"
             ],
             [
              0.4444444444444444,
              "#bd3786"
             ],
             [
              0.5555555555555556,
              "#d8576b"
             ],
             [
              0.6666666666666666,
              "#ed7953"
             ],
             [
              0.7777777777777778,
              "#fb9f3a"
             ],
             [
              0.8888888888888888,
              "#fdca26"
             ],
             [
              1,
              "#f0f921"
             ]
            ],
            "type": "contour"
           }
          ],
          "contourcarpet": [
           {
            "colorbar": {
             "outlinewidth": 0,
             "ticks": ""
            },
            "type": "contourcarpet"
           }
          ],
          "heatmap": [
           {
            "colorbar": {
             "outlinewidth": 0,
             "ticks": ""
            },
            "colorscale": [
             [
              0,
              "#0d0887"
             ],
             [
              0.1111111111111111,
              "#46039f"
             ],
             [
              0.2222222222222222,
              "#7201a8"
             ],
             [
              0.3333333333333333,
              "#9c179e"
             ],
             [
              0.4444444444444444,
              "#bd3786"
             ],
             [
              0.5555555555555556,
              "#d8576b"
             ],
             [
              0.6666666666666666,
              "#ed7953"
             ],
             [
              0.7777777777777778,
              "#fb9f3a"
             ],
             [
              0.8888888888888888,
              "#fdca26"
             ],
             [
              1,
              "#f0f921"
             ]
            ],
            "type": "heatmap"
           }
          ],
          "heatmapgl": [
           {
            "colorbar": {
             "outlinewidth": 0,
             "ticks": ""
            },
            "colorscale": [
             [
              0,
              "#0d0887"
             ],
             [
              0.1111111111111111,
              "#46039f"
             ],
             [
              0.2222222222222222,
              "#7201a8"
             ],
             [
              0.3333333333333333,
              "#9c179e"
             ],
             [
              0.4444444444444444,
              "#bd3786"
             ],
             [
              0.5555555555555556,
              "#d8576b"
             ],
             [
              0.6666666666666666,
              "#ed7953"
             ],
             [
              0.7777777777777778,
              "#fb9f3a"
             ],
             [
              0.8888888888888888,
              "#fdca26"
             ],
             [
              1,
              "#f0f921"
             ]
            ],
            "type": "heatmapgl"
           }
          ],
          "histogram": [
           {
            "marker": {
             "pattern": {
              "fillmode": "overlay",
              "size": 10,
              "solidity": 0.2
             }
            },
            "type": "histogram"
           }
          ],
          "histogram2d": [
           {
            "colorbar": {
             "outlinewidth": 0,
             "ticks": ""
            },
            "colorscale": [
             [
              0,
              "#0d0887"
             ],
             [
              0.1111111111111111,
              "#46039f"
             ],
             [
              0.2222222222222222,
              "#7201a8"
             ],
             [
              0.3333333333333333,
              "#9c179e"
             ],
             [
              0.4444444444444444,
              "#bd3786"
             ],
             [
              0.5555555555555556,
              "#d8576b"
             ],
             [
              0.6666666666666666,
              "#ed7953"
             ],
             [
              0.7777777777777778,
              "#fb9f3a"
             ],
             [
              0.8888888888888888,
              "#fdca26"
             ],
             [
              1,
              "#f0f921"
             ]
            ],
            "type": "histogram2d"
           }
          ],
          "histogram2dcontour": [
           {
            "colorbar": {
             "outlinewidth": 0,
             "ticks": ""
            },
            "colorscale": [
             [
              0,
              "#0d0887"
             ],
             [
              0.1111111111111111,
              "#46039f"
             ],
             [
              0.2222222222222222,
              "#7201a8"
             ],
             [
              0.3333333333333333,
              "#9c179e"
             ],
             [
              0.4444444444444444,
              "#bd3786"
             ],
             [
              0.5555555555555556,
              "#d8576b"
             ],
             [
              0.6666666666666666,
              "#ed7953"
             ],
             [
              0.7777777777777778,
              "#fb9f3a"
             ],
             [
              0.8888888888888888,
              "#fdca26"
             ],
             [
              1,
              "#f0f921"
             ]
            ],
            "type": "histogram2dcontour"
           }
          ],
          "mesh3d": [
           {
            "colorbar": {
             "outlinewidth": 0,
             "ticks": ""
            },
            "type": "mesh3d"
           }
          ],
          "parcoords": [
           {
            "line": {
             "colorbar": {
              "outlinewidth": 0,
              "ticks": ""
             }
            },
            "type": "parcoords"
           }
          ],
          "pie": [
           {
            "automargin": true,
            "type": "pie"
           }
          ],
          "scatter": [
           {
            "fillpattern": {
             "fillmode": "overlay",
             "size": 10,
             "solidity": 0.2
            },
            "type": "scatter"
           }
          ],
          "scatter3d": [
           {
            "line": {
             "colorbar": {
              "outlinewidth": 0,
              "ticks": ""
             }
            },
            "marker": {
             "colorbar": {
              "outlinewidth": 0,
              "ticks": ""
             }
            },
            "type": "scatter3d"
           }
          ],
          "scattercarpet": [
           {
            "marker": {
             "colorbar": {
              "outlinewidth": 0,
              "ticks": ""
             }
            },
            "type": "scattercarpet"
           }
          ],
          "scattergeo": [
           {
            "marker": {
             "colorbar": {
              "outlinewidth": 0,
              "ticks": ""
             }
            },
            "type": "scattergeo"
           }
          ],
          "scattergl": [
           {
            "marker": {
             "colorbar": {
              "outlinewidth": 0,
              "ticks": ""
             }
            },
            "type": "scattergl"
           }
          ],
          "scattermapbox": [
           {
            "marker": {
             "colorbar": {
              "outlinewidth": 0,
              "ticks": ""
             }
            },
            "type": "scattermapbox"
           }
          ],
          "scatterpolar": [
           {
            "marker": {
             "colorbar": {
              "outlinewidth": 0,
              "ticks": ""
             }
            },
            "type": "scatterpolar"
           }
          ],
          "scatterpolargl": [
           {
            "marker": {
             "colorbar": {
              "outlinewidth": 0,
              "ticks": ""
             }
            },
            "type": "scatterpolargl"
           }
          ],
          "scatterternary": [
           {
            "marker": {
             "colorbar": {
              "outlinewidth": 0,
              "ticks": ""
             }
            },
            "type": "scatterternary"
           }
          ],
          "surface": [
           {
            "colorbar": {
             "outlinewidth": 0,
             "ticks": ""
            },
            "colorscale": [
             [
              0,
              "#0d0887"
             ],
             [
              0.1111111111111111,
              "#46039f"
             ],
             [
              0.2222222222222222,
              "#7201a8"
             ],
             [
              0.3333333333333333,
              "#9c179e"
             ],
             [
              0.4444444444444444,
              "#bd3786"
             ],
             [
              0.5555555555555556,
              "#d8576b"
             ],
             [
              0.6666666666666666,
              "#ed7953"
             ],
             [
              0.7777777777777778,
              "#fb9f3a"
             ],
             [
              0.8888888888888888,
              "#fdca26"
             ],
             [
              1,
              "#f0f921"
             ]
            ],
            "type": "surface"
           }
          ],
          "table": [
           {
            "cells": {
             "fill": {
              "color": "#EBF0F8"
             },
             "line": {
              "color": "white"
             }
            },
            "header": {
             "fill": {
              "color": "#C8D4E3"
             },
             "line": {
              "color": "white"
             }
            },
            "type": "table"
           }
          ]
         },
         "layout": {
          "annotationdefaults": {
           "arrowcolor": "#2a3f5f",
           "arrowhead": 0,
           "arrowwidth": 1
          },
          "autotypenumbers": "strict",
          "coloraxis": {
           "colorbar": {
            "outlinewidth": 0,
            "ticks": ""
           }
          },
          "colorscale": {
           "diverging": [
            [
             0,
             "#8e0152"
            ],
            [
             0.1,
             "#c51b7d"
            ],
            [
             0.2,
             "#de77ae"
            ],
            [
             0.3,
             "#f1b6da"
            ],
            [
             0.4,
             "#fde0ef"
            ],
            [
             0.5,
             "#f7f7f7"
            ],
            [
             0.6,
             "#e6f5d0"
            ],
            [
             0.7,
             "#b8e186"
            ],
            [
             0.8,
             "#7fbc41"
            ],
            [
             0.9,
             "#4d9221"
            ],
            [
             1,
             "#276419"
            ]
           ],
           "sequential": [
            [
             0,
             "#0d0887"
            ],
            [
             0.1111111111111111,
             "#46039f"
            ],
            [
             0.2222222222222222,
             "#7201a8"
            ],
            [
             0.3333333333333333,
             "#9c179e"
            ],
            [
             0.4444444444444444,
             "#bd3786"
            ],
            [
             0.5555555555555556,
             "#d8576b"
            ],
            [
             0.6666666666666666,
             "#ed7953"
            ],
            [
             0.7777777777777778,
             "#fb9f3a"
            ],
            [
             0.8888888888888888,
             "#fdca26"
            ],
            [
             1,
             "#f0f921"
            ]
           ],
           "sequentialminus": [
            [
             0,
             "#0d0887"
            ],
            [
             0.1111111111111111,
             "#46039f"
            ],
            [
             0.2222222222222222,
             "#7201a8"
            ],
            [
             0.3333333333333333,
             "#9c179e"
            ],
            [
             0.4444444444444444,
             "#bd3786"
            ],
            [
             0.5555555555555556,
             "#d8576b"
            ],
            [
             0.6666666666666666,
             "#ed7953"
            ],
            [
             0.7777777777777778,
             "#fb9f3a"
            ],
            [
             0.8888888888888888,
             "#fdca26"
            ],
            [
             1,
             "#f0f921"
            ]
           ]
          },
          "colorway": [
           "#636efa",
           "#EF553B",
           "#00cc96",
           "#ab63fa",
           "#FFA15A",
           "#19d3f3",
           "#FF6692",
           "#B6E880",
           "#FF97FF",
           "#FECB52"
          ],
          "font": {
           "color": "#2a3f5f"
          },
          "geo": {
           "bgcolor": "white",
           "lakecolor": "white",
           "landcolor": "white",
           "showlakes": true,
           "showland": true,
           "subunitcolor": "#C8D4E3"
          },
          "hoverlabel": {
           "align": "left"
          },
          "hovermode": "closest",
          "mapbox": {
           "style": "light"
          },
          "paper_bgcolor": "white",
          "plot_bgcolor": "white",
          "polar": {
           "angularaxis": {
            "gridcolor": "#EBF0F8",
            "linecolor": "#EBF0F8",
            "ticks": ""
           },
           "bgcolor": "white",
           "radialaxis": {
            "gridcolor": "#EBF0F8",
            "linecolor": "#EBF0F8",
            "ticks": ""
           }
          },
          "scene": {
           "xaxis": {
            "backgroundcolor": "white",
            "gridcolor": "#DFE8F3",
            "gridwidth": 2,
            "linecolor": "#EBF0F8",
            "showbackground": true,
            "ticks": "",
            "zerolinecolor": "#EBF0F8"
           },
           "yaxis": {
            "backgroundcolor": "white",
            "gridcolor": "#DFE8F3",
            "gridwidth": 2,
            "linecolor": "#EBF0F8",
            "showbackground": true,
            "ticks": "",
            "zerolinecolor": "#EBF0F8"
           },
           "zaxis": {
            "backgroundcolor": "white",
            "gridcolor": "#DFE8F3",
            "gridwidth": 2,
            "linecolor": "#EBF0F8",
            "showbackground": true,
            "ticks": "",
            "zerolinecolor": "#EBF0F8"
           }
          },
          "shapedefaults": {
           "line": {
            "color": "#2a3f5f"
           }
          },
          "ternary": {
           "aaxis": {
            "gridcolor": "#DFE8F3",
            "linecolor": "#A2B1C6",
            "ticks": ""
           },
           "baxis": {
            "gridcolor": "#DFE8F3",
            "linecolor": "#A2B1C6",
            "ticks": ""
           },
           "bgcolor": "white",
           "caxis": {
            "gridcolor": "#DFE8F3",
            "linecolor": "#A2B1C6",
            "ticks": ""
           }
          },
          "title": {
           "x": 0.05
          },
          "xaxis": {
           "automargin": true,
           "gridcolor": "#EBF0F8",
           "linecolor": "#EBF0F8",
           "ticks": "",
           "title": {
            "standoff": 15
           },
           "zerolinecolor": "#EBF0F8",
           "zerolinewidth": 2
          },
          "yaxis": {
           "automargin": true,
           "gridcolor": "#EBF0F8",
           "linecolor": "#EBF0F8",
           "ticks": "",
           "title": {
            "standoff": 15
           },
           "zerolinecolor": "#EBF0F8",
           "zerolinewidth": 2
          }
         }
        },
        "title": {
         "text": "Unemployment rate forecast (ensemble) with 95% CI"
        },
        "width": 1200,
        "xaxis": {
         "title": {
          "text": "Time"
         }
        },
        "yaxis": {
         "title": {
          "text": "Unemployment rate (%)"
         }
        }
       }
      }
     },
     "metadata": {},
     "output_type": "display_data"
    }
   ],
   "source": [
    "lower_bound = last_unemp_value + np.percentile(bootstrap_samples, 2.5, axis=0).cumsum()\n",
    "upper_bound = last_unemp_value + np.percentile(bootstrap_samples, 97.5, axis=0).cumsum()\n",
    "\n",
    "fig = go.Figure()\n",
    "\n",
    "fig.add_trace(go.Scatter(\n",
    "    x=data.index, \n",
    "    y=data['unemp_wins'],\n",
    "    mode='lines',\n",
    "    name='Historical unemployment rate',\n",
    "    line=dict(color='blue')\n",
    "))\n",
    "\n",
    "fig.add_trace(go.Scatter(\n",
    "    x=ensemble_forecast.index,\n",
    "    y=ensemble_forecast,\n",
    "    mode='lines',\n",
    "    name='Forecast (ensemble)',\n",
    "    line=dict(color='green', dash='dot')\n",
    "))\n",
    "\n",
    "fig.add_trace(go.Scatter(\n",
    "    x=list(forecast_lower.index) + list(forecast_upper.index[::-1]),\n",
    "    y=list(forecast_lower) + list(forecast_upper[::-1]),\n",
    "    fill='toself',\n",
    "    fillcolor='rgba(0,128,0,0.2)',\n",
    "    line_color='rgba(255,255,255,0)',\n",
    "    name='95% confidence iterval'\n",
    "))\n",
    "\n",
    "fig.update_layout(\n",
    "    title=\"Unemployment rate forecast (ensemble) with 95% CI\",\n",
    "    xaxis_title=\"Time\",\n",
    "    yaxis_title=\"Unemployment rate (%)\",\n",
    "    legend_title=\"Legend\",\n",
    "    template=\"plotly_white\",\n",
    "    width=1200,\n",
    "    height=500\n",
    ")"
   ]
  },
  {
   "cell_type": "markdown",
   "id": "d4894f95",
   "metadata": {},
   "source": [
    "Save the data for the ML approach in order to create a new notebook for this task"
   ]
  },
  {
   "cell_type": "code",
   "execution_count": 55,
   "id": "a20577f1",
   "metadata": {},
   "outputs": [],
   "source": [
    "ml_model_df.to_csv('ml_model_df.csv')"
   ]
  }
 ],
 "metadata": {
  "kernelspec": {
   "display_name": "base",
   "language": "python",
   "name": "python3"
  },
  "language_info": {
   "codemirror_mode": {
    "name": "ipython",
    "version": 3
   },
   "file_extension": ".py",
   "mimetype": "text/x-python",
   "name": "python",
   "nbconvert_exporter": "python",
   "pygments_lexer": "ipython3",
   "version": "3.10.9"
  }
 },
 "nbformat": 4,
 "nbformat_minor": 5
}
